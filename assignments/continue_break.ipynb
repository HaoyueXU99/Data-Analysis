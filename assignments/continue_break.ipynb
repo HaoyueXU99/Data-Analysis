{
 "cells": [
  {
   "cell_type": "markdown",
   "id": "pediatric-tutorial",
   "metadata": {},
   "source": [
    "# continue break 的区别"
   ]
  },
  {
   "cell_type": "code",
   "execution_count": 10,
   "id": "standing-emergency",
   "metadata": {},
   "outputs": [
    {
     "name": "stdout",
     "output_type": "stream",
     "text": [
      "进入外循环 0\n",
      "进入内循环 0\n",
      "结束内循环 0\n",
      "进入内循环 1\n",
      "结束内循环 1\n",
      "进入内循环 2\n",
      "结束内循环 2\n",
      "进入内循环 3\n",
      "结束内循环 3\n",
      "进入内循环 4\n",
      "结束内循环 4\n",
      "-------------------结束外循环 0\n",
      "进入外循环 1\n",
      "进入内循环 0\n",
      "结束内循环 0\n",
      "进入内循环 1\n",
      "结束内循环 1\n",
      "进入内循环 2\n",
      "结束内循环 2\n",
      "进入内循环 3\n",
      "结束内循环 3\n",
      "进入内循环 4\n",
      "结束内循环 4\n",
      "-------------------结束外循环 1\n",
      "进入外循环 2\n",
      "进入内循环 0\n",
      "结束内循环 0\n",
      "进入内循环 1\n",
      "触发continue!!!!!!!!!!!!!!!!!!\n",
      "进入内循环 2\n",
      "结束内循环 2\n",
      "进入内循环 3\n",
      "结束内循环 3\n",
      "进入内循环 4\n",
      "结束内循环 4\n",
      "-------------------结束外循环 2\n",
      "进入外循环 3\n",
      "进入内循环 0\n",
      "结束内循环 0\n",
      "进入内循环 1\n",
      "结束内循环 1\n",
      "进入内循环 2\n",
      "触发break $$$$$$$$$$$$$$$$\n",
      "-------------------结束外循环 3\n",
      "进入外循环 4\n",
      "进入内循环 0\n",
      "结束内循环 0\n",
      "进入内循环 1\n",
      "结束内循环 1\n",
      "进入内循环 2\n",
      "结束内循环 2\n",
      "进入内循环 3\n",
      "结束内循环 3\n",
      "进入内循环 4\n",
      "结束内循环 4\n",
      "-------------------结束外循环 4\n"
     ]
    }
   ],
   "source": [
    "for i in range(5):\n",
    "    print(\"进入外循环 %d\" % i)\n",
    "    for j in range(5):\n",
    "        print(\"进入内循环 %d\" % j)\n",
    "        if i == 2 and j == 1 :\n",
    "            print(\"触发continue!!!!!!!!!!!!!!!!!!\")\n",
    "            continue\n",
    "            print(\"触发continue后不会打印该句\")\n",
    "        if i == 3  and j == 2:\n",
    "            print(\"触发break $$$$$$$$$$$$$$$$\")\n",
    "            break\n",
    "            print(\"触发break后不会打印该句\")\n",
    "        print(\"结束内循环 %d\" %j )\n",
    "    print(\"-------------------结束外循环 %d\" %i)"
   ]
  },
  {
   "cell_type": "code",
   "execution_count": null,
   "id": "checked-valuation",
   "metadata": {},
   "outputs": [],
   "source": []
  }
 ],
 "metadata": {
  "kernelspec": {
   "display_name": "Python 3",
   "language": "python",
   "name": "python3"
  },
  "language_info": {
   "codemirror_mode": {
    "name": "ipython",
    "version": 3
   },
   "file_extension": ".py",
   "mimetype": "text/x-python",
   "name": "python",
   "nbconvert_exporter": "python",
   "pygments_lexer": "ipython3",
   "version": "3.8.8"
  }
 },
 "nbformat": 4,
 "nbformat_minor": 5
}
