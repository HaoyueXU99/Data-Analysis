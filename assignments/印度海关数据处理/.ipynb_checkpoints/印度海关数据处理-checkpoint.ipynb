{
 "cells": [
  {
   "source": [
    "# 印度出口数据\n"
   ],
   "cell_type": "markdown",
   "metadata": {}
  },
  {
   "cell_type": "code",
   "execution_count": 2,
   "id": "humanitarian-passion",
   "metadata": {},
   "outputs": [
    {
     "output_type": "error",
     "ename": "ModuleNotFoundError",
     "evalue": "No module named 'pandas'",
     "traceback": [
      "\u001b[0;31m---------------------------------------------------------------------------\u001b[0m",
      "\u001b[0;31mModuleNotFoundError\u001b[0m                       Traceback (most recent call last)",
      "\u001b[0;32m<ipython-input-2-f6640c5d16a3>\u001b[0m in \u001b[0;36m<module>\u001b[0;34m\u001b[0m\n\u001b[0;32m----> 1\u001b[0;31m \u001b[0;32mimport\u001b[0m \u001b[0mpandas\u001b[0m \u001b[0;32mas\u001b[0m \u001b[0mpd\u001b[0m\u001b[0;34m\u001b[0m\u001b[0;34m\u001b[0m\u001b[0m\n\u001b[0m\u001b[1;32m      2\u001b[0m \u001b[0;34m\u001b[0m\u001b[0m\n\u001b[1;32m      3\u001b[0m \u001b[0;31m# 从Excel表格中读取sheet\u001b[0m\u001b[0;34m\u001b[0m\u001b[0;34m\u001b[0m\u001b[0;34m\u001b[0m\u001b[0m\n\u001b[1;32m      4\u001b[0m \u001b[0mdf\u001b[0m \u001b[0;34m=\u001b[0m \u001b[0;34m[\u001b[0m\u001b[0;34m\"\"\u001b[0m \u001b[0;32mfor\u001b[0m \u001b[0mi\u001b[0m \u001b[0;32min\u001b[0m \u001b[0mrange\u001b[0m\u001b[0;34m(\u001b[0m\u001b[0;36m12\u001b[0m\u001b[0;34m)\u001b[0m\u001b[0;34m]\u001b[0m\u001b[0;34m\u001b[0m\u001b[0;34m\u001b[0m\u001b[0m\n\u001b[1;32m      5\u001b[0m \u001b[0;31m# 初始化新列表\u001b[0m\u001b[0;34m\u001b[0m\u001b[0;34m\u001b[0m\u001b[0;34m\u001b[0m\u001b[0m\n",
      "\u001b[0;31mModuleNotFoundError\u001b[0m: No module named 'pandas'"
     ]
    }
   ],
   "source": [
    "import pandas as pd\n",
    "\n",
    "# 从Excel表格中读取sheet\n",
    "df = [\"\" for i in range(12)]\n",
    "# 初始化新列表\n",
    "df_new = pd.DataFrame()\n",
    "new = {}\n",
    "name = \"出口\"\n",
    "year = \"2018\"\n",
    "for i in range(12):\n",
    "    month = str(i)\n",
    "    if i <9:\n",
    "        month = \"0\" + str(i+1)\n",
    "        sheetname = name + year + month\n",
    "    else:\n",
    "        month = str(i+1)\n",
    "        sheetname = name + year + month\n",
    "    \n",
    "    df[i] = pd.read_excel(\"印度出口2018.xlsx\",sheet_name = sheetname,header = 0)\n",
    "    #df[i]['HSCode'].astype(int)\n",
    "    df2 = df[i][(3900 < df[i]['HSCode']) & (df[i]['HSCode'] < 3916)]\n",
    "    raw = df2.iloc[:,[4]].sum()\n",
    "    \n",
    "    df2 = df[i][(3915 < df[i]['HSCode']) & (df[i]['HSCode'] < 3927)]\n",
    "    mature = df2.iloc[:,[4]].sum()\n",
    "\n",
    "    date = year + month\n",
    "    new[date] = [raw[0],mature[0]]\n",
    "print(new)\n",
    "#pf = pd.DataFrame(list(new),columns = [\"date\",\"3901-3915\",\"3916-3926\"])\n",
    "pf = pd.DataFrame(new).T\n",
    "pf.columns = [\"3901-3915\",\"3916-3926\"]\n",
    "\n",
    "writer = pd.ExcelWriter('印度出口2018.xlsx')                     \n",
    "pf.to_excel(writer,sheet_name = \"2018\")                   \n",
    "\n",
    "# 保存 Excel\n",
    "writer.save()\n",
    "# writer.close()"
   ]
  },
  {
   "cell_type": "code",
   "execution_count": 85,
   "id": "protecting-plasma",
   "metadata": {},
   "outputs": [
    {
     "name": "stdout",
     "output_type": "stream",
     "text": [
      "{'201901': [368.06999999999994, 302.09], '201902': [296.73, 281.2], '201903': [353.44000000000005, 351.53], '201904': [290.15999999999997, 298.82], '201905': [353.95000000000005, 355.84000000000003], '201906': [326.2900000000001, 290.13], '201907': [297.6, 296.87], '201908': [299.76000000000005, 294.00000000000006], '201909': [263.50999999999993, 281.04], '201910': [289.36999999999995, 299.66], '201911': [335.31999999999994, 272.34], '201912': [266.03000000000003, 292.59000000000003]}\n"
     ]
    }
   ],
   "source": [
    "import pandas as pd\n",
    "\n",
    "# 从Excel表格中读取sheet\n",
    "df = [\"\" for i in range(12)]\n",
    "# 初始化新列表\n",
    "df_new = pd.DataFrame()\n",
    "new = {}\n",
    "name = \"出口\"\n",
    "year = \"2019\"\n",
    "for i in range(12):\n",
    "    month = str(i)\n",
    "    if i <9:\n",
    "        month = \"0\" + str(i+1)\n",
    "        #sheetname = name + year + month\n",
    "    else:\n",
    "        month = str(i+1)\n",
    "        #sheetname = name + year + month\n",
    "    \n",
    "    df[i] = pd.read_excel(\"印度出口19年.xlsx\",sheet_name = \"Sheet\"+str(i+1),header = 0)\n",
    "    #df[i]['HSCode'].astype(int)\n",
    "    df2 = df[i][(3900 < df[i]['HSCode']) & (df[i]['HSCode'] < 3916)]\n",
    "    raw = df2.iloc[:,[4]].sum()\n",
    "    \n",
    "    df2 = df[i][(3915 < df[i]['HSCode']) & (df[i]['HSCode'] < 3927)]\n",
    "    mature = df2.iloc[:,[4]].sum()\n",
    "\n",
    "    date = year + month\n",
    "    new[date] = [raw[0],mature[0]]\n",
    "print(new)\n",
    "#pf = pd.DataFrame(list(new),columns = [\"date\",\"3901-3915\",\"3916-3926\"])\n",
    "pf = pd.DataFrame(new).T\n",
    "pf.columns = [\"3901-3915\",\"3916-3926\"]\n",
    "\n",
    "writer = pd.ExcelWriter('印度出口2019.xlsx')                     \n",
    "pf.to_excel(writer,sheet_name = \"2019\")                   \n",
    "\n",
    "# 保存 Excel\n",
    "writer.save()\n",
    "# writer.close()"
   ]
  },
  {
   "cell_type": "code",
   "execution_count": 88,
   "id": "smaller-actress",
   "metadata": {},
   "outputs": [
    {
     "name": "stdout",
     "output_type": "stream",
     "text": [
      "{'202001': [237.46999999999994, 281.61], '202002': [276.88000000000005, 277.54], '202003': [219.62, 221.36], '202004': [335.36999999999995, 149.13]}\n"
     ]
    }
   ],
   "source": [
    "import pandas as pd\n",
    "\n",
    "# 从Excel表格中读取sheet\n",
    "df = [\"\" for i in range(12)]\n",
    "# 初始化新列表\n",
    "df_new = pd.DataFrame()\n",
    "new = {}\n",
    "name = \"出口\"\n",
    "year = \"2020\"\n",
    "for i in range(4):\n",
    "    month = str(i)\n",
    "    if i <9:\n",
    "        month = \"0\" + str(i+1)\n",
    "        #sheetname = name + year + month\n",
    "    else:\n",
    "        month = str(i+1)\n",
    "        #sheetname = name + year + month\n",
    "    \n",
    "    df[i] = pd.read_excel(\"印度出口20年.xlsx\",sheet_name = \"Sheet\"+str(i+1),header = 0)\n",
    "    #df[i]['HSCode'].astype(int)\n",
    "    df2 = df[i][(3900 < df[i]['HSCode']) & (df[i]['HSCode'] < 3916)]\n",
    "    raw = df2.iloc[:,[4]].sum()\n",
    "    \n",
    "    df2 = df[i][(3915 < df[i]['HSCode']) & (df[i]['HSCode'] < 3927)]\n",
    "    mature = df2.iloc[:,[4]].sum()\n",
    "\n",
    "    date = year + month\n",
    "    new[date] = [raw[0],mature[0]]\n",
    "print(new)\n",
    "#pf = pd.DataFrame(list(new),columns = [\"date\",\"3901-3915\",\"3916-3926\"])\n",
    "pf = pd.DataFrame(new).T\n",
    "pf.columns = [\"3901-3915\",\"3916-3926\"]\n",
    "\n",
    "writer = pd.ExcelWriter('印度出口2020.xlsx')                     \n",
    "pf.to_excel(writer,sheet_name = year)                   \n",
    "\n",
    "# 保存 Excel\n",
    "writer.save()\n",
    "# writer.close()"
   ]
  },
  {
   "cell_type": "code",
   "execution_count": 90,
   "id": "retained-pastor",
   "metadata": {},
   "outputs": [
    {
     "name": "stdout",
     "output_type": "stream",
     "text": [
      "{'202101': [242.32000000000002, 335.45], '202102': [254.29000000000002, 319.22], '202103': [286.24, 369.44000000000005]}\n"
     ]
    }
   ],
   "source": [
    "import pandas as pd\n",
    "\n",
    "# 从Excel表格中读取sheet\n",
    "df = [\"\" for i in range(12)]\n",
    "# 初始化新列表\n",
    "df_new = pd.DataFrame()\n",
    "new = {}\n",
    "name = \"出口\"\n",
    "year = \"2021\"\n",
    "for i in range(3):\n",
    "    month = str(i)\n",
    "    if i <9:\n",
    "        month = \"0\" + str(i+1)\n",
    "        #sheetname = name + year + month\n",
    "    else:\n",
    "        month = str(i+1)\n",
    "        #sheetname = name + year + month\n",
    "    \n",
    "    df[i] = pd.read_excel(\"印度出口21年.xlsx\",sheet_name = \"Sheet\"+str(i+1),header = 0)\n",
    "    #df[i]['HSCode'].astype(int)\n",
    "    df2 = df[i][(3900 < df[i]['HSCode']) & (df[i]['HSCode'] < 3916)]\n",
    "    raw = df2.iloc[:,[4]].sum()\n",
    "    \n",
    "    df2 = df[i][(3915 < df[i]['HSCode']) & (df[i]['HSCode'] < 3927)]\n",
    "    mature = df2.iloc[:,[4]].sum()\n",
    "\n",
    "    date = year + month\n",
    "    new[date] = [raw[0],mature[0]]\n",
    "print(new)\n",
    "#pf = pd.DataFrame(list(new),columns = [\"date\",\"3901-3915\",\"3916-3926\"])\n",
    "pf = pd.DataFrame(new).T\n",
    "pf.columns = [\"3901-3915\",\"3916-3926\"]\n",
    "\n",
    "writer = pd.ExcelWriter('印度出口2021.xlsx')                     \n",
    "pf.to_excel(writer,sheet_name = year)                   \n",
    "\n",
    "# 保存 Excel\n",
    "writer.save()\n",
    "# writer.close()"
   ]
  },
  {
   "cell_type": "code",
   "execution_count": null,
   "id": "correct-intake",
   "metadata": {},
   "outputs": [],
   "source": []
  }
 ],
 "metadata": {
  "kernelspec": {
   "name": "python3",
   "display_name": "Python 3.9.2 64-bit ('py_env': conda)"
  },
  "language_info": {
   "codemirror_mode": {
    "name": "ipython",
    "version": 3
   },
   "file_extension": ".py",
   "mimetype": "text/x-python",
   "name": "python",
   "nbconvert_exporter": "python",
   "pygments_lexer": "ipython3",
   "version": "3.9.2"
  },
  "interpreter": {
   "hash": "689fe080fb2e3e3f0f9eb9595936bb9800bff95108b905e4c7611d4055484aec"
  }
 },
 "nbformat": 4,
 "nbformat_minor": 5
}