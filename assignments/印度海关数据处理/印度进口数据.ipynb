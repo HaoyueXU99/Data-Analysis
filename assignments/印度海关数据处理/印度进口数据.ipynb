{
 "cells": [
  {
   "cell_type": "markdown",
   "id": "generous-handling",
   "metadata": {},
   "source": [
    "# 印度进口数据汇总"
   ]
  },
  {
   "cell_type": "code",
   "execution_count": 4,
   "id": "furnished-strike",
   "metadata": {},
   "outputs": [
    {
     "name": "stdout",
     "output_type": "stream",
     "text": [
      "{'202101': [1112.22, 381.01], '202102': [1068.4900000000002, 362.23999999999995], '202103': [1289.3100000000002, 407.98]}\n"
     ]
    }
   ],
   "source": [
    "import pandas as pd\n",
    "\n",
    "# 从Excel表格中读取sheet\n",
    "df = [\"\" for i in range(12)]\n",
    "# 初始化新列表\n",
    "df_new = pd.DataFrame()\n",
    "new = {}\n",
    "name = \"进口\"\n",
    "year = \"2021\"\n",
    "for i in range(3):\n",
    "    month = str(i)\n",
    "    if i <9:\n",
    "        month = \"0\" + str(i+1)\n",
    "        #sheetname = name + year + month\n",
    "    else:\n",
    "        month = str(i+1)\n",
    "        #sheetname = name + year + month\n",
    "    \n",
    "    df[i] = pd.read_excel(\"印度进口21年.xlsx\",sheet_name = \"Sheet\"+str(i+1),header = 0)\n",
    "    #df[i]['HSCode'].astype(int)\n",
    "    df2 = df[i][(3900 < df[i]['HSCode']) & (df[i]['HSCode'] < 3916)]\n",
    "    raw = df2.iloc[:,[4]].sum()\n",
    "    \n",
    "    df2 = df[i][(3915 < df[i]['HSCode']) & (df[i]['HSCode'] < 3927)]\n",
    "    mature = df2.iloc[:,[4]].sum()\n",
    "\n",
    "    date = year + month\n",
    "    new[date] = [raw[0],mature[0]]\n",
    "print(new)\n",
    "#pf = pd.DataFrame(list(new),columns = [\"date\",\"3901-3915\",\"3916-3926\"])\n",
    "pf = pd.DataFrame(new).T\n",
    "pf.columns = [\"3901-3915\",\"3916-3926\"]\n",
    "\n",
    "writer = pd.ExcelWriter('印度进口2021.xlsx')                     \n",
    "pf.to_excel(writer,sheet_name = \"2021\")                   \n",
    "\n",
    "# 保存 Excel\n",
    "writer.save()\n",
    "# writer.close()"
   ]
  },
  {
   "cell_type": "code",
   "execution_count": null,
   "id": "chemical-bunny",
   "metadata": {},
   "outputs": [],
   "source": []
  }
 ],
 "metadata": {
  "kernelspec": {
   "display_name": "Python 3",
   "language": "python",
   "name": "python3"
  },
  "language_info": {
   "codemirror_mode": {
    "name": "ipython",
    "version": 3
   },
   "file_extension": ".py",
   "mimetype": "text/x-python",
   "name": "python",
   "nbconvert_exporter": "python",
   "pygments_lexer": "ipython3",
   "version": "3.8.8"
  }
 },
 "nbformat": 4,
 "nbformat_minor": 5
}
