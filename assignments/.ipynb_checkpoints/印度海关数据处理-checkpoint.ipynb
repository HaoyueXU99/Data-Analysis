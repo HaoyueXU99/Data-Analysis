{
 "cells": [
  {
   "cell_type": "markdown",
   "id": "independent-hearing",
   "metadata": {},
   "source": [
    "# 印度出口数据\n"
   ]
  },
  {
   "cell_type": "code",
   "execution_count": 83,
   "id": "white-cycle",
   "metadata": {},
   "outputs": [
    {
     "name": "stdout",
     "output_type": "stream",
     "text": [
      "{'201801': [317.34999999999997, 256.61999999999995], '201802': [301.73999999999995, 249.77], '201803': [380.13999999999993, 296.06], '201804': [359.4200000000001, 271.38], '201805': [349.1, 277.98], '201806': [378.78, 282.88], '201807': [364.8500000000001, 263.19], '201808': [406.97, 317.91999999999996], '201809': [390.97, 285.23], '201810': [391.85999999999996, 280.10999999999996], '201811': [474.12, 261.87], '201812': [395.89, 309.17]}\n"
     ]
    }
   ],
   "source": [
    "import pandas as pd\n",
    "\n",
    "# 从Excel表格中读取sheet\n",
    "df = [\"\" for i in range(12)]\n",
    "# 初始化新列表\n",
    "df_new = pd.DataFrame()\n",
    "new = {}\n",
    "name = \"出口\"\n",
    "year = \"2018\"\n",
    "for i in range(12):\n",
    "    month = str(i)\n",
    "    if i <9:\n",
    "        month = \"0\" + str(i+1)\n",
    "        sheetname = name + year + month\n",
    "    else:\n",
    "        month = str(i+1)\n",
    "        sheetname = name + year + month\n",
    "    \n",
    "    df[i] = pd.read_excel(\"印度出口2018.xlsx\",sheet_name = sheetname,header = 0)\n",
    "    #df[i]['HSCode'].astype(int)\n",
    "    df2 = df[i][(3900 < df[i]['HSCode']) & (df[i]['HSCode'] < 3916)]\n",
    "    raw = df2.iloc[:,[4]].sum()\n",
    "    \n",
    "    df2 = df[i][(3915 < df[i]['HSCode']) & (df[i]['HSCode'] < 3927)]\n",
    "    mature = df2.iloc[:,[4]].sum()\n",
    "\n",
    "    date = year + month\n",
    "    new[date] = [raw[0],mature[0]]\n",
    "print(new)\n",
    "#pf = pd.DataFrame(list(new),columns = [\"date\",\"3901-3915\",\"3916-3926\"])\n",
    "pf = pd.DataFrame(new).T\n",
    "pf.columns = [\"3901-3915\",\"3916-3926\"]\n",
    "\n",
    "writer = pd.ExcelWriter('印度出口2018.xlsx')                     \n",
    "pf.to_excel(writer,sheet_name = \"2018\")                   \n",
    "\n",
    "# 保存 Excel\n",
    "writer.save()\n",
    "# writer.close()"
   ]
  },
  {
   "cell_type": "code",
   "execution_count": 82,
   "id": "christian-session",
   "metadata": {},
   "outputs": [
    {
     "name": "stdout",
     "output_type": "stream",
     "text": [
      "{'201801': [368.06999999999994, 302.09], '201802': [296.73, 281.2], '201803': [353.44000000000005, 351.53], '201804': [290.15999999999997, 298.82], '201805': [353.95000000000005, 355.84000000000003], '201806': [326.2900000000001, 290.13], '201807': [297.6, 296.87], '201808': [299.76000000000005, 294.00000000000006], '201809': [263.50999999999993, 281.04], '201810': [289.36999999999995, 299.66], '201811': [335.31999999999994, 272.34], '201812': [266.03000000000003, 292.59000000000003]}\n"
     ]
    }
   ],
   "source": [
    "import pandas as pd\n",
    "\n",
    "# 从Excel表格中读取sheet\n",
    "df = [\"\" for i in range(12)]\n",
    "# 初始化新列表\n",
    "df_new = pd.DataFrame()\n",
    "new = {}\n",
    "name = \"出口\"\n",
    "year = \"2018\"\n",
    "for i in range(12):\n",
    "    month = str(i)\n",
    "    if i <9:\n",
    "        month = \"0\" + str(i+1)\n",
    "        #sheetname = name + year + month\n",
    "    else:\n",
    "        month = str(i+1)\n",
    "        #sheetname = name + year + month\n",
    "    \n",
    "    df[i] = pd.read_excel(\"印度出口19年.xlsx\",sheet_name = \"Sheet\"+str(i+1),header = 0)\n",
    "    #df[i]['HSCode'].astype(int)\n",
    "    df2 = df[i][(3900 < df[i]['HSCode']) & (df[i]['HSCode'] < 3916)]\n",
    "    raw = df2.iloc[:,[4]].sum()\n",
    "    \n",
    "    df2 = df[i][(3915 < df[i]['HSCode']) & (df[i]['HSCode'] < 3927)]\n",
    "    mature = df2.iloc[:,[4]].sum()\n",
    "\n",
    "    date = year + month\n",
    "    new[date] = [raw[0],mature[0]]\n",
    "print(new)\n",
    "#pf = pd.DataFrame(list(new),columns = [\"date\",\"3901-3915\",\"3916-3926\"])\n",
    "pf = pd.DataFrame(new).T\n",
    "pf.columns = [\"3901-3915\",\"3916-3926\"]\n",
    "\n",
    "writer = pd.ExcelWriter('印度出口2019.xlsx')                     \n",
    "pf.to_excel(writer,sheet_name = \"2019\")                   \n",
    "\n",
    "# 保存 Excel\n",
    "writer.save()\n",
    "# writer.close()"
   ]
  },
  {
   "cell_type": "code",
   "execution_count": null,
   "id": "speaking-neighbor",
   "metadata": {},
   "outputs": [],
   "source": []
  }
 ],
 "metadata": {
  "kernelspec": {
   "display_name": "Python 3",
   "language": "python",
   "name": "python3"
  },
  "language_info": {
   "codemirror_mode": {
    "name": "ipython",
    "version": 3
   },
   "file_extension": ".py",
   "mimetype": "text/x-python",
   "name": "python",
   "nbconvert_exporter": "python",
   "pygments_lexer": "ipython3",
   "version": "3.8.8"
  }
 },
 "nbformat": 4,
 "nbformat_minor": 5
}
