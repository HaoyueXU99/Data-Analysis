{
 "metadata": {
  "language_info": {
   "codemirror_mode": {
    "name": "ipython",
    "version": 3
   },
   "file_extension": ".py",
   "mimetype": "text/x-python",
   "name": "python",
   "nbconvert_exporter": "python",
   "pygments_lexer": "ipython3",
   "version": "3.9.2"
  },
  "orig_nbformat": 4,
  "kernelspec": {
   "name": "python3",
   "display_name": "Python 3.9.2 64-bit ('py_env': conda)"
  },
  "interpreter": {
   "hash": "689fe080fb2e3e3f0f9eb9595936bb9800bff95108b905e4c7611d4055484aec"
  }
 },
 "nbformat": 4,
 "nbformat_minor": 2,
 "cells": [
  {
   "source": [
    "# Bilibili 电商平台数据分析\n"
   ],
   "cell_type": "markdown",
   "metadata": {}
  },
  {
   "cell_type": "code",
   "execution_count": 1,
   "metadata": {},
   "outputs": [],
   "source": [
    "import numpy as np\n",
    "import pandas as pd\n",
    "import matplotlib.pyplot as plt\n",
    "%matplotlib inline\n",
    "import os\n"
   ]
  },
  {
   "cell_type": "code",
   "execution_count": 2,
   "metadata": {},
   "outputs": [
    {
     "output_type": "execute_result",
     "data": {
      "text/plain": [
       "                订单号      商品编号  \\\n",
       "0  '100000057137818  10008058   \n",
       "1  '100000057116937  10005096   \n",
       "2  '100000057119846  10008385   \n",
       "3  '100000057115828  10000170   \n",
       "4  '100000057142686  10008296   \n",
       "\n",
       "                                                商品名称    商品价格  票号  座位  \\\n",
       "0          [追加限量]BANPRESTO（眼镜厂）精灵宝可梦 日月 皮卡丘&卡比兽 景品手办   13.20  --  --   \n",
       "1               [追加限量]GSC DARLING in the FRANXX 莓 手办  100.05  --  --   \n",
       "2                AForce 我的英雄学院 舞台剧系列 盒蛋 第二弹(1盒5个+特典)   56.25  --  --   \n",
       "3  万代 HG 巴巴托斯高达天狼座 巴巴托斯高达&库坦三型长距离输送推进器 拼装模型 【机动战士...   55.00  --  --   \n",
       "4    Max Factory Fate/Grand Order Master/主人公 女 figma   57.75  --  --   \n",
       "\n",
       "                          联系地址           渠道          外渠道                下单时间  \\\n",
       "0                           --       search  bilibiliapp 2019-02-10 11:59:56   \n",
       "1                           --       search  bilibiliapp 2019-02-10 11:59:45   \n",
       "2                           --       search  bilibiliapp 2019-02-10 11:59:45   \n",
       "3  四川省 攀枝花市 西区 建兴路22号19栋2单元11号      card_dm  bilibiliapp 2019-02-10 11:59:39   \n",
       "4                           --  category_sb  bilibiliapp 2019-02-10 11:59:36   \n",
       "\n",
       "                  支付时间                  支付单号  店铺名称  店铺id 订单状态 售后状态 是否海外购  税费  \n",
       "0  2019-02-10 12:00:09  '3083592851637686272  会员购   2233  待支付   --     否   0  \n",
       "1  2019-02-10 11:59:54  '4083592793121865728  会员购   2233  待支付   --     否   0  \n",
       "2  0002-11-30 00:00:00                   '--  会员购   2233  已取消   --     否   0  \n",
       "3  0002-11-30 00:00:00                   '--  会员购   2233  已取消   --     否   0  \n",
       "4  2019-02-10 11:59:49  '4083592767356256256  会员购   2233  待支付   --     否   0  "
      ],
      "text/html": "<div>\n<style scoped>\n    .dataframe tbody tr th:only-of-type {\n        vertical-align: middle;\n    }\n\n    .dataframe tbody tr th {\n        vertical-align: top;\n    }\n\n    .dataframe thead th {\n        text-align: right;\n    }\n</style>\n<table border=\"1\" class=\"dataframe\">\n  <thead>\n    <tr style=\"text-align: right;\">\n      <th></th>\n      <th>订单号</th>\n      <th>商品编号</th>\n      <th>商品名称</th>\n      <th>商品价格</th>\n      <th>票号</th>\n      <th>座位</th>\n      <th>联系地址</th>\n      <th>渠道</th>\n      <th>外渠道</th>\n      <th>下单时间</th>\n      <th>支付时间</th>\n      <th>支付单号</th>\n      <th>店铺名称</th>\n      <th>店铺id</th>\n      <th>订单状态</th>\n      <th>售后状态</th>\n      <th>是否海外购</th>\n      <th>税费</th>\n    </tr>\n  </thead>\n  <tbody>\n    <tr>\n      <th>0</th>\n      <td>'100000057137818</td>\n      <td>10008058</td>\n      <td>[追加限量]BANPRESTO（眼镜厂）精灵宝可梦 日月 皮卡丘&amp;卡比兽 景品手办</td>\n      <td>13.20</td>\n      <td>--</td>\n      <td>--</td>\n      <td>--</td>\n      <td>search</td>\n      <td>bilibiliapp</td>\n      <td>2019-02-10 11:59:56</td>\n      <td>2019-02-10 12:00:09</td>\n      <td>'3083592851637686272</td>\n      <td>会员购</td>\n      <td>2233</td>\n      <td>待支付</td>\n      <td>--</td>\n      <td>否</td>\n      <td>0</td>\n    </tr>\n    <tr>\n      <th>1</th>\n      <td>'100000057116937</td>\n      <td>10005096</td>\n      <td>[追加限量]GSC DARLING in the FRANXX 莓 手办</td>\n      <td>100.05</td>\n      <td>--</td>\n      <td>--</td>\n      <td>--</td>\n      <td>search</td>\n      <td>bilibiliapp</td>\n      <td>2019-02-10 11:59:45</td>\n      <td>2019-02-10 11:59:54</td>\n      <td>'4083592793121865728</td>\n      <td>会员购</td>\n      <td>2233</td>\n      <td>待支付</td>\n      <td>--</td>\n      <td>否</td>\n      <td>0</td>\n    </tr>\n    <tr>\n      <th>2</th>\n      <td>'100000057119846</td>\n      <td>10008385</td>\n      <td>AForce 我的英雄学院 舞台剧系列 盒蛋 第二弹(1盒5个+特典)</td>\n      <td>56.25</td>\n      <td>--</td>\n      <td>--</td>\n      <td>--</td>\n      <td>search</td>\n      <td>bilibiliapp</td>\n      <td>2019-02-10 11:59:45</td>\n      <td>0002-11-30 00:00:00</td>\n      <td>'--</td>\n      <td>会员购</td>\n      <td>2233</td>\n      <td>已取消</td>\n      <td>--</td>\n      <td>否</td>\n      <td>0</td>\n    </tr>\n    <tr>\n      <th>3</th>\n      <td>'100000057115828</td>\n      <td>10000170</td>\n      <td>万代 HG 巴巴托斯高达天狼座 巴巴托斯高达&amp;库坦三型长距离输送推进器 拼装模型 【机动战士...</td>\n      <td>55.00</td>\n      <td>--</td>\n      <td>--</td>\n      <td>四川省 攀枝花市 西区 建兴路22号19栋2单元11号</td>\n      <td>card_dm</td>\n      <td>bilibiliapp</td>\n      <td>2019-02-10 11:59:39</td>\n      <td>0002-11-30 00:00:00</td>\n      <td>'--</td>\n      <td>会员购</td>\n      <td>2233</td>\n      <td>已取消</td>\n      <td>--</td>\n      <td>否</td>\n      <td>0</td>\n    </tr>\n    <tr>\n      <th>4</th>\n      <td>'100000057142686</td>\n      <td>10008296</td>\n      <td>Max Factory Fate/Grand Order Master/主人公 女 figma</td>\n      <td>57.75</td>\n      <td>--</td>\n      <td>--</td>\n      <td>--</td>\n      <td>category_sb</td>\n      <td>bilibiliapp</td>\n      <td>2019-02-10 11:59:36</td>\n      <td>2019-02-10 11:59:49</td>\n      <td>'4083592767356256256</td>\n      <td>会员购</td>\n      <td>2233</td>\n      <td>待支付</td>\n      <td>--</td>\n      <td>否</td>\n      <td>0</td>\n    </tr>\n  </tbody>\n</table>\n</div>"
     },
     "metadata": {},
     "execution_count": 2
    }
   ],
   "source": [
    "# 拼接所有数据\n",
    "data = pd.read_excel(\"bilibili_02_10.xlsx\",None)\n",
    "keys = list(data.keys())\n",
    "data_result = pd.DataFrame()\n",
    "for i in keys:\n",
    "    data1 = data[i]\n",
    "    data_result = pd.concat([data_result,data1])\n",
    "data_result.head()"
   ]
  },
  {
   "cell_type": "code",
   "execution_count": 3,
   "metadata": {},
   "outputs": [
    {
     "output_type": "execute_result",
     "data": {
      "text/plain": [
       "(29811, 18)"
      ]
     },
     "metadata": {},
     "execution_count": 3
    }
   ],
   "source": [
    "# 判断是否拼接成功\n",
    "data_result.shape"
   ]
  },
  {
   "cell_type": "code",
   "execution_count": 4,
   "metadata": {},
   "outputs": [
    {
     "output_type": "execute_result",
     "data": {
      "text/plain": [
       "               商品编号          商品价格          店铺id       税费\n",
       "count  2.981100e+04  29811.000000  29811.000000  29811.0\n",
       "mean   1.000563e+07    170.994262   2233.694006      0.0\n",
       "std    2.452769e+03    290.782607      7.707911      0.0\n",
       "min    1.000001e+07      1.000000   2233.000000      0.0\n",
       "25%    1.000396e+07     16.350000   2233.000000      0.0\n",
       "50%    1.000641e+07     99.000000   2233.000000      0.0\n",
       "75%    1.000795e+07    197.475000   2233.000000      0.0\n",
       "max    1.000841e+07  17805.150000   2408.000000      0.0"
      ],
      "text/html": "<div>\n<style scoped>\n    .dataframe tbody tr th:only-of-type {\n        vertical-align: middle;\n    }\n\n    .dataframe tbody tr th {\n        vertical-align: top;\n    }\n\n    .dataframe thead th {\n        text-align: right;\n    }\n</style>\n<table border=\"1\" class=\"dataframe\">\n  <thead>\n    <tr style=\"text-align: right;\">\n      <th></th>\n      <th>商品编号</th>\n      <th>商品价格</th>\n      <th>店铺id</th>\n      <th>税费</th>\n    </tr>\n  </thead>\n  <tbody>\n    <tr>\n      <th>count</th>\n      <td>2.981100e+04</td>\n      <td>29811.000000</td>\n      <td>29811.000000</td>\n      <td>29811.0</td>\n    </tr>\n    <tr>\n      <th>mean</th>\n      <td>1.000563e+07</td>\n      <td>170.994262</td>\n      <td>2233.694006</td>\n      <td>0.0</td>\n    </tr>\n    <tr>\n      <th>std</th>\n      <td>2.452769e+03</td>\n      <td>290.782607</td>\n      <td>7.707911</td>\n      <td>0.0</td>\n    </tr>\n    <tr>\n      <th>min</th>\n      <td>1.000001e+07</td>\n      <td>1.000000</td>\n      <td>2233.000000</td>\n      <td>0.0</td>\n    </tr>\n    <tr>\n      <th>25%</th>\n      <td>1.000396e+07</td>\n      <td>16.350000</td>\n      <td>2233.000000</td>\n      <td>0.0</td>\n    </tr>\n    <tr>\n      <th>50%</th>\n      <td>1.000641e+07</td>\n      <td>99.000000</td>\n      <td>2233.000000</td>\n      <td>0.0</td>\n    </tr>\n    <tr>\n      <th>75%</th>\n      <td>1.000795e+07</td>\n      <td>197.475000</td>\n      <td>2233.000000</td>\n      <td>0.0</td>\n    </tr>\n    <tr>\n      <th>max</th>\n      <td>1.000841e+07</td>\n      <td>17805.150000</td>\n      <td>2408.000000</td>\n      <td>0.0</td>\n    </tr>\n  </tbody>\n</table>\n</div>"
     },
     "metadata": {},
     "execution_count": 4
    }
   ],
   "source": [
    "data_result.describe()"
   ]
  },
  {
   "cell_type": "code",
   "execution_count": 5,
   "metadata": {},
   "outputs": [
    {
     "output_type": "stream",
     "name": "stdout",
     "text": [
      "<class 'pandas.core.frame.DataFrame'>\nInt64Index: 29811 entries, 0 to 4926\nData columns (total 18 columns):\n #   Column  Non-Null Count  Dtype         \n---  ------  --------------  -----         \n 0   订单号     29811 non-null  object        \n 1   商品编号    29811 non-null  int64         \n 2   商品名称    29811 non-null  object        \n 3   商品价格    29811 non-null  float64       \n 4   票号      29811 non-null  object        \n 5   座位      29811 non-null  object        \n 6   联系地址    29811 non-null  object        \n 7   渠道      29811 non-null  object        \n 8   外渠道     29811 non-null  object        \n 9   下单时间    29811 non-null  datetime64[ns]\n 10  支付时间    29811 non-null  object        \n 11  支付单号    29811 non-null  object        \n 12  店铺名称    29811 non-null  object        \n 13  店铺id    29811 non-null  int64         \n 14  订单状态    29811 non-null  object        \n 15  售后状态    29811 non-null  object        \n 16  是否海外购   29811 non-null  object        \n 17  税费      29811 non-null  int64         \ndtypes: datetime64[ns](1), float64(1), int64(3), object(13)\nmemory usage: 4.3+ MB\n"
     ]
    }
   ],
   "source": [
    "data_result.info()"
   ]
  },
  {
   "cell_type": "code",
   "execution_count": 6,
   "metadata": {},
   "outputs": [
    {
     "output_type": "execute_result",
     "data": {
      "text/plain": [
       "Empty DataFrame\n",
       "Columns: [订单号, 商品编号, 商品名称, 商品价格, 票号, 座位, 联系地址, 渠道, 外渠道, 下单时间, 支付时间, 支付单号, 店铺名称, 店铺id, 订单状态, 售后状态, 是否海外购, 税费]\n",
       "Index: []"
      ],
      "text/html": "<div>\n<style scoped>\n    .dataframe tbody tr th:only-of-type {\n        vertical-align: middle;\n    }\n\n    .dataframe tbody tr th {\n        vertical-align: top;\n    }\n\n    .dataframe thead th {\n        text-align: right;\n    }\n</style>\n<table border=\"1\" class=\"dataframe\">\n  <thead>\n    <tr style=\"text-align: right;\">\n      <th></th>\n      <th>订单号</th>\n      <th>商品编号</th>\n      <th>商品名称</th>\n      <th>商品价格</th>\n      <th>票号</th>\n      <th>座位</th>\n      <th>联系地址</th>\n      <th>渠道</th>\n      <th>外渠道</th>\n      <th>下单时间</th>\n      <th>支付时间</th>\n      <th>支付单号</th>\n      <th>店铺名称</th>\n      <th>店铺id</th>\n      <th>订单状态</th>\n      <th>售后状态</th>\n      <th>是否海外购</th>\n      <th>税费</th>\n    </tr>\n  </thead>\n  <tbody>\n  </tbody>\n</table>\n</div>"
     },
     "metadata": {},
     "execution_count": 6
    }
   ],
   "source": [
    "# 判断票号信息是否有用\n",
    "data_result[data_result['票号'] != \"--\"]"
   ]
  },
  {
   "cell_type": "code",
   "execution_count": 7,
   "metadata": {},
   "outputs": [
    {
     "output_type": "execute_result",
     "data": {
      "text/plain": [
       "Empty DataFrame\n",
       "Columns: [订单号, 商品编号, 商品名称, 商品价格, 票号, 座位, 联系地址, 渠道, 外渠道, 下单时间, 支付时间, 支付单号, 店铺名称, 店铺id, 订单状态, 售后状态, 是否海外购, 税费]\n",
       "Index: []"
      ],
      "text/html": "<div>\n<style scoped>\n    .dataframe tbody tr th:only-of-type {\n        vertical-align: middle;\n    }\n\n    .dataframe tbody tr th {\n        vertical-align: top;\n    }\n\n    .dataframe thead th {\n        text-align: right;\n    }\n</style>\n<table border=\"1\" class=\"dataframe\">\n  <thead>\n    <tr style=\"text-align: right;\">\n      <th></th>\n      <th>订单号</th>\n      <th>商品编号</th>\n      <th>商品名称</th>\n      <th>商品价格</th>\n      <th>票号</th>\n      <th>座位</th>\n      <th>联系地址</th>\n      <th>渠道</th>\n      <th>外渠道</th>\n      <th>下单时间</th>\n      <th>支付时间</th>\n      <th>支付单号</th>\n      <th>店铺名称</th>\n      <th>店铺id</th>\n      <th>订单状态</th>\n      <th>售后状态</th>\n      <th>是否海外购</th>\n      <th>税费</th>\n    </tr>\n  </thead>\n  <tbody>\n  </tbody>\n</table>\n</div>"
     },
     "metadata": {},
     "execution_count": 7
    }
   ],
   "source": [
    "# 判断座位信息是否有用\n",
    "data_result[data_result['座位'] != \"--\"]"
   ]
  },
  {
   "cell_type": "code",
   "execution_count": 8,
   "metadata": {},
   "outputs": [
    {
     "output_type": "execute_result",
     "data": {
      "text/plain": [
       "Empty DataFrame\n",
       "Columns: [订单号, 商品编号, 商品名称, 商品价格, 票号, 座位, 联系地址, 渠道, 外渠道, 下单时间, 支付时间, 支付单号, 店铺名称, 店铺id, 订单状态, 售后状态, 是否海外购, 税费]\n",
       "Index: []"
      ],
      "text/html": "<div>\n<style scoped>\n    .dataframe tbody tr th:only-of-type {\n        vertical-align: middle;\n    }\n\n    .dataframe tbody tr th {\n        vertical-align: top;\n    }\n\n    .dataframe thead th {\n        text-align: right;\n    }\n</style>\n<table border=\"1\" class=\"dataframe\">\n  <thead>\n    <tr style=\"text-align: right;\">\n      <th></th>\n      <th>订单号</th>\n      <th>商品编号</th>\n      <th>商品名称</th>\n      <th>商品价格</th>\n      <th>票号</th>\n      <th>座位</th>\n      <th>联系地址</th>\n      <th>渠道</th>\n      <th>外渠道</th>\n      <th>下单时间</th>\n      <th>支付时间</th>\n      <th>支付单号</th>\n      <th>店铺名称</th>\n      <th>店铺id</th>\n      <th>订单状态</th>\n      <th>售后状态</th>\n      <th>是否海外购</th>\n      <th>税费</th>\n    </tr>\n  </thead>\n  <tbody>\n  </tbody>\n</table>\n</div>"
     },
     "metadata": {},
     "execution_count": 8
    }
   ],
   "source": [
    "# 判断售后状态是否有用\n",
    "data_result[data_result['售后状态'] != \"--\"]"
   ]
  },
  {
   "cell_type": "code",
   "execution_count": 9,
   "metadata": {},
   "outputs": [
    {
     "output_type": "execute_result",
     "data": {
      "text/plain": [
       "         订单号   商品编号   商品名称   商品价格     票号     座位   联系地址     渠道    外渠道   下单时间  \\\n",
       "是否海外购                                                                         \n",
       "否      29701  29701  29701  29701  29701  29701  29701  29701  29701  29701   \n",
       "是        110    110    110    110    110    110    110    110    110    110   \n",
       "\n",
       "        支付时间   支付单号   店铺名称   店铺id   订单状态   售后状态     税费  \n",
       "是否海外购                                                   \n",
       "否      29701  29701  29701  29701  29701  29701  29701  \n",
       "是        110    110    110    110    110    110    110  "
      ],
      "text/html": "<div>\n<style scoped>\n    .dataframe tbody tr th:only-of-type {\n        vertical-align: middle;\n    }\n\n    .dataframe tbody tr th {\n        vertical-align: top;\n    }\n\n    .dataframe thead th {\n        text-align: right;\n    }\n</style>\n<table border=\"1\" class=\"dataframe\">\n  <thead>\n    <tr style=\"text-align: right;\">\n      <th></th>\n      <th>订单号</th>\n      <th>商品编号</th>\n      <th>商品名称</th>\n      <th>商品价格</th>\n      <th>票号</th>\n      <th>座位</th>\n      <th>联系地址</th>\n      <th>渠道</th>\n      <th>外渠道</th>\n      <th>下单时间</th>\n      <th>支付时间</th>\n      <th>支付单号</th>\n      <th>店铺名称</th>\n      <th>店铺id</th>\n      <th>订单状态</th>\n      <th>售后状态</th>\n      <th>税费</th>\n    </tr>\n    <tr>\n      <th>是否海外购</th>\n      <th></th>\n      <th></th>\n      <th></th>\n      <th></th>\n      <th></th>\n      <th></th>\n      <th></th>\n      <th></th>\n      <th></th>\n      <th></th>\n      <th></th>\n      <th></th>\n      <th></th>\n      <th></th>\n      <th></th>\n      <th></th>\n      <th></th>\n    </tr>\n  </thead>\n  <tbody>\n    <tr>\n      <th>否</th>\n      <td>29701</td>\n      <td>29701</td>\n      <td>29701</td>\n      <td>29701</td>\n      <td>29701</td>\n      <td>29701</td>\n      <td>29701</td>\n      <td>29701</td>\n      <td>29701</td>\n      <td>29701</td>\n      <td>29701</td>\n      <td>29701</td>\n      <td>29701</td>\n      <td>29701</td>\n      <td>29701</td>\n      <td>29701</td>\n      <td>29701</td>\n    </tr>\n    <tr>\n      <th>是</th>\n      <td>110</td>\n      <td>110</td>\n      <td>110</td>\n      <td>110</td>\n      <td>110</td>\n      <td>110</td>\n      <td>110</td>\n      <td>110</td>\n      <td>110</td>\n      <td>110</td>\n      <td>110</td>\n      <td>110</td>\n      <td>110</td>\n      <td>110</td>\n      <td>110</td>\n      <td>110</td>\n      <td>110</td>\n    </tr>\n  </tbody>\n</table>\n</div>"
     },
     "metadata": {},
     "execution_count": 9
    }
   ],
   "source": [
    "# 判断是否海外购的信息\n",
    "data_result.groupby('是否海外购').count()"
   ]
  },
  {
   "cell_type": "code",
   "execution_count": 10,
   "metadata": {},
   "outputs": [
    {
     "output_type": "execute_result",
     "data": {
      "text/plain": [
       "Empty DataFrame\n",
       "Columns: [订单号, 商品编号, 商品名称, 商品价格, 票号, 座位, 联系地址, 渠道, 外渠道, 下单时间, 支付时间, 支付单号, 店铺名称, 店铺id, 订单状态, 售后状态, 是否海外购, 税费]\n",
       "Index: []"
      ],
      "text/html": "<div>\n<style scoped>\n    .dataframe tbody tr th:only-of-type {\n        vertical-align: middle;\n    }\n\n    .dataframe tbody tr th {\n        vertical-align: top;\n    }\n\n    .dataframe thead th {\n        text-align: right;\n    }\n</style>\n<table border=\"1\" class=\"dataframe\">\n  <thead>\n    <tr style=\"text-align: right;\">\n      <th></th>\n      <th>订单号</th>\n      <th>商品编号</th>\n      <th>商品名称</th>\n      <th>商品价格</th>\n      <th>票号</th>\n      <th>座位</th>\n      <th>联系地址</th>\n      <th>渠道</th>\n      <th>外渠道</th>\n      <th>下单时间</th>\n      <th>支付时间</th>\n      <th>支付单号</th>\n      <th>店铺名称</th>\n      <th>店铺id</th>\n      <th>订单状态</th>\n      <th>售后状态</th>\n      <th>是否海外购</th>\n      <th>税费</th>\n    </tr>\n  </thead>\n  <tbody>\n  </tbody>\n</table>\n</div>"
     },
     "metadata": {},
     "execution_count": 10
    }
   ],
   "source": [
    "# 判断税费是否存在不等于0情况\n",
    "data_result[data_result['税费'] != 0]"
   ]
  },
  {
   "cell_type": "code",
   "execution_count": 11,
   "metadata": {},
   "outputs": [
    {
     "output_type": "execute_result",
     "data": {
      "text/plain": [
       "                      订单号   商品编号   商品名称   商品价格     票号     座位   联系地址     渠道  \\\n",
       "店铺名称                                                                         \n",
       "AFU阿芙精油                 5      5      5      5      5      5      5      5   \n",
       "AKOKO官方旗舰店              5      5      5      5      5      5      5      5   \n",
       "MissCandy健康甲油官方旗舰店      1      1      1      1      1      1      1      1   \n",
       "Van强的摔跤更衣室              1      1      1      1      1      1      1      1   \n",
       "holdlive旗舰店             1      1      1      1      1      1      1      1   \n",
       "一夜北风吹                   1      1      1      1      1      1      1      1   \n",
       "七创社官方旗舰店               49     49     49     49     49     49     49     49   \n",
       "不搞博士搞沙雕                30     30     30     30     30     30     30     30   \n",
       "会员购                 29517  29517  29517  29517  29517  29517  29517  29517   \n",
       "你好历史旗舰店                 5      5      5      5      5      5      5      5   \n",
       "凉风的异世界小卖部               2      2      2      2      2      2      2      2   \n",
       "呜喵王的宝库                  1      1      1      1      1      1      1      1   \n",
       "国家宝藏旗舰店                 1      1      1      1      1      1      1      1   \n",
       "天闻角川官方旗舰店             129    129    129    129    129    129    129    129   \n",
       "小狮子零食铺                  4      4      4      4      4      4      4      4   \n",
       "悠窝窝旗舰店                  1      1      1      1      1      1      1      1   \n",
       "悦奈仲夏物语                  1      1      1      1      1      1      1      1   \n",
       "散人的苹果树                  1      1      1      1      1      1      1      1   \n",
       "月月的次缘空间                 3      3      3      3      3      3      3      3   \n",
       "泡芙的魔法储物屋                1      1      1      1      1      1      1      1   \n",
       "洛丽塔魔法时间                 2      2      2      2      2      2      2      2   \n",
       "漫踪旗舰店                   3      3      3      3      3      3      3      3   \n",
       "艾漫动漫旗舰店                27     27     27     27     27     27     27     27   \n",
       "萌物多多                    1      1      1      1      1      1      1      1   \n",
       "萌羽moeyu旗舰店              7      7      7      7      7      7      7      7   \n",
       "超电文化官方旗舰店               1      1      1      1      1      1      1      1   \n",
       "达芬奇工房                   1      1      1      1      1      1      1      1   \n",
       "野食小哥                   10     10     10     10     10     10     10     10   \n",
       "\n",
       "                      外渠道   下单时间   支付时间   支付单号   店铺id   订单状态   售后状态  是否海外购  \\\n",
       "店铺名称                                                                         \n",
       "AFU阿芙精油                 5      5      5      5      5      5      5      5   \n",
       "AKOKO官方旗舰店              5      5      5      5      5      5      5      5   \n",
       "MissCandy健康甲油官方旗舰店      1      1      1      1      1      1      1      1   \n",
       "Van强的摔跤更衣室              1      1      1      1      1      1      1      1   \n",
       "holdlive旗舰店             1      1      1      1      1      1      1      1   \n",
       "一夜北风吹                   1      1      1      1      1      1      1      1   \n",
       "七创社官方旗舰店               49     49     49     49     49     49     49     49   \n",
       "不搞博士搞沙雕                30     30     30     30     30     30     30     30   \n",
       "会员购                 29517  29517  29517  29517  29517  29517  29517  29517   \n",
       "你好历史旗舰店                 5      5      5      5      5      5      5      5   \n",
       "凉风的异世界小卖部               2      2      2      2      2      2      2      2   \n",
       "呜喵王的宝库                  1      1      1      1      1      1      1      1   \n",
       "国家宝藏旗舰店                 1      1      1      1      1      1      1      1   \n",
       "天闻角川官方旗舰店             129    129    129    129    129    129    129    129   \n",
       "小狮子零食铺                  4      4      4      4      4      4      4      4   \n",
       "悠窝窝旗舰店                  1      1      1      1      1      1      1      1   \n",
       "悦奈仲夏物语                  1      1      1      1      1      1      1      1   \n",
       "散人的苹果树                  1      1      1      1      1      1      1      1   \n",
       "月月的次缘空间                 3      3      3      3      3      3      3      3   \n",
       "泡芙的魔法储物屋                1      1      1      1      1      1      1      1   \n",
       "洛丽塔魔法时间                 2      2      2      2      2      2      2      2   \n",
       "漫踪旗舰店                   3      3      3      3      3      3      3      3   \n",
       "艾漫动漫旗舰店                27     27     27     27     27     27     27     27   \n",
       "萌物多多                    1      1      1      1      1      1      1      1   \n",
       "萌羽moeyu旗舰店              7      7      7      7      7      7      7      7   \n",
       "超电文化官方旗舰店               1      1      1      1      1      1      1      1   \n",
       "达芬奇工房                   1      1      1      1      1      1      1      1   \n",
       "野食小哥                   10     10     10     10     10     10     10     10   \n",
       "\n",
       "                       税费  \n",
       "店铺名称                       \n",
       "AFU阿芙精油                 5  \n",
       "AKOKO官方旗舰店              5  \n",
       "MissCandy健康甲油官方旗舰店      1  \n",
       "Van强的摔跤更衣室              1  \n",
       "holdlive旗舰店             1  \n",
       "一夜北风吹                   1  \n",
       "七创社官方旗舰店               49  \n",
       "不搞博士搞沙雕                30  \n",
       "会员购                 29517  \n",
       "你好历史旗舰店                 5  \n",
       "凉风的异世界小卖部               2  \n",
       "呜喵王的宝库                  1  \n",
       "国家宝藏旗舰店                 1  \n",
       "天闻角川官方旗舰店             129  \n",
       "小狮子零食铺                  4  \n",
       "悠窝窝旗舰店                  1  \n",
       "悦奈仲夏物语                  1  \n",
       "散人的苹果树                  1  \n",
       "月月的次缘空间                 3  \n",
       "泡芙的魔法储物屋                1  \n",
       "洛丽塔魔法时间                 2  \n",
       "漫踪旗舰店                   3  \n",
       "艾漫动漫旗舰店                27  \n",
       "萌物多多                    1  \n",
       "萌羽moeyu旗舰店              7  \n",
       "超电文化官方旗舰店               1  \n",
       "达芬奇工房                   1  \n",
       "野食小哥                   10  "
      ],
      "text/html": "<div>\n<style scoped>\n    .dataframe tbody tr th:only-of-type {\n        vertical-align: middle;\n    }\n\n    .dataframe tbody tr th {\n        vertical-align: top;\n    }\n\n    .dataframe thead th {\n        text-align: right;\n    }\n</style>\n<table border=\"1\" class=\"dataframe\">\n  <thead>\n    <tr style=\"text-align: right;\">\n      <th></th>\n      <th>订单号</th>\n      <th>商品编号</th>\n      <th>商品名称</th>\n      <th>商品价格</th>\n      <th>票号</th>\n      <th>座位</th>\n      <th>联系地址</th>\n      <th>渠道</th>\n      <th>外渠道</th>\n      <th>下单时间</th>\n      <th>支付时间</th>\n      <th>支付单号</th>\n      <th>店铺id</th>\n      <th>订单状态</th>\n      <th>售后状态</th>\n      <th>是否海外购</th>\n      <th>税费</th>\n    </tr>\n    <tr>\n      <th>店铺名称</th>\n      <th></th>\n      <th></th>\n      <th></th>\n      <th></th>\n      <th></th>\n      <th></th>\n      <th></th>\n      <th></th>\n      <th></th>\n      <th></th>\n      <th></th>\n      <th></th>\n      <th></th>\n      <th></th>\n      <th></th>\n      <th></th>\n      <th></th>\n    </tr>\n  </thead>\n  <tbody>\n    <tr>\n      <th>AFU阿芙精油</th>\n      <td>5</td>\n      <td>5</td>\n      <td>5</td>\n      <td>5</td>\n      <td>5</td>\n      <td>5</td>\n      <td>5</td>\n      <td>5</td>\n      <td>5</td>\n      <td>5</td>\n      <td>5</td>\n      <td>5</td>\n      <td>5</td>\n      <td>5</td>\n      <td>5</td>\n      <td>5</td>\n      <td>5</td>\n    </tr>\n    <tr>\n      <th>AKOKO官方旗舰店</th>\n      <td>5</td>\n      <td>5</td>\n      <td>5</td>\n      <td>5</td>\n      <td>5</td>\n      <td>5</td>\n      <td>5</td>\n      <td>5</td>\n      <td>5</td>\n      <td>5</td>\n      <td>5</td>\n      <td>5</td>\n      <td>5</td>\n      <td>5</td>\n      <td>5</td>\n      <td>5</td>\n      <td>5</td>\n    </tr>\n    <tr>\n      <th>MissCandy健康甲油官方旗舰店</th>\n      <td>1</td>\n      <td>1</td>\n      <td>1</td>\n      <td>1</td>\n      <td>1</td>\n      <td>1</td>\n      <td>1</td>\n      <td>1</td>\n      <td>1</td>\n      <td>1</td>\n      <td>1</td>\n      <td>1</td>\n      <td>1</td>\n      <td>1</td>\n      <td>1</td>\n      <td>1</td>\n      <td>1</td>\n    </tr>\n    <tr>\n      <th>Van强的摔跤更衣室</th>\n      <td>1</td>\n      <td>1</td>\n      <td>1</td>\n      <td>1</td>\n      <td>1</td>\n      <td>1</td>\n      <td>1</td>\n      <td>1</td>\n      <td>1</td>\n      <td>1</td>\n      <td>1</td>\n      <td>1</td>\n      <td>1</td>\n      <td>1</td>\n      <td>1</td>\n      <td>1</td>\n      <td>1</td>\n    </tr>\n    <tr>\n      <th>holdlive旗舰店</th>\n      <td>1</td>\n      <td>1</td>\n      <td>1</td>\n      <td>1</td>\n      <td>1</td>\n      <td>1</td>\n      <td>1</td>\n      <td>1</td>\n      <td>1</td>\n      <td>1</td>\n      <td>1</td>\n      <td>1</td>\n      <td>1</td>\n      <td>1</td>\n      <td>1</td>\n      <td>1</td>\n      <td>1</td>\n    </tr>\n    <tr>\n      <th>一夜北风吹</th>\n      <td>1</td>\n      <td>1</td>\n      <td>1</td>\n      <td>1</td>\n      <td>1</td>\n      <td>1</td>\n      <td>1</td>\n      <td>1</td>\n      <td>1</td>\n      <td>1</td>\n      <td>1</td>\n      <td>1</td>\n      <td>1</td>\n      <td>1</td>\n      <td>1</td>\n      <td>1</td>\n      <td>1</td>\n    </tr>\n    <tr>\n      <th>七创社官方旗舰店</th>\n      <td>49</td>\n      <td>49</td>\n      <td>49</td>\n      <td>49</td>\n      <td>49</td>\n      <td>49</td>\n      <td>49</td>\n      <td>49</td>\n      <td>49</td>\n      <td>49</td>\n      <td>49</td>\n      <td>49</td>\n      <td>49</td>\n      <td>49</td>\n      <td>49</td>\n      <td>49</td>\n      <td>49</td>\n    </tr>\n    <tr>\n      <th>不搞博士搞沙雕</th>\n      <td>30</td>\n      <td>30</td>\n      <td>30</td>\n      <td>30</td>\n      <td>30</td>\n      <td>30</td>\n      <td>30</td>\n      <td>30</td>\n      <td>30</td>\n      <td>30</td>\n      <td>30</td>\n      <td>30</td>\n      <td>30</td>\n      <td>30</td>\n      <td>30</td>\n      <td>30</td>\n      <td>30</td>\n    </tr>\n    <tr>\n      <th>会员购</th>\n      <td>29517</td>\n      <td>29517</td>\n      <td>29517</td>\n      <td>29517</td>\n      <td>29517</td>\n      <td>29517</td>\n      <td>29517</td>\n      <td>29517</td>\n      <td>29517</td>\n      <td>29517</td>\n      <td>29517</td>\n      <td>29517</td>\n      <td>29517</td>\n      <td>29517</td>\n      <td>29517</td>\n      <td>29517</td>\n      <td>29517</td>\n    </tr>\n    <tr>\n      <th>你好历史旗舰店</th>\n      <td>5</td>\n      <td>5</td>\n      <td>5</td>\n      <td>5</td>\n      <td>5</td>\n      <td>5</td>\n      <td>5</td>\n      <td>5</td>\n      <td>5</td>\n      <td>5</td>\n      <td>5</td>\n      <td>5</td>\n      <td>5</td>\n      <td>5</td>\n      <td>5</td>\n      <td>5</td>\n      <td>5</td>\n    </tr>\n    <tr>\n      <th>凉风的异世界小卖部</th>\n      <td>2</td>\n      <td>2</td>\n      <td>2</td>\n      <td>2</td>\n      <td>2</td>\n      <td>2</td>\n      <td>2</td>\n      <td>2</td>\n      <td>2</td>\n      <td>2</td>\n      <td>2</td>\n      <td>2</td>\n      <td>2</td>\n      <td>2</td>\n      <td>2</td>\n      <td>2</td>\n      <td>2</td>\n    </tr>\n    <tr>\n      <th>呜喵王的宝库</th>\n      <td>1</td>\n      <td>1</td>\n      <td>1</td>\n      <td>1</td>\n      <td>1</td>\n      <td>1</td>\n      <td>1</td>\n      <td>1</td>\n      <td>1</td>\n      <td>1</td>\n      <td>1</td>\n      <td>1</td>\n      <td>1</td>\n      <td>1</td>\n      <td>1</td>\n      <td>1</td>\n      <td>1</td>\n    </tr>\n    <tr>\n      <th>国家宝藏旗舰店</th>\n      <td>1</td>\n      <td>1</td>\n      <td>1</td>\n      <td>1</td>\n      <td>1</td>\n      <td>1</td>\n      <td>1</td>\n      <td>1</td>\n      <td>1</td>\n      <td>1</td>\n      <td>1</td>\n      <td>1</td>\n      <td>1</td>\n      <td>1</td>\n      <td>1</td>\n      <td>1</td>\n      <td>1</td>\n    </tr>\n    <tr>\n      <th>天闻角川官方旗舰店</th>\n      <td>129</td>\n      <td>129</td>\n      <td>129</td>\n      <td>129</td>\n      <td>129</td>\n      <td>129</td>\n      <td>129</td>\n      <td>129</td>\n      <td>129</td>\n      <td>129</td>\n      <td>129</td>\n      <td>129</td>\n      <td>129</td>\n      <td>129</td>\n      <td>129</td>\n      <td>129</td>\n      <td>129</td>\n    </tr>\n    <tr>\n      <th>小狮子零食铺</th>\n      <td>4</td>\n      <td>4</td>\n      <td>4</td>\n      <td>4</td>\n      <td>4</td>\n      <td>4</td>\n      <td>4</td>\n      <td>4</td>\n      <td>4</td>\n      <td>4</td>\n      <td>4</td>\n      <td>4</td>\n      <td>4</td>\n      <td>4</td>\n      <td>4</td>\n      <td>4</td>\n      <td>4</td>\n    </tr>\n    <tr>\n      <th>悠窝窝旗舰店</th>\n      <td>1</td>\n      <td>1</td>\n      <td>1</td>\n      <td>1</td>\n      <td>1</td>\n      <td>1</td>\n      <td>1</td>\n      <td>1</td>\n      <td>1</td>\n      <td>1</td>\n      <td>1</td>\n      <td>1</td>\n      <td>1</td>\n      <td>1</td>\n      <td>1</td>\n      <td>1</td>\n      <td>1</td>\n    </tr>\n    <tr>\n      <th>悦奈仲夏物语</th>\n      <td>1</td>\n      <td>1</td>\n      <td>1</td>\n      <td>1</td>\n      <td>1</td>\n      <td>1</td>\n      <td>1</td>\n      <td>1</td>\n      <td>1</td>\n      <td>1</td>\n      <td>1</td>\n      <td>1</td>\n      <td>1</td>\n      <td>1</td>\n      <td>1</td>\n      <td>1</td>\n      <td>1</td>\n    </tr>\n    <tr>\n      <th>散人的苹果树</th>\n      <td>1</td>\n      <td>1</td>\n      <td>1</td>\n      <td>1</td>\n      <td>1</td>\n      <td>1</td>\n      <td>1</td>\n      <td>1</td>\n      <td>1</td>\n      <td>1</td>\n      <td>1</td>\n      <td>1</td>\n      <td>1</td>\n      <td>1</td>\n      <td>1</td>\n      <td>1</td>\n      <td>1</td>\n    </tr>\n    <tr>\n      <th>月月的次缘空间</th>\n      <td>3</td>\n      <td>3</td>\n      <td>3</td>\n      <td>3</td>\n      <td>3</td>\n      <td>3</td>\n      <td>3</td>\n      <td>3</td>\n      <td>3</td>\n      <td>3</td>\n      <td>3</td>\n      <td>3</td>\n      <td>3</td>\n      <td>3</td>\n      <td>3</td>\n      <td>3</td>\n      <td>3</td>\n    </tr>\n    <tr>\n      <th>泡芙的魔法储物屋</th>\n      <td>1</td>\n      <td>1</td>\n      <td>1</td>\n      <td>1</td>\n      <td>1</td>\n      <td>1</td>\n      <td>1</td>\n      <td>1</td>\n      <td>1</td>\n      <td>1</td>\n      <td>1</td>\n      <td>1</td>\n      <td>1</td>\n      <td>1</td>\n      <td>1</td>\n      <td>1</td>\n      <td>1</td>\n    </tr>\n    <tr>\n      <th>洛丽塔魔法时间</th>\n      <td>2</td>\n      <td>2</td>\n      <td>2</td>\n      <td>2</td>\n      <td>2</td>\n      <td>2</td>\n      <td>2</td>\n      <td>2</td>\n      <td>2</td>\n      <td>2</td>\n      <td>2</td>\n      <td>2</td>\n      <td>2</td>\n      <td>2</td>\n      <td>2</td>\n      <td>2</td>\n      <td>2</td>\n    </tr>\n    <tr>\n      <th>漫踪旗舰店</th>\n      <td>3</td>\n      <td>3</td>\n      <td>3</td>\n      <td>3</td>\n      <td>3</td>\n      <td>3</td>\n      <td>3</td>\n      <td>3</td>\n      <td>3</td>\n      <td>3</td>\n      <td>3</td>\n      <td>3</td>\n      <td>3</td>\n      <td>3</td>\n      <td>3</td>\n      <td>3</td>\n      <td>3</td>\n    </tr>\n    <tr>\n      <th>艾漫动漫旗舰店</th>\n      <td>27</td>\n      <td>27</td>\n      <td>27</td>\n      <td>27</td>\n      <td>27</td>\n      <td>27</td>\n      <td>27</td>\n      <td>27</td>\n      <td>27</td>\n      <td>27</td>\n      <td>27</td>\n      <td>27</td>\n      <td>27</td>\n      <td>27</td>\n      <td>27</td>\n      <td>27</td>\n      <td>27</td>\n    </tr>\n    <tr>\n      <th>萌物多多</th>\n      <td>1</td>\n      <td>1</td>\n      <td>1</td>\n      <td>1</td>\n      <td>1</td>\n      <td>1</td>\n      <td>1</td>\n      <td>1</td>\n      <td>1</td>\n      <td>1</td>\n      <td>1</td>\n      <td>1</td>\n      <td>1</td>\n      <td>1</td>\n      <td>1</td>\n      <td>1</td>\n      <td>1</td>\n    </tr>\n    <tr>\n      <th>萌羽moeyu旗舰店</th>\n      <td>7</td>\n      <td>7</td>\n      <td>7</td>\n      <td>7</td>\n      <td>7</td>\n      <td>7</td>\n      <td>7</td>\n      <td>7</td>\n      <td>7</td>\n      <td>7</td>\n      <td>7</td>\n      <td>7</td>\n      <td>7</td>\n      <td>7</td>\n      <td>7</td>\n      <td>7</td>\n      <td>7</td>\n    </tr>\n    <tr>\n      <th>超电文化官方旗舰店</th>\n      <td>1</td>\n      <td>1</td>\n      <td>1</td>\n      <td>1</td>\n      <td>1</td>\n      <td>1</td>\n      <td>1</td>\n      <td>1</td>\n      <td>1</td>\n      <td>1</td>\n      <td>1</td>\n      <td>1</td>\n      <td>1</td>\n      <td>1</td>\n      <td>1</td>\n      <td>1</td>\n      <td>1</td>\n    </tr>\n    <tr>\n      <th>达芬奇工房</th>\n      <td>1</td>\n      <td>1</td>\n      <td>1</td>\n      <td>1</td>\n      <td>1</td>\n      <td>1</td>\n      <td>1</td>\n      <td>1</td>\n      <td>1</td>\n      <td>1</td>\n      <td>1</td>\n      <td>1</td>\n      <td>1</td>\n      <td>1</td>\n      <td>1</td>\n      <td>1</td>\n      <td>1</td>\n    </tr>\n    <tr>\n      <th>野食小哥</th>\n      <td>10</td>\n      <td>10</td>\n      <td>10</td>\n      <td>10</td>\n      <td>10</td>\n      <td>10</td>\n      <td>10</td>\n      <td>10</td>\n      <td>10</td>\n      <td>10</td>\n      <td>10</td>\n      <td>10</td>\n      <td>10</td>\n      <td>10</td>\n      <td>10</td>\n      <td>10</td>\n      <td>10</td>\n    </tr>\n  </tbody>\n</table>\n</div>"
     },
     "metadata": {},
     "execution_count": 11
    }
   ],
   "source": [
    "# 判断店铺名称\n",
    "data_result.groupby('店铺名称').count()"
   ]
  },
  {
   "cell_type": "code",
   "execution_count": 12,
   "metadata": {},
   "outputs": [
    {
     "output_type": "execute_result",
     "data": {
      "text/plain": [
       "        订单号   商品编号   商品名称   商品价格     票号     座位   联系地址     渠道    外渠道   下单时间  \\\n",
       "店铺id                                                                         \n",
       "2233  29517  29517  29517  29517  29517  29517  29517  29517  29517  29517   \n",
       "2235     27     27     27     27     27     27     27     27     27     27   \n",
       "2239      2      2      2      2      2      2      2      2      2      2   \n",
       "2247      5      5      5      5      5      5      5      5      5      5   \n",
       "2259     10     10     10     10     10     10     10     10     10     10   \n",
       "2266      1      1      1      1      1      1      1      1      1      1   \n",
       "2276      3      3      3      3      3      3      3      3      3      3   \n",
       "2279      5      5      5      5      5      5      5      5      5      5   \n",
       "2291     30     30     30     30     30     30     30     30     30     30   \n",
       "2292      1      1      1      1      1      1      1      1      1      1   \n",
       "2293      3      3      3      3      3      3      3      3      3      3   \n",
       "2296      1      1      1      1      1      1      1      1      1      1   \n",
       "2306      7      7      7      7      7      7      7      7      7      7   \n",
       "2307      1      1      1      1      1      1      1      1      1      1   \n",
       "2308      1      1      1      1      1      1      1      1      1      1   \n",
       "2309    129    129    129    129    129    129    129    129    129    129   \n",
       "2319      1      1      1      1      1      1      1      1      1      1   \n",
       "2329     49     49     49     49     49     49     49     49     49     49   \n",
       "2343      1      1      1      1      1      1      1      1      1      1   \n",
       "2345      4      4      4      4      4      4      4      4      4      4   \n",
       "2349      1      1      1      1      1      1      1      1      1      1   \n",
       "2360      1      1      1      1      1      1      1      1      1      1   \n",
       "2377      1      1      1      1      1      1      1      1      1      1   \n",
       "2380      1      1      1      1      1      1      1      1      1      1   \n",
       "2399      5      5      5      5      5      5      5      5      5      5   \n",
       "2402      2      2      2      2      2      2      2      2      2      2   \n",
       "2403      1      1      1      1      1      1      1      1      1      1   \n",
       "2408      1      1      1      1      1      1      1      1      1      1   \n",
       "\n",
       "       支付时间   支付单号   店铺名称   订单状态   售后状态  是否海外购     税费  \n",
       "店铺id                                                   \n",
       "2233  29517  29517  29517  29517  29517  29517  29517  \n",
       "2235     27     27     27     27     27     27     27  \n",
       "2239      2      2      2      2      2      2      2  \n",
       "2247      5      5      5      5      5      5      5  \n",
       "2259     10     10     10     10     10     10     10  \n",
       "2266      1      1      1      1      1      1      1  \n",
       "2276      3      3      3      3      3      3      3  \n",
       "2279      5      5      5      5      5      5      5  \n",
       "2291     30     30     30     30     30     30     30  \n",
       "2292      1      1      1      1      1      1      1  \n",
       "2293      3      3      3      3      3      3      3  \n",
       "2296      1      1      1      1      1      1      1  \n",
       "2306      7      7      7      7      7      7      7  \n",
       "2307      1      1      1      1      1      1      1  \n",
       "2308      1      1      1      1      1      1      1  \n",
       "2309    129    129    129    129    129    129    129  \n",
       "2319      1      1      1      1      1      1      1  \n",
       "2329     49     49     49     49     49     49     49  \n",
       "2343      1      1      1      1      1      1      1  \n",
       "2345      4      4      4      4      4      4      4  \n",
       "2349      1      1      1      1      1      1      1  \n",
       "2360      1      1      1      1      1      1      1  \n",
       "2377      1      1      1      1      1      1      1  \n",
       "2380      1      1      1      1      1      1      1  \n",
       "2399      5      5      5      5      5      5      5  \n",
       "2402      2      2      2      2      2      2      2  \n",
       "2403      1      1      1      1      1      1      1  \n",
       "2408      1      1      1      1      1      1      1  "
      ],
      "text/html": "<div>\n<style scoped>\n    .dataframe tbody tr th:only-of-type {\n        vertical-align: middle;\n    }\n\n    .dataframe tbody tr th {\n        vertical-align: top;\n    }\n\n    .dataframe thead th {\n        text-align: right;\n    }\n</style>\n<table border=\"1\" class=\"dataframe\">\n  <thead>\n    <tr style=\"text-align: right;\">\n      <th></th>\n      <th>订单号</th>\n      <th>商品编号</th>\n      <th>商品名称</th>\n      <th>商品价格</th>\n      <th>票号</th>\n      <th>座位</th>\n      <th>联系地址</th>\n      <th>渠道</th>\n      <th>外渠道</th>\n      <th>下单时间</th>\n      <th>支付时间</th>\n      <th>支付单号</th>\n      <th>店铺名称</th>\n      <th>订单状态</th>\n      <th>售后状态</th>\n      <th>是否海外购</th>\n      <th>税费</th>\n    </tr>\n    <tr>\n      <th>店铺id</th>\n      <th></th>\n      <th></th>\n      <th></th>\n      <th></th>\n      <th></th>\n      <th></th>\n      <th></th>\n      <th></th>\n      <th></th>\n      <th></th>\n      <th></th>\n      <th></th>\n      <th></th>\n      <th></th>\n      <th></th>\n      <th></th>\n      <th></th>\n    </tr>\n  </thead>\n  <tbody>\n    <tr>\n      <th>2233</th>\n      <td>29517</td>\n      <td>29517</td>\n      <td>29517</td>\n      <td>29517</td>\n      <td>29517</td>\n      <td>29517</td>\n      <td>29517</td>\n      <td>29517</td>\n      <td>29517</td>\n      <td>29517</td>\n      <td>29517</td>\n      <td>29517</td>\n      <td>29517</td>\n      <td>29517</td>\n      <td>29517</td>\n      <td>29517</td>\n      <td>29517</td>\n    </tr>\n    <tr>\n      <th>2235</th>\n      <td>27</td>\n      <td>27</td>\n      <td>27</td>\n      <td>27</td>\n      <td>27</td>\n      <td>27</td>\n      <td>27</td>\n      <td>27</td>\n      <td>27</td>\n      <td>27</td>\n      <td>27</td>\n      <td>27</td>\n      <td>27</td>\n      <td>27</td>\n      <td>27</td>\n      <td>27</td>\n      <td>27</td>\n    </tr>\n    <tr>\n      <th>2239</th>\n      <td>2</td>\n      <td>2</td>\n      <td>2</td>\n      <td>2</td>\n      <td>2</td>\n      <td>2</td>\n      <td>2</td>\n      <td>2</td>\n      <td>2</td>\n      <td>2</td>\n      <td>2</td>\n      <td>2</td>\n      <td>2</td>\n      <td>2</td>\n      <td>2</td>\n      <td>2</td>\n      <td>2</td>\n    </tr>\n    <tr>\n      <th>2247</th>\n      <td>5</td>\n      <td>5</td>\n      <td>5</td>\n      <td>5</td>\n      <td>5</td>\n      <td>5</td>\n      <td>5</td>\n      <td>5</td>\n      <td>5</td>\n      <td>5</td>\n      <td>5</td>\n      <td>5</td>\n      <td>5</td>\n      <td>5</td>\n      <td>5</td>\n      <td>5</td>\n      <td>5</td>\n    </tr>\n    <tr>\n      <th>2259</th>\n      <td>10</td>\n      <td>10</td>\n      <td>10</td>\n      <td>10</td>\n      <td>10</td>\n      <td>10</td>\n      <td>10</td>\n      <td>10</td>\n      <td>10</td>\n      <td>10</td>\n      <td>10</td>\n      <td>10</td>\n      <td>10</td>\n      <td>10</td>\n      <td>10</td>\n      <td>10</td>\n      <td>10</td>\n    </tr>\n    <tr>\n      <th>2266</th>\n      <td>1</td>\n      <td>1</td>\n      <td>1</td>\n      <td>1</td>\n      <td>1</td>\n      <td>1</td>\n      <td>1</td>\n      <td>1</td>\n      <td>1</td>\n      <td>1</td>\n      <td>1</td>\n      <td>1</td>\n      <td>1</td>\n      <td>1</td>\n      <td>1</td>\n      <td>1</td>\n      <td>1</td>\n    </tr>\n    <tr>\n      <th>2276</th>\n      <td>3</td>\n      <td>3</td>\n      <td>3</td>\n      <td>3</td>\n      <td>3</td>\n      <td>3</td>\n      <td>3</td>\n      <td>3</td>\n      <td>3</td>\n      <td>3</td>\n      <td>3</td>\n      <td>3</td>\n      <td>3</td>\n      <td>3</td>\n      <td>3</td>\n      <td>3</td>\n      <td>3</td>\n    </tr>\n    <tr>\n      <th>2279</th>\n      <td>5</td>\n      <td>5</td>\n      <td>5</td>\n      <td>5</td>\n      <td>5</td>\n      <td>5</td>\n      <td>5</td>\n      <td>5</td>\n      <td>5</td>\n      <td>5</td>\n      <td>5</td>\n      <td>5</td>\n      <td>5</td>\n      <td>5</td>\n      <td>5</td>\n      <td>5</td>\n      <td>5</td>\n    </tr>\n    <tr>\n      <th>2291</th>\n      <td>30</td>\n      <td>30</td>\n      <td>30</td>\n      <td>30</td>\n      <td>30</td>\n      <td>30</td>\n      <td>30</td>\n      <td>30</td>\n      <td>30</td>\n      <td>30</td>\n      <td>30</td>\n      <td>30</td>\n      <td>30</td>\n      <td>30</td>\n      <td>30</td>\n      <td>30</td>\n      <td>30</td>\n    </tr>\n    <tr>\n      <th>2292</th>\n      <td>1</td>\n      <td>1</td>\n      <td>1</td>\n      <td>1</td>\n      <td>1</td>\n      <td>1</td>\n      <td>1</td>\n      <td>1</td>\n      <td>1</td>\n      <td>1</td>\n      <td>1</td>\n      <td>1</td>\n      <td>1</td>\n      <td>1</td>\n      <td>1</td>\n      <td>1</td>\n      <td>1</td>\n    </tr>\n    <tr>\n      <th>2293</th>\n      <td>3</td>\n      <td>3</td>\n      <td>3</td>\n      <td>3</td>\n      <td>3</td>\n      <td>3</td>\n      <td>3</td>\n      <td>3</td>\n      <td>3</td>\n      <td>3</td>\n      <td>3</td>\n      <td>3</td>\n      <td>3</td>\n      <td>3</td>\n      <td>3</td>\n      <td>3</td>\n      <td>3</td>\n    </tr>\n    <tr>\n      <th>2296</th>\n      <td>1</td>\n      <td>1</td>\n      <td>1</td>\n      <td>1</td>\n      <td>1</td>\n      <td>1</td>\n      <td>1</td>\n      <td>1</td>\n      <td>1</td>\n      <td>1</td>\n      <td>1</td>\n      <td>1</td>\n      <td>1</td>\n      <td>1</td>\n      <td>1</td>\n      <td>1</td>\n      <td>1</td>\n    </tr>\n    <tr>\n      <th>2306</th>\n      <td>7</td>\n      <td>7</td>\n      <td>7</td>\n      <td>7</td>\n      <td>7</td>\n      <td>7</td>\n      <td>7</td>\n      <td>7</td>\n      <td>7</td>\n      <td>7</td>\n      <td>7</td>\n      <td>7</td>\n      <td>7</td>\n      <td>7</td>\n      <td>7</td>\n      <td>7</td>\n      <td>7</td>\n    </tr>\n    <tr>\n      <th>2307</th>\n      <td>1</td>\n      <td>1</td>\n      <td>1</td>\n      <td>1</td>\n      <td>1</td>\n      <td>1</td>\n      <td>1</td>\n      <td>1</td>\n      <td>1</td>\n      <td>1</td>\n      <td>1</td>\n      <td>1</td>\n      <td>1</td>\n      <td>1</td>\n      <td>1</td>\n      <td>1</td>\n      <td>1</td>\n    </tr>\n    <tr>\n      <th>2308</th>\n      <td>1</td>\n      <td>1</td>\n      <td>1</td>\n      <td>1</td>\n      <td>1</td>\n      <td>1</td>\n      <td>1</td>\n      <td>1</td>\n      <td>1</td>\n      <td>1</td>\n      <td>1</td>\n      <td>1</td>\n      <td>1</td>\n      <td>1</td>\n      <td>1</td>\n      <td>1</td>\n      <td>1</td>\n    </tr>\n    <tr>\n      <th>2309</th>\n      <td>129</td>\n      <td>129</td>\n      <td>129</td>\n      <td>129</td>\n      <td>129</td>\n      <td>129</td>\n      <td>129</td>\n      <td>129</td>\n      <td>129</td>\n      <td>129</td>\n      <td>129</td>\n      <td>129</td>\n      <td>129</td>\n      <td>129</td>\n      <td>129</td>\n      <td>129</td>\n      <td>129</td>\n    </tr>\n    <tr>\n      <th>2319</th>\n      <td>1</td>\n      <td>1</td>\n      <td>1</td>\n      <td>1</td>\n      <td>1</td>\n      <td>1</td>\n      <td>1</td>\n      <td>1</td>\n      <td>1</td>\n      <td>1</td>\n      <td>1</td>\n      <td>1</td>\n      <td>1</td>\n      <td>1</td>\n      <td>1</td>\n      <td>1</td>\n      <td>1</td>\n    </tr>\n    <tr>\n      <th>2329</th>\n      <td>49</td>\n      <td>49</td>\n      <td>49</td>\n      <td>49</td>\n      <td>49</td>\n      <td>49</td>\n      <td>49</td>\n      <td>49</td>\n      <td>49</td>\n      <td>49</td>\n      <td>49</td>\n      <td>49</td>\n      <td>49</td>\n      <td>49</td>\n      <td>49</td>\n      <td>49</td>\n      <td>49</td>\n    </tr>\n    <tr>\n      <th>2343</th>\n      <td>1</td>\n      <td>1</td>\n      <td>1</td>\n      <td>1</td>\n      <td>1</td>\n      <td>1</td>\n      <td>1</td>\n      <td>1</td>\n      <td>1</td>\n      <td>1</td>\n      <td>1</td>\n      <td>1</td>\n      <td>1</td>\n      <td>1</td>\n      <td>1</td>\n      <td>1</td>\n      <td>1</td>\n    </tr>\n    <tr>\n      <th>2345</th>\n      <td>4</td>\n      <td>4</td>\n      <td>4</td>\n      <td>4</td>\n      <td>4</td>\n      <td>4</td>\n      <td>4</td>\n      <td>4</td>\n      <td>4</td>\n      <td>4</td>\n      <td>4</td>\n      <td>4</td>\n      <td>4</td>\n      <td>4</td>\n      <td>4</td>\n      <td>4</td>\n      <td>4</td>\n    </tr>\n    <tr>\n      <th>2349</th>\n      <td>1</td>\n      <td>1</td>\n      <td>1</td>\n      <td>1</td>\n      <td>1</td>\n      <td>1</td>\n      <td>1</td>\n      <td>1</td>\n      <td>1</td>\n      <td>1</td>\n      <td>1</td>\n      <td>1</td>\n      <td>1</td>\n      <td>1</td>\n      <td>1</td>\n      <td>1</td>\n      <td>1</td>\n    </tr>\n    <tr>\n      <th>2360</th>\n      <td>1</td>\n      <td>1</td>\n      <td>1</td>\n      <td>1</td>\n      <td>1</td>\n      <td>1</td>\n      <td>1</td>\n      <td>1</td>\n      <td>1</td>\n      <td>1</td>\n      <td>1</td>\n      <td>1</td>\n      <td>1</td>\n      <td>1</td>\n      <td>1</td>\n      <td>1</td>\n      <td>1</td>\n    </tr>\n    <tr>\n      <th>2377</th>\n      <td>1</td>\n      <td>1</td>\n      <td>1</td>\n      <td>1</td>\n      <td>1</td>\n      <td>1</td>\n      <td>1</td>\n      <td>1</td>\n      <td>1</td>\n      <td>1</td>\n      <td>1</td>\n      <td>1</td>\n      <td>1</td>\n      <td>1</td>\n      <td>1</td>\n      <td>1</td>\n      <td>1</td>\n    </tr>\n    <tr>\n      <th>2380</th>\n      <td>1</td>\n      <td>1</td>\n      <td>1</td>\n      <td>1</td>\n      <td>1</td>\n      <td>1</td>\n      <td>1</td>\n      <td>1</td>\n      <td>1</td>\n      <td>1</td>\n      <td>1</td>\n      <td>1</td>\n      <td>1</td>\n      <td>1</td>\n      <td>1</td>\n      <td>1</td>\n      <td>1</td>\n    </tr>\n    <tr>\n      <th>2399</th>\n      <td>5</td>\n      <td>5</td>\n      <td>5</td>\n      <td>5</td>\n      <td>5</td>\n      <td>5</td>\n      <td>5</td>\n      <td>5</td>\n      <td>5</td>\n      <td>5</td>\n      <td>5</td>\n      <td>5</td>\n      <td>5</td>\n      <td>5</td>\n      <td>5</td>\n      <td>5</td>\n      <td>5</td>\n    </tr>\n    <tr>\n      <th>2402</th>\n      <td>2</td>\n      <td>2</td>\n      <td>2</td>\n      <td>2</td>\n      <td>2</td>\n      <td>2</td>\n      <td>2</td>\n      <td>2</td>\n      <td>2</td>\n      <td>2</td>\n      <td>2</td>\n      <td>2</td>\n      <td>2</td>\n      <td>2</td>\n      <td>2</td>\n      <td>2</td>\n      <td>2</td>\n    </tr>\n    <tr>\n      <th>2403</th>\n      <td>1</td>\n      <td>1</td>\n      <td>1</td>\n      <td>1</td>\n      <td>1</td>\n      <td>1</td>\n      <td>1</td>\n      <td>1</td>\n      <td>1</td>\n      <td>1</td>\n      <td>1</td>\n      <td>1</td>\n      <td>1</td>\n      <td>1</td>\n      <td>1</td>\n      <td>1</td>\n      <td>1</td>\n    </tr>\n    <tr>\n      <th>2408</th>\n      <td>1</td>\n      <td>1</td>\n      <td>1</td>\n      <td>1</td>\n      <td>1</td>\n      <td>1</td>\n      <td>1</td>\n      <td>1</td>\n      <td>1</td>\n      <td>1</td>\n      <td>1</td>\n      <td>1</td>\n      <td>1</td>\n      <td>1</td>\n      <td>1</td>\n      <td>1</td>\n      <td>1</td>\n    </tr>\n  </tbody>\n</table>\n</div>"
     },
     "metadata": {},
     "execution_count": 12
    }
   ],
   "source": [
    "# 判断店铺名称\n",
    "data_result.groupby('店铺id').count()"
   ]
  },
  {
   "cell_type": "code",
   "execution_count": 13,
   "metadata": {},
   "outputs": [],
   "source": [
    "data_result.drop(['票号','座位','售后状态','税费'], axis = 1, inplace=True)"
   ]
  },
  {
   "cell_type": "code",
   "execution_count": 14,
   "metadata": {},
   "outputs": [
    {
     "output_type": "execute_result",
     "data": {
      "text/plain": [
       "                   订单号      商品编号  \\\n",
       "0     '100000057137818  10008058   \n",
       "1     '100000057116937  10005096   \n",
       "2     '100000057119846  10008385   \n",
       "3     '100000057115828  10000170   \n",
       "4     '100000057142686  10008296   \n",
       "...                ...       ...   \n",
       "4922  '100000057198899  10000314   \n",
       "4923  '100000057199320  10000314   \n",
       "4924  '100000057205071  10000314   \n",
       "4925  '100000057191618  10000314   \n",
       "4926  '100000057171188  10000314   \n",
       "\n",
       "                                                   商品名称    商品价格  \\\n",
       "0             [追加限量]BANPRESTO（眼镜厂）精灵宝可梦 日月 皮卡丘&卡比兽 景品手办   13.20   \n",
       "1                  [追加限量]GSC DARLING in the FRANXX 莓 手办  100.05   \n",
       "2                   AForce 我的英雄学院 舞台剧系列 盒蛋 第二弹(1盒5个+特典)   56.25   \n",
       "3     万代 HG 巴巴托斯高达天狼座 巴巴托斯高达&库坦三型长距离输送推进器 拼装模型 【机动战士...   55.00   \n",
       "4       Max Factory Fate/Grand Order Master/主人公 女 figma   57.75   \n",
       "...                                                 ...     ...   \n",
       "4922                                    GSC 宝石之国 磷叶石 手办  479.00   \n",
       "4923                                    GSC 宝石之国 磷叶石 手办  479.00   \n",
       "4924                                    GSC 宝石之国 磷叶石 手办  479.00   \n",
       "4925                                    GSC 宝石之国 磷叶石 手办  479.00   \n",
       "4926                                    GSC 宝石之国 磷叶石 手办  479.00   \n",
       "\n",
       "                                  联系地址           渠道          外渠道  \\\n",
       "0                                   --       search  bilibiliapp   \n",
       "1                                   --       search  bilibiliapp   \n",
       "2                                   --       search  bilibiliapp   \n",
       "3          四川省 攀枝花市 西区 建兴路22号19栋2单元11号      card_dm  bilibiliapp   \n",
       "4                                   --  category_sb  bilibiliapp   \n",
       "...                                ...          ...          ...   \n",
       "4922       广东省 深圳市 盐田区 沙头角碧海蓝天明苑碧海阁29B    zhc_sbhc2   mallbanner   \n",
       "4923  江苏省 南京市 玄武区 新街口街道沙塘园五號安全小區派件務必聯繫       banner   mallbanner   \n",
       "4924         广东省 广州市 天河区 天源路808号12栋603       banner   mallbanner   \n",
       "4925                江苏省 苏州市 吴中区 长蠡新村8栋       search           --   \n",
       "4926          江苏省 南京市 浦口区 浦珠北路恒辉翡翠花园9栋       banner   mallbanner   \n",
       "\n",
       "                    下单时间                 支付时间                  支付单号  店铺名称  \\\n",
       "0    2019-02-10 11:59:56  2019-02-10 12:00:09  '3083592851637686272  会员购    \n",
       "1    2019-02-10 11:59:45  2019-02-10 11:59:54  '4083592793121865728  会员购    \n",
       "2    2019-02-10 11:59:45  0002-11-30 00:00:00                   '--  会员购    \n",
       "3    2019-02-10 11:59:39  0002-11-30 00:00:00                   '--  会员购    \n",
       "4    2019-02-10 11:59:36  2019-02-10 11:59:49  '4083592767356256256  会员购    \n",
       "...                  ...                  ...                   ...   ...   \n",
       "4922 2019-02-10 22:00:01  0002-11-30 00:00:00                   '--  会员购    \n",
       "4923 2019-02-10 22:00:01  2019-02-10 22:01:24  '4083744163225931776  会员购    \n",
       "4924 2019-02-10 22:00:01  2019-02-10 22:01:53  '3083744289074126848  会员购    \n",
       "4925 2019-02-10 22:00:01  2019-02-10 22:03:15  '4083744641284313088  会员购    \n",
       "4926 2019-02-10 22:00:01  2019-02-10 22:04:29  '3083744952037183488  会员购    \n",
       "\n",
       "      店铺id 订单状态 是否海外购  \n",
       "0     2233  待支付     否  \n",
       "1     2233  待支付     否  \n",
       "2     2233  已取消     否  \n",
       "3     2233  已取消     否  \n",
       "4     2233  待支付     否  \n",
       "...    ...  ...   ...  \n",
       "4922  2233  已取消     否  \n",
       "4923  2233  待发货     否  \n",
       "4924  2233  待发货     否  \n",
       "4925  2233  待发货     否  \n",
       "4926  2233  待发货     否  \n",
       "\n",
       "[29811 rows x 14 columns]"
      ],
      "text/html": "<div>\n<style scoped>\n    .dataframe tbody tr th:only-of-type {\n        vertical-align: middle;\n    }\n\n    .dataframe tbody tr th {\n        vertical-align: top;\n    }\n\n    .dataframe thead th {\n        text-align: right;\n    }\n</style>\n<table border=\"1\" class=\"dataframe\">\n  <thead>\n    <tr style=\"text-align: right;\">\n      <th></th>\n      <th>订单号</th>\n      <th>商品编号</th>\n      <th>商品名称</th>\n      <th>商品价格</th>\n      <th>联系地址</th>\n      <th>渠道</th>\n      <th>外渠道</th>\n      <th>下单时间</th>\n      <th>支付时间</th>\n      <th>支付单号</th>\n      <th>店铺名称</th>\n      <th>店铺id</th>\n      <th>订单状态</th>\n      <th>是否海外购</th>\n    </tr>\n  </thead>\n  <tbody>\n    <tr>\n      <th>0</th>\n      <td>'100000057137818</td>\n      <td>10008058</td>\n      <td>[追加限量]BANPRESTO（眼镜厂）精灵宝可梦 日月 皮卡丘&amp;卡比兽 景品手办</td>\n      <td>13.20</td>\n      <td>--</td>\n      <td>search</td>\n      <td>bilibiliapp</td>\n      <td>2019-02-10 11:59:56</td>\n      <td>2019-02-10 12:00:09</td>\n      <td>'3083592851637686272</td>\n      <td>会员购</td>\n      <td>2233</td>\n      <td>待支付</td>\n      <td>否</td>\n    </tr>\n    <tr>\n      <th>1</th>\n      <td>'100000057116937</td>\n      <td>10005096</td>\n      <td>[追加限量]GSC DARLING in the FRANXX 莓 手办</td>\n      <td>100.05</td>\n      <td>--</td>\n      <td>search</td>\n      <td>bilibiliapp</td>\n      <td>2019-02-10 11:59:45</td>\n      <td>2019-02-10 11:59:54</td>\n      <td>'4083592793121865728</td>\n      <td>会员购</td>\n      <td>2233</td>\n      <td>待支付</td>\n      <td>否</td>\n    </tr>\n    <tr>\n      <th>2</th>\n      <td>'100000057119846</td>\n      <td>10008385</td>\n      <td>AForce 我的英雄学院 舞台剧系列 盒蛋 第二弹(1盒5个+特典)</td>\n      <td>56.25</td>\n      <td>--</td>\n      <td>search</td>\n      <td>bilibiliapp</td>\n      <td>2019-02-10 11:59:45</td>\n      <td>0002-11-30 00:00:00</td>\n      <td>'--</td>\n      <td>会员购</td>\n      <td>2233</td>\n      <td>已取消</td>\n      <td>否</td>\n    </tr>\n    <tr>\n      <th>3</th>\n      <td>'100000057115828</td>\n      <td>10000170</td>\n      <td>万代 HG 巴巴托斯高达天狼座 巴巴托斯高达&amp;库坦三型长距离输送推进器 拼装模型 【机动战士...</td>\n      <td>55.00</td>\n      <td>四川省 攀枝花市 西区 建兴路22号19栋2单元11号</td>\n      <td>card_dm</td>\n      <td>bilibiliapp</td>\n      <td>2019-02-10 11:59:39</td>\n      <td>0002-11-30 00:00:00</td>\n      <td>'--</td>\n      <td>会员购</td>\n      <td>2233</td>\n      <td>已取消</td>\n      <td>否</td>\n    </tr>\n    <tr>\n      <th>4</th>\n      <td>'100000057142686</td>\n      <td>10008296</td>\n      <td>Max Factory Fate/Grand Order Master/主人公 女 figma</td>\n      <td>57.75</td>\n      <td>--</td>\n      <td>category_sb</td>\n      <td>bilibiliapp</td>\n      <td>2019-02-10 11:59:36</td>\n      <td>2019-02-10 11:59:49</td>\n      <td>'4083592767356256256</td>\n      <td>会员购</td>\n      <td>2233</td>\n      <td>待支付</td>\n      <td>否</td>\n    </tr>\n    <tr>\n      <th>...</th>\n      <td>...</td>\n      <td>...</td>\n      <td>...</td>\n      <td>...</td>\n      <td>...</td>\n      <td>...</td>\n      <td>...</td>\n      <td>...</td>\n      <td>...</td>\n      <td>...</td>\n      <td>...</td>\n      <td>...</td>\n      <td>...</td>\n      <td>...</td>\n    </tr>\n    <tr>\n      <th>4922</th>\n      <td>'100000057198899</td>\n      <td>10000314</td>\n      <td>GSC 宝石之国 磷叶石 手办</td>\n      <td>479.00</td>\n      <td>广东省 深圳市 盐田区 沙头角碧海蓝天明苑碧海阁29B</td>\n      <td>zhc_sbhc2</td>\n      <td>mallbanner</td>\n      <td>2019-02-10 22:00:01</td>\n      <td>0002-11-30 00:00:00</td>\n      <td>'--</td>\n      <td>会员购</td>\n      <td>2233</td>\n      <td>已取消</td>\n      <td>否</td>\n    </tr>\n    <tr>\n      <th>4923</th>\n      <td>'100000057199320</td>\n      <td>10000314</td>\n      <td>GSC 宝石之国 磷叶石 手办</td>\n      <td>479.00</td>\n      <td>江苏省 南京市 玄武区 新街口街道沙塘园五號安全小區派件務必聯繫</td>\n      <td>banner</td>\n      <td>mallbanner</td>\n      <td>2019-02-10 22:00:01</td>\n      <td>2019-02-10 22:01:24</td>\n      <td>'4083744163225931776</td>\n      <td>会员购</td>\n      <td>2233</td>\n      <td>待发货</td>\n      <td>否</td>\n    </tr>\n    <tr>\n      <th>4924</th>\n      <td>'100000057205071</td>\n      <td>10000314</td>\n      <td>GSC 宝石之国 磷叶石 手办</td>\n      <td>479.00</td>\n      <td>广东省 广州市 天河区 天源路808号12栋603</td>\n      <td>banner</td>\n      <td>mallbanner</td>\n      <td>2019-02-10 22:00:01</td>\n      <td>2019-02-10 22:01:53</td>\n      <td>'3083744289074126848</td>\n      <td>会员购</td>\n      <td>2233</td>\n      <td>待发货</td>\n      <td>否</td>\n    </tr>\n    <tr>\n      <th>4925</th>\n      <td>'100000057191618</td>\n      <td>10000314</td>\n      <td>GSC 宝石之国 磷叶石 手办</td>\n      <td>479.00</td>\n      <td>江苏省 苏州市 吴中区 长蠡新村8栋</td>\n      <td>search</td>\n      <td>--</td>\n      <td>2019-02-10 22:00:01</td>\n      <td>2019-02-10 22:03:15</td>\n      <td>'4083744641284313088</td>\n      <td>会员购</td>\n      <td>2233</td>\n      <td>待发货</td>\n      <td>否</td>\n    </tr>\n    <tr>\n      <th>4926</th>\n      <td>'100000057171188</td>\n      <td>10000314</td>\n      <td>GSC 宝石之国 磷叶石 手办</td>\n      <td>479.00</td>\n      <td>江苏省 南京市 浦口区 浦珠北路恒辉翡翠花园9栋</td>\n      <td>banner</td>\n      <td>mallbanner</td>\n      <td>2019-02-10 22:00:01</td>\n      <td>2019-02-10 22:04:29</td>\n      <td>'3083744952037183488</td>\n      <td>会员购</td>\n      <td>2233</td>\n      <td>待发货</td>\n      <td>否</td>\n    </tr>\n  </tbody>\n</table>\n<p>29811 rows × 14 columns</p>\n</div>"
     },
     "metadata": {},
     "execution_count": 14
    }
   ],
   "source": [
    "data_result"
   ]
  },
  {
   "cell_type": "code",
   "execution_count": 15,
   "metadata": {},
   "outputs": [
    {
     "output_type": "execute_result",
     "data": {
      "text/plain": [
       "                   订单号      商品编号  \\\n",
       "3     '100000057115828  10000170   \n",
       "7     '100000057117185  10004152   \n",
       "8     '100000057117185  10005326   \n",
       "9     '100000057117185  10003983   \n",
       "13    '100000057123611  10003100   \n",
       "...                ...       ...   \n",
       "4922  '100000057198899  10000314   \n",
       "4923  '100000057199320  10000314   \n",
       "4924  '100000057205071  10000314   \n",
       "4925  '100000057191618  10000314   \n",
       "4926  '100000057171188  10000314   \n",
       "\n",
       "                                                   商品名称   商品价格  \\\n",
       "3     万代 HG 巴巴托斯高达天狼座 巴巴托斯高达&库坦三型长距离输送推进器 拼装模型 【机动战士...   55.0   \n",
       "7                         万代 RG 沙扎比 拼装模型 【机动战士高达 逆袭的夏亚】  503.0   \n",
       "8                            万代 MG 机动战士高达SEED 圣盾高达 拼装模型  503.0   \n",
       "9                          田宫 (74040)笔刀替换刀片(25枚) 模型制作工具  503.0   \n",
       "13                   寿屋 命运石之门0 牧濑红莉栖-Antinomic Dual- 手办  649.0   \n",
       "...                                                 ...    ...   \n",
       "4922                                    GSC 宝石之国 磷叶石 手办  479.0   \n",
       "4923                                    GSC 宝石之国 磷叶石 手办  479.0   \n",
       "4924                                    GSC 宝石之国 磷叶石 手办  479.0   \n",
       "4925                                    GSC 宝石之国 磷叶石 手办  479.0   \n",
       "4926                                    GSC 宝石之国 磷叶石 手办  479.0   \n",
       "\n",
       "                                  联系地址            渠道          外渠道  \\\n",
       "3          四川省 攀枝花市 西区 建兴路22号19栋2单元11号       card_dm  bilibiliapp   \n",
       "7        天津市 天津市 南开区 迎水道华苑十华里13-1-1401      homepage     homepage   \n",
       "8        天津市 天津市 南开区 迎水道华苑十华里13-1-1401      homepage     homepage   \n",
       "9        天津市 天津市 南开区 迎水道华苑十华里13-1-1401      homepage     homepage   \n",
       "13      山东省 潍坊市 坊子区 凤凰街道葛家小区16号楼5单元102  shoppingcart  bilibiliapp   \n",
       "...                                ...           ...          ...   \n",
       "4922       广东省 深圳市 盐田区 沙头角碧海蓝天明苑碧海阁29B     zhc_sbhc2   mallbanner   \n",
       "4923  江苏省 南京市 玄武区 新街口街道沙塘园五號安全小區派件務必聯繫        banner   mallbanner   \n",
       "4924         广东省 广州市 天河区 天源路808号12栋603        banner   mallbanner   \n",
       "4925                江苏省 苏州市 吴中区 长蠡新村8栋        search           --   \n",
       "4926          江苏省 南京市 浦口区 浦珠北路恒辉翡翠花园9栋        banner   mallbanner   \n",
       "\n",
       "                    下单时间                 支付时间                  支付单号  店铺名称  \\\n",
       "3    2019-02-10 11:59:39  0002-11-30 00:00:00                   '--  会员购    \n",
       "7    2019-02-10 11:59:30  2019-02-10 11:59:51  '3083592758545108992  会员购    \n",
       "8    2019-02-10 11:59:30  2019-02-10 11:59:51  '3083592758545108992  会员购    \n",
       "9    2019-02-10 11:59:30  2019-02-10 11:59:51  '3083592758545108992  会员购    \n",
       "13   2019-02-10 11:59:21  2019-02-10 12:02:36  '4083593463329161216  会员购    \n",
       "...                  ...                  ...                   ...   ...   \n",
       "4922 2019-02-10 22:00:01  0002-11-30 00:00:00                   '--  会员购    \n",
       "4923 2019-02-10 22:00:01  2019-02-10 22:01:24  '4083744163225931776  会员购    \n",
       "4924 2019-02-10 22:00:01  2019-02-10 22:01:53  '3083744289074126848  会员购    \n",
       "4925 2019-02-10 22:00:01  2019-02-10 22:03:15  '4083744641284313088  会员购    \n",
       "4926 2019-02-10 22:00:01  2019-02-10 22:04:29  '3083744952037183488  会员购    \n",
       "\n",
       "      店铺id 订单状态 是否海外购  \n",
       "3     2233  已取消     否  \n",
       "7     2233  待发货     否  \n",
       "8     2233  待发货     否  \n",
       "9     2233  待发货     否  \n",
       "13    2233  待发货     否  \n",
       "...    ...  ...   ...  \n",
       "4922  2233  已取消     否  \n",
       "4923  2233  待发货     否  \n",
       "4924  2233  待发货     否  \n",
       "4925  2233  待发货     否  \n",
       "4926  2233  待发货     否  \n",
       "\n",
       "[12630 rows x 14 columns]"
      ],
      "text/html": "<div>\n<style scoped>\n    .dataframe tbody tr th:only-of-type {\n        vertical-align: middle;\n    }\n\n    .dataframe tbody tr th {\n        vertical-align: top;\n    }\n\n    .dataframe thead th {\n        text-align: right;\n    }\n</style>\n<table border=\"1\" class=\"dataframe\">\n  <thead>\n    <tr style=\"text-align: right;\">\n      <th></th>\n      <th>订单号</th>\n      <th>商品编号</th>\n      <th>商品名称</th>\n      <th>商品价格</th>\n      <th>联系地址</th>\n      <th>渠道</th>\n      <th>外渠道</th>\n      <th>下单时间</th>\n      <th>支付时间</th>\n      <th>支付单号</th>\n      <th>店铺名称</th>\n      <th>店铺id</th>\n      <th>订单状态</th>\n      <th>是否海外购</th>\n    </tr>\n  </thead>\n  <tbody>\n    <tr>\n      <th>3</th>\n      <td>'100000057115828</td>\n      <td>10000170</td>\n      <td>万代 HG 巴巴托斯高达天狼座 巴巴托斯高达&amp;库坦三型长距离输送推进器 拼装模型 【机动战士...</td>\n      <td>55.0</td>\n      <td>四川省 攀枝花市 西区 建兴路22号19栋2单元11号</td>\n      <td>card_dm</td>\n      <td>bilibiliapp</td>\n      <td>2019-02-10 11:59:39</td>\n      <td>0002-11-30 00:00:00</td>\n      <td>'--</td>\n      <td>会员购</td>\n      <td>2233</td>\n      <td>已取消</td>\n      <td>否</td>\n    </tr>\n    <tr>\n      <th>7</th>\n      <td>'100000057117185</td>\n      <td>10004152</td>\n      <td>万代 RG 沙扎比 拼装模型 【机动战士高达 逆袭的夏亚】</td>\n      <td>503.0</td>\n      <td>天津市 天津市 南开区 迎水道华苑十华里13-1-1401</td>\n      <td>homepage</td>\n      <td>homepage</td>\n      <td>2019-02-10 11:59:30</td>\n      <td>2019-02-10 11:59:51</td>\n      <td>'3083592758545108992</td>\n      <td>会员购</td>\n      <td>2233</td>\n      <td>待发货</td>\n      <td>否</td>\n    </tr>\n    <tr>\n      <th>8</th>\n      <td>'100000057117185</td>\n      <td>10005326</td>\n      <td>万代 MG 机动战士高达SEED 圣盾高达 拼装模型</td>\n      <td>503.0</td>\n      <td>天津市 天津市 南开区 迎水道华苑十华里13-1-1401</td>\n      <td>homepage</td>\n      <td>homepage</td>\n      <td>2019-02-10 11:59:30</td>\n      <td>2019-02-10 11:59:51</td>\n      <td>'3083592758545108992</td>\n      <td>会员购</td>\n      <td>2233</td>\n      <td>待发货</td>\n      <td>否</td>\n    </tr>\n    <tr>\n      <th>9</th>\n      <td>'100000057117185</td>\n      <td>10003983</td>\n      <td>田宫 (74040)笔刀替换刀片(25枚) 模型制作工具</td>\n      <td>503.0</td>\n      <td>天津市 天津市 南开区 迎水道华苑十华里13-1-1401</td>\n      <td>homepage</td>\n      <td>homepage</td>\n      <td>2019-02-10 11:59:30</td>\n      <td>2019-02-10 11:59:51</td>\n      <td>'3083592758545108992</td>\n      <td>会员购</td>\n      <td>2233</td>\n      <td>待发货</td>\n      <td>否</td>\n    </tr>\n    <tr>\n      <th>13</th>\n      <td>'100000057123611</td>\n      <td>10003100</td>\n      <td>寿屋 命运石之门0 牧濑红莉栖-Antinomic Dual- 手办</td>\n      <td>649.0</td>\n      <td>山东省 潍坊市 坊子区 凤凰街道葛家小区16号楼5单元102</td>\n      <td>shoppingcart</td>\n      <td>bilibiliapp</td>\n      <td>2019-02-10 11:59:21</td>\n      <td>2019-02-10 12:02:36</td>\n      <td>'4083593463329161216</td>\n      <td>会员购</td>\n      <td>2233</td>\n      <td>待发货</td>\n      <td>否</td>\n    </tr>\n    <tr>\n      <th>...</th>\n      <td>...</td>\n      <td>...</td>\n      <td>...</td>\n      <td>...</td>\n      <td>...</td>\n      <td>...</td>\n      <td>...</td>\n      <td>...</td>\n      <td>...</td>\n      <td>...</td>\n      <td>...</td>\n      <td>...</td>\n      <td>...</td>\n      <td>...</td>\n    </tr>\n    <tr>\n      <th>4922</th>\n      <td>'100000057198899</td>\n      <td>10000314</td>\n      <td>GSC 宝石之国 磷叶石 手办</td>\n      <td>479.0</td>\n      <td>广东省 深圳市 盐田区 沙头角碧海蓝天明苑碧海阁29B</td>\n      <td>zhc_sbhc2</td>\n      <td>mallbanner</td>\n      <td>2019-02-10 22:00:01</td>\n      <td>0002-11-30 00:00:00</td>\n      <td>'--</td>\n      <td>会员购</td>\n      <td>2233</td>\n      <td>已取消</td>\n      <td>否</td>\n    </tr>\n    <tr>\n      <th>4923</th>\n      <td>'100000057199320</td>\n      <td>10000314</td>\n      <td>GSC 宝石之国 磷叶石 手办</td>\n      <td>479.0</td>\n      <td>江苏省 南京市 玄武区 新街口街道沙塘园五號安全小區派件務必聯繫</td>\n      <td>banner</td>\n      <td>mallbanner</td>\n      <td>2019-02-10 22:00:01</td>\n      <td>2019-02-10 22:01:24</td>\n      <td>'4083744163225931776</td>\n      <td>会员购</td>\n      <td>2233</td>\n      <td>待发货</td>\n      <td>否</td>\n    </tr>\n    <tr>\n      <th>4924</th>\n      <td>'100000057205071</td>\n      <td>10000314</td>\n      <td>GSC 宝石之国 磷叶石 手办</td>\n      <td>479.0</td>\n      <td>广东省 广州市 天河区 天源路808号12栋603</td>\n      <td>banner</td>\n      <td>mallbanner</td>\n      <td>2019-02-10 22:00:01</td>\n      <td>2019-02-10 22:01:53</td>\n      <td>'3083744289074126848</td>\n      <td>会员购</td>\n      <td>2233</td>\n      <td>待发货</td>\n      <td>否</td>\n    </tr>\n    <tr>\n      <th>4925</th>\n      <td>'100000057191618</td>\n      <td>10000314</td>\n      <td>GSC 宝石之国 磷叶石 手办</td>\n      <td>479.0</td>\n      <td>江苏省 苏州市 吴中区 长蠡新村8栋</td>\n      <td>search</td>\n      <td>--</td>\n      <td>2019-02-10 22:00:01</td>\n      <td>2019-02-10 22:03:15</td>\n      <td>'4083744641284313088</td>\n      <td>会员购</td>\n      <td>2233</td>\n      <td>待发货</td>\n      <td>否</td>\n    </tr>\n    <tr>\n      <th>4926</th>\n      <td>'100000057171188</td>\n      <td>10000314</td>\n      <td>GSC 宝石之国 磷叶石 手办</td>\n      <td>479.0</td>\n      <td>江苏省 南京市 浦口区 浦珠北路恒辉翡翠花园9栋</td>\n      <td>banner</td>\n      <td>mallbanner</td>\n      <td>2019-02-10 22:00:01</td>\n      <td>2019-02-10 22:04:29</td>\n      <td>'3083744952037183488</td>\n      <td>会员购</td>\n      <td>2233</td>\n      <td>待发货</td>\n      <td>否</td>\n    </tr>\n  </tbody>\n</table>\n<p>12630 rows × 14 columns</p>\n</div>"
     },
     "metadata": {},
     "execution_count": 15
    }
   ],
   "source": [
    "## 去除预订单，所有没有地址的都不算进去\n",
    "df = data_result[data_result['联系地址']!=\"--\"]\n",
    "df"
   ]
  },
  {
   "cell_type": "code",
   "execution_count": 16,
   "metadata": {},
   "outputs": [],
   "source": [
    "## 查看订单状态为已取消的订单，是否有恶意订单占货\n",
    "df2 = df[df['订单状态'] == \"已取消\"].sort_values(by=\"商品价格\",ascending=False)\n",
    "df2.to_excel(\"cancel.xlsx\")"
   ]
  },
  {
   "cell_type": "code",
   "execution_count": 17,
   "metadata": {},
   "outputs": [
    {
     "output_type": "execute_result",
     "data": {
      "text/plain": [
       "(2927, 14)"
      ]
     },
     "metadata": {},
     "execution_count": 17
    }
   ],
   "source": [
    "df2.shape"
   ]
  },
  {
   "cell_type": "code",
   "execution_count": 18,
   "metadata": {},
   "outputs": [],
   "source": [
    "## 删除订单状态为已取消的订单\n",
    "df_final = df[df['订单状态'] != \"已取消\"]\n",
    "df_final.to_excel(\"cleaned_data.xlsx\")"
   ]
  },
  {
   "cell_type": "code",
   "execution_count": 19,
   "metadata": {},
   "outputs": [
    {
     "output_type": "stream",
     "name": "stderr",
     "text": [
      "/Users/haoyuexu/opt/anaconda3/envs/py_env/lib/python3.9/site-packages/pandas/core/frame.py:3607: SettingWithCopyWarning: \nA value is trying to be set on a copy of a slice from a DataFrame.\nTry using .loc[row_indexer,col_indexer] = value instead\n\nSee the caveats in the documentation: https://pandas.pydata.org/pandas-docs/stable/user_guide/indexing.html#returning-a-view-versus-a-copy\n  self._set_item(key, value)\n"
     ]
    },
    {
     "output_type": "execute_result",
     "data": {
      "text/plain": [
       "          订单号  商品编号  商品名称  商品价格  联系地址    渠道   外渠道  下单时间  支付时间  支付单号  店铺名称  \\\n",
       "下单时间（时）                                                                     \n",
       "00        458   458   458   458   458   458   458   458   458   458   458   \n",
       "01        288   288   288   288   288   288   288   288   288   288   288   \n",
       "02        207   207   207   207   207   207   207   207   207   207   207   \n",
       "03        105   105   105   105   105   105   105   105   105   105   105   \n",
       "04         70    70    70    70    70    70    70    70    70    70    70   \n",
       "05         41    41    41    41    41    41    41    41    41    41    41   \n",
       "06         56    56    56    56    56    56    56    56    56    56    56   \n",
       "07         87    87    87    87    87    87    87    87    87    87    87   \n",
       "08        151   151   151   151   151   151   151   151   151   151   151   \n",
       "09        272   272   272   272   272   272   272   272   272   272   272   \n",
       "10        475   475   475   475   475   475   475   475   475   475   475   \n",
       "11        568   568   568   568   568   568   568   568   568   568   568   \n",
       "12        857   857   857   857   857   857   857   857   857   857   857   \n",
       "13        778   778   778   778   778   778   778   778   778   778   778   \n",
       "14        817   817   817   817   817   817   817   817   817   817   817   \n",
       "15        640   640   640   640   640   640   640   640   640   640   640   \n",
       "16        758   758   758   758   758   758   758   758   758   758   758   \n",
       "17        680   680   680   680   680   680   680   680   680   680   680   \n",
       "18        682   682   682   682   682   682   682   682   682   682   682   \n",
       "19        668   668   668   668   668   668   668   668   668   668   668   \n",
       "20        994   994   994   994   994   994   994   994   994   994   994   \n",
       "21        820   820   820   820   820   820   820   820   820   820   820   \n",
       "22       1034  1034  1034  1034  1034  1034  1034  1034  1034  1034  1034   \n",
       "23       1124  1124  1124  1124  1124  1124  1124  1124  1124  1124  1124   \n",
       "\n",
       "         店铺id  订单状态  是否海外购  \n",
       "下单时间（时）                     \n",
       "00        458   458    458  \n",
       "01        288   288    288  \n",
       "02        207   207    207  \n",
       "03        105   105    105  \n",
       "04         70    70     70  \n",
       "05         41    41     41  \n",
       "06         56    56     56  \n",
       "07         87    87     87  \n",
       "08        151   151    151  \n",
       "09        272   272    272  \n",
       "10        475   475    475  \n",
       "11        568   568    568  \n",
       "12        857   857    857  \n",
       "13        778   778    778  \n",
       "14        817   817    817  \n",
       "15        640   640    640  \n",
       "16        758   758    758  \n",
       "17        680   680    680  \n",
       "18        682   682    682  \n",
       "19        668   668    668  \n",
       "20        994   994    994  \n",
       "21        820   820    820  \n",
       "22       1034  1034   1034  \n",
       "23       1124  1124   1124  "
      ],
      "text/html": "<div>\n<style scoped>\n    .dataframe tbody tr th:only-of-type {\n        vertical-align: middle;\n    }\n\n    .dataframe tbody tr th {\n        vertical-align: top;\n    }\n\n    .dataframe thead th {\n        text-align: right;\n    }\n</style>\n<table border=\"1\" class=\"dataframe\">\n  <thead>\n    <tr style=\"text-align: right;\">\n      <th></th>\n      <th>订单号</th>\n      <th>商品编号</th>\n      <th>商品名称</th>\n      <th>商品价格</th>\n      <th>联系地址</th>\n      <th>渠道</th>\n      <th>外渠道</th>\n      <th>下单时间</th>\n      <th>支付时间</th>\n      <th>支付单号</th>\n      <th>店铺名称</th>\n      <th>店铺id</th>\n      <th>订单状态</th>\n      <th>是否海外购</th>\n    </tr>\n    <tr>\n      <th>下单时间（时）</th>\n      <th></th>\n      <th></th>\n      <th></th>\n      <th></th>\n      <th></th>\n      <th></th>\n      <th></th>\n      <th></th>\n      <th></th>\n      <th></th>\n      <th></th>\n      <th></th>\n      <th></th>\n      <th></th>\n    </tr>\n  </thead>\n  <tbody>\n    <tr>\n      <th>00</th>\n      <td>458</td>\n      <td>458</td>\n      <td>458</td>\n      <td>458</td>\n      <td>458</td>\n      <td>458</td>\n      <td>458</td>\n      <td>458</td>\n      <td>458</td>\n      <td>458</td>\n      <td>458</td>\n      <td>458</td>\n      <td>458</td>\n      <td>458</td>\n    </tr>\n    <tr>\n      <th>01</th>\n      <td>288</td>\n      <td>288</td>\n      <td>288</td>\n      <td>288</td>\n      <td>288</td>\n      <td>288</td>\n      <td>288</td>\n      <td>288</td>\n      <td>288</td>\n      <td>288</td>\n      <td>288</td>\n      <td>288</td>\n      <td>288</td>\n      <td>288</td>\n    </tr>\n    <tr>\n      <th>02</th>\n      <td>207</td>\n      <td>207</td>\n      <td>207</td>\n      <td>207</td>\n      <td>207</td>\n      <td>207</td>\n      <td>207</td>\n      <td>207</td>\n      <td>207</td>\n      <td>207</td>\n      <td>207</td>\n      <td>207</td>\n      <td>207</td>\n      <td>207</td>\n    </tr>\n    <tr>\n      <th>03</th>\n      <td>105</td>\n      <td>105</td>\n      <td>105</td>\n      <td>105</td>\n      <td>105</td>\n      <td>105</td>\n      <td>105</td>\n      <td>105</td>\n      <td>105</td>\n      <td>105</td>\n      <td>105</td>\n      <td>105</td>\n      <td>105</td>\n      <td>105</td>\n    </tr>\n    <tr>\n      <th>04</th>\n      <td>70</td>\n      <td>70</td>\n      <td>70</td>\n      <td>70</td>\n      <td>70</td>\n      <td>70</td>\n      <td>70</td>\n      <td>70</td>\n      <td>70</td>\n      <td>70</td>\n      <td>70</td>\n      <td>70</td>\n      <td>70</td>\n      <td>70</td>\n    </tr>\n    <tr>\n      <th>05</th>\n      <td>41</td>\n      <td>41</td>\n      <td>41</td>\n      <td>41</td>\n      <td>41</td>\n      <td>41</td>\n      <td>41</td>\n      <td>41</td>\n      <td>41</td>\n      <td>41</td>\n      <td>41</td>\n      <td>41</td>\n      <td>41</td>\n      <td>41</td>\n    </tr>\n    <tr>\n      <th>06</th>\n      <td>56</td>\n      <td>56</td>\n      <td>56</td>\n      <td>56</td>\n      <td>56</td>\n      <td>56</td>\n      <td>56</td>\n      <td>56</td>\n      <td>56</td>\n      <td>56</td>\n      <td>56</td>\n      <td>56</td>\n      <td>56</td>\n      <td>56</td>\n    </tr>\n    <tr>\n      <th>07</th>\n      <td>87</td>\n      <td>87</td>\n      <td>87</td>\n      <td>87</td>\n      <td>87</td>\n      <td>87</td>\n      <td>87</td>\n      <td>87</td>\n      <td>87</td>\n      <td>87</td>\n      <td>87</td>\n      <td>87</td>\n      <td>87</td>\n      <td>87</td>\n    </tr>\n    <tr>\n      <th>08</th>\n      <td>151</td>\n      <td>151</td>\n      <td>151</td>\n      <td>151</td>\n      <td>151</td>\n      <td>151</td>\n      <td>151</td>\n      <td>151</td>\n      <td>151</td>\n      <td>151</td>\n      <td>151</td>\n      <td>151</td>\n      <td>151</td>\n      <td>151</td>\n    </tr>\n    <tr>\n      <th>09</th>\n      <td>272</td>\n      <td>272</td>\n      <td>272</td>\n      <td>272</td>\n      <td>272</td>\n      <td>272</td>\n      <td>272</td>\n      <td>272</td>\n      <td>272</td>\n      <td>272</td>\n      <td>272</td>\n      <td>272</td>\n      <td>272</td>\n      <td>272</td>\n    </tr>\n    <tr>\n      <th>10</th>\n      <td>475</td>\n      <td>475</td>\n      <td>475</td>\n      <td>475</td>\n      <td>475</td>\n      <td>475</td>\n      <td>475</td>\n      <td>475</td>\n      <td>475</td>\n      <td>475</td>\n      <td>475</td>\n      <td>475</td>\n      <td>475</td>\n      <td>475</td>\n    </tr>\n    <tr>\n      <th>11</th>\n      <td>568</td>\n      <td>568</td>\n      <td>568</td>\n      <td>568</td>\n      <td>568</td>\n      <td>568</td>\n      <td>568</td>\n      <td>568</td>\n      <td>568</td>\n      <td>568</td>\n      <td>568</td>\n      <td>568</td>\n      <td>568</td>\n      <td>568</td>\n    </tr>\n    <tr>\n      <th>12</th>\n      <td>857</td>\n      <td>857</td>\n      <td>857</td>\n      <td>857</td>\n      <td>857</td>\n      <td>857</td>\n      <td>857</td>\n      <td>857</td>\n      <td>857</td>\n      <td>857</td>\n      <td>857</td>\n      <td>857</td>\n      <td>857</td>\n      <td>857</td>\n    </tr>\n    <tr>\n      <th>13</th>\n      <td>778</td>\n      <td>778</td>\n      <td>778</td>\n      <td>778</td>\n      <td>778</td>\n      <td>778</td>\n      <td>778</td>\n      <td>778</td>\n      <td>778</td>\n      <td>778</td>\n      <td>778</td>\n      <td>778</td>\n      <td>778</td>\n      <td>778</td>\n    </tr>\n    <tr>\n      <th>14</th>\n      <td>817</td>\n      <td>817</td>\n      <td>817</td>\n      <td>817</td>\n      <td>817</td>\n      <td>817</td>\n      <td>817</td>\n      <td>817</td>\n      <td>817</td>\n      <td>817</td>\n      <td>817</td>\n      <td>817</td>\n      <td>817</td>\n      <td>817</td>\n    </tr>\n    <tr>\n      <th>15</th>\n      <td>640</td>\n      <td>640</td>\n      <td>640</td>\n      <td>640</td>\n      <td>640</td>\n      <td>640</td>\n      <td>640</td>\n      <td>640</td>\n      <td>640</td>\n      <td>640</td>\n      <td>640</td>\n      <td>640</td>\n      <td>640</td>\n      <td>640</td>\n    </tr>\n    <tr>\n      <th>16</th>\n      <td>758</td>\n      <td>758</td>\n      <td>758</td>\n      <td>758</td>\n      <td>758</td>\n      <td>758</td>\n      <td>758</td>\n      <td>758</td>\n      <td>758</td>\n      <td>758</td>\n      <td>758</td>\n      <td>758</td>\n      <td>758</td>\n      <td>758</td>\n    </tr>\n    <tr>\n      <th>17</th>\n      <td>680</td>\n      <td>680</td>\n      <td>680</td>\n      <td>680</td>\n      <td>680</td>\n      <td>680</td>\n      <td>680</td>\n      <td>680</td>\n      <td>680</td>\n      <td>680</td>\n      <td>680</td>\n      <td>680</td>\n      <td>680</td>\n      <td>680</td>\n    </tr>\n    <tr>\n      <th>18</th>\n      <td>682</td>\n      <td>682</td>\n      <td>682</td>\n      <td>682</td>\n      <td>682</td>\n      <td>682</td>\n      <td>682</td>\n      <td>682</td>\n      <td>682</td>\n      <td>682</td>\n      <td>682</td>\n      <td>682</td>\n      <td>682</td>\n      <td>682</td>\n    </tr>\n    <tr>\n      <th>19</th>\n      <td>668</td>\n      <td>668</td>\n      <td>668</td>\n      <td>668</td>\n      <td>668</td>\n      <td>668</td>\n      <td>668</td>\n      <td>668</td>\n      <td>668</td>\n      <td>668</td>\n      <td>668</td>\n      <td>668</td>\n      <td>668</td>\n      <td>668</td>\n    </tr>\n    <tr>\n      <th>20</th>\n      <td>994</td>\n      <td>994</td>\n      <td>994</td>\n      <td>994</td>\n      <td>994</td>\n      <td>994</td>\n      <td>994</td>\n      <td>994</td>\n      <td>994</td>\n      <td>994</td>\n      <td>994</td>\n      <td>994</td>\n      <td>994</td>\n      <td>994</td>\n    </tr>\n    <tr>\n      <th>21</th>\n      <td>820</td>\n      <td>820</td>\n      <td>820</td>\n      <td>820</td>\n      <td>820</td>\n      <td>820</td>\n      <td>820</td>\n      <td>820</td>\n      <td>820</td>\n      <td>820</td>\n      <td>820</td>\n      <td>820</td>\n      <td>820</td>\n      <td>820</td>\n    </tr>\n    <tr>\n      <th>22</th>\n      <td>1034</td>\n      <td>1034</td>\n      <td>1034</td>\n      <td>1034</td>\n      <td>1034</td>\n      <td>1034</td>\n      <td>1034</td>\n      <td>1034</td>\n      <td>1034</td>\n      <td>1034</td>\n      <td>1034</td>\n      <td>1034</td>\n      <td>1034</td>\n      <td>1034</td>\n    </tr>\n    <tr>\n      <th>23</th>\n      <td>1124</td>\n      <td>1124</td>\n      <td>1124</td>\n      <td>1124</td>\n      <td>1124</td>\n      <td>1124</td>\n      <td>1124</td>\n      <td>1124</td>\n      <td>1124</td>\n      <td>1124</td>\n      <td>1124</td>\n      <td>1124</td>\n      <td>1124</td>\n      <td>1124</td>\n    </tr>\n  </tbody>\n</table>\n</div>"
     },
     "metadata": {},
     "execution_count": 19
    }
   ],
   "source": [
    "df_final['下单时间'] = pd.to_datetime(df_final['下单时间'],format=\"%Y/%m/%d %H:%M:%S\")\n",
    "\n",
    "# i = pd.date_range('2019-02-10', periods=12, freq='H')\n",
    "# _final['下单时间'] = pd.to_datetime(df_final['下单时间'],format=\"%Y/%m/%d %H:%M:%S\")\n",
    "\n",
    "# i = df_final['下单时间'] \n",
    "# i.resample('H').sum()\n",
    "\n",
    "\n",
    "# i = pd.date_range('2019-02-10', periods=12, freq='H')\n",
    "# _final['下单时间'] = pd.to_datetime(df_final['下单时间'],format=\"%Y/%m/%d %H:%M:%S\")\n",
    "\n",
    "# i = df_final['下单时间'] \n",
    "# i.resample('H').sum()\n",
    "df['下单时间（时）'] = df['下单时间'].dt.strftime('%H')\n",
    "df_new = df.groupby('下单时间（时）').count()\n",
    "df_new"
   ]
  },
  {
   "cell_type": "code",
   "execution_count": 20,
   "metadata": {},
   "outputs": [
    {
     "output_type": "display_data",
     "data": {
      "text/plain": "<Figure size 432x288 with 1 Axes>",
      "image/svg+xml": "<?xml version=\"1.0\" encoding=\"utf-8\" standalone=\"no\"?>\n<!DOCTYPE svg PUBLIC \"-//W3C//DTD SVG 1.1//EN\"\n  \"http://www.w3.org/Graphics/SVG/1.1/DTD/svg11.dtd\">\n<svg height=\"248.518125pt\" version=\"1.1\" viewBox=\"0 0 381.65 248.518125\" width=\"381.65pt\" xmlns=\"http://www.w3.org/2000/svg\" xmlns:xlink=\"http://www.w3.org/1999/xlink\">\n <metadata>\n  <rdf:RDF xmlns:cc=\"http://creativecommons.org/ns#\" xmlns:dc=\"http://purl.org/dc/elements/1.1/\" xmlns:rdf=\"http://www.w3.org/1999/02/22-rdf-syntax-ns#\">\n   <cc:Work>\n    <dc:type rdf:resource=\"http://purl.org/dc/dcmitype/StillImage\"/>\n    <dc:date>2021-07-21T10:25:50.112958</dc:date>\n    <dc:format>image/svg+xml</dc:format>\n    <dc:creator>\n     <cc:Agent>\n      <dc:title>Matplotlib v3.4.2, https://matplotlib.org/</dc:title>\n     </cc:Agent>\n    </dc:creator>\n   </cc:Work>\n  </rdf:RDF>\n </metadata>\n <defs>\n  <style type=\"text/css\">*{stroke-linecap:butt;stroke-linejoin:round;}</style>\n </defs>\n <g id=\"figure_1\">\n  <g id=\"patch_1\">\n   <path d=\"M -0 248.518125 \nL 381.65 248.518125 \nL 381.65 0 \nL -0 0 \nz\n\" style=\"fill:none;\"/>\n  </g>\n  <g id=\"axes_1\">\n   <g id=\"patch_2\">\n    <path d=\"M 39.65 224.64 \nL 374.45 224.64 \nL 374.45 7.2 \nL 39.65 7.2 \nz\n\" style=\"fill:#ffffff;\"/>\n   </g>\n   <g id=\"matplotlib.axis_1\">\n    <g id=\"xtick_1\">\n     <g id=\"line2d_1\">\n      <defs>\n       <path d=\"M 0 0 \nL 0 3.5 \n\" id=\"mcc0660726c\" style=\"stroke:#000000;stroke-width:0.8;\"/>\n      </defs>\n      <g>\n       <use style=\"stroke:#000000;stroke-width:0.8;\" x=\"54.868182\" xlink:href=\"#mcc0660726c\" y=\"224.64\"/>\n      </g>\n     </g>\n     <g id=\"text_1\">\n      <!-- 00 -->\n      <g transform=\"translate(48.505682 239.238437)scale(0.1 -0.1)\">\n       <defs>\n        <path d=\"M 2034 4250 \nQ 1547 4250 1301 3770 \nQ 1056 3291 1056 2328 \nQ 1056 1369 1301 889 \nQ 1547 409 2034 409 \nQ 2525 409 2770 889 \nQ 3016 1369 3016 2328 \nQ 3016 3291 2770 3770 \nQ 2525 4250 2034 4250 \nz\nM 2034 4750 \nQ 2819 4750 3233 4129 \nQ 3647 3509 3647 2328 \nQ 3647 1150 3233 529 \nQ 2819 -91 2034 -91 \nQ 1250 -91 836 529 \nQ 422 1150 422 2328 \nQ 422 3509 836 4129 \nQ 1250 4750 2034 4750 \nz\n\" id=\"DejaVuSans-30\" transform=\"scale(0.015625)\"/>\n       </defs>\n       <use xlink:href=\"#DejaVuSans-30\"/>\n       <use x=\"63.623047\" xlink:href=\"#DejaVuSans-30\"/>\n      </g>\n     </g>\n    </g>\n    <g id=\"xtick_2\">\n     <g id=\"line2d_2\">\n      <g>\n       <use style=\"stroke:#000000;stroke-width:0.8;\" x=\"68.101383\" xlink:href=\"#mcc0660726c\" y=\"224.64\"/>\n      </g>\n     </g>\n     <g id=\"text_2\">\n      <!-- 01 -->\n      <g transform=\"translate(61.738883 239.238437)scale(0.1 -0.1)\">\n       <defs>\n        <path d=\"M 794 531 \nL 1825 531 \nL 1825 4091 \nL 703 3866 \nL 703 4441 \nL 1819 4666 \nL 2450 4666 \nL 2450 531 \nL 3481 531 \nL 3481 0 \nL 794 0 \nL 794 531 \nz\n\" id=\"DejaVuSans-31\" transform=\"scale(0.015625)\"/>\n       </defs>\n       <use xlink:href=\"#DejaVuSans-30\"/>\n       <use x=\"63.623047\" xlink:href=\"#DejaVuSans-31\"/>\n      </g>\n     </g>\n    </g>\n    <g id=\"xtick_3\">\n     <g id=\"line2d_3\">\n      <g>\n       <use style=\"stroke:#000000;stroke-width:0.8;\" x=\"81.334585\" xlink:href=\"#mcc0660726c\" y=\"224.64\"/>\n      </g>\n     </g>\n     <g id=\"text_3\">\n      <!-- 02 -->\n      <g transform=\"translate(74.972085 239.238437)scale(0.1 -0.1)\">\n       <defs>\n        <path d=\"M 1228 531 \nL 3431 531 \nL 3431 0 \nL 469 0 \nL 469 531 \nQ 828 903 1448 1529 \nQ 2069 2156 2228 2338 \nQ 2531 2678 2651 2914 \nQ 2772 3150 2772 3378 \nQ 2772 3750 2511 3984 \nQ 2250 4219 1831 4219 \nQ 1534 4219 1204 4116 \nQ 875 4013 500 3803 \nL 500 4441 \nQ 881 4594 1212 4672 \nQ 1544 4750 1819 4750 \nQ 2544 4750 2975 4387 \nQ 3406 4025 3406 3419 \nQ 3406 3131 3298 2873 \nQ 3191 2616 2906 2266 \nQ 2828 2175 2409 1742 \nQ 1991 1309 1228 531 \nz\n\" id=\"DejaVuSans-32\" transform=\"scale(0.015625)\"/>\n       </defs>\n       <use xlink:href=\"#DejaVuSans-30\"/>\n       <use x=\"63.623047\" xlink:href=\"#DejaVuSans-32\"/>\n      </g>\n     </g>\n    </g>\n    <g id=\"xtick_4\">\n     <g id=\"line2d_4\">\n      <g>\n       <use style=\"stroke:#000000;stroke-width:0.8;\" x=\"94.567787\" xlink:href=\"#mcc0660726c\" y=\"224.64\"/>\n      </g>\n     </g>\n     <g id=\"text_4\">\n      <!-- 03 -->\n      <g transform=\"translate(88.205287 239.238437)scale(0.1 -0.1)\">\n       <defs>\n        <path d=\"M 2597 2516 \nQ 3050 2419 3304 2112 \nQ 3559 1806 3559 1356 \nQ 3559 666 3084 287 \nQ 2609 -91 1734 -91 \nQ 1441 -91 1130 -33 \nQ 819 25 488 141 \nL 488 750 \nQ 750 597 1062 519 \nQ 1375 441 1716 441 \nQ 2309 441 2620 675 \nQ 2931 909 2931 1356 \nQ 2931 1769 2642 2001 \nQ 2353 2234 1838 2234 \nL 1294 2234 \nL 1294 2753 \nL 1863 2753 \nQ 2328 2753 2575 2939 \nQ 2822 3125 2822 3475 \nQ 2822 3834 2567 4026 \nQ 2313 4219 1838 4219 \nQ 1578 4219 1281 4162 \nQ 984 4106 628 3988 \nL 628 4550 \nQ 988 4650 1302 4700 \nQ 1616 4750 1894 4750 \nQ 2613 4750 3031 4423 \nQ 3450 4097 3450 3541 \nQ 3450 3153 3228 2886 \nQ 3006 2619 2597 2516 \nz\n\" id=\"DejaVuSans-33\" transform=\"scale(0.015625)\"/>\n       </defs>\n       <use xlink:href=\"#DejaVuSans-30\"/>\n       <use x=\"63.623047\" xlink:href=\"#DejaVuSans-33\"/>\n      </g>\n     </g>\n    </g>\n    <g id=\"xtick_5\">\n     <g id=\"line2d_5\">\n      <g>\n       <use style=\"stroke:#000000;stroke-width:0.8;\" x=\"107.800988\" xlink:href=\"#mcc0660726c\" y=\"224.64\"/>\n      </g>\n     </g>\n     <g id=\"text_5\">\n      <!-- 04 -->\n      <g transform=\"translate(101.438488 239.238437)scale(0.1 -0.1)\">\n       <defs>\n        <path d=\"M 2419 4116 \nL 825 1625 \nL 2419 1625 \nL 2419 4116 \nz\nM 2253 4666 \nL 3047 4666 \nL 3047 1625 \nL 3713 1625 \nL 3713 1100 \nL 3047 1100 \nL 3047 0 \nL 2419 0 \nL 2419 1100 \nL 313 1100 \nL 313 1709 \nL 2253 4666 \nz\n\" id=\"DejaVuSans-34\" transform=\"scale(0.015625)\"/>\n       </defs>\n       <use xlink:href=\"#DejaVuSans-30\"/>\n       <use x=\"63.623047\" xlink:href=\"#DejaVuSans-34\"/>\n      </g>\n     </g>\n    </g>\n    <g id=\"xtick_6\">\n     <g id=\"line2d_6\">\n      <g>\n       <use style=\"stroke:#000000;stroke-width:0.8;\" x=\"121.03419\" xlink:href=\"#mcc0660726c\" y=\"224.64\"/>\n      </g>\n     </g>\n     <g id=\"text_6\">\n      <!-- 05 -->\n      <g transform=\"translate(114.67169 239.238437)scale(0.1 -0.1)\">\n       <defs>\n        <path d=\"M 691 4666 \nL 3169 4666 \nL 3169 4134 \nL 1269 4134 \nL 1269 2991 \nQ 1406 3038 1543 3061 \nQ 1681 3084 1819 3084 \nQ 2600 3084 3056 2656 \nQ 3513 2228 3513 1497 \nQ 3513 744 3044 326 \nQ 2575 -91 1722 -91 \nQ 1428 -91 1123 -41 \nQ 819 9 494 109 \nL 494 744 \nQ 775 591 1075 516 \nQ 1375 441 1709 441 \nQ 2250 441 2565 725 \nQ 2881 1009 2881 1497 \nQ 2881 1984 2565 2268 \nQ 2250 2553 1709 2553 \nQ 1456 2553 1204 2497 \nQ 953 2441 691 2322 \nL 691 4666 \nz\n\" id=\"DejaVuSans-35\" transform=\"scale(0.015625)\"/>\n       </defs>\n       <use xlink:href=\"#DejaVuSans-30\"/>\n       <use x=\"63.623047\" xlink:href=\"#DejaVuSans-35\"/>\n      </g>\n     </g>\n    </g>\n    <g id=\"xtick_7\">\n     <g id=\"line2d_7\">\n      <g>\n       <use style=\"stroke:#000000;stroke-width:0.8;\" x=\"134.267391\" xlink:href=\"#mcc0660726c\" y=\"224.64\"/>\n      </g>\n     </g>\n     <g id=\"text_7\">\n      <!-- 06 -->\n      <g transform=\"translate(127.904891 239.238437)scale(0.1 -0.1)\">\n       <defs>\n        <path d=\"M 2113 2584 \nQ 1688 2584 1439 2293 \nQ 1191 2003 1191 1497 \nQ 1191 994 1439 701 \nQ 1688 409 2113 409 \nQ 2538 409 2786 701 \nQ 3034 994 3034 1497 \nQ 3034 2003 2786 2293 \nQ 2538 2584 2113 2584 \nz\nM 3366 4563 \nL 3366 3988 \nQ 3128 4100 2886 4159 \nQ 2644 4219 2406 4219 \nQ 1781 4219 1451 3797 \nQ 1122 3375 1075 2522 \nQ 1259 2794 1537 2939 \nQ 1816 3084 2150 3084 \nQ 2853 3084 3261 2657 \nQ 3669 2231 3669 1497 \nQ 3669 778 3244 343 \nQ 2819 -91 2113 -91 \nQ 1303 -91 875 529 \nQ 447 1150 447 2328 \nQ 447 3434 972 4092 \nQ 1497 4750 2381 4750 \nQ 2619 4750 2861 4703 \nQ 3103 4656 3366 4563 \nz\n\" id=\"DejaVuSans-36\" transform=\"scale(0.015625)\"/>\n       </defs>\n       <use xlink:href=\"#DejaVuSans-30\"/>\n       <use x=\"63.623047\" xlink:href=\"#DejaVuSans-36\"/>\n      </g>\n     </g>\n    </g>\n    <g id=\"xtick_8\">\n     <g id=\"line2d_8\">\n      <g>\n       <use style=\"stroke:#000000;stroke-width:0.8;\" x=\"147.500593\" xlink:href=\"#mcc0660726c\" y=\"224.64\"/>\n      </g>\n     </g>\n     <g id=\"text_8\">\n      <!-- 07 -->\n      <g transform=\"translate(141.138093 239.238437)scale(0.1 -0.1)\">\n       <defs>\n        <path d=\"M 525 4666 \nL 3525 4666 \nL 3525 4397 \nL 1831 0 \nL 1172 0 \nL 2766 4134 \nL 525 4134 \nL 525 4666 \nz\n\" id=\"DejaVuSans-37\" transform=\"scale(0.015625)\"/>\n       </defs>\n       <use xlink:href=\"#DejaVuSans-30\"/>\n       <use x=\"63.623047\" xlink:href=\"#DejaVuSans-37\"/>\n      </g>\n     </g>\n    </g>\n    <g id=\"xtick_9\">\n     <g id=\"line2d_9\">\n      <g>\n       <use style=\"stroke:#000000;stroke-width:0.8;\" x=\"160.733794\" xlink:href=\"#mcc0660726c\" y=\"224.64\"/>\n      </g>\n     </g>\n     <g id=\"text_9\">\n      <!-- 08 -->\n      <g transform=\"translate(154.371294 239.238437)scale(0.1 -0.1)\">\n       <defs>\n        <path d=\"M 2034 2216 \nQ 1584 2216 1326 1975 \nQ 1069 1734 1069 1313 \nQ 1069 891 1326 650 \nQ 1584 409 2034 409 \nQ 2484 409 2743 651 \nQ 3003 894 3003 1313 \nQ 3003 1734 2745 1975 \nQ 2488 2216 2034 2216 \nz\nM 1403 2484 \nQ 997 2584 770 2862 \nQ 544 3141 544 3541 \nQ 544 4100 942 4425 \nQ 1341 4750 2034 4750 \nQ 2731 4750 3128 4425 \nQ 3525 4100 3525 3541 \nQ 3525 3141 3298 2862 \nQ 3072 2584 2669 2484 \nQ 3125 2378 3379 2068 \nQ 3634 1759 3634 1313 \nQ 3634 634 3220 271 \nQ 2806 -91 2034 -91 \nQ 1263 -91 848 271 \nQ 434 634 434 1313 \nQ 434 1759 690 2068 \nQ 947 2378 1403 2484 \nz\nM 1172 3481 \nQ 1172 3119 1398 2916 \nQ 1625 2713 2034 2713 \nQ 2441 2713 2670 2916 \nQ 2900 3119 2900 3481 \nQ 2900 3844 2670 4047 \nQ 2441 4250 2034 4250 \nQ 1625 4250 1398 4047 \nQ 1172 3844 1172 3481 \nz\n\" id=\"DejaVuSans-38\" transform=\"scale(0.015625)\"/>\n       </defs>\n       <use xlink:href=\"#DejaVuSans-30\"/>\n       <use x=\"63.623047\" xlink:href=\"#DejaVuSans-38\"/>\n      </g>\n     </g>\n    </g>\n    <g id=\"xtick_10\">\n     <g id=\"line2d_10\">\n      <g>\n       <use style=\"stroke:#000000;stroke-width:0.8;\" x=\"173.966996\" xlink:href=\"#mcc0660726c\" y=\"224.64\"/>\n      </g>\n     </g>\n     <g id=\"text_10\">\n      <!-- 09 -->\n      <g transform=\"translate(167.604496 239.238437)scale(0.1 -0.1)\">\n       <defs>\n        <path d=\"M 703 97 \nL 703 672 \nQ 941 559 1184 500 \nQ 1428 441 1663 441 \nQ 2288 441 2617 861 \nQ 2947 1281 2994 2138 \nQ 2813 1869 2534 1725 \nQ 2256 1581 1919 1581 \nQ 1219 1581 811 2004 \nQ 403 2428 403 3163 \nQ 403 3881 828 4315 \nQ 1253 4750 1959 4750 \nQ 2769 4750 3195 4129 \nQ 3622 3509 3622 2328 \nQ 3622 1225 3098 567 \nQ 2575 -91 1691 -91 \nQ 1453 -91 1209 -44 \nQ 966 3 703 97 \nz\nM 1959 2075 \nQ 2384 2075 2632 2365 \nQ 2881 2656 2881 3163 \nQ 2881 3666 2632 3958 \nQ 2384 4250 1959 4250 \nQ 1534 4250 1286 3958 \nQ 1038 3666 1038 3163 \nQ 1038 2656 1286 2365 \nQ 1534 2075 1959 2075 \nz\n\" id=\"DejaVuSans-39\" transform=\"scale(0.015625)\"/>\n       </defs>\n       <use xlink:href=\"#DejaVuSans-30\"/>\n       <use x=\"63.623047\" xlink:href=\"#DejaVuSans-39\"/>\n      </g>\n     </g>\n    </g>\n    <g id=\"xtick_11\">\n     <g id=\"line2d_11\">\n      <g>\n       <use style=\"stroke:#000000;stroke-width:0.8;\" x=\"187.200198\" xlink:href=\"#mcc0660726c\" y=\"224.64\"/>\n      </g>\n     </g>\n     <g id=\"text_11\">\n      <!-- 10 -->\n      <g transform=\"translate(180.837698 239.238437)scale(0.1 -0.1)\">\n       <use xlink:href=\"#DejaVuSans-31\"/>\n       <use x=\"63.623047\" xlink:href=\"#DejaVuSans-30\"/>\n      </g>\n     </g>\n    </g>\n    <g id=\"xtick_12\">\n     <g id=\"line2d_12\">\n      <g>\n       <use style=\"stroke:#000000;stroke-width:0.8;\" x=\"200.433399\" xlink:href=\"#mcc0660726c\" y=\"224.64\"/>\n      </g>\n     </g>\n     <g id=\"text_12\">\n      <!-- 11 -->\n      <g transform=\"translate(194.070899 239.238437)scale(0.1 -0.1)\">\n       <use xlink:href=\"#DejaVuSans-31\"/>\n       <use x=\"63.623047\" xlink:href=\"#DejaVuSans-31\"/>\n      </g>\n     </g>\n    </g>\n    <g id=\"xtick_13\">\n     <g id=\"line2d_13\">\n      <g>\n       <use style=\"stroke:#000000;stroke-width:0.8;\" x=\"213.666601\" xlink:href=\"#mcc0660726c\" y=\"224.64\"/>\n      </g>\n     </g>\n     <g id=\"text_13\">\n      <!-- 12 -->\n      <g transform=\"translate(207.304101 239.238437)scale(0.1 -0.1)\">\n       <use xlink:href=\"#DejaVuSans-31\"/>\n       <use x=\"63.623047\" xlink:href=\"#DejaVuSans-32\"/>\n      </g>\n     </g>\n    </g>\n    <g id=\"xtick_14\">\n     <g id=\"line2d_14\">\n      <g>\n       <use style=\"stroke:#000000;stroke-width:0.8;\" x=\"226.899802\" xlink:href=\"#mcc0660726c\" y=\"224.64\"/>\n      </g>\n     </g>\n     <g id=\"text_14\">\n      <!-- 13 -->\n      <g transform=\"translate(220.537302 239.238437)scale(0.1 -0.1)\">\n       <use xlink:href=\"#DejaVuSans-31\"/>\n       <use x=\"63.623047\" xlink:href=\"#DejaVuSans-33\"/>\n      </g>\n     </g>\n    </g>\n    <g id=\"xtick_15\">\n     <g id=\"line2d_15\">\n      <g>\n       <use style=\"stroke:#000000;stroke-width:0.8;\" x=\"240.133004\" xlink:href=\"#mcc0660726c\" y=\"224.64\"/>\n      </g>\n     </g>\n     <g id=\"text_15\">\n      <!-- 14 -->\n      <g transform=\"translate(233.770504 239.238437)scale(0.1 -0.1)\">\n       <use xlink:href=\"#DejaVuSans-31\"/>\n       <use x=\"63.623047\" xlink:href=\"#DejaVuSans-34\"/>\n      </g>\n     </g>\n    </g>\n    <g id=\"xtick_16\">\n     <g id=\"line2d_16\">\n      <g>\n       <use style=\"stroke:#000000;stroke-width:0.8;\" x=\"253.366206\" xlink:href=\"#mcc0660726c\" y=\"224.64\"/>\n      </g>\n     </g>\n     <g id=\"text_16\">\n      <!-- 15 -->\n      <g transform=\"translate(247.003706 239.238437)scale(0.1 -0.1)\">\n       <use xlink:href=\"#DejaVuSans-31\"/>\n       <use x=\"63.623047\" xlink:href=\"#DejaVuSans-35\"/>\n      </g>\n     </g>\n    </g>\n    <g id=\"xtick_17\">\n     <g id=\"line2d_17\">\n      <g>\n       <use style=\"stroke:#000000;stroke-width:0.8;\" x=\"266.599407\" xlink:href=\"#mcc0660726c\" y=\"224.64\"/>\n      </g>\n     </g>\n     <g id=\"text_17\">\n      <!-- 16 -->\n      <g transform=\"translate(260.236907 239.238437)scale(0.1 -0.1)\">\n       <use xlink:href=\"#DejaVuSans-31\"/>\n       <use x=\"63.623047\" xlink:href=\"#DejaVuSans-36\"/>\n      </g>\n     </g>\n    </g>\n    <g id=\"xtick_18\">\n     <g id=\"line2d_18\">\n      <g>\n       <use style=\"stroke:#000000;stroke-width:0.8;\" x=\"279.832609\" xlink:href=\"#mcc0660726c\" y=\"224.64\"/>\n      </g>\n     </g>\n     <g id=\"text_18\">\n      <!-- 17 -->\n      <g transform=\"translate(273.470109 239.238437)scale(0.1 -0.1)\">\n       <use xlink:href=\"#DejaVuSans-31\"/>\n       <use x=\"63.623047\" xlink:href=\"#DejaVuSans-37\"/>\n      </g>\n     </g>\n    </g>\n    <g id=\"xtick_19\">\n     <g id=\"line2d_19\">\n      <g>\n       <use style=\"stroke:#000000;stroke-width:0.8;\" x=\"293.06581\" xlink:href=\"#mcc0660726c\" y=\"224.64\"/>\n      </g>\n     </g>\n     <g id=\"text_19\">\n      <!-- 18 -->\n      <g transform=\"translate(286.70331 239.238437)scale(0.1 -0.1)\">\n       <use xlink:href=\"#DejaVuSans-31\"/>\n       <use x=\"63.623047\" xlink:href=\"#DejaVuSans-38\"/>\n      </g>\n     </g>\n    </g>\n    <g id=\"xtick_20\">\n     <g id=\"line2d_20\">\n      <g>\n       <use style=\"stroke:#000000;stroke-width:0.8;\" x=\"306.299012\" xlink:href=\"#mcc0660726c\" y=\"224.64\"/>\n      </g>\n     </g>\n     <g id=\"text_20\">\n      <!-- 19 -->\n      <g transform=\"translate(299.936512 239.238437)scale(0.1 -0.1)\">\n       <use xlink:href=\"#DejaVuSans-31\"/>\n       <use x=\"63.623047\" xlink:href=\"#DejaVuSans-39\"/>\n      </g>\n     </g>\n    </g>\n    <g id=\"xtick_21\">\n     <g id=\"line2d_21\">\n      <g>\n       <use style=\"stroke:#000000;stroke-width:0.8;\" x=\"319.532213\" xlink:href=\"#mcc0660726c\" y=\"224.64\"/>\n      </g>\n     </g>\n     <g id=\"text_21\">\n      <!-- 20 -->\n      <g transform=\"translate(313.169713 239.238437)scale(0.1 -0.1)\">\n       <use xlink:href=\"#DejaVuSans-32\"/>\n       <use x=\"63.623047\" xlink:href=\"#DejaVuSans-30\"/>\n      </g>\n     </g>\n    </g>\n    <g id=\"xtick_22\">\n     <g id=\"line2d_22\">\n      <g>\n       <use style=\"stroke:#000000;stroke-width:0.8;\" x=\"332.765415\" xlink:href=\"#mcc0660726c\" y=\"224.64\"/>\n      </g>\n     </g>\n     <g id=\"text_22\">\n      <!-- 21 -->\n      <g transform=\"translate(326.402915 239.238437)scale(0.1 -0.1)\">\n       <use xlink:href=\"#DejaVuSans-32\"/>\n       <use x=\"63.623047\" xlink:href=\"#DejaVuSans-31\"/>\n      </g>\n     </g>\n    </g>\n    <g id=\"xtick_23\">\n     <g id=\"line2d_23\">\n      <g>\n       <use style=\"stroke:#000000;stroke-width:0.8;\" x=\"345.998617\" xlink:href=\"#mcc0660726c\" y=\"224.64\"/>\n      </g>\n     </g>\n     <g id=\"text_23\">\n      <!-- 22 -->\n      <g transform=\"translate(339.636117 239.238437)scale(0.1 -0.1)\">\n       <use xlink:href=\"#DejaVuSans-32\"/>\n       <use x=\"63.623047\" xlink:href=\"#DejaVuSans-32\"/>\n      </g>\n     </g>\n    </g>\n    <g id=\"xtick_24\">\n     <g id=\"line2d_24\">\n      <g>\n       <use style=\"stroke:#000000;stroke-width:0.8;\" x=\"359.231818\" xlink:href=\"#mcc0660726c\" y=\"224.64\"/>\n      </g>\n     </g>\n     <g id=\"text_24\">\n      <!-- 23 -->\n      <g transform=\"translate(352.869318 239.238437)scale(0.1 -0.1)\">\n       <use xlink:href=\"#DejaVuSans-32\"/>\n       <use x=\"63.623047\" xlink:href=\"#DejaVuSans-33\"/>\n      </g>\n     </g>\n    </g>\n   </g>\n   <g id=\"matplotlib.axis_2\">\n    <g id=\"ytick_1\">\n     <g id=\"line2d_25\">\n      <defs>\n       <path d=\"M 0 0 \nL -3.5 0 \n\" id=\"m843fef48e7\" style=\"stroke:#000000;stroke-width:0.8;\"/>\n      </defs>\n      <g>\n       <use style=\"stroke:#000000;stroke-width:0.8;\" x=\"39.65\" xlink:href=\"#m843fef48e7\" y=\"222.239819\"/>\n      </g>\n     </g>\n     <g id=\"text_25\">\n      <!-- 0 -->\n      <g transform=\"translate(26.2875 226.039037)scale(0.1 -0.1)\">\n       <use xlink:href=\"#DejaVuSans-30\"/>\n      </g>\n     </g>\n    </g>\n    <g id=\"ytick_2\">\n     <g id=\"line2d_26\">\n      <g>\n       <use style=\"stroke:#000000;stroke-width:0.8;\" x=\"39.65\" xlink:href=\"#m843fef48e7\" y=\"185.73516\"/>\n      </g>\n     </g>\n     <g id=\"text_26\">\n      <!-- 200 -->\n      <g transform=\"translate(13.5625 189.534379)scale(0.1 -0.1)\">\n       <use xlink:href=\"#DejaVuSans-32\"/>\n       <use x=\"63.623047\" xlink:href=\"#DejaVuSans-30\"/>\n       <use x=\"127.246094\" xlink:href=\"#DejaVuSans-30\"/>\n      </g>\n     </g>\n    </g>\n    <g id=\"ytick_3\">\n     <g id=\"line2d_27\">\n      <g>\n       <use style=\"stroke:#000000;stroke-width:0.8;\" x=\"39.65\" xlink:href=\"#m843fef48e7\" y=\"149.230501\"/>\n      </g>\n     </g>\n     <g id=\"text_27\">\n      <!-- 400 -->\n      <g transform=\"translate(13.5625 153.02972)scale(0.1 -0.1)\">\n       <use xlink:href=\"#DejaVuSans-34\"/>\n       <use x=\"63.623047\" xlink:href=\"#DejaVuSans-30\"/>\n       <use x=\"127.246094\" xlink:href=\"#DejaVuSans-30\"/>\n      </g>\n     </g>\n    </g>\n    <g id=\"ytick_4\">\n     <g id=\"line2d_28\">\n      <g>\n       <use style=\"stroke:#000000;stroke-width:0.8;\" x=\"39.65\" xlink:href=\"#m843fef48e7\" y=\"112.725842\"/>\n      </g>\n     </g>\n     <g id=\"text_28\">\n      <!-- 600 -->\n      <g transform=\"translate(13.5625 116.525061)scale(0.1 -0.1)\">\n       <use xlink:href=\"#DejaVuSans-36\"/>\n       <use x=\"63.623047\" xlink:href=\"#DejaVuSans-30\"/>\n       <use x=\"127.246094\" xlink:href=\"#DejaVuSans-30\"/>\n      </g>\n     </g>\n    </g>\n    <g id=\"ytick_5\">\n     <g id=\"line2d_29\">\n      <g>\n       <use style=\"stroke:#000000;stroke-width:0.8;\" x=\"39.65\" xlink:href=\"#m843fef48e7\" y=\"76.221184\"/>\n      </g>\n     </g>\n     <g id=\"text_29\">\n      <!-- 800 -->\n      <g transform=\"translate(13.5625 80.020402)scale(0.1 -0.1)\">\n       <use xlink:href=\"#DejaVuSans-38\"/>\n       <use x=\"63.623047\" xlink:href=\"#DejaVuSans-30\"/>\n       <use x=\"127.246094\" xlink:href=\"#DejaVuSans-30\"/>\n      </g>\n     </g>\n    </g>\n    <g id=\"ytick_6\">\n     <g id=\"line2d_30\">\n      <g>\n       <use style=\"stroke:#000000;stroke-width:0.8;\" x=\"39.65\" xlink:href=\"#m843fef48e7\" y=\"39.716525\"/>\n      </g>\n     </g>\n     <g id=\"text_30\">\n      <!-- 1000 -->\n      <g transform=\"translate(7.2 43.515744)scale(0.1 -0.1)\">\n       <use xlink:href=\"#DejaVuSans-31\"/>\n       <use x=\"63.623047\" xlink:href=\"#DejaVuSans-30\"/>\n       <use x=\"127.246094\" xlink:href=\"#DejaVuSans-30\"/>\n       <use x=\"190.869141\" xlink:href=\"#DejaVuSans-30\"/>\n      </g>\n     </g>\n    </g>\n   </g>\n   <g id=\"line2d_31\">\n    <path clip-path=\"url(#p7e5a809e39)\" d=\"M 54.868182 138.64415 \nL 68.101383 169.67311 \nL 81.334585 184.457497 \nL 94.567787 203.074873 \nL 107.800988 209.463188 \nL 121.03419 214.756364 \nL 134.267391 212.018514 \nL 147.500593 206.360292 \nL 160.733794 194.678801 \nL 173.966996 172.593483 \nL 187.200198 135.541254 \nL 200.433399 118.566588 \nL 213.666601 65.817356 \nL 226.899802 80.236696 \nL 240.133004 73.118288 \nL 253.366206 105.424911 \nL 266.599407 83.887162 \nL 279.832609 98.123979 \nL 293.06581 97.758932 \nL 306.299012 100.314258 \nL 319.532213 40.811665 \nL 332.765415 72.570718 \nL 345.998617 33.510733 \nL 359.231818 17.083636 \n\" style=\"fill:none;stroke:#1f77b4;stroke-linecap:square;stroke-width:1.5;\"/>\n   </g>\n   <g id=\"patch_3\">\n    <path d=\"M 39.65 224.64 \nL 39.65 7.2 \n\" style=\"fill:none;stroke:#000000;stroke-linecap:square;stroke-linejoin:miter;stroke-width:0.8;\"/>\n   </g>\n   <g id=\"patch_4\">\n    <path d=\"M 374.45 224.64 \nL 374.45 7.2 \n\" style=\"fill:none;stroke:#000000;stroke-linecap:square;stroke-linejoin:miter;stroke-width:0.8;\"/>\n   </g>\n   <g id=\"patch_5\">\n    <path d=\"M 39.65 224.64 \nL 374.45 224.64 \n\" style=\"fill:none;stroke:#000000;stroke-linecap:square;stroke-linejoin:miter;stroke-width:0.8;\"/>\n   </g>\n   <g id=\"patch_6\">\n    <path d=\"M 39.65 7.2 \nL 374.45 7.2 \n\" style=\"fill:none;stroke:#000000;stroke-linecap:square;stroke-linejoin:miter;stroke-width:0.8;\"/>\n   </g>\n  </g>\n </g>\n <defs>\n  <clipPath id=\"p7e5a809e39\">\n   <rect height=\"217.44\" width=\"334.8\" x=\"39.65\" y=\"7.2\"/>\n  </clipPath>\n </defs>\n</svg>\n",
      "image/png": "[encoded data removed]"
     },
     "metadata": {
      "needs_background": "light"
     }
    }
   ],
   "source": [
    "plt.plot(df_new.index,df_new[['订单号']])\n",
    "plt.show()\n",
    "\n"
   ]
  },
  {
   "cell_type": "code",
   "execution_count": null,
   "metadata": {},
   "outputs": [],
   "source": []
  }
 ]
}