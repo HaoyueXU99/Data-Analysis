{
 "metadata": {
  "language_info": {
   "codemirror_mode": {
    "name": "ipython",
    "version": 3
   },
   "file_extension": ".py",
   "mimetype": "text/x-python",
   "name": "python",
   "nbconvert_exporter": "python",
   "pygments_lexer": "ipython3",
   "version": "3.8.8"
  },
  "orig_nbformat": 4,
  "kernelspec": {
   "name": "python3",
   "display_name": "Python 3.8.8 64-bit ('base': conda)"
  },
  "interpreter": {
   "hash": "0a50b215142d87f83c3467aa843d55e66b293ff2981807bd882bb4e6b8ecbdc5"
  }
 },
 "nbformat": 4,
 "nbformat_minor": 2,
 "cells": [
  {
   "source": [
    "# Python科学运算1:初识Series与NumPy(练习版)\n",
    "> 请在空格单元格中填写代码\n",
    "\n",
    "## Pandas的Series数据类型\n",
    "### 导入pandas包"
   ],
   "cell_type": "markdown",
   "metadata": {}
  },
  {
   "cell_type": "code",
   "execution_count": 1,
   "metadata": {},
   "outputs": [],
   "source": []
  },
  {
   "cell_type": "code",
   "execution_count": 2,
   "metadata": {},
   "outputs": [],
   "source": [
    "# 查询 df 的类型为 Dataframe"
   ]
  },
  {
   "source": [
    "### 读取 age 列的数据"
   ],
   "cell_type": "markdown",
   "metadata": {}
  },
  {
   "cell_type": "code",
   "execution_count": null,
   "metadata": {},
   "outputs": [],
   "source": []
  },
  {
   "cell_type": "code",
   "execution_count": 3,
   "metadata": {},
   "outputs": [],
   "source": [
    "# 查询 age 列的数据类型为 Series"
   ]
  },
  {
   "source": [
    "### 声明一个Series数据类型"
   ],
   "cell_type": "markdown",
   "metadata": {}
  },
  {
   "cell_type": "code",
   "execution_count": null,
   "metadata": {},
   "outputs": [],
   "source": []
  },
  {
   "source": [
    "### 单独获取索引和值"
   ],
   "cell_type": "markdown",
   "metadata": {}
  },
  {
   "cell_type": "code",
   "execution_count": 4,
   "metadata": {},
   "outputs": [],
   "source": [
    "# value"
   ]
  },
  {
   "cell_type": "code",
   "execution_count": 5,
   "metadata": {},
   "outputs": [],
   "source": [
    "# index"
   ]
  },
  {
   "source": [
    "### 自定义索引操作"
   ],
   "cell_type": "markdown",
   "metadata": {}
  },
  {
   "cell_type": "code",
   "execution_count": null,
   "metadata": {},
   "outputs": [],
   "source": []
  },
  {
   "cell_type": "code",
   "execution_count": 6,
   "metadata": {},
   "outputs": [],
   "source": [
    "# 通过索引获取值"
   ]
  },
  {
   "source": [
    "### 声明Series索引的第二种方法"
   ],
   "cell_type": "markdown",
   "metadata": {}
  },
  {
   "cell_type": "code",
   "execution_count": 7,
   "metadata": {},
   "outputs": [],
   "source": [
    "d = {'a':10000,'b':20000,'c':30000} # 字典类型\n",
    "# 补全剩下的声明"
   ]
  },
  {
   "source": [
    "#### 结论：我们可以把一个字典类型的数据，直接变成Series类型"
   ],
   "cell_type": "markdown",
   "metadata": {}
  },
  {
   "cell_type": "code",
   "execution_count": 8,
   "metadata": {},
   "outputs": [],
   "source": [
    "# 根据自己的需求，取出字典对应的值进行Series数据类型的转换\n",
    "# 取 索引 a 和 b\n",
    "keys = ['a','c']\n",
    "# 补全剩下"
   ]
  },
  {
   "source": [
    "### 发现缺失值"
   ],
   "cell_type": "markdown",
   "metadata": {}
  },
  {
   "cell_type": "code",
   "execution_count": 9,
   "metadata": {},
   "outputs": [
    {
     "output_type": "execute_result",
     "data": {
      "text/plain": [
       "a    20000.0\n",
       "b        NaN\n",
       "c    30000.0\n",
       "dtype: float64"
      ]
     },
     "metadata": {},
     "execution_count": 9
    }
   ],
   "source": [
    "d = {'a':20000,'b':None,'c':30000}\n",
    "obj = pd.Series(d)\n",
    "obj"
   ]
  },
  {
   "cell_type": "code",
   "execution_count": 11,
   "metadata": {},
   "outputs": [
    {
     "output_type": "execute_result",
     "data": {
      "text/plain": [
       "a    False\n",
       "b     True\n",
       "c    False\n",
       "dtype: bool"
      ]
     },
     "metadata": {},
     "execution_count": 11
    }
   ],
   "source": [
    "# 使用isnull查询 \n",
    "# 第一种\n",
    "\n",
    "# 第二种\n",
    "# pd.isnull(obj)"
   ]
  },
  {
   "cell_type": "code",
   "execution_count": 12,
   "metadata": {},
   "outputs": [],
   "source": [
    "# 使用notnull"
   ]
  },
  {
   "source": [
    "## 算数运算"
   ],
   "cell_type": "markdown",
   "metadata": {}
  },
  {
   "cell_type": "code",
   "execution_count": 15,
   "metadata": {},
   "outputs": [
    {
     "output_type": "execute_result",
     "data": {
      "text/plain": [
       "a    1.3\n",
       "b    1.5\n",
       "c    2.6\n",
       "d   -3.5\n",
       "dtype: float64"
      ]
     },
     "metadata": {},
     "execution_count": 15
    }
   ],
   "source": [
    "d1 = pd.Series([1.3,1.5,2.6,-3.5],index = ['e','b','c','d'])\n",
    "d1"
   ]
  },
  {
   "cell_type": "code",
   "execution_count": 16,
   "metadata": {},
   "outputs": [
    {
     "output_type": "execute_result",
     "data": {
      "text/plain": [
       "a   -1.3\n",
       "b   -1.0\n",
       "c   -2.5\n",
       "d    3.9\n",
       "e    9.8\n",
       "dtype: float64"
      ]
     },
     "metadata": {},
     "execution_count": 16
    }
   ],
   "source": [
    "d2 = pd.Series([-1.3,-1,-2.5,3.9,9.8],index = ['a','b','c','d','e'])\n",
    "d2"
   ]
  },
  {
   "source": [
    "### 两个series的加法"
   ],
   "cell_type": "markdown",
   "metadata": {}
  },
  {
   "source": [
    "# 两个Series在进行运算的时候，不重叠的地方是空值，重叠的地方进行估算"
   ],
   "cell_type": "code",
   "metadata": {},
   "execution_count": 17,
   "outputs": []
  },
  {
   "source": [
    "## pandas读取超大文件时分块操作\n",
    "python 处理文件时，读取的是硬盘上的资源，而不需要把数据全部直接加载到内存中"
   ],
   "cell_type": "markdown",
   "metadata": {}
  },
  {
   "cell_type": "code",
   "execution_count": 18,
   "metadata": {},
   "outputs": [
    {
     "output_type": "execute_result",
     "data": {
      "text/plain": [
       "     name:ID sex  age  :LABEL\n",
       "0        谢永林   男   50  people\n",
       "1        胡跃飞   男   56  people\n",
       "2         刘勇   男   49  people\n",
       "3        朱季成   男   37  people\n",
       "4        张丕杰   男   57  people\n",
       "...      ...  ..  ...     ...\n",
       "5645     朱新宏   男   58  people\n",
       "5646      江津   女   55  people\n",
       "5647     徐文苏   男   41  people\n",
       "5648     刘志平   女   55  people\n",
       "5649     林茂德   男   62  people\n",
       "\n",
       "[5650 rows x 4 columns]"
      ],
      "text/html": "<div>\n<style scoped>\n    .dataframe tbody tr th:only-of-type {\n        vertical-align: middle;\n    }\n\n    .dataframe tbody tr th {\n        vertical-align: top;\n    }\n\n    .dataframe thead th {\n        text-align: right;\n    }\n</style>\n<table border=\"1\" class=\"dataframe\">\n  <thead>\n    <tr style=\"text-align: right;\">\n      <th></th>\n      <th>name:ID</th>\n      <th>sex</th>\n      <th>age</th>\n      <th>:LABEL</th>\n    </tr>\n  </thead>\n  <tbody>\n    <tr>\n      <th>0</th>\n      <td>谢永林</td>\n      <td>男</td>\n      <td>50</td>\n      <td>people</td>\n    </tr>\n    <tr>\n      <th>1</th>\n      <td>胡跃飞</td>\n      <td>男</td>\n      <td>56</td>\n      <td>people</td>\n    </tr>\n    <tr>\n      <th>2</th>\n      <td>刘勇</td>\n      <td>男</td>\n      <td>49</td>\n      <td>people</td>\n    </tr>\n    <tr>\n      <th>3</th>\n      <td>朱季成</td>\n      <td>男</td>\n      <td>37</td>\n      <td>people</td>\n    </tr>\n    <tr>\n      <th>4</th>\n      <td>张丕杰</td>\n      <td>男</td>\n      <td>57</td>\n      <td>people</td>\n    </tr>\n    <tr>\n      <th>...</th>\n      <td>...</td>\n      <td>...</td>\n      <td>...</td>\n      <td>...</td>\n    </tr>\n    <tr>\n      <th>5645</th>\n      <td>朱新宏</td>\n      <td>男</td>\n      <td>58</td>\n      <td>people</td>\n    </tr>\n    <tr>\n      <th>5646</th>\n      <td>江津</td>\n      <td>女</td>\n      <td>55</td>\n      <td>people</td>\n    </tr>\n    <tr>\n      <th>5647</th>\n      <td>徐文苏</td>\n      <td>男</td>\n      <td>41</td>\n      <td>people</td>\n    </tr>\n    <tr>\n      <th>5648</th>\n      <td>刘志平</td>\n      <td>女</td>\n      <td>55</td>\n      <td>people</td>\n    </tr>\n    <tr>\n      <th>5649</th>\n      <td>林茂德</td>\n      <td>男</td>\n      <td>62</td>\n      <td>people</td>\n    </tr>\n  </tbody>\n</table>\n<p>5650 rows × 4 columns</p>\n</div>"
     },
     "metadata": {},
     "execution_count": 18
    }
   ],
   "source": [
    "df = pd.read_csv(\"executive.csv\")\n",
    "df"
   ]
  },
  {
   "cell_type": "code",
   "execution_count": 19,
   "metadata": {},
   "outputs": [],
   "source": [
    "# nrows 参数的作用就是限制读取多少行\n",
    "# 要求读取前120行\n"
   ]
  },
  {
   "cell_type": "code",
   "execution_count": 20,
   "metadata": {},
   "outputs": [],
   "source": [
    "# 使用chunksize读取\n",
    "\n",
    "# 然后使用for循环去每块每块地去处理（chunk的type是DataFrame）"
   ]
  },
  {
   "source": [
    "### 导入NumPy库\n",
    "- 命令行： pip install numpy\n",
    "- jupyter: !pip install numpy\n",
    "- anaconda: 无需"
   ],
   "cell_type": "markdown",
   "metadata": {}
  },
  {
   "cell_type": "code",
   "execution_count": 31,
   "metadata": {},
   "outputs": [],
   "source": []
  },
  {
   "cell_type": "code",
   "execution_count": 32,
   "metadata": {},
   "outputs": [],
   "source": [
    "# 先定义一个列表\n",
    "data = [1,2,3,4]\n",
    "# 再定一个列表对象\n"
   ]
  },
  {
   "cell_type": "code",
   "execution_count": 33,
   "metadata": {},
   "outputs": [],
   "source": [
    "# 用shape查看纬度"
   ]
  },
  {
   "cell_type": "code",
   "execution_count": 34,
   "metadata": {},
   "outputs": [],
   "source": [
    "# 用dtype查看数据类型"
   ]
  },
  {
   "cell_type": "code",
   "execution_count": 35,
   "metadata": {},
   "outputs": [],
   "source": [
    "# 将 data 重复12次 存入对象\n"
   ]
  },
  {
   "cell_type": "code",
   "execution_count": 36,
   "metadata": {},
   "outputs": [],
   "source": [
    "# 查看n2的shape和dtype"
   ]
  },
  {
   "source": [
    "### 嵌套序列：由一组等长列表组成的列表"
   ],
   "cell_type": "markdown",
   "metadata": {}
  },
  {
   "cell_type": "code",
   "execution_count": 37,
   "metadata": {},
   "outputs": [],
   "source": [
    "# array([[1, 2, 3, 4],\n",
    "#       [5, 6, 7, 8]])\n",
    "# 打印出上述列表对象\n"
   ]
  },
  {
   "cell_type": "code",
   "execution_count": 38,
   "metadata": {},
   "outputs": [],
   "source": [
    "# 查看 shape ndim(纬度) dtype"
   ]
  },
  {
   "source": [
    "### 类型推断：numpy会对数据类型进行一个较为合理的推断"
   ],
   "cell_type": "markdown",
   "metadata": {}
  },
  {
   "cell_type": "code",
   "execution_count": 39,
   "metadata": {},
   "outputs": [
    {
     "output_type": "execute_result",
     "data": {
      "text/plain": [
       "array([['1', '2', '3', '4'],\n",
       "       ['5', '6', '7', '8']], dtype='<U1')"
      ]
     },
     "metadata": {},
     "execution_count": 39
    }
   ],
   "source": [
    "arr = [[\"1\",\"2\",3,4],[5,6,7,8]]\n",
    "arr2 = np.array(arr)\n",
    "arr2"
   ]
  },
  {
   "cell_type": "code",
   "execution_count": 41,
   "metadata": {},
   "outputs": [],
   "source": [
    "# 查看 dtype\n",
    "# <u1 unicode类型 字符串"
   ]
  },
  {
   "cell_type": "code",
   "execution_count": 42,
   "metadata": {},
   "outputs": [
    {
     "output_type": "execute_result",
     "data": {
      "text/plain": [
       "array([[1. , 2.2, 3. , 4. ],\n",
       "       [5. , 6. , 7. , 8. ]])"
      ]
     },
     "metadata": {},
     "execution_count": 42
    }
   ],
   "source": [
    "arr = [[1,2.2,3,4],[5,6,7,8]]\n",
    "arr2 = np.array(arr)\n",
    "arr2"
   ]
  },
  {
   "cell_type": "code",
   "execution_count": 43,
   "metadata": {},
   "outputs": [],
   "source": [
    "# 查看 dtype\n",
    "# float 浮点数"
   ]
  },
  {
   "source": [
    "### numpy指定长度数组的创建"
   ],
   "cell_type": "markdown",
   "metadata": {}
  },
  {
   "cell_type": "code",
   "execution_count": 48,
   "metadata": {},
   "outputs": [],
   "source": [
    "# 创建长度为8，默认值为0的数组\n",
    "# zeros"
   ]
  },
  {
   "cell_type": "code",
   "execution_count": 49,
   "metadata": {},
   "outputs": [],
   "source": [
    "# 创建长度为14，默认值为1的数组\n",
    "# ones"
   ]
  },
  {
   "cell_type": "code",
   "execution_count": 50,
   "metadata": {},
   "outputs": [],
   "source": [
    "# 创建3*4，默认值为1的数组"
   ]
  },
  {
   "cell_type": "code",
   "execution_count": 51,
   "metadata": {},
   "outputs": [],
   "source": [
    "# 创建空数组\n",
    "# 注意 − 数组元素为随机值，因为它们未初始化。"
   ]
  },
  {
   "source": [
    "### arange 是range函数的数组版本"
   ],
   "cell_type": "markdown",
   "metadata": {}
  },
  {
   "cell_type": "code",
   "execution_count": 53,
   "metadata": {},
   "outputs": [
    {
     "output_type": "stream",
     "name": "stdout",
     "text": [
      "0\n1\n2\n3\n4\n5\n6\n7\n8\n9\n"
     ]
    }
   ],
   "source": [
    "for i in range(10):\n",
    "    print(i)"
   ]
  },
  {
   "cell_type": "code",
   "execution_count": 54,
   "metadata": {},
   "outputs": [
    {
     "output_type": "execute_result",
     "data": {
      "text/plain": [
       "range"
      ]
     },
     "metadata": {},
     "execution_count": 54
    }
   ],
   "source": [
    "i = range(10)\n",
    "type(i)"
   ]
  },
  {
   "cell_type": "code",
   "execution_count": 55,
   "metadata": {},
   "outputs": [
    {
     "output_type": "execute_result",
     "data": {
      "text/plain": [
       "range(0, 10)"
      ]
     },
     "metadata": {},
     "execution_count": 55
    }
   ],
   "source": [
    "i"
   ]
  },
  {
   "cell_type": "code",
   "execution_count": 56,
   "metadata": {},
   "outputs": [],
   "source": [
    "# 输出一个arange \n",
    "# arange = array range\n"
   ]
  },
  {
   "source": [
    "### 数据类型转换"
   ],
   "cell_type": "markdown",
   "metadata": {}
  },
  {
   "cell_type": "code",
   "execution_count": 58,
   "metadata": {},
   "outputs": [
    {
     "output_type": "execute_result",
     "data": {
      "text/plain": [
       "array([ 1.2,  1.6,  1.8, -2.3, -5.8])"
      ]
     },
     "metadata": {},
     "execution_count": 58
    }
   ],
   "source": [
    "arr = np.array([1.2,1.6,1.8,-2.3,-5.8])\n",
    "arr"
   ]
  },
  {
   "cell_type": "code",
   "execution_count": 60,
   "metadata": {},
   "outputs": [
    {
     "output_type": "execute_result",
     "data": {
      "text/plain": [
       "dtype('float64')"
      ]
     },
     "metadata": {},
     "execution_count": 60
    }
   ],
   "source": [
    "arr.dtype\n",
    "# float32/float64 双精度浮点数"
   ]
  },
  {
   "cell_type": "code",
   "execution_count": 61,
   "metadata": {},
   "outputs": [],
   "source": [
    "# 转换为 int \n",
    "# int32 32位整型占4个字节\n",
    "# int64 64位整形占8个字节"
   ]
  },
  {
   "source": [
    "# 下一节 矢量化操作与广播运算"
   ],
   "cell_type": "markdown",
   "metadata": {}
  }
 ]
}