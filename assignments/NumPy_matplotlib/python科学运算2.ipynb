{
 "metadata": {
  "language_info": {
   "codemirror_mode": {
    "name": "ipython",
    "version": 3
   },
   "file_extension": ".py",
   "mimetype": "text/x-python",
   "name": "python",
   "nbconvert_exporter": "python",
   "pygments_lexer": "ipython3",
   "version": "3.8.8"
  },
  "orig_nbformat": 4,
  "kernelspec": {
   "name": "python3",
   "display_name": "Python 3.8.8 64-bit ('base': conda)"
  },
  "interpreter": {
   "hash": "0a50b215142d87f83c3467aa843d55e66b293ff2981807bd882bb4e6b8ecbdc5"
  }
 },
 "nbformat": 4,
 "nbformat_minor": 2,
 "cells": [
  {
   "source": [
    "# Python科学运算2:矢量化操作与广播运算"
   ],
   "cell_type": "markdown",
   "metadata": {}
  },
  {
   "cell_type": "code",
   "execution_count": 1,
   "metadata": {},
   "outputs": [],
   "source": [
    "# 导包\n",
    "import numpy as np"
   ]
  },
  {
   "source": [
    "## 矢量化操作\n",
    "数据在不需要编写循环的情况下就可以进行批量运算，这就叫矢量化操作\n",
    "### 加法"
   ],
   "cell_type": "markdown",
   "metadata": {}
  },
  {
   "cell_type": "code",
   "execution_count": 2,
   "metadata": {},
   "outputs": [
    {
     "output_type": "execute_result",
     "data": {
      "text/plain": [
       "array([ 6,  8, 10, 12])"
      ]
     },
     "metadata": {},
     "execution_count": 2
    }
   ],
   "source": [
    "arr1 = np.array([1,2,3,4])\n",
    "arr2 = np.array([5,6,7,8])\n",
    "arr1 + arr2"
   ]
  },
  {
   "cell_type": "code",
   "execution_count": 3,
   "metadata": {},
   "outputs": [
    {
     "output_type": "execute_result",
     "data": {
      "text/plain": [
       "array([[ 6,  8, 10, 12],\n",
       "       [ 1,  7,  5, -1]])"
      ]
     },
     "metadata": {},
     "execution_count": 3
    }
   ],
   "source": [
    "arr1 = np.array([[1,2,3,4],[-3,2,4,9]])\n",
    "arr2 = np.array([[5,6,7,8],[4,5,1,-10]])\n",
    "arr1 + arr2"
   ]
  },
  {
   "source": [
    "### 减法"
   ],
   "cell_type": "markdown",
   "metadata": {}
  },
  {
   "cell_type": "code",
   "execution_count": 4,
   "metadata": {},
   "outputs": [
    {
     "output_type": "execute_result",
     "data": {
      "text/plain": [
       "array([[-4, -4, -4, -4],\n",
       "       [-7, -3,  3, 19]])"
      ]
     },
     "metadata": {},
     "execution_count": 4
    }
   ],
   "source": [
    "arr1-arr2"
   ]
  },
  {
   "source": [
    "### 乘法"
   ],
   "cell_type": "markdown",
   "metadata": {}
  },
  {
   "cell_type": "code",
   "execution_count": 5,
   "metadata": {},
   "outputs": [
    {
     "output_type": "execute_result",
     "data": {
      "text/plain": [
       "array([[  5,  12,  21,  32],\n",
       "       [-12,  10,   4, -90]])"
      ]
     },
     "metadata": {},
     "execution_count": 5
    }
   ],
   "source": [
    "arr1*arr2"
   ]
  },
  {
   "cell_type": "code",
   "execution_count": 6,
   "metadata": {},
   "outputs": [
    {
     "output_type": "execute_result",
     "data": {
      "text/plain": [
       "array([[  5,  10,  15,  20],\n",
       "       [-15,  10,  20,  45]])"
      ]
     },
     "metadata": {},
     "execution_count": 6
    }
   ],
   "source": [
    "5 * arr1"
   ]
  },
  {
   "cell_type": "code",
   "execution_count": 7,
   "metadata": {},
   "outputs": [],
   "source": [
    "### 除法"
   ]
  },
  {
   "cell_type": "code",
   "execution_count": 8,
   "metadata": {},
   "outputs": [
    {
     "output_type": "execute_result",
     "data": {
      "text/plain": [
       "array([[ 0.2       ,  0.33333333,  0.42857143,  0.5       ],\n",
       "       [-0.75      ,  0.4       ,  4.        , -0.9       ]])"
      ]
     },
     "metadata": {},
     "execution_count": 8
    }
   ],
   "source": [
    "arr1 / arr2"
   ]
  },
  {
   "source": [
    "### 基本的索引和切片操作"
   ],
   "cell_type": "markdown",
   "metadata": {}
  },
  {
   "cell_type": "code",
   "execution_count": 9,
   "metadata": {},
   "outputs": [
    {
     "output_type": "execute_result",
     "data": {
      "text/plain": [
       "array([0, 1, 2, 3, 4, 5, 6, 7, 8, 9])"
      ]
     },
     "metadata": {},
     "execution_count": 9
    }
   ],
   "source": [
    "# 初始化\n",
    "arr =  np.arange(10)\n",
    "arr"
   ]
  },
  {
   "cell_type": "code",
   "execution_count": 10,
   "metadata": {},
   "outputs": [
    {
     "output_type": "execute_result",
     "data": {
      "text/plain": [
       "3"
      ]
     },
     "metadata": {},
     "execution_count": 10
    }
   ],
   "source": [
    "# 索引第三个\n",
    "arr[3]"
   ]
  },
  {
   "cell_type": "code",
   "execution_count": 11,
   "metadata": {},
   "outputs": [
    {
     "output_type": "execute_result",
     "data": {
      "text/plain": [
       "array([4, 5, 6, 7, 8, 9])"
      ]
     },
     "metadata": {},
     "execution_count": 11
    }
   ],
   "source": [
    "# 访问4及以后的元素\n",
    "arr[4:]"
   ]
  },
  {
   "cell_type": "code",
   "execution_count": 12,
   "metadata": {},
   "outputs": [
    {
     "output_type": "execute_result",
     "data": {
      "text/plain": [
       "array([9, 9, 9, 9, 4, 5, 6, 7, 8, 9])"
      ]
     },
     "metadata": {},
     "execution_count": 12
    }
   ],
   "source": [
    "# 将一个标量的值赋这一个切片时，该值会自动的传播到整个区域，并且直接影响原数据的值\n",
    "arr[0:4] = 9\n",
    "arr"
   ]
  },
  {
   "cell_type": "code",
   "execution_count": 13,
   "metadata": {},
   "outputs": [
    {
     "output_type": "execute_result",
     "data": {
      "text/plain": [
       "array([9, 9, 9, 9, 4, 5, 6, 7, 8, 9])"
      ]
     },
     "metadata": {},
     "execution_count": 13
    }
   ],
   "source": [
    "# 如果不想影响原数据操作\n",
    "# 使用copy\n",
    "a = arr.copy()\n",
    "a"
   ]
  },
  {
   "cell_type": "code",
   "execution_count": 14,
   "metadata": {},
   "outputs": [
    {
     "output_type": "execute_result",
     "data": {
      "text/plain": [
       "array([[ 1,  2,  3,  4],\n",
       "       [-3,  2,  4,  9]])"
      ]
     },
     "metadata": {},
     "execution_count": 14
    }
   ],
   "source": [
    "# 访问2维数组\n",
    "arr3 = np.array([[1,2,3,4],[-3,2,4,9]])\n",
    "arr3"
   ]
  },
  {
   "cell_type": "code",
   "execution_count": 15,
   "metadata": {},
   "outputs": [
    {
     "output_type": "execute_result",
     "data": {
      "text/plain": [
       "array([1, 2, 3, 4])"
      ]
     },
     "metadata": {},
     "execution_count": 15
    }
   ],
   "source": [
    "# 读取第一行\n",
    "arr3[0]"
   ]
  },
  {
   "cell_type": "code",
   "execution_count": 16,
   "metadata": {},
   "outputs": [
    {
     "output_type": "execute_result",
     "data": {
      "text/plain": [
       "9"
      ]
     },
     "metadata": {},
     "execution_count": 16
    }
   ],
   "source": [
    "# 读取第二行第四个\n",
    "arr3[1][3]"
   ]
  },
  {
   "cell_type": "code",
   "execution_count": 17,
   "metadata": {},
   "outputs": [
    {
     "output_type": "execute_result",
     "data": {
      "text/plain": [
       "9"
      ]
     },
     "metadata": {},
     "execution_count": 17
    }
   ],
   "source": [
    "# 第二种方式\n",
    "arr3[1,3]"
   ]
  },
  {
   "source": [
    "### 比较运算\n",
    "- 在之前我们学习多条件运算时，我们使用的是and 和 or\n",
    "- 使用numpy对象进行多条件的比较运算时，不能使用and和or\n",
    "- 必须使用 &（and） 和 ｜（or）"
   ],
   "cell_type": "markdown",
   "metadata": {}
  },
  {
   "cell_type": "code",
   "execution_count": 18,
   "metadata": {},
   "outputs": [
    {
     "output_type": "execute_result",
     "data": {
      "text/plain": [
       "array(['John', 'Tony', 'Jackie', 'Ben'], dtype='<U6')"
      ]
     },
     "metadata": {},
     "execution_count": 18
    }
   ],
   "source": [
    "names = np.array(['John','Tony','Jackie','Ben'])\n",
    "names"
   ]
  },
  {
   "cell_type": "code",
   "execution_count": 19,
   "metadata": {},
   "outputs": [
    {
     "output_type": "execute_result",
     "data": {
      "text/plain": [
       "array([False,  True, False, False])"
      ]
     },
     "metadata": {},
     "execution_count": 19
    }
   ],
   "source": [
    "names == \"Tony\""
   ]
  },
  {
   "source": [
    "# 选择 同时为 Tony 和 Ben\n",
    "(names == \"Tony\") & (names == \"Ben\")"
   ],
   "cell_type": "code",
   "metadata": {},
   "execution_count": 20,
   "outputs": [
    {
     "output_type": "execute_result",
     "data": {
      "text/plain": [
       "array([False, False, False, False])"
      ]
     },
     "metadata": {},
     "execution_count": 20
    }
   ]
  },
  {
   "cell_type": "code",
   "execution_count": 21,
   "metadata": {},
   "outputs": [
    {
     "output_type": "execute_result",
     "data": {
      "text/plain": [
       "array([False,  True, False,  True])"
      ]
     },
     "metadata": {},
     "execution_count": 21
    }
   ],
   "source": [
    "# 选择 Tony 或 Ben\n",
    "(names == \"Tony\") | (names == \"Ben\")"
   ]
  },
  {
   "source": [
    "### 花式索引（fancy indexing）\n",
    "是一个NumPy中的术语，它指的是利用整数数组来进行索引的方式\n"
   ],
   "cell_type": "markdown",
   "metadata": {}
  },
  {
   "cell_type": "code",
   "execution_count": 22,
   "metadata": {},
   "outputs": [
    {
     "output_type": "execute_result",
     "data": {
      "text/plain": [
       "array([[-1.49166815e-154,  2.00389662e+000,  7.90505033e-323,\n",
       "         0.00000000e+000],\n",
       "       [ 6.93616764e-310,  1.16097020e-028,  7.25380779e-043,\n",
       "         2.73417956e-052],\n",
       "       [ 1.57177608e-076,  5.01163173e+217,  8.37170074e-144,\n",
       "         9.59581405e-071],\n",
       "       [ 3.88585636e-033,  7.42763976e-091,  2.57278426e+184,\n",
       "         5.01163185e+217],\n",
       "       [ 5.49419094e-143,  6.47287734e+170,  7.50189709e+247,\n",
       "         1.35617292e+248],\n",
       "       [ 2.74045673e+180,  8.41208666e+164,  1.04032465e-042,\n",
       "         1.65612686e-076],\n",
       "       [ 6.64437004e-066,  5.04621361e+180,  8.37170571e-144,\n",
       "         9.30350598e+199],\n",
       "       [ 5.60230216e-067,  2.10458520e-308,  6.93620996e-310,\n",
       "         2.22507810e-308]])"
      ]
     },
     "metadata": {},
     "execution_count": 22
    }
   ],
   "source": [
    "# 声明一个8*4的空的列表\n",
    "arr = np.empty((8,4))\n",
    "arr"
   ]
  },
  {
   "cell_type": "code",
   "execution_count": 23,
   "metadata": {},
   "outputs": [
    {
     "output_type": "execute_result",
     "data": {
      "text/plain": [
       "array([[0., 0., 0., 0.],\n",
       "       [1., 1., 1., 1.],\n",
       "       [2., 2., 2., 2.],\n",
       "       [3., 3., 3., 3.],\n",
       "       [4., 4., 4., 4.],\n",
       "       [5., 5., 5., 5.],\n",
       "       [6., 6., 6., 6.],\n",
       "       [7., 7., 7., 7.]])"
      ]
     },
     "metadata": {},
     "execution_count": 23
    }
   ],
   "source": [
    "# 给列表赋值\n",
    "for i in range(8):\n",
    "    arr[i] = i\n",
    "arr"
   ]
  },
  {
   "cell_type": "code",
   "execution_count": 26,
   "metadata": {},
   "outputs": [
    {
     "output_type": "execute_result",
     "data": {
      "text/plain": [
       "array([[4., 4., 4., 4.],\n",
       "       [3., 3., 3., 3.],\n",
       "       [0., 0., 0., 0.],\n",
       "       [6., 6., 6., 6.],\n",
       "       [7., 7., 7., 7.]])"
      ]
     },
     "metadata": {},
     "execution_count": 26
    }
   ],
   "source": [
    "# 获取第5，4，1，7行\n",
    "# 以一个特定的顺序来选取行中的子集，我们传入一个用于指定顺序的整数列表，或数组\n",
    "# 这里也可以使用负数来进行索引\n",
    "# -1 是最后一行\n",
    "arr[[4,3,0,6,-1]]"
   ]
  },
  {
   "cell_type": "code",
   "execution_count": 29,
   "metadata": {},
   "outputs": [
    {
     "output_type": "execute_result",
     "data": {
      "text/plain": [
       "array([ 0,  1,  2,  3,  4,  5,  6,  7,  8,  9, 10, 11, 12, 13, 14, 15, 16,\n",
       "       17, 18, 19, 20, 21, 22, 23, 24, 25, 26, 27, 28, 29, 30, 31])"
      ]
     },
     "metadata": {},
     "execution_count": 29
    }
   ],
   "source": [
    "arr = np.arange(32)\n",
    "arr"
   ]
  },
  {
   "cell_type": "code",
   "execution_count": 30,
   "metadata": {},
   "outputs": [
    {
     "output_type": "execute_result",
     "data": {
      "text/plain": [
       "array([[ 0,  1,  2,  3],\n",
       "       [ 4,  5,  6,  7],\n",
       "       [ 8,  9, 10, 11],\n",
       "       [12, 13, 14, 15],\n",
       "       [16, 17, 18, 19],\n",
       "       [20, 21, 22, 23],\n",
       "       [24, 25, 26, 27],\n",
       "       [28, 29, 30, 31]])"
      ]
     },
     "metadata": {},
     "execution_count": 30
    }
   ],
   "source": [
    "arr = np.arange(32).reshape((8,4))\n",
    "arr"
   ]
  },
  {
   "cell_type": "code",
   "execution_count": 33,
   "metadata": {},
   "outputs": [
    {
     "output_type": "execute_result",
     "data": {
      "text/plain": [
       "array([[ 4,  5,  6,  7],\n",
       "       [20, 21, 22, 23],\n",
       "       [28, 29, 30, 31],\n",
       "       [ 8,  9, 10, 11]])"
      ]
     },
     "metadata": {},
     "execution_count": 33
    }
   ],
   "source": [
    "# 选取第2，6，8，3行\n",
    "arr[[1,5,7,2]]"
   ]
  },
  {
   "cell_type": "code",
   "execution_count": 32,
   "metadata": {},
   "outputs": [
    {
     "output_type": "execute_result",
     "data": {
      "text/plain": [
       "array([ 4, 23, 29, 10])"
      ]
     },
     "metadata": {},
     "execution_count": 32
    }
   ],
   "source": [
    "# 选去第2行的第1个，第6行第4个，第8行第2个，第3行第三个\n",
    "arr[[1,5,7,2],[0,3,1,2]]"
   ]
  },
  {
   "cell_type": "code",
   "execution_count": 43,
   "metadata": {},
   "outputs": [
    {
     "output_type": "execute_result",
     "data": {
      "text/plain": [
       "array([20, 23, 21])"
      ]
     },
     "metadata": {},
     "execution_count": 43
    }
   ],
   "source": [
    "# 行和列同时进行花式索引操作\n",
    "arr[[1,5,7,2]][[1],[0,3,1]]"
   ]
  },
  {
   "cell_type": "code",
   "execution_count": 41,
   "metadata": {},
   "outputs": [
    {
     "output_type": "execute_result",
     "data": {
      "text/plain": [
       "array([[ 4,  7,  5],\n",
       "       [20, 23, 21],\n",
       "       [28, 31, 29],\n",
       "       [ 8, 11,  9]])"
      ]
     },
     "metadata": {},
     "execution_count": 41
    }
   ],
   "source": [
    "arr[[1,5,7,2]][:,[0,3,1]]"
   ]
  },
  {
   "cell_type": "code",
   "execution_count": 51,
   "metadata": {},
   "outputs": [
    {
     "output_type": "execute_result",
     "data": {
      "text/plain": [
       "array([[ 0,  3,  1],\n",
       "       [ 4,  7,  5],\n",
       "       [ 8, 11,  9],\n",
       "       [12, 15, 13],\n",
       "       [16, 19, 17],\n",
       "       [20, 23, 21],\n",
       "       [24, 27, 25],\n",
       "       [28, 31, 29]])"
      ]
     },
     "metadata": {},
     "execution_count": 51
    }
   ],
   "source": [
    "arr[:,[0,3,1]]"
   ]
  },
  {
   "source": [
    "### 转置操作"
   ],
   "cell_type": "markdown",
   "metadata": {}
  },
  {
   "cell_type": "code",
   "execution_count": 56,
   "metadata": {},
   "outputs": [
    {
     "output_type": "execute_result",
     "data": {
      "text/plain": [
       "array([[ 0,  1,  2,  3,  4],\n",
       "       [ 5,  6,  7,  8,  9],\n",
       "       [10, 11, 12, 13, 14]])"
      ]
     },
     "metadata": {},
     "execution_count": 56
    }
   ],
   "source": [
    "arr = np.arange(15).reshape((3,5))\n",
    "arr"
   ]
  },
  {
   "cell_type": "code",
   "execution_count": 57,
   "metadata": {},
   "outputs": [
    {
     "output_type": "execute_result",
     "data": {
      "text/plain": [
       "array([[ 0,  5, 10],\n",
       "       [ 1,  6, 11],\n",
       "       [ 2,  7, 12],\n",
       "       [ 3,  8, 13],\n",
       "       [ 4,  9, 14]])"
      ]
     },
     "metadata": {},
     "execution_count": 57
    }
   ],
   "source": [
    "# 使用transpose \n",
    "arr.transpose()"
   ]
  },
  {
   "cell_type": "code",
   "execution_count": 58,
   "metadata": {},
   "outputs": [
    {
     "output_type": "execute_result",
     "data": {
      "text/plain": [
       "array([[ 0,  5, 10],\n",
       "       [ 1,  6, 11],\n",
       "       [ 2,  7, 12],\n",
       "       [ 3,  8, 13],\n",
       "       [ 4,  9, 14]])"
      ]
     },
     "metadata": {},
     "execution_count": 58
    }
   ],
   "source": [
    "arr.T"
   ]
  },
  {
   "cell_type": "code",
   "execution_count": 62,
   "metadata": {},
   "outputs": [
    {
     "output_type": "execute_result",
     "data": {
      "text/plain": [
       "array([[ 0,  1,  2,  3,  4],\n",
       "       [ 5,  6,  7,  8,  9],\n",
       "       [10, 11, 12, 13, 14]])"
      ]
     },
     "metadata": {},
     "execution_count": 62
    }
   ],
   "source": [
    "arr"
   ]
  },
  {
   "source": [
    "### numpy的降维操作"
   ],
   "cell_type": "markdown",
   "metadata": {}
  },
  {
   "cell_type": "code",
   "execution_count": 65,
   "metadata": {},
   "outputs": [
    {
     "output_type": "execute_result",
     "data": {
      "text/plain": [
       "array([[   1,  100, 1000],\n",
       "       [   2,  200, 2000],\n",
       "       [   3,  300, 3000]])"
      ]
     },
     "metadata": {},
     "execution_count": 65
    }
   ],
   "source": [
    "arr = np.array([[1,100,1000],[2,200,2000],[3,300,3000]])\n",
    "arr"
   ]
  },
  {
   "cell_type": "code",
   "execution_count": 66,
   "metadata": {},
   "outputs": [
    {
     "output_type": "execute_result",
     "data": {
      "text/plain": [
       "array([   1,  100, 1000,    2,  200, 2000,    3,  300, 3000])"
      ]
     },
     "metadata": {},
     "execution_count": 66
    }
   ],
   "source": [
    "# 默认排序的降维\n",
    "arr.ravel()\n"
   ]
  },
  {
   "cell_type": "code",
   "execution_count": 67,
   "metadata": {},
   "outputs": [
    {
     "output_type": "execute_result",
     "data": {
      "text/plain": [
       "array([   1,  100, 1000,    2,  200, 2000,    3,  300, 3000])"
      ]
     },
     "metadata": {},
     "execution_count": 67
    }
   ],
   "source": [
    "arr.reshape(-1)"
   ]
  },
  {
   "cell_type": "code",
   "execution_count": 68,
   "metadata": {},
   "outputs": [
    {
     "output_type": "execute_result",
     "data": {
      "text/plain": [
       "array([   1,  100, 1000,    2,  200, 2000,    3,  300, 3000])"
      ]
     },
     "metadata": {},
     "execution_count": 68
    }
   ],
   "source": [
    "arr.flatten()"
   ]
  },
  {
   "source": [
    "#### 改变排序模式的降维操作"
   ],
   "cell_type": "markdown",
   "metadata": {}
  },
  {
   "cell_type": "code",
   "execution_count": 69,
   "metadata": {},
   "outputs": [
    {
     "output_type": "execute_result",
     "data": {
      "text/plain": [
       "array([   1,    2,    3,  100,  200,  300, 1000, 2000, 3000])"
      ]
     },
     "metadata": {},
     "execution_count": 69
    }
   ],
   "source": [
    "arr.ravel(order = \"F\")"
   ]
  },
  {
   "cell_type": "code",
   "execution_count": 70,
   "metadata": {},
   "outputs": [
    {
     "output_type": "execute_result",
     "data": {
      "text/plain": [
       "array([   1,    2,    3,  100,  200,  300, 1000, 2000, 3000])"
      ]
     },
     "metadata": {},
     "execution_count": 70
    }
   ],
   "source": [
    "arr.reshape(-1,order = \"F\")"
   ]
  },
  {
   "cell_type": "code",
   "execution_count": 71,
   "metadata": {},
   "outputs": [
    {
     "output_type": "execute_result",
     "data": {
      "text/plain": [
       "array([   1,    2,    3,  100,  200,  300, 1000, 2000, 3000])"
      ]
     },
     "metadata": {},
     "execution_count": 71
    }
   ],
   "source": [
    "arr.flatten(order = \"F\")"
   ]
  },
  {
   "source": [
    "#### 降维以后值的修改"
   ],
   "cell_type": "markdown",
   "metadata": {}
  },
  {
   "cell_type": "code",
   "execution_count": 75,
   "metadata": {},
   "outputs": [
    {
     "output_type": "execute_result",
     "data": {
      "text/plain": [
       "array([   1,  100, 1000,    2,  200, 2000,    3,  300, 3000])"
      ]
     },
     "metadata": {},
     "execution_count": 75
    }
   ],
   "source": [
    "arr = np.array([[1,100,1000],[2,200,2000],[3,300,3000]])\n",
    "arr.flatten()"
   ]
  },
  {
   "cell_type": "code",
   "execution_count": 76,
   "metadata": {},
   "outputs": [],
   "source": [
    "arr.flatten()[0] = 200"
   ]
  },
  {
   "cell_type": "code",
   "execution_count": 77,
   "metadata": {},
   "outputs": [
    {
     "output_type": "execute_result",
     "data": {
      "text/plain": [
       "array([[   1,  100, 1000],\n",
       "       [   2,  200, 2000],\n",
       "       [   3,  300, 3000]])"
      ]
     },
     "metadata": {},
     "execution_count": 77
    }
   ],
   "source": [
    "# flatten 方法降维之后对值修改不改变原数据\n",
    "arr"
   ]
  },
  {
   "cell_type": "code",
   "execution_count": 78,
   "metadata": {},
   "outputs": [
    {
     "output_type": "execute_result",
     "data": {
      "text/plain": [
       "array([[   1, 1000, 1000],\n",
       "       [   2,  200, 2000],\n",
       "       [   3,  300, 3000]])"
      ]
     },
     "metadata": {},
     "execution_count": 78
    }
   ],
   "source": [
    "# ravel 方法降维之后对值修改改变原数据\n",
    "arr.ravel()[1] = 1000\n",
    "arr"
   ]
  },
  {
   "cell_type": "code",
   "execution_count": 79,
   "metadata": {},
   "outputs": [
    {
     "output_type": "execute_result",
     "data": {
      "text/plain": [
       "array([   1, 1000, 1000,    2,  200, 2000,    3,  300, 3000])"
      ]
     },
     "metadata": {},
     "execution_count": 79
    }
   ],
   "source": [
    "arr.reshape(-1)"
   ]
  },
  {
   "cell_type": "code",
   "execution_count": 81,
   "metadata": {},
   "outputs": [
    {
     "output_type": "execute_result",
     "data": {
      "text/plain": [
       "array([[    1,  1000, 50000],\n",
       "       [    2,   200,  2000],\n",
       "       [    3,   300,  3000]])"
      ]
     },
     "metadata": {},
     "execution_count": 81
    }
   ],
   "source": [
    "# reshape 本质还是形状的改变，同时降维后改变值也修改原数据\n",
    "arr.reshape(-1)[2] = 50000 \n",
    "arr"
   ]
  },
  {
   "source": [
    "### NumPy 堆叠操作"
   ],
   "cell_type": "markdown",
   "metadata": {}
  },
  {
   "cell_type": "code",
   "execution_count": 83,
   "metadata": {},
   "outputs": [
    {
     "output_type": "execute_result",
     "data": {
      "text/plain": [
       "array([[   1,  100, 1000],\n",
       "       [   2,  200, 2000],\n",
       "       [   3,  300, 3000]])"
      ]
     },
     "metadata": {},
     "execution_count": 83
    }
   ],
   "source": [
    "arr1 = np.array([[1,100,1000],[2,200,2000],[3,300,3000]])\n",
    "arr1"
   ]
  },
  {
   "cell_type": "code",
   "execution_count": 84,
   "metadata": {},
   "outputs": [
    {
     "output_type": "execute_result",
     "data": {
      "text/plain": [
       "array([[ -12,  321, 3332]])"
      ]
     },
     "metadata": {},
     "execution_count": 84
    }
   ],
   "source": [
    "arr2 = np.array([[-12,321,3332]])\n",
    "arr2"
   ]
  },
  {
   "cell_type": "code",
   "execution_count": 86,
   "metadata": {},
   "outputs": [
    {
     "output_type": "execute_result",
     "data": {
      "text/plain": [
       "array([[   1,  100, 1000],\n",
       "       [   2,  200, 2000],\n",
       "       [   3,  300, 3000],\n",
       "       [ -12,  321, 3332]])"
      ]
     },
     "metadata": {},
     "execution_count": 86
    }
   ],
   "source": [
    "# 纵向堆叠\n",
    "np.vstack([arr1,arr2])"
   ]
  },
  {
   "cell_type": "code",
   "execution_count": 87,
   "metadata": {},
   "outputs": [
    {
     "output_type": "execute_result",
     "data": {
      "text/plain": [
       "array([[   1,  100, 1000],\n",
       "       [   2,  200, 2000],\n",
       "       [   3,  300, 3000],\n",
       "       [ -12,  321, 3332]])"
      ]
     },
     "metadata": {},
     "execution_count": 87
    }
   ],
   "source": [
    "np.row_stack([arr1,arr2])"
   ]
  },
  {
   "cell_type": "code",
   "execution_count": 88,
   "metadata": {},
   "outputs": [
    {
     "output_type": "execute_result",
     "data": {
      "text/plain": [
       "array([[5],\n",
       "       [6],\n",
       "       [7]])"
      ]
     },
     "metadata": {},
     "execution_count": 88
    }
   ],
   "source": [
    "arr3 = np.array([[5],[6],[7]])\n",
    "arr3"
   ]
  },
  {
   "cell_type": "code",
   "execution_count": 90,
   "metadata": {},
   "outputs": [
    {
     "output_type": "execute_result",
     "data": {
      "text/plain": [
       "array([[   1,  100, 1000,    5],\n",
       "       [   2,  200, 2000,    6],\n",
       "       [   3,  300, 3000,    7]])"
      ]
     },
     "metadata": {},
     "execution_count": 90
    }
   ],
   "source": [
    "# 横线堆叠\n",
    "np.hstack([arr1,arr3])"
   ]
  },
  {
   "cell_type": "code",
   "execution_count": 91,
   "metadata": {},
   "outputs": [
    {
     "output_type": "execute_result",
     "data": {
      "text/plain": [
       "array([[   1,  100, 1000,    5],\n",
       "       [   2,  200, 2000,    6],\n",
       "       [   3,  300, 3000,    7]])"
      ]
     },
     "metadata": {},
     "execution_count": 91
    }
   ],
   "source": [
    "np.column_stack([arr1,arr3])"
   ]
  },
  {
   "source": [
    "## 广播运算"
   ],
   "cell_type": "markdown",
   "metadata": {}
  },
  {
   "cell_type": "code",
   "execution_count": 99,
   "metadata": {},
   "outputs": [
    {
     "output_type": "execute_result",
     "data": {
      "text/plain": [
       "array([[ 0,  1,  2,  3],\n",
       "       [ 4,  5,  6,  7],\n",
       "       [ 8,  9, 10, 11]])"
      ]
     },
     "metadata": {},
     "execution_count": 99
    }
   ],
   "source": [
    "arr1 = np.arange(12).reshape(3,4)\n",
    "arr1"
   ]
  },
  {
   "cell_type": "code",
   "execution_count": 100,
   "metadata": {},
   "outputs": [
    {
     "output_type": "execute_result",
     "data": {
      "text/plain": [
       "array([[101, 102, 103, 104],\n",
       "       [105, 106, 107, 108],\n",
       "       [109, 110, 111, 112]])"
      ]
     },
     "metadata": {},
     "execution_count": 100
    }
   ],
   "source": [
    "arr2 = np.arange(101,113).reshape(3,4)\n",
    "arr2"
   ]
  },
  {
   "cell_type": "code",
   "execution_count": 102,
   "metadata": {},
   "outputs": [
    {
     "output_type": "execute_result",
     "data": {
      "text/plain": [
       "array([[101, 103, 105, 107],\n",
       "       [109, 111, 113, 115],\n",
       "       [117, 119, 121, 123]])"
      ]
     },
     "metadata": {},
     "execution_count": 102
    }
   ],
   "source": [
    "# 这不是广播运算，因为其纬度一致\n",
    "arr1+arr2"
   ]
  },
  {
   "cell_type": "code",
   "execution_count": 103,
   "metadata": {},
   "outputs": [
    {
     "output_type": "execute_result",
     "data": {
      "text/plain": [
       "array([[[ 0,  1,  2],\n",
       "        [ 3,  4,  5],\n",
       "        [ 6,  7,  8],\n",
       "        [ 9, 10, 11]],\n",
       "\n",
       "       [[12, 13, 14],\n",
       "        [15, 16, 17],\n",
       "        [18, 19, 20],\n",
       "        [21, 22, 23]],\n",
       "\n",
       "       [[24, 25, 26],\n",
       "        [27, 28, 29],\n",
       "        [30, 31, 32],\n",
       "        [33, 34, 35]],\n",
       "\n",
       "       [[36, 37, 38],\n",
       "        [39, 40, 41],\n",
       "        [42, 43, 44],\n",
       "        [45, 46, 47]],\n",
       "\n",
       "       [[48, 49, 50],\n",
       "        [51, 52, 53],\n",
       "        [54, 55, 56],\n",
       "        [57, 58, 59]]])"
      ]
     },
     "metadata": {},
     "execution_count": 103
    }
   ],
   "source": [
    "arr3 = np.arange(60).reshape(5,4,3)\n",
    "arr3"
   ]
  },
  {
   "cell_type": "code",
   "execution_count": 104,
   "metadata": {},
   "outputs": [
    {
     "output_type": "execute_result",
     "data": {
      "text/plain": [
       "array([[ 0,  1,  2],\n",
       "       [ 3,  4,  5],\n",
       "       [ 6,  7,  8],\n",
       "       [ 9, 10, 11]])"
      ]
     },
     "metadata": {},
     "execution_count": 104
    }
   ],
   "source": [
    "arr4 = np.arange(12).reshape(4,3)\n",
    "arr4"
   ]
  },
  {
   "source": [
    "#### 纬度不一致，但是末尾的纬度值是一致的"
   ],
   "cell_type": "markdown",
   "metadata": {}
  },
  {
   "cell_type": "code",
   "execution_count": 107,
   "metadata": {},
   "outputs": [
    {
     "output_type": "execute_result",
     "data": {
      "text/plain": [
       "array([[[ 0,  2,  4],\n",
       "        [ 6,  8, 10],\n",
       "        [12, 14, 16],\n",
       "        [18, 20, 22]],\n",
       "\n",
       "       [[12, 14, 16],\n",
       "        [18, 20, 22],\n",
       "        [24, 26, 28],\n",
       "        [30, 32, 34]],\n",
       "\n",
       "       [[24, 26, 28],\n",
       "        [30, 32, 34],\n",
       "        [36, 38, 40],\n",
       "        [42, 44, 46]],\n",
       "\n",
       "       [[36, 38, 40],\n",
       "        [42, 44, 46],\n",
       "        [48, 50, 52],\n",
       "        [54, 56, 58]],\n",
       "\n",
       "       [[48, 50, 52],\n",
       "        [54, 56, 58],\n",
       "        [60, 62, 64],\n",
       "        [66, 68, 70]]])"
      ]
     },
     "metadata": {},
     "execution_count": 107
    }
   ],
   "source": [
    "arr3 + arr4"
   ]
  },
  {
   "cell_type": "code",
   "execution_count": 108,
   "metadata": {},
   "outputs": [
    {
     "output_type": "execute_result",
     "data": {
      "text/plain": [
       "array([[0],\n",
       "       [1],\n",
       "       [2],\n",
       "       [3]])"
      ]
     },
     "metadata": {},
     "execution_count": 108
    }
   ],
   "source": [
    "arr5 = np.arange(4).reshape(4,1)\n",
    "arr5"
   ]
  },
  {
   "cell_type": "code",
   "execution_count": 109,
   "metadata": {},
   "outputs": [
    {
     "output_type": "execute_result",
     "data": {
      "text/plain": [
       "array([[[ 0,  1,  2],\n",
       "        [ 4,  5,  6],\n",
       "        [ 8,  9, 10],\n",
       "        [12, 13, 14]],\n",
       "\n",
       "       [[12, 13, 14],\n",
       "        [16, 17, 18],\n",
       "        [20, 21, 22],\n",
       "        [24, 25, 26]],\n",
       "\n",
       "       [[24, 25, 26],\n",
       "        [28, 29, 30],\n",
       "        [32, 33, 34],\n",
       "        [36, 37, 38]],\n",
       "\n",
       "       [[36, 37, 38],\n",
       "        [40, 41, 42],\n",
       "        [44, 45, 46],\n",
       "        [48, 49, 50]],\n",
       "\n",
       "       [[48, 49, 50],\n",
       "        [52, 53, 54],\n",
       "        [56, 57, 58],\n",
       "        [60, 61, 62]]])"
      ]
     },
     "metadata": {},
     "execution_count": 109
    }
   ],
   "source": [
    "arr3 + arr5"
   ]
  },
  {
   "cell_type": "code",
   "execution_count": 112,
   "metadata": {},
   "outputs": [
    {
     "output_type": "execute_result",
     "data": {
      "text/plain": [
       "array([[ 0,  1,  2],\n",
       "       [ 3,  4,  5],\n",
       "       [ 6,  7,  8],\n",
       "       [ 9, 10, 11]])"
      ]
     },
     "metadata": {},
     "execution_count": 112
    }
   ],
   "source": [
    "# 自动补齐\n",
    "arr1 = np.arange(12).reshape(4,3)\n",
    "arr1"
   ]
  },
  {
   "cell_type": "code",
   "execution_count": 113,
   "metadata": {},
   "outputs": [
    {
     "output_type": "execute_result",
     "data": {
      "text/plain": [
       "array([1, 2, 3])"
      ]
     },
     "metadata": {},
     "execution_count": 113
    }
   ],
   "source": [
    "arr2 = np.array([1,2,3])\n",
    "arr2"
   ]
  },
  {
   "cell_type": "code",
   "execution_count": 114,
   "metadata": {},
   "outputs": [
    {
     "output_type": "execute_result",
     "data": {
      "text/plain": [
       "array([[ 1,  3,  5],\n",
       "       [ 4,  6,  8],\n",
       "       [ 7,  9, 11],\n",
       "       [10, 12, 14]])"
      ]
     },
     "metadata": {},
     "execution_count": 114
    }
   ],
   "source": [
    "arr1 + arr2"
   ]
  },
  {
   "source": [
    "#### 不能广播运算的情况"
   ],
   "cell_type": "markdown",
   "metadata": {}
  },
  {
   "cell_type": "code",
   "execution_count": 116,
   "metadata": {},
   "outputs": [
    {
     "output_type": "execute_result",
     "data": {
      "text/plain": [
       "array([[[ 0,  1,  2],\n",
       "        [ 3,  4,  5],\n",
       "        [ 6,  7,  8],\n",
       "        [ 9, 10, 11]],\n",
       "\n",
       "       [[12, 13, 14],\n",
       "        [15, 16, 17],\n",
       "        [18, 19, 20],\n",
       "        [21, 22, 23]],\n",
       "\n",
       "       [[24, 25, 26],\n",
       "        [27, 28, 29],\n",
       "        [30, 31, 32],\n",
       "        [33, 34, 35]],\n",
       "\n",
       "       [[36, 37, 38],\n",
       "        [39, 40, 41],\n",
       "        [42, 43, 44],\n",
       "        [45, 46, 47]],\n",
       "\n",
       "       [[48, 49, 50],\n",
       "        [51, 52, 53],\n",
       "        [54, 55, 56],\n",
       "        [57, 58, 59]]])"
      ]
     },
     "metadata": {},
     "execution_count": 116
    }
   ],
   "source": [
    "arr1 = np.arange(60).reshape(5,4,3)\n",
    "arr1"
   ]
  },
  {
   "cell_type": "code",
   "execution_count": 117,
   "metadata": {},
   "outputs": [
    {
     "output_type": "execute_result",
     "data": {
      "text/plain": [
       "array([[0, 1],\n",
       "       [2, 3],\n",
       "       [4, 5],\n",
       "       [6, 7]])"
      ]
     },
     "metadata": {},
     "execution_count": 117
    }
   ],
   "source": [
    "arr2 = np.arange(8).reshape(4,2)\n",
    "arr2"
   ]
  },
  {
   "cell_type": "code",
   "execution_count": 118,
   "metadata": {},
   "outputs": [
    {
     "output_type": "error",
     "ename": "ValueError",
     "evalue": "operands could not be broadcast together with shapes (5,4,3) (4,2) ",
     "traceback": [
      "\u001b[0;31m---------------------------------------------------------------------------\u001b[0m",
      "\u001b[0;31mValueError\u001b[0m                                Traceback (most recent call last)",
      "\u001b[0;32m<ipython-input-118-d6626a8d45e9>\u001b[0m in \u001b[0;36m<module>\u001b[0;34m\u001b[0m\n\u001b[0;32m----> 1\u001b[0;31m \u001b[0marr1\u001b[0m\u001b[0;34m+\u001b[0m \u001b[0marr2\u001b[0m\u001b[0;34m\u001b[0m\u001b[0;34m\u001b[0m\u001b[0m\n\u001b[0m",
      "\u001b[0;31mValueError\u001b[0m: operands could not be broadcast together with shapes (5,4,3) (4,2) "
     ]
    }
   ],
   "source": [
    "arr1+ arr2"
   ]
  },
  {
   "source": [
    "## 条件逻辑转数组\n",
    "- x if condition else y \n",
    "- 当条件condition成立的时候，表达式返回的值是x,不成立的时候返回的是y\n",
    "- np.where 一般用于根据一个数组产生一个新的数组"
   ],
   "cell_type": "markdown",
   "metadata": {}
  },
  {
   "cell_type": "code",
   "execution_count": 120,
   "metadata": {},
   "outputs": [
    {
     "output_type": "execute_result",
     "data": {
      "text/plain": [
       "[1.1, 2.4, 1.3]"
      ]
     },
     "metadata": {},
     "execution_count": 120
    }
   ],
   "source": [
    "arr1 = np.array([1.1,1.2,1.3])\n",
    "arr2 = np.array([7.1,2.4,3.5])\n",
    "condition = np.array([True,False,True])\n",
    "\n",
    "# zip的参数是可迭代的对象\n",
    "# zip就会将对象中对应的元素打包成一个个的元组，然后返回由这些元组组成的列表\n",
    "result = [(x if c else y) for x,y,c in zip(arr1,arr2,condition)]\n",
    "result"
   ]
  },
  {
   "cell_type": "code",
   "execution_count": 121,
   "metadata": {},
   "outputs": [
    {
     "output_type": "execute_result",
     "data": {
      "text/plain": [
       "array([1.1, 2.4, 1.3])"
      ]
     },
     "metadata": {},
     "execution_count": 121
    }
   ],
   "source": [
    "# 使用where\n",
    "result = np.where(condition,arr1,arr2)\n",
    "result"
   ]
  },
  {
   "source": [
    "### 值的替换"
   ],
   "cell_type": "markdown",
   "metadata": {}
  },
  {
   "cell_type": "code",
   "execution_count": 122,
   "metadata": {},
   "outputs": [
    {
     "output_type": "execute_result",
     "data": {
      "text/plain": [
       "array([[-0.49443894, -0.13046277,  0.61851392, -0.54658335],\n",
       "       [-0.52188691, -1.32530799, -0.83592973,  0.44704209],\n",
       "       [ 1.36588911,  0.47763326, -0.170995  ,  0.2513003 ],\n",
       "       [-0.26673873, -1.24067555,  0.63468353, -0.4797104 ]])"
      ]
     },
     "metadata": {},
     "execution_count": 122
    }
   ],
   "source": [
    "# 随机生成\n",
    "arr = np.random.randn(4,4)\n",
    "arr"
   ]
  },
  {
   "cell_type": "code",
   "execution_count": 124,
   "metadata": {},
   "outputs": [
    {
     "output_type": "execute_result",
     "data": {
      "text/plain": [
       "array([[-2, -2,  2, -2],\n",
       "       [-2, -2, -2,  2],\n",
       "       [ 2,  2, -2,  2],\n",
       "       [-2, -2,  2, -2]])"
      ]
     },
     "metadata": {},
     "execution_count": 124
    }
   ],
   "source": [
    "# np.where 支持3个参数，第一个参数是条件\n",
    "# 第二个参数是条件成立的时候返回的值\n",
    "# 第三个参数是条件不成立的时候返回的值\n",
    "result = np.where(arr > 0.2,2,-2)\n",
    "result"
   ]
  },
  {
   "cell_type": "code",
   "execution_count": 125,
   "metadata": {},
   "outputs": [
    {
     "output_type": "execute_result",
     "data": {
      "text/plain": [
       "array([[-0.49443894, -0.13046277,  2.        , -0.54658335],\n",
       "       [-0.52188691, -1.32530799, -0.83592973,  2.        ],\n",
       "       [ 2.        ,  2.        , -0.170995  ,  2.        ],\n",
       "       [-0.26673873, -1.24067555,  2.        , -0.4797104 ]])"
      ]
     },
     "metadata": {},
     "execution_count": 125
    }
   ],
   "source": [
    "result = np.where(arr > 0.2,2,arr)\n",
    "result"
   ]
  },
  {
   "source": [
    "# 下一节：时间戳"
   ],
   "cell_type": "markdown",
   "metadata": {}
  }
 ]
}