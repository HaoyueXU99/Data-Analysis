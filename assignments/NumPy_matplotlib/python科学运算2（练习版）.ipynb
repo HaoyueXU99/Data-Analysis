{
 "metadata": {
  "language_info": {
   "codemirror_mode": {
    "name": "ipython",
    "version": 3
   },
   "file_extension": ".py",
   "mimetype": "text/x-python",
   "name": "python",
   "nbconvert_exporter": "python",
   "pygments_lexer": "ipython3",
   "version": "3.8.8"
  },
  "orig_nbformat": 4,
  "kernelspec": {
   "name": "python3",
   "display_name": "Python 3.8.8 64-bit ('base': conda)"
  },
  "interpreter": {
   "hash": "0a50b215142d87f83c3467aa843d55e66b293ff2981807bd882bb4e6b8ecbdc5"
  }
 },
 "nbformat": 4,
 "nbformat_minor": 2,
 "cells": [
  {
   "source": [
    "# Python科学运算2:矢量化操作与广播运算（练习版）\n",
    "> 请在空格单元格输入\n"
   ],
   "cell_type": "markdown",
   "metadata": {}
  },
  {
   "cell_type": "code",
   "execution_count": 1,
   "metadata": {},
   "outputs": [],
   "source": [
    "# 导包\n",
    "import numpy as np"
   ]
  },
  {
   "source": [
    "## 矢量化操作\n",
    "数据在不需要编写循环的情况下就可以进行批量运算，这就叫矢量化操作\n",
    "### 加法"
   ],
   "cell_type": "markdown",
   "metadata": {}
  },
  {
   "cell_type": "code",
   "execution_count": 2,
   "metadata": {},
   "outputs": [],
   "source": [
    "arr1 = np.array([1,2,3,4])\n",
    "arr2 = np.array([5,6,7,8])\n",
    "# 请计算相加\n"
   ]
  },
  {
   "cell_type": "code",
   "execution_count": 3,
   "metadata": {},
   "outputs": [],
   "source": [
    "arr1 = np.array([[1,2,3,4],[-3,2,4,9]])\n",
    "arr2 = np.array([[5,6,7,8],[4,5,1,-10]])\n",
    "# 请计算相加"
   ]
  },
  {
   "source": [
    "### 减法\n"
   ],
   "cell_type": "markdown",
   "metadata": {}
  },
  {
   "cell_type": "code",
   "execution_count": 4,
   "metadata": {},
   "outputs": [],
   "source": [
    "# 测试arr2-arr1"
   ]
  },
  {
   "source": [
    "### 乘法"
   ],
   "cell_type": "markdown",
   "metadata": {}
  },
  {
   "cell_type": "code",
   "execution_count": 6,
   "metadata": {},
   "outputs": [],
   "source": [
    "# 测试arr1*arr2"
   ]
  },
  {
   "cell_type": "code",
   "execution_count": 8,
   "metadata": {},
   "outputs": [],
   "source": [
    "# 测试 5*arr1"
   ]
  },
  {
   "source": [
    "### 除法"
   ],
   "cell_type": "markdown",
   "metadata": {}
  },
  {
   "cell_type": "code",
   "execution_count": 7,
   "metadata": {},
   "outputs": [],
   "source": [
    "# 测试arr1/arr2"
   ]
  },
  {
   "source": [
    "### 基本的索引和切片操作"
   ],
   "cell_type": "markdown",
   "metadata": {}
  },
  {
   "cell_type": "code",
   "execution_count": 9,
   "metadata": {},
   "outputs": [
    {
     "output_type": "execute_result",
     "data": {
      "text/plain": [
       "array([0, 1, 2, 3, 4, 5, 6, 7, 8, 9])"
      ]
     },
     "metadata": {},
     "execution_count": 9
    }
   ],
   "source": [
    "# 初始化\n",
    "arr =  np.arange(10)\n",
    "arr"
   ]
  },
  {
   "cell_type": "code",
   "execution_count": 10,
   "metadata": {},
   "outputs": [],
   "source": [
    "# 索引第三个"
   ]
  },
  {
   "cell_type": "code",
   "execution_count": 11,
   "metadata": {},
   "outputs": [],
   "source": [
    "# 访问4及以后的元素"
   ]
  },
  {
   "cell_type": "code",
   "execution_count": 14,
   "metadata": {},
   "outputs": [],
   "source": [
    "# 将一个标量的值赋这一个切片时，该值会自动的传播到整个区域，并且直接影响原数据的值\n",
    "# 将 arr 前5个数改为 3\n"
   ]
  },
  {
   "cell_type": "code",
   "execution_count": 15,
   "metadata": {},
   "outputs": [],
   "source": [
    "# 如果不想影响原数据操作\n",
    "# 使用copy\n"
   ]
  },
  {
   "cell_type": "code",
   "execution_count": 16,
   "metadata": {},
   "outputs": [
    {
     "output_type": "execute_result",
     "data": {
      "text/plain": [
       "array([[ 1,  2,  3,  4],\n",
       "       [-3,  2,  4,  9]])"
      ]
     },
     "metadata": {},
     "execution_count": 16
    }
   ],
   "source": [
    "# 访问2维数组\n",
    "arr3 = np.array([[1,2,3,4],[-3,2,4,9]])\n",
    "arr3"
   ]
  },
  {
   "cell_type": "code",
   "execution_count": 17,
   "metadata": {},
   "outputs": [],
   "source": [
    "# 读取第二行 [-3,  2,  4,  9]\n"
   ]
  },
  {
   "cell_type": "code",
   "execution_count": 18,
   "metadata": {},
   "outputs": [],
   "source": [
    "# 读取第二行第一个\n"
   ]
  },
  {
   "source": [
    "### 比较运算\n",
    "- 在之前我们学习多条件运算时，我们使用的是and 和 or\n",
    "- 使用numpy对象进行多条件的比较运算时，不能使用and和or\n",
    "- 必须使用 &（and） 和 ｜（or）"
   ],
   "cell_type": "markdown",
   "metadata": {}
  },
  {
   "cell_type": "code",
   "execution_count": 20,
   "metadata": {},
   "outputs": [
    {
     "output_type": "execute_result",
     "data": {
      "text/plain": [
       "array(['John', 'Tony', 'Jackie', 'Ben'], dtype='<U6')"
      ]
     },
     "metadata": {},
     "execution_count": 20
    }
   ],
   "source": [
    "names = np.array(['John','Tony','Jackie','Ben'])\n",
    "names"
   ]
  },
  {
   "cell_type": "code",
   "execution_count": 21,
   "metadata": {},
   "outputs": [
    {
     "output_type": "execute_result",
     "data": {
      "text/plain": [
       "array([False,  True, False, False])"
      ]
     },
     "metadata": {},
     "execution_count": 21
    }
   ],
   "source": [
    "names == \"Tony\""
   ]
  },
  {
   "cell_type": "code",
   "execution_count": 22,
   "metadata": {},
   "outputs": [],
   "source": [
    "# 选择 同时为 Tony 和 Ben"
   ]
  },
  {
   "cell_type": "code",
   "execution_count": 23,
   "metadata": {},
   "outputs": [],
   "source": [
    "# 选择 Tony 或 Ben"
   ]
  },
  {
   "source": [
    "### 花式索引（fancy indexing）"
   ],
   "cell_type": "markdown",
   "metadata": {}
  },
  {
   "cell_type": "code",
   "execution_count": null,
   "metadata": {},
   "outputs": [],
   "source": []
  }
 ]
}