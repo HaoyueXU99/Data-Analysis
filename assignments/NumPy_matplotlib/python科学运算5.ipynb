{
 "metadata": {
  "language_info": {
   "codemirror_mode": {
    "name": "ipython",
    "version": 3
   },
   "file_extension": ".py",
   "mimetype": "text/x-python",
   "name": "python",
   "nbconvert_exporter": "python",
   "pygments_lexer": "ipython3",
   "version": "3.8.8"
  },
  "orig_nbformat": 4,
  "kernelspec": {
   "name": "python3",
   "display_name": "Python 3.8.8 64-bit ('base': conda)"
  },
  "interpreter": {
   "hash": "0a50b215142d87f83c3467aa843d55e66b293ff2981807bd882bb4e6b8ecbdc5"
  }
 },
 "nbformat": 4,
 "nbformat_minor": 2,
 "cells": [
  {
   "source": [
    "# Python科学运算5:异常值与缺失值的处理"
   ],
   "cell_type": "markdown",
   "metadata": {}
  },
  {
   "cell_type": "code",
   "execution_count": 2,
   "metadata": {},
   "outputs": [],
   "source": [
    "# 导包\n",
    "import numpy as np\n",
    "import pandas as pd"
   ]
  },
  {
   "cell_type": "code",
   "execution_count": 5,
   "metadata": {},
   "outputs": [
    {
     "output_type": "execute_result",
     "data": {
      "text/plain": [
       "  出发地   目的地     价格      节省                                      路线名  \\\n",
       "0  哈尔滨   北海  2208.0  650.0     哈尔滨-北海3天2晚 | 入住北海祥丰嘉年华大酒店 + 春秋航空往返机票   \n",
       "1   成都  泸沽湖  1145.0  376.0    成都-泸沽湖3天2晚 | 入住7天酒店丽江古城中心店 + 成都航空往返机票   \n",
       "2   广州   沈阳  2702.0  618.0     广州-沈阳3天2晚 | 入住沈阳中煤宾馆 + 南方航空/深圳航空往返机票   \n",
       "3   上海  九寨沟  1954.0  484.0        上海-九寨沟3天2晚 | 入住红原芸谊大酒店 + 成都航空往返机票   \n",
       "4   广州   天津  1608.0  422.0  广州-天津3天2晚 | 入住天津逸海明珠大酒店 + 奥凯航空/海南航空往返机票   \n",
       "\n",
       "                        酒店                          房间         去程航司 去程方式  \\\n",
       "0   北海祥丰嘉年华大酒店 舒适型 4.7分/5分       标准双人间(双床) 双床 不含早 1间2晚  春秋航空 9C8741   直飞   \n",
       "1  7天酒店丽江古城中心店 经济型 4.0分/5分  经济房-不含早-限时特... 其他 不含早 1间2晚  成都航空 EU2237   直飞   \n",
       "2       沈阳中煤宾馆 舒适型 4.5分/5分          大床间(内宾) 大床 双早 1间2晚  南方航空 CZ6384   直飞   \n",
       "3      红原芸谊大酒店 舒适型 4.6分/5分        豪华双床房[双早] 双床 双早 1间2晚  成都航空 EU6678   直飞   \n",
       "4    天津逸海明珠大酒店 高档型 4.1分/5分       豪华双床房(预付) 双床 不含早 1间2晚  奥凯航空 BK2787   直飞   \n",
       "\n",
       "          去程时间         回程航司 回程方式          回程时间  \n",
       "0  17:10-21:50  春秋航空 9C8742    直飞  10:20-15:05  \n",
       "1  19:45-21:20  成都航空 EU2738    直飞  23:30-01:05  \n",
       "2  08:05-11:45  深圳航空 ZH9652    经停  08:20-13:05  \n",
       "3  21:55-01:15  成都航空 EU6677    直飞  17:45-20:35  \n",
       "4  06:55-10:00  海南航空 HU7201    直飞  20:15-23:25  "
      ],
      "text/html": "<div>\n<style scoped>\n    .dataframe tbody tr th:only-of-type {\n        vertical-align: middle;\n    }\n\n    .dataframe tbody tr th {\n        vertical-align: top;\n    }\n\n    .dataframe thead th {\n        text-align: right;\n    }\n</style>\n<table border=\"1\" class=\"dataframe\">\n  <thead>\n    <tr style=\"text-align: right;\">\n      <th></th>\n      <th>出发地</th>\n      <th>目的地</th>\n      <th>价格</th>\n      <th>节省</th>\n      <th>路线名</th>\n      <th>酒店</th>\n      <th>房间</th>\n      <th>去程航司</th>\n      <th>去程方式</th>\n      <th>去程时间</th>\n      <th>回程航司</th>\n      <th>回程方式</th>\n      <th>回程时间</th>\n    </tr>\n  </thead>\n  <tbody>\n    <tr>\n      <th>0</th>\n      <td>哈尔滨</td>\n      <td>北海</td>\n      <td>2208.0</td>\n      <td>650.0</td>\n      <td>哈尔滨-北海3天2晚 | 入住北海祥丰嘉年华大酒店 + 春秋航空往返机票</td>\n      <td>北海祥丰嘉年华大酒店 舒适型 4.7分/5分</td>\n      <td>标准双人间(双床) 双床 不含早 1间2晚</td>\n      <td>春秋航空 9C8741</td>\n      <td>直飞</td>\n      <td>17:10-21:50</td>\n      <td>春秋航空 9C8742</td>\n      <td>直飞</td>\n      <td>10:20-15:05</td>\n    </tr>\n    <tr>\n      <th>1</th>\n      <td>成都</td>\n      <td>泸沽湖</td>\n      <td>1145.0</td>\n      <td>376.0</td>\n      <td>成都-泸沽湖3天2晚 | 入住7天酒店丽江古城中心店 + 成都航空往返机票</td>\n      <td>7天酒店丽江古城中心店 经济型 4.0分/5分</td>\n      <td>经济房-不含早-限时特... 其他 不含早 1间2晚</td>\n      <td>成都航空 EU2237</td>\n      <td>直飞</td>\n      <td>19:45-21:20</td>\n      <td>成都航空 EU2738</td>\n      <td>直飞</td>\n      <td>23:30-01:05</td>\n    </tr>\n    <tr>\n      <th>2</th>\n      <td>广州</td>\n      <td>沈阳</td>\n      <td>2702.0</td>\n      <td>618.0</td>\n      <td>广州-沈阳3天2晚 | 入住沈阳中煤宾馆 + 南方航空/深圳航空往返机票</td>\n      <td>沈阳中煤宾馆 舒适型 4.5分/5分</td>\n      <td>大床间(内宾) 大床 双早 1间2晚</td>\n      <td>南方航空 CZ6384</td>\n      <td>直飞</td>\n      <td>08:05-11:45</td>\n      <td>深圳航空 ZH9652</td>\n      <td>经停</td>\n      <td>08:20-13:05</td>\n    </tr>\n    <tr>\n      <th>3</th>\n      <td>上海</td>\n      <td>九寨沟</td>\n      <td>1954.0</td>\n      <td>484.0</td>\n      <td>上海-九寨沟3天2晚 | 入住红原芸谊大酒店 + 成都航空往返机票</td>\n      <td>红原芸谊大酒店 舒适型 4.6分/5分</td>\n      <td>豪华双床房[双早] 双床 双早 1间2晚</td>\n      <td>成都航空 EU6678</td>\n      <td>直飞</td>\n      <td>21:55-01:15</td>\n      <td>成都航空 EU6677</td>\n      <td>直飞</td>\n      <td>17:45-20:35</td>\n    </tr>\n    <tr>\n      <th>4</th>\n      <td>广州</td>\n      <td>天津</td>\n      <td>1608.0</td>\n      <td>422.0</td>\n      <td>广州-天津3天2晚 | 入住天津逸海明珠大酒店 + 奥凯航空/海南航空往返机票</td>\n      <td>天津逸海明珠大酒店 高档型 4.1分/5分</td>\n      <td>豪华双床房(预付) 双床 不含早 1间2晚</td>\n      <td>奥凯航空 BK2787</td>\n      <td>直飞</td>\n      <td>06:55-10:00</td>\n      <td>海南航空 HU7201</td>\n      <td>直飞</td>\n      <td>20:15-23:25</td>\n    </tr>\n  </tbody>\n</table>\n</div>"
     },
     "metadata": {},
     "execution_count": 5
    }
   ],
   "source": [
    "# 把第0列设置成为索引列\n",
    "df = pd.read_csv('data2.csv', index_col=0)\n",
    "df.head()"
   ]
  },
  {
   "cell_type": "code",
   "execution_count": 7,
   "metadata": {},
   "outputs": [
    {
     "output_type": "execute_result",
     "data": {
      "text/plain": [
       "(5100, 13)"
      ]
     },
     "metadata": {},
     "execution_count": 7
    }
   ],
   "source": [
    "# 查看数据的形状\n",
    "df.shape"
   ]
  },
  {
   "cell_type": "code",
   "execution_count": 8,
   "metadata": {},
   "outputs": [
    {
     "output_type": "stream",
     "name": "stdout",
     "text": [
      "<class 'pandas.core.frame.DataFrame'>\nInt64Index: 5100 entries, 0 to 5099\nData columns (total 13 columns):\n #   Column  Non-Null Count  Dtype  \n---  ------  --------------  -----  \n 0   出发地     5098 non-null   object \n 1    目的地    5099 non-null   object \n 2   价格      5072 non-null   float64\n 3   节省      5083 non-null   float64\n 4   路线名     5100 non-null   object \n 5   酒店      5100 non-null   object \n 6   房间      5100 non-null   object \n 7   去程航司    5100 non-null   object \n 8   去程方式    5100 non-null   object \n 9   去程时间    5100 non-null   object \n 10  回程航司    5100 non-null   object \n 11  回程方式    5100 non-null   object \n 12  回程时间    5100 non-null   object \ndtypes: float64(2), object(11)\nmemory usage: 686.9+ KB\n"
     ]
    }
   ],
   "source": [
    "# 查看数据详情，从数据详情中分析出哪些列是有空值的\n",
    "df.info()"
   ]
  },
  {
   "cell_type": "code",
   "execution_count": 10,
   "metadata": {},
   "outputs": [
    {
     "output_type": "execute_result",
     "data": {
      "text/plain": [
       "                 价格            节省\n",
       "count    5072.000000  5083.000000\n",
       "mean     1765.714905   474.139878\n",
       "std      2580.129644   168.893780\n",
       "min       578.000000   306.000000\n",
       "25%      1253.000000   358.000000\n",
       "50%      1632.000000   436.000000\n",
       "75%      2028.250000   530.000000\n",
       "max    179500.000000  3500.000000"
      ],
      "text/html": "<div>\n<style scoped>\n    .dataframe tbody tr th:only-of-type {\n        vertical-align: middle;\n    }\n\n    .dataframe tbody tr th {\n        vertical-align: top;\n    }\n\n    .dataframe thead th {\n        text-align: right;\n    }\n</style>\n<table border=\"1\" class=\"dataframe\">\n  <thead>\n    <tr style=\"text-align: right;\">\n      <th></th>\n      <th>价格</th>\n      <th>节省</th>\n    </tr>\n  </thead>\n  <tbody>\n    <tr>\n      <th>count</th>\n      <td>5072.000000</td>\n      <td>5083.000000</td>\n    </tr>\n    <tr>\n      <th>mean</th>\n      <td>1765.714905</td>\n      <td>474.139878</td>\n    </tr>\n    <tr>\n      <th>std</th>\n      <td>2580.129644</td>\n      <td>168.893780</td>\n    </tr>\n    <tr>\n      <th>min</th>\n      <td>578.000000</td>\n      <td>306.000000</td>\n    </tr>\n    <tr>\n      <th>25%</th>\n      <td>1253.000000</td>\n      <td>358.000000</td>\n    </tr>\n    <tr>\n      <th>50%</th>\n      <td>1632.000000</td>\n      <td>436.000000</td>\n    </tr>\n    <tr>\n      <th>75%</th>\n      <td>2028.250000</td>\n      <td>530.000000</td>\n    </tr>\n    <tr>\n      <th>max</th>\n      <td>179500.000000</td>\n      <td>3500.000000</td>\n    </tr>\n  </tbody>\n</table>\n</div>"
     },
     "metadata": {},
     "execution_count": 10
    }
   ],
   "source": [
    "# 查看数据的描述，并说明为什么不是所有的列都有数据描述\n",
    "# 只有数字类型有\n",
    "df.describe()"
   ]
  },
  {
   "cell_type": "code",
   "execution_count": 11,
   "metadata": {},
   "outputs": [
    {
     "output_type": "execute_result",
     "data": {
      "text/plain": [
       "Index(['出发地 ', ' 目的地', '价格 ', '节省', '路线名', '酒店', '房间', '去程航司', '去程方式', '去程时间',\n",
       "       '回程航司', '回程方式 ', '回程时间'],\n",
       "      dtype='object')"
      ]
     },
     "metadata": {},
     "execution_count": 11
    }
   ],
   "source": [
    "# 查询列名\n",
    "df.columns"
   ]
  },
  {
   "cell_type": "code",
   "execution_count": 12,
   "metadata": {},
   "outputs": [
    {
     "output_type": "execute_result",
     "data": {
      "text/plain": [
       "array(['出发地 ', ' 目的地', '价格 ', '节省', '路线名', '酒店', '房间', '去程航司', '去程方式',\n",
       "       '去程时间', '回程航司', '回程方式 ', '回程时间'], dtype=object)"
      ]
     },
     "metadata": {},
     "execution_count": 12
    }
   ],
   "source": [
    "# 查看列的值并发现列的值有什么问题\n",
    "col = df.columns.values\n",
    "col"
   ]
  },
  {
   "cell_type": "code",
   "execution_count": 14,
   "metadata": {},
   "outputs": [
    {
     "output_type": "execute_result",
     "data": {
      "text/plain": [
       "Index(['出发地', '目的地', '价格', '节省', '路线名', '酒店', '房间', '去程航司', '去程方式', '去程时间',\n",
       "       '回程航司', '回程方式', '回程时间'],\n",
       "      dtype='object')"
      ]
     },
     "metadata": {},
     "execution_count": 14
    }
   ],
   "source": [
    "# 去除掉名称两端的空格\n",
    "# col[0].strip()\n",
    "df.columns = [x.strip() for x in col]\n",
    "df.columns"
   ]
  },
  {
   "cell_type": "code",
   "execution_count": 15,
   "metadata": {},
   "outputs": [
    {
     "output_type": "execute_result",
     "data": {
      "text/plain": [
       "array(['出发地', '目的地', '价格', '节省', '路线名', '酒店', '房间', '去程航司', '去程方式',\n",
       "       '去程时间', '回程航司', '回程方式', '回程时间'], dtype=object)"
      ]
     },
     "metadata": {},
     "execution_count": 15
    }
   ],
   "source": [
    "df.columns.values"
   ]
  },
  {
   "source": [
    "## 重复值的处理"
   ],
   "cell_type": "markdown",
   "metadata": {}
  },
  {
   "cell_type": "code",
   "execution_count": 16,
   "metadata": {},
   "outputs": [
    {
     "output_type": "execute_result",
     "data": {
      "text/plain": [
       "      出发地  目的地      价格     节省                                          路线名  \\\n",
       "454    广州   黄山  1871.0  492.0          广州-黄山3天2晚 | 入住黄山汤口醉享主题酒店 + 南方航空往返机票   \n",
       "649    济南   长沙  1134.0  360.0          济南-长沙3天2晚 | 入住长沙喜迎宾华天大酒店 + 山东航空往返机票   \n",
       "685    青岛   重庆  1474.0  420.0    青岛-重庆3天2晚 | 入住怡家丽景酒店重庆垫江店 + 山东航空/华夏航空往返机票   \n",
       "852    北京  哈尔滨  1450.0  368.0    北京-哈尔滨3天2晚 | 入住哈尔滨水逸城市酒店 + 南方航空/大新华航空往返机票   \n",
       "922    北京   长沙  1289.0  334.0      北京-长沙3天2晚 | 入住浏阳市华尔宫大酒店 + 海南航空/南方航空往返机票   \n",
       "...   ...  ...     ...    ...                                          ...   \n",
       "5045   杭州   丽江  2872.0  718.0    杭州-丽江3天2晚 | 入住丽江松竹居客栈玉观音店 + 长龙航空/首都航空往返机票   \n",
       "5066  哈尔滨   西安  1843.0  450.0  哈尔滨-西安3天2晚 | 入住西安铁通商务酒店贵宾楼 + 天津航空/东方航空往返...   \n",
       "5068   南京   成都  1922.0  552.0        南京-成都3天2晚 | 入住成都伊丽特酒店 + 东方航空/西藏航空往返机票   \n",
       "5081   上海   青岛   769.0  354.0       上海-青岛3天2晚 | 入住青岛金中太大酒店 + 春秋航空/吉祥航空往返机票   \n",
       "5095   宁波  九寨沟  2085.0  562.0  宁波-九寨沟3天2晚 | 入住黑水县达古冰山国际大酒店 + 成都航空/四川航空往...   \n",
       "\n",
       "                            酒店                          房间         去程航司 去程方式  \\\n",
       "454     黄山汤口醉享主题酒店 舒适型 4.8分/5分        睫毛弯弯(大床) 大床 不含早 1间2晚  南方航空 CZ3627   直飞   \n",
       "649     长沙喜迎宾华天大酒店 高档型 3.7分/5分  特惠双间(特惠抢购)(... 双床 不含早 1间2晚  山东航空 SC1185   直飞   \n",
       "685    怡家丽景酒店重庆垫江店 舒适型 4.3分/5分  法式房(内宾)(无窗)... 大床 不含早 1间2晚  山东航空 SC4709   经停   \n",
       "852      哈尔滨水逸城市酒店 舒适型 4.6分/5分   标准间-【预付特惠】独... 双床 双早 1间2晚  南方航空 CZ6202   直飞   \n",
       "922          浏阳市华尔宫大酒店 3.8分/5分       豪华双人间(双床) 双床 不含早 1间2晚  海南航空 HU7135   直飞   \n",
       "...                        ...                         ...          ...  ...   \n",
       "5045   丽江松竹居客栈玉观音店 高档型 4.6分/5分         特惠房(大床) 大床 不含早 1间2晚  长龙航空 GJ8869   经停   \n",
       "5066   西安铁通商务酒店贵宾楼 舒适型 4.2分/5分  标准间(持房卡尊享清凉... 双床 不含早 1间2晚  天津航空 GS7584   经停   \n",
       "5068       成都伊丽特酒店 高档型 4.5分/5分   行政标准间-含早立即确... 双床 双早 1间2晚  东方航空 MU2880   直飞   \n",
       "5081      青岛金中太大酒店 舒适型 4.8分/5分       特惠大床房[无早] 大床 不含早 1间2晚  春秋航空 9C8853   直飞   \n",
       "5095  黑水县达古冰山国际大酒店 豪华型 3.9分/5分      B区豪华标间(双床) 双床 不含早 1间2晚  成都航空 EU2730   经停   \n",
       "\n",
       "             去程时间          回程航司 回程方式         回程时间  \n",
       "454   19:20-21:15   南方航空 CZ3628   直飞  22:05-23:50  \n",
       "649   18:40-20:50   山东航空 SC1186   直飞  10:20-12:15  \n",
       "685   19:30-00:05   华夏航空 G54710   经停  18:00-22:25  \n",
       "852   22:20-00:20  大新华航空 CN7150   直飞  22:50-00:55  \n",
       "922   17:45-20:30   南方航空 CZ3855   直飞  22:55-01:10  \n",
       "...           ...           ...  ...          ...  \n",
       "5045  08:50-13:35   首都航空 JD5192   直飞  13:00-16:15  \n",
       "5066  12:30-17:40   东方航空 MU2211   经停  08:45-13:25  \n",
       "5068  21:55-00:35   西藏航空 TV9839   直飞  06:30-08:55  \n",
       "5081  19:50-21:35   吉祥航空 HO1242   直飞  23:05-00:35  \n",
       "5095  19:45-00:45   四川航空 3U8927   经停  07:55-12:15  \n",
       "\n",
       "[100 rows x 13 columns]"
      ],
      "text/html": "<div>\n<style scoped>\n    .dataframe tbody tr th:only-of-type {\n        vertical-align: middle;\n    }\n\n    .dataframe tbody tr th {\n        vertical-align: top;\n    }\n\n    .dataframe thead th {\n        text-align: right;\n    }\n</style>\n<table border=\"1\" class=\"dataframe\">\n  <thead>\n    <tr style=\"text-align: right;\">\n      <th></th>\n      <th>出发地</th>\n      <th>目的地</th>\n      <th>价格</th>\n      <th>节省</th>\n      <th>路线名</th>\n      <th>酒店</th>\n      <th>房间</th>\n      <th>去程航司</th>\n      <th>去程方式</th>\n      <th>去程时间</th>\n      <th>回程航司</th>\n      <th>回程方式</th>\n      <th>回程时间</th>\n    </tr>\n  </thead>\n  <tbody>\n    <tr>\n      <th>454</th>\n      <td>广州</td>\n      <td>黄山</td>\n      <td>1871.0</td>\n      <td>492.0</td>\n      <td>广州-黄山3天2晚 | 入住黄山汤口醉享主题酒店 + 南方航空往返机票</td>\n      <td>黄山汤口醉享主题酒店 舒适型 4.8分/5分</td>\n      <td>睫毛弯弯(大床) 大床 不含早 1间2晚</td>\n      <td>南方航空 CZ3627</td>\n      <td>直飞</td>\n      <td>19:20-21:15</td>\n      <td>南方航空 CZ3628</td>\n      <td>直飞</td>\n      <td>22:05-23:50</td>\n    </tr>\n    <tr>\n      <th>649</th>\n      <td>济南</td>\n      <td>长沙</td>\n      <td>1134.0</td>\n      <td>360.0</td>\n      <td>济南-长沙3天2晚 | 入住长沙喜迎宾华天大酒店 + 山东航空往返机票</td>\n      <td>长沙喜迎宾华天大酒店 高档型 3.7分/5分</td>\n      <td>特惠双间(特惠抢购)(... 双床 不含早 1间2晚</td>\n      <td>山东航空 SC1185</td>\n      <td>直飞</td>\n      <td>18:40-20:50</td>\n      <td>山东航空 SC1186</td>\n      <td>直飞</td>\n      <td>10:20-12:15</td>\n    </tr>\n    <tr>\n      <th>685</th>\n      <td>青岛</td>\n      <td>重庆</td>\n      <td>1474.0</td>\n      <td>420.0</td>\n      <td>青岛-重庆3天2晚 | 入住怡家丽景酒店重庆垫江店 + 山东航空/华夏航空往返机票</td>\n      <td>怡家丽景酒店重庆垫江店 舒适型 4.3分/5分</td>\n      <td>法式房(内宾)(无窗)... 大床 不含早 1间2晚</td>\n      <td>山东航空 SC4709</td>\n      <td>经停</td>\n      <td>19:30-00:05</td>\n      <td>华夏航空 G54710</td>\n      <td>经停</td>\n      <td>18:00-22:25</td>\n    </tr>\n    <tr>\n      <th>852</th>\n      <td>北京</td>\n      <td>哈尔滨</td>\n      <td>1450.0</td>\n      <td>368.0</td>\n      <td>北京-哈尔滨3天2晚 | 入住哈尔滨水逸城市酒店 + 南方航空/大新华航空往返机票</td>\n      <td>哈尔滨水逸城市酒店 舒适型 4.6分/5分</td>\n      <td>标准间-【预付特惠】独... 双床 双早 1间2晚</td>\n      <td>南方航空 CZ6202</td>\n      <td>直飞</td>\n      <td>22:20-00:20</td>\n      <td>大新华航空 CN7150</td>\n      <td>直飞</td>\n      <td>22:50-00:55</td>\n    </tr>\n    <tr>\n      <th>922</th>\n      <td>北京</td>\n      <td>长沙</td>\n      <td>1289.0</td>\n      <td>334.0</td>\n      <td>北京-长沙3天2晚 | 入住浏阳市华尔宫大酒店 + 海南航空/南方航空往返机票</td>\n      <td>浏阳市华尔宫大酒店 3.8分/5分</td>\n      <td>豪华双人间(双床) 双床 不含早 1间2晚</td>\n      <td>海南航空 HU7135</td>\n      <td>直飞</td>\n      <td>17:45-20:30</td>\n      <td>南方航空 CZ3855</td>\n      <td>直飞</td>\n      <td>22:55-01:10</td>\n    </tr>\n    <tr>\n      <th>...</th>\n      <td>...</td>\n      <td>...</td>\n      <td>...</td>\n      <td>...</td>\n      <td>...</td>\n      <td>...</td>\n      <td>...</td>\n      <td>...</td>\n      <td>...</td>\n      <td>...</td>\n      <td>...</td>\n      <td>...</td>\n      <td>...</td>\n    </tr>\n    <tr>\n      <th>5045</th>\n      <td>杭州</td>\n      <td>丽江</td>\n      <td>2872.0</td>\n      <td>718.0</td>\n      <td>杭州-丽江3天2晚 | 入住丽江松竹居客栈玉观音店 + 长龙航空/首都航空往返机票</td>\n      <td>丽江松竹居客栈玉观音店 高档型 4.6分/5分</td>\n      <td>特惠房(大床) 大床 不含早 1间2晚</td>\n      <td>长龙航空 GJ8869</td>\n      <td>经停</td>\n      <td>08:50-13:35</td>\n      <td>首都航空 JD5192</td>\n      <td>直飞</td>\n      <td>13:00-16:15</td>\n    </tr>\n    <tr>\n      <th>5066</th>\n      <td>哈尔滨</td>\n      <td>西安</td>\n      <td>1843.0</td>\n      <td>450.0</td>\n      <td>哈尔滨-西安3天2晚 | 入住西安铁通商务酒店贵宾楼 + 天津航空/东方航空往返...</td>\n      <td>西安铁通商务酒店贵宾楼 舒适型 4.2分/5分</td>\n      <td>标准间(持房卡尊享清凉... 双床 不含早 1间2晚</td>\n      <td>天津航空 GS7584</td>\n      <td>经停</td>\n      <td>12:30-17:40</td>\n      <td>东方航空 MU2211</td>\n      <td>经停</td>\n      <td>08:45-13:25</td>\n    </tr>\n    <tr>\n      <th>5068</th>\n      <td>南京</td>\n      <td>成都</td>\n      <td>1922.0</td>\n      <td>552.0</td>\n      <td>南京-成都3天2晚 | 入住成都伊丽特酒店 + 东方航空/西藏航空往返机票</td>\n      <td>成都伊丽特酒店 高档型 4.5分/5分</td>\n      <td>行政标准间-含早立即确... 双床 双早 1间2晚</td>\n      <td>东方航空 MU2880</td>\n      <td>直飞</td>\n      <td>21:55-00:35</td>\n      <td>西藏航空 TV9839</td>\n      <td>直飞</td>\n      <td>06:30-08:55</td>\n    </tr>\n    <tr>\n      <th>5081</th>\n      <td>上海</td>\n      <td>青岛</td>\n      <td>769.0</td>\n      <td>354.0</td>\n      <td>上海-青岛3天2晚 | 入住青岛金中太大酒店 + 春秋航空/吉祥航空往返机票</td>\n      <td>青岛金中太大酒店 舒适型 4.8分/5分</td>\n      <td>特惠大床房[无早] 大床 不含早 1间2晚</td>\n      <td>春秋航空 9C8853</td>\n      <td>直飞</td>\n      <td>19:50-21:35</td>\n      <td>吉祥航空 HO1242</td>\n      <td>直飞</td>\n      <td>23:05-00:35</td>\n    </tr>\n    <tr>\n      <th>5095</th>\n      <td>宁波</td>\n      <td>九寨沟</td>\n      <td>2085.0</td>\n      <td>562.0</td>\n      <td>宁波-九寨沟3天2晚 | 入住黑水县达古冰山国际大酒店 + 成都航空/四川航空往...</td>\n      <td>黑水县达古冰山国际大酒店 豪华型 3.9分/5分</td>\n      <td>B区豪华标间(双床) 双床 不含早 1间2晚</td>\n      <td>成都航空 EU2730</td>\n      <td>经停</td>\n      <td>19:45-00:45</td>\n      <td>四川航空 3U8927</td>\n      <td>经停</td>\n      <td>07:55-12:15</td>\n    </tr>\n  </tbody>\n</table>\n<p>100 rows × 13 columns</p>\n</div>"
     },
     "metadata": {},
     "execution_count": 16
    }
   ],
   "source": [
    "# 去除掉数据中所有的重复值，标准是所有行都重复的化我们算做重复值\n",
    "# 查看重复值\n",
    "df[df.duplicated()]"
   ]
  },
  {
   "cell_type": "code",
   "execution_count": 17,
   "metadata": {},
   "outputs": [
    {
     "output_type": "execute_result",
     "data": {
      "text/plain": [
       "100"
      ]
     },
     "metadata": {},
     "execution_count": 17
    }
   ],
   "source": [
    "# 查看一共有多少的重复值\n",
    "df.duplicated().sum()"
   ]
  },
  {
   "cell_type": "code",
   "execution_count": 19,
   "metadata": {},
   "outputs": [
    {
     "output_type": "execute_result",
     "data": {
      "text/plain": [
       "5100"
      ]
     },
     "metadata": {},
     "execution_count": 19
    }
   ],
   "source": [
    "df.duplicated().count()"
   ]
  },
  {
   "source": [
    "### count 和 sum 在这里的区别\n",
    "- count 是计数，计算所有的数量\n",
    "- sum 在这里是统计所有值为True的数量"
   ],
   "cell_type": "markdown",
   "metadata": {}
  },
  {
   "cell_type": "code",
   "execution_count": 20,
   "metadata": {},
   "outputs": [],
   "source": [
    "# 删掉所有的重复数据，并替换原来的数据\n",
    "df.drop_duplicates(inplace = True)"
   ]
  },
  {
   "cell_type": "code",
   "execution_count": 22,
   "metadata": {},
   "outputs": [
    {
     "output_type": "execute_result",
     "data": {
      "text/plain": [
       "0"
      ]
     },
     "metadata": {},
     "execution_count": 22
    }
   ],
   "source": [
    "# 再次查看一共有多少重复值，来确认到底有没有把重复值删除掉\n",
    "df.duplicated().sum()"
   ]
  },
  {
   "cell_type": "code",
   "execution_count": 23,
   "metadata": {},
   "outputs": [
    {
     "output_type": "execute_result",
     "data": {
      "text/plain": [
       "(5000, 13)"
      ]
     },
     "metadata": {},
     "execution_count": 23
    }
   ],
   "source": [
    "# 再次查看形状，来确认一下\n",
    "df.shape"
   ]
  },
  {
   "cell_type": "code",
   "execution_count": 24,
   "metadata": {},
   "outputs": [],
   "source": [
    "# 重置索引\n",
    "df.index = range(df.shape[0])"
   ]
  },
  {
   "cell_type": "code",
   "execution_count": 25,
   "metadata": {},
   "outputs": [
    {
     "output_type": "execute_result",
     "data": {
      "text/plain": [
       "RangeIndex(start=0, stop=5000, step=1)"
      ]
     },
     "metadata": {},
     "execution_count": 25
    }
   ],
   "source": [
    "df.index"
   ]
  },
  {
   "source": [
    "## 异常值的处理\n",
    "- 这里主要处理的字段是“价格”和“节省” "
   ],
   "cell_type": "markdown",
   "metadata": {}
  },
  {
   "cell_type": "code",
   "execution_count": 26,
   "metadata": {},
   "outputs": [
    {
     "output_type": "execute_result",
     "data": {
      "text/plain": [
       "                  价格           节省\n",
       "count    4972.000000  4983.000000\n",
       "mean     1767.782381   474.490869\n",
       "std      2604.329780   169.148391\n",
       "min       578.000000   306.000000\n",
       "25%      1253.000000   358.000000\n",
       "50%      1633.000000   436.000000\n",
       "75%      2031.000000   532.000000\n",
       "max    179500.000000  3500.000000"
      ],
      "text/html": "<div>\n<style scoped>\n    .dataframe tbody tr th:only-of-type {\n        vertical-align: middle;\n    }\n\n    .dataframe tbody tr th {\n        vertical-align: top;\n    }\n\n    .dataframe thead th {\n        text-align: right;\n    }\n</style>\n<table border=\"1\" class=\"dataframe\">\n  <thead>\n    <tr style=\"text-align: right;\">\n      <th></th>\n      <th>价格</th>\n      <th>节省</th>\n    </tr>\n  </thead>\n  <tbody>\n    <tr>\n      <th>count</th>\n      <td>4972.000000</td>\n      <td>4983.000000</td>\n    </tr>\n    <tr>\n      <th>mean</th>\n      <td>1767.782381</td>\n      <td>474.490869</td>\n    </tr>\n    <tr>\n      <th>std</th>\n      <td>2604.329780</td>\n      <td>169.148391</td>\n    </tr>\n    <tr>\n      <th>min</th>\n      <td>578.000000</td>\n      <td>306.000000</td>\n    </tr>\n    <tr>\n      <th>25%</th>\n      <td>1253.000000</td>\n      <td>358.000000</td>\n    </tr>\n    <tr>\n      <th>50%</th>\n      <td>1633.000000</td>\n      <td>436.000000</td>\n    </tr>\n    <tr>\n      <th>75%</th>\n      <td>2031.000000</td>\n      <td>532.000000</td>\n    </tr>\n    <tr>\n      <th>max</th>\n      <td>179500.000000</td>\n      <td>3500.000000</td>\n    </tr>\n  </tbody>\n</table>\n</div>"
     },
     "metadata": {},
     "execution_count": 26
    }
   ],
   "source": [
    "df.describe()"
   ]
  },
  {
   "cell_type": "code",
   "execution_count": 28,
   "metadata": {},
   "outputs": [
    {
     "output_type": "execute_result",
     "data": {
      "text/plain": [
       "     count         mean          std    min     25%     50%     75%       max\n",
       "价格  4972.0  1767.782381  2604.329780  578.0  1253.0  1633.0  2031.0  179500.0\n",
       "节省  4983.0   474.490869   169.148391  306.0   358.0   436.0   532.0    3500.0"
      ],
      "text/html": "<div>\n<style scoped>\n    .dataframe tbody tr th:only-of-type {\n        vertical-align: middle;\n    }\n\n    .dataframe tbody tr th {\n        vertical-align: top;\n    }\n\n    .dataframe thead th {\n        text-align: right;\n    }\n</style>\n<table border=\"1\" class=\"dataframe\">\n  <thead>\n    <tr style=\"text-align: right;\">\n      <th></th>\n      <th>count</th>\n      <th>mean</th>\n      <th>std</th>\n      <th>min</th>\n      <th>25%</th>\n      <th>50%</th>\n      <th>75%</th>\n      <th>max</th>\n    </tr>\n  </thead>\n  <tbody>\n    <tr>\n      <th>价格</th>\n      <td>4972.0</td>\n      <td>1767.782381</td>\n      <td>2604.329780</td>\n      <td>578.0</td>\n      <td>1253.0</td>\n      <td>1633.0</td>\n      <td>2031.0</td>\n      <td>179500.0</td>\n    </tr>\n    <tr>\n      <th>节省</th>\n      <td>4983.0</td>\n      <td>474.490869</td>\n      <td>169.148391</td>\n      <td>306.0</td>\n      <td>358.0</td>\n      <td>436.0</td>\n      <td>532.0</td>\n      <td>3500.0</td>\n    </tr>\n  </tbody>\n</table>\n</div>"
     },
     "metadata": {},
     "execution_count": 28
    }
   ],
   "source": [
    "df.describe().T"
   ]
  },
  {
   "cell_type": "code",
   "execution_count": 29,
   "metadata": {},
   "outputs": [
    {
     "output_type": "execute_result",
     "data": {
      "text/plain": [
       "2604.3297800791433"
      ]
     },
     "metadata": {},
     "execution_count": 29
    }
   ],
   "source": [
    "# 计算价格的标准差\n",
    "df['价格'].std()"
   ]
  },
  {
   "cell_type": "code",
   "execution_count": 30,
   "metadata": {},
   "outputs": [
    {
     "output_type": "execute_result",
     "data": {
      "text/plain": [
       "0       440.217619\n",
       "1      -622.782381\n",
       "2       934.217619\n",
       "3       186.217619\n",
       "4      -159.782381\n",
       "           ...    \n",
       "4995   -294.782381\n",
       "4996   -609.782381\n",
       "4997   -151.782381\n",
       "4998    -64.782381\n",
       "4999   -575.782381\n",
       "Name: 价格, Length: 5000, dtype: float64"
      ]
     },
     "metadata": {},
     "execution_count": 30
    }
   ],
   "source": [
    "# 计算价格减去价格平均值的差值\n",
    "df['价格']-df['价格'].mean()"
   ]
  },
  {
   "cell_type": "code",
   "execution_count": 34,
   "metadata": {},
   "outputs": [
    {
     "output_type": "execute_result",
     "data": {
      "text/plain": [
       "0       0.169033\n",
       "1      -0.239133\n",
       "2       0.358717\n",
       "3       0.071503\n",
       "4      -0.061353\n",
       "          ...   \n",
       "4995   -0.113189\n",
       "4996   -0.234142\n",
       "4997   -0.058281\n",
       "4998   -0.024875\n",
       "4999   -0.221087\n",
       "Name: 价格, Length: 5000, dtype: float64"
      ]
     },
     "metadata": {},
     "execution_count": 34
    }
   ],
   "source": [
    "# 标准差标准化处理，也叫做标准分数\n",
    "sta =  (df['价格']-df['价格'].mean())/df['价格'].std()\n",
    "sta"
   ]
  },
  {
   "cell_type": "code",
   "execution_count": 36,
   "metadata": {},
   "outputs": [
    {
     "output_type": "execute_result",
     "data": {
      "text/plain": [
       "     出发地  目的地        价格     节省                                     路线名  \\\n",
       "2763  杭州  九寨沟  179500.0  538.0  杭州-九寨沟3天2晚 | 入住九寨沟九乡宾馆 + 成都航空/长龙航空往返机票   \n",
       "\n",
       "                       酒店                   房间         去程航司 去程方式         去程时间  \\\n",
       "2763  九寨沟九乡宾馆 舒适型 4.3分/5分  特惠房(双床) 双床 不含早 1间2晚  成都航空 EU2206   经停  20:30-01:00   \n",
       "\n",
       "             回程航司 回程方式         回程时间  \n",
       "2763  长龙航空 GJ8680   经停  20:25-00:50  "
      ],
      "text/html": "<div>\n<style scoped>\n    .dataframe tbody tr th:only-of-type {\n        vertical-align: middle;\n    }\n\n    .dataframe tbody tr th {\n        vertical-align: top;\n    }\n\n    .dataframe thead th {\n        text-align: right;\n    }\n</style>\n<table border=\"1\" class=\"dataframe\">\n  <thead>\n    <tr style=\"text-align: right;\">\n      <th></th>\n      <th>出发地</th>\n      <th>目的地</th>\n      <th>价格</th>\n      <th>节省</th>\n      <th>路线名</th>\n      <th>酒店</th>\n      <th>房间</th>\n      <th>去程航司</th>\n      <th>去程方式</th>\n      <th>去程时间</th>\n      <th>回程航司</th>\n      <th>回程方式</th>\n      <th>回程时间</th>\n    </tr>\n  </thead>\n  <tbody>\n    <tr>\n      <th>2763</th>\n      <td>杭州</td>\n      <td>九寨沟</td>\n      <td>179500.0</td>\n      <td>538.0</td>\n      <td>杭州-九寨沟3天2晚 | 入住九寨沟九乡宾馆 + 成都航空/长龙航空往返机票</td>\n      <td>九寨沟九乡宾馆 舒适型 4.3分/5分</td>\n      <td>特惠房(双床) 双床 不含早 1间2晚</td>\n      <td>成都航空 EU2206</td>\n      <td>经停</td>\n      <td>20:30-01:00</td>\n      <td>长龙航空 GJ8680</td>\n      <td>经停</td>\n      <td>20:25-00:50</td>\n    </tr>\n  </tbody>\n</table>\n</div>"
     },
     "metadata": {},
     "execution_count": 36
    }
   ],
   "source": [
    "# 标准分数大于3的我们认为是异常值，现在就把异常值筛选出来\n",
    "df[sta.abs()>3]"
   ]
  },
  {
   "cell_type": "code",
   "execution_count": 37,
   "metadata": {},
   "outputs": [
    {
     "output_type": "execute_result",
     "data": {
      "text/plain": [
       "     出发地 目的地     价格      节省                                        路线名  \\\n",
       "2904  武汉  西安  949.0  3500.0          武汉-西安3天2晚 | 入住西安西稍门大酒店 + 东方航空往返机票   \n",
       "3108  济南  大连  911.0  3180.0     济南-大连3天2晚 | 入住普兰店科洋大酒店 + 山东航空/厦门航空往返机票   \n",
       "3660  沈阳  青岛  924.0  3200.0  沈阳-青岛3天2晚 | 入住星程酒店青岛台东步行街店 + 青岛航/南方航空往返机票   \n",
       "\n",
       "                            酒店                          房间         去程航司 去程方式  \\\n",
       "2904      西安西稍门大酒店 舒适型 3.3分/5分  标准间B(丝路之旅)(... 双床 不含早 1间2晚  东方航空 MU2194   直飞   \n",
       "3108      普兰店科洋大酒店 舒适型 4.4分/5分       大床房(限量促销) 大床 不含早 1间2晚  山东航空 SC4916   直飞   \n",
       "3660  星程酒店青岛台东步行街店 舒适型 4.2分/5分  大床房(内宾)(提前1... 大床 不含早 1间2晚   青岛航 QW9780   直飞   \n",
       "\n",
       "             去程时间         回程航司 回程方式         回程时间  \n",
       "2904  21:50-23:30  东方航空 MU2462   直飞  19:35-21:20  \n",
       "3108  19:45-20:50  厦门航空 MF8042   直飞  13:10-14:20  \n",
       "3660  22:35-00:10  南方航空 CZ6568   直飞  20:55-22:35  "
      ],
      "text/html": "<div>\n<style scoped>\n    .dataframe tbody tr th:only-of-type {\n        vertical-align: middle;\n    }\n\n    .dataframe tbody tr th {\n        vertical-align: top;\n    }\n\n    .dataframe thead th {\n        text-align: right;\n    }\n</style>\n<table border=\"1\" class=\"dataframe\">\n  <thead>\n    <tr style=\"text-align: right;\">\n      <th></th>\n      <th>出发地</th>\n      <th>目的地</th>\n      <th>价格</th>\n      <th>节省</th>\n      <th>路线名</th>\n      <th>酒店</th>\n      <th>房间</th>\n      <th>去程航司</th>\n      <th>去程方式</th>\n      <th>去程时间</th>\n      <th>回程航司</th>\n      <th>回程方式</th>\n      <th>回程时间</th>\n    </tr>\n  </thead>\n  <tbody>\n    <tr>\n      <th>2904</th>\n      <td>武汉</td>\n      <td>西安</td>\n      <td>949.0</td>\n      <td>3500.0</td>\n      <td>武汉-西安3天2晚 | 入住西安西稍门大酒店 + 东方航空往返机票</td>\n      <td>西安西稍门大酒店 舒适型 3.3分/5分</td>\n      <td>标准间B(丝路之旅)(... 双床 不含早 1间2晚</td>\n      <td>东方航空 MU2194</td>\n      <td>直飞</td>\n      <td>21:50-23:30</td>\n      <td>东方航空 MU2462</td>\n      <td>直飞</td>\n      <td>19:35-21:20</td>\n    </tr>\n    <tr>\n      <th>3108</th>\n      <td>济南</td>\n      <td>大连</td>\n      <td>911.0</td>\n      <td>3180.0</td>\n      <td>济南-大连3天2晚 | 入住普兰店科洋大酒店 + 山东航空/厦门航空往返机票</td>\n      <td>普兰店科洋大酒店 舒适型 4.4分/5分</td>\n      <td>大床房(限量促销) 大床 不含早 1间2晚</td>\n      <td>山东航空 SC4916</td>\n      <td>直飞</td>\n      <td>19:45-20:50</td>\n      <td>厦门航空 MF8042</td>\n      <td>直飞</td>\n      <td>13:10-14:20</td>\n    </tr>\n    <tr>\n      <th>3660</th>\n      <td>沈阳</td>\n      <td>青岛</td>\n      <td>924.0</td>\n      <td>3200.0</td>\n      <td>沈阳-青岛3天2晚 | 入住星程酒店青岛台东步行街店 + 青岛航/南方航空往返机票</td>\n      <td>星程酒店青岛台东步行街店 舒适型 4.2分/5分</td>\n      <td>大床房(内宾)(提前1... 大床 不含早 1间2晚</td>\n      <td>青岛航 QW9780</td>\n      <td>直飞</td>\n      <td>22:35-00:10</td>\n      <td>南方航空 CZ6568</td>\n      <td>直飞</td>\n      <td>20:55-22:35</td>\n    </tr>\n  </tbody>\n</table>\n</div>"
     },
     "metadata": {},
     "execution_count": 37
    }
   ],
   "source": [
    "# 请把节省的钱大于价格的钱的数据筛选出来\n",
    "df[df['节省'] > df['价格']]"
   ]
  },
  {
   "cell_type": "code",
   "execution_count": 38,
   "metadata": {},
   "outputs": [
    {
     "output_type": "execute_result",
     "data": {
      "text/plain": [
       "     出发地  目的地        价格      节省                                        路线名  \\\n",
       "2904  武汉   西安     949.0  3500.0          武汉-西安3天2晚 | 入住西安西稍门大酒店 + 东方航空往返机票   \n",
       "3108  济南   大连     911.0  3180.0     济南-大连3天2晚 | 入住普兰店科洋大酒店 + 山东航空/厦门航空往返机票   \n",
       "3660  沈阳   青岛     924.0  3200.0  沈阳-青岛3天2晚 | 入住星程酒店青岛台东步行街店 + 青岛航/南方航空往返机票   \n",
       "2763  杭州  九寨沟  179500.0   538.0     杭州-九寨沟3天2晚 | 入住九寨沟九乡宾馆 + 成都航空/长龙航空往返机票   \n",
       "\n",
       "                            酒店                          房间         去程航司 去程方式  \\\n",
       "2904      西安西稍门大酒店 舒适型 3.3分/5分  标准间B(丝路之旅)(... 双床 不含早 1间2晚  东方航空 MU2194   直飞   \n",
       "3108      普兰店科洋大酒店 舒适型 4.4分/5分       大床房(限量促销) 大床 不含早 1间2晚  山东航空 SC4916   直飞   \n",
       "3660  星程酒店青岛台东步行街店 舒适型 4.2分/5分  大床房(内宾)(提前1... 大床 不含早 1间2晚   青岛航 QW9780   直飞   \n",
       "2763       九寨沟九乡宾馆 舒适型 4.3分/5分         特惠房(双床) 双床 不含早 1间2晚  成都航空 EU2206   经停   \n",
       "\n",
       "             去程时间         回程航司 回程方式         回程时间  \n",
       "2904  21:50-23:30  东方航空 MU2462   直飞  19:35-21:20  \n",
       "3108  19:45-20:50  厦门航空 MF8042   直飞  13:10-14:20  \n",
       "3660  22:35-00:10  南方航空 CZ6568   直飞  20:55-22:35  \n",
       "2763  20:30-01:00  长龙航空 GJ8680   经停  20:25-00:50  "
      ],
      "text/html": "<div>\n<style scoped>\n    .dataframe tbody tr th:only-of-type {\n        vertical-align: middle;\n    }\n\n    .dataframe tbody tr th {\n        vertical-align: top;\n    }\n\n    .dataframe thead th {\n        text-align: right;\n    }\n</style>\n<table border=\"1\" class=\"dataframe\">\n  <thead>\n    <tr style=\"text-align: right;\">\n      <th></th>\n      <th>出发地</th>\n      <th>目的地</th>\n      <th>价格</th>\n      <th>节省</th>\n      <th>路线名</th>\n      <th>酒店</th>\n      <th>房间</th>\n      <th>去程航司</th>\n      <th>去程方式</th>\n      <th>去程时间</th>\n      <th>回程航司</th>\n      <th>回程方式</th>\n      <th>回程时间</th>\n    </tr>\n  </thead>\n  <tbody>\n    <tr>\n      <th>2904</th>\n      <td>武汉</td>\n      <td>西安</td>\n      <td>949.0</td>\n      <td>3500.0</td>\n      <td>武汉-西安3天2晚 | 入住西安西稍门大酒店 + 东方航空往返机票</td>\n      <td>西安西稍门大酒店 舒适型 3.3分/5分</td>\n      <td>标准间B(丝路之旅)(... 双床 不含早 1间2晚</td>\n      <td>东方航空 MU2194</td>\n      <td>直飞</td>\n      <td>21:50-23:30</td>\n      <td>东方航空 MU2462</td>\n      <td>直飞</td>\n      <td>19:35-21:20</td>\n    </tr>\n    <tr>\n      <th>3108</th>\n      <td>济南</td>\n      <td>大连</td>\n      <td>911.0</td>\n      <td>3180.0</td>\n      <td>济南-大连3天2晚 | 入住普兰店科洋大酒店 + 山东航空/厦门航空往返机票</td>\n      <td>普兰店科洋大酒店 舒适型 4.4分/5分</td>\n      <td>大床房(限量促销) 大床 不含早 1间2晚</td>\n      <td>山东航空 SC4916</td>\n      <td>直飞</td>\n      <td>19:45-20:50</td>\n      <td>厦门航空 MF8042</td>\n      <td>直飞</td>\n      <td>13:10-14:20</td>\n    </tr>\n    <tr>\n      <th>3660</th>\n      <td>沈阳</td>\n      <td>青岛</td>\n      <td>924.0</td>\n      <td>3200.0</td>\n      <td>沈阳-青岛3天2晚 | 入住星程酒店青岛台东步行街店 + 青岛航/南方航空往返机票</td>\n      <td>星程酒店青岛台东步行街店 舒适型 4.2分/5分</td>\n      <td>大床房(内宾)(提前1... 大床 不含早 1间2晚</td>\n      <td>青岛航 QW9780</td>\n      <td>直飞</td>\n      <td>22:35-00:10</td>\n      <td>南方航空 CZ6568</td>\n      <td>直飞</td>\n      <td>20:55-22:35</td>\n    </tr>\n    <tr>\n      <th>2763</th>\n      <td>杭州</td>\n      <td>九寨沟</td>\n      <td>179500.0</td>\n      <td>538.0</td>\n      <td>杭州-九寨沟3天2晚 | 入住九寨沟九乡宾馆 + 成都航空/长龙航空往返机票</td>\n      <td>九寨沟九乡宾馆 舒适型 4.3分/5分</td>\n      <td>特惠房(双床) 双床 不含早 1间2晚</td>\n      <td>成都航空 EU2206</td>\n      <td>经停</td>\n      <td>20:30-01:00</td>\n      <td>长龙航空 GJ8680</td>\n      <td>经停</td>\n      <td>20:25-00:50</td>\n    </tr>\n  </tbody>\n</table>\n</div>"
     },
     "metadata": {},
     "execution_count": 38
    }
   ],
   "source": [
    "# 数据拼接，把异常数据拿出来\n",
    "pd.concat([df[df['节省']> df['价格']],df[sta.abs()>3]])"
   ]
  },
  {
   "cell_type": "code",
   "execution_count": 39,
   "metadata": {},
   "outputs": [
    {
     "output_type": "execute_result",
     "data": {
      "text/plain": [
       "Int64Index([2904, 3108, 3660, 2763], dtype='int64')"
      ]
     },
     "metadata": {},
     "execution_count": 39
    }
   ],
   "source": [
    "# 从原始数据中删除掉所有的异常值\n",
    "# 找到异常值的索引\n",
    "del_index = pd.concat([df[df['节省']> df['价格']],df[sta.abs()>3]]).index\n",
    "del_index"
   ]
  },
  {
   "cell_type": "code",
   "execution_count": 40,
   "metadata": {},
   "outputs": [],
   "source": [
    "# 执行删除异常数据\n",
    "df.drop(del_index,inplace = True)"
   ]
  },
  {
   "cell_type": "code",
   "execution_count": 41,
   "metadata": {},
   "outputs": [
    {
     "output_type": "execute_result",
     "data": {
      "text/plain": [
       "(4996, 13)"
      ]
     },
     "metadata": {},
     "execution_count": 41
    }
   ],
   "source": [
    "# 查看数据形状\n",
    "df.shape"
   ]
  },
  {
   "source": [
    "## 缺失值的处理"
   ],
   "cell_type": "markdown",
   "metadata": {}
  },
  {
   "cell_type": "code",
   "execution_count": 42,
   "metadata": {},
   "outputs": [
    {
     "output_type": "execute_result",
     "data": {
      "text/plain": [
       "出发地      2\n",
       "目的地      1\n",
       "价格      28\n",
       "节省      17\n",
       "路线名      0\n",
       "酒店       0\n",
       "房间       0\n",
       "去程航司     0\n",
       "去程方式     0\n",
       "去程时间     0\n",
       "回程航司     0\n",
       "回程方式     0\n",
       "回程时间     0\n",
       "dtype: int64"
      ]
     },
     "metadata": {},
     "execution_count": 42
    }
   ],
   "source": [
    "# 查看每一列的缺失值\n",
    "df.isnull().sum()"
   ]
  },
  {
   "cell_type": "code",
   "execution_count": 49,
   "metadata": {},
   "outputs": [
    {
     "output_type": "execute_result",
     "data": {
      "text/plain": [
       "0       False\n",
       "1       False\n",
       "2       False\n",
       "3       False\n",
       "4       False\n",
       "        ...  \n",
       "4995    False\n",
       "4996    False\n",
       "4997    False\n",
       "4998    False\n",
       "4999    False\n",
       "Name: 出发地, Length: 4996, dtype: bool"
      ]
     },
     "metadata": {},
     "execution_count": 49
    }
   ],
   "source": [
    "df['出发地'].isnull()"
   ]
  },
  {
   "cell_type": "code",
   "execution_count": 44,
   "metadata": {},
   "outputs": [
    {
     "output_type": "execute_result",
     "data": {
      "text/plain": [
       "      出发地 目的地      价格     节省                                          路线名  \\\n",
       "1850  NaN  烟台   647.0  348.0    大连-烟台3天2晚 | 入住烟台海阳黄金海岸大酒店 + 幸福航空/天津航空往返机票   \n",
       "1915  NaN  西安  1030.0  326.0  济南-西安3天2晚 | 入住西安丝路秦国际青年旅舍钟楼回民街店 + 华夏航空往返...   \n",
       "\n",
       "                                 酒店                          房间         去程航司  \\\n",
       "1850            烟台海阳黄金海岸大酒店 3.7分/5分   海景标准间(内宾)[双... 双床 双早 1间2晚  幸福航空 JR1582   \n",
       "1915  西安丝路秦国际青年旅舍钟楼回民街店 经济型 4.4分/5分  标准间（独卫）-吃货天... 双床 不含早 1间2晚  华夏航空 G54963   \n",
       "\n",
       "     去程方式         去程时间         回程航司 回程方式         回程时间  \n",
       "1850   直飞  10:05-11:05  天津航空 GS6402   直飞  16:30-17:25  \n",
       "1915   直飞  07:10-08:55  华夏航空 G58858   直飞  23:10-00:55  "
      ],
      "text/html": "<div>\n<style scoped>\n    .dataframe tbody tr th:only-of-type {\n        vertical-align: middle;\n    }\n\n    .dataframe tbody tr th {\n        vertical-align: top;\n    }\n\n    .dataframe thead th {\n        text-align: right;\n    }\n</style>\n<table border=\"1\" class=\"dataframe\">\n  <thead>\n    <tr style=\"text-align: right;\">\n      <th></th>\n      <th>出发地</th>\n      <th>目的地</th>\n      <th>价格</th>\n      <th>节省</th>\n      <th>路线名</th>\n      <th>酒店</th>\n      <th>房间</th>\n      <th>去程航司</th>\n      <th>去程方式</th>\n      <th>去程时间</th>\n      <th>回程航司</th>\n      <th>回程方式</th>\n      <th>回程时间</th>\n    </tr>\n  </thead>\n  <tbody>\n    <tr>\n      <th>1850</th>\n      <td>NaN</td>\n      <td>烟台</td>\n      <td>647.0</td>\n      <td>348.0</td>\n      <td>大连-烟台3天2晚 | 入住烟台海阳黄金海岸大酒店 + 幸福航空/天津航空往返机票</td>\n      <td>烟台海阳黄金海岸大酒店 3.7分/5分</td>\n      <td>海景标准间(内宾)[双... 双床 双早 1间2晚</td>\n      <td>幸福航空 JR1582</td>\n      <td>直飞</td>\n      <td>10:05-11:05</td>\n      <td>天津航空 GS6402</td>\n      <td>直飞</td>\n      <td>16:30-17:25</td>\n    </tr>\n    <tr>\n      <th>1915</th>\n      <td>NaN</td>\n      <td>西安</td>\n      <td>1030.0</td>\n      <td>326.0</td>\n      <td>济南-西安3天2晚 | 入住西安丝路秦国际青年旅舍钟楼回民街店 + 华夏航空往返...</td>\n      <td>西安丝路秦国际青年旅舍钟楼回民街店 经济型 4.4分/5分</td>\n      <td>标准间（独卫）-吃货天... 双床 不含早 1间2晚</td>\n      <td>华夏航空 G54963</td>\n      <td>直飞</td>\n      <td>07:10-08:55</td>\n      <td>华夏航空 G58858</td>\n      <td>直飞</td>\n      <td>23:10-00:55</td>\n    </tr>\n  </tbody>\n</table>\n</div>"
     },
     "metadata": {},
     "execution_count": 44
    }
   ],
   "source": [
    "# 请筛选出“出发地”为空的数据\n",
    "df[df['出发地'].isnull()]"
   ]
  },
  {
   "cell_type": "code",
   "execution_count": 48,
   "metadata": {},
   "outputs": [
    {
     "output_type": "execute_result",
     "data": {
      "text/plain": [
       "1850    NaN\n",
       "1915    NaN\n",
       "Name: 出发地, dtype: object"
      ]
     },
     "metadata": {},
     "execution_count": 48
    }
   ],
   "source": [
    "# 访问出发地为空的出发地这一列\n",
    "df.loc[df['出发地'].isnull(),'出发地']"
   ]
  },
  {
   "cell_type": "code",
   "execution_count": 50,
   "metadata": {},
   "outputs": [
    {
     "output_type": "execute_result",
     "data": {
      "text/plain": [
       "1850      大连-烟台3天2晚 | 入住烟台海阳黄金海岸大酒店 + 幸福航空/天津航空往返机票\n",
       "1915    济南-西安3天2晚 | 入住西安丝路秦国际青年旅舍钟楼回民街店 + 华夏航空往返...\n",
       "Name: 路线名, dtype: object"
      ]
     },
     "metadata": {},
     "execution_count": 50
    }
   ],
   "source": [
    "# 访问出发地为空的数据的路线名这一列\n",
    "df.loc[df['出发地'].isnull(),'路线名']"
   ]
  },
  {
   "cell_type": "code",
   "execution_count": 51,
   "metadata": {},
   "outputs": [],
   "source": [
    "# 将路线名中的前两个字符设为出发地\n",
    "df.loc[df['出发地'].isnull(),'出发地'] = [str(x)[:2] for x in df.loc[df['出发地'].isnull(),'路线名']]"
   ]
  },
  {
   "cell_type": "code",
   "execution_count": 53,
   "metadata": {},
   "outputs": [
    {
     "output_type": "execute_result",
     "data": {
      "text/plain": [
       "1850    大连\n",
       "1915    济南\n",
       "Name: 出发地, dtype: object"
      ]
     },
     "metadata": {},
     "execution_count": 53
    }
   ],
   "source": [
    "df.loc[[1850,1915],'出发地'] "
   ]
  },
  {
   "cell_type": "code",
   "execution_count": 58,
   "metadata": {},
   "outputs": [
    {
     "output_type": "execute_result",
     "data": {
      "text/plain": [
       "九寨沟3天2晚 | 入住九寨沟登珠宾馆 + 南方航空/联合航空往返机票'],\n",
       " ['长春', '厦门3天2晚 | 入住锦江之星酒店厦门集美杏林店 + 山东航空往返机票'],\n",
       " ['哈尔滨', '南京3天2晚 | 入住南京溧水华为大酒店 + 吉祥航空/厦门航空往返机票'],\n",
       " ['广州', '神农架3天2晚 | 入住神农架香溪源精品酒店 + 南方航空/东方航空往返机票'],\n",
       " ['北京', '大连3天2晚 | 入住大连白云山庄酒店 + 南方航空/海南航空往返机票'],\n",
       " ['上海', '三亚3天2晚 | 入住三亚太阳湾柏悦酒店 + 上海航空/扬子江航空往返机票'],\n",
       " ['重庆', '呼和浩特3天2晚 | 入住呼和浩特蒙达宾馆 + 西部航空/华夏航空往返机票'],\n",
       " ['西安', '三亚3天2晚 | 入住三亚半山锦江海景度假酒店 + 首都航空/四川航空往返...'],\n",
       " ['上海', '青岛3天2晚 | 入住青岛海悦来旅馆 + 春秋航空/吉祥航空往返机票'],\n",
       " ['上海', '神农架3天2晚 | 入住神农架盛景怡家酒店 + 东方航空/南方航空往返机票'],\n",
       " ['武汉', '桂林3天2晚 | 入住Q居桂林花园居城景国际青年旅舍桂湖靖江王府店 + 山...'],\n",
       " ['天津', '大连3天2晚 | 入住大连不夜城大酒店 + 海南航空/天津航空往返机票'],\n",
       " ['武汉', '大理3天2晚 | 入住Q居大理古城爱这时光客栈 + 东方航空往返机票'],\n",
       " ['沈阳', '青岛3天2晚 | 入住青岛复盛大酒店二店 + 青岛航/南方航空往返机票'],\n",
       " ['沈阳', '丽江3天2晚 | 入住丽江太和园休闲度假酒店 + 首都航空往返机票'],\n",
       " ['杭州', '三亚3天2晚 | 入住三亚新宇酒店 + 南方航空/海南航空往返机票'],\n",
       " ['广州', '西安3天2晚 | 入住西安绘锦园酒店 + 东方航空/深圳航空往返机票'],\n",
       " ['沈阳', '青岛3天2晚 | 入住青岛世界旅舍台东商业街店 + 青岛航/南方航空往返机票'],\n",
       " ['天津', '杭州3天2晚 | 入住杭州西溪悦椿度假酒店 + 奥凯航空/天津航空往返机票'],\n",
       " ['南京', '桂林3天2晚 | 入住桂林万成国际酒店 + 东方航空往返机票'],\n",
       " ['济南', '昆明3天2晚 | 入住锦江之星品尚酒店昆明经济开发区店 + 昆明航空/东方...'],\n",
       " ['青岛', '厦门3天2晚 | 入住厦门佳橙酒店火车站店 + 山东航空往返机票'],\n",
       " ['北京', '西双版纳3天2晚 | 入住西双版纳豆豆家庭旅馆 + 东方航空/首都航空往返...'],\n",
       " ['宁波', '武汉3天2晚 | 入住武汉帅府饭店 + 南方航空/东方航空往返机票'],\n",
       " ['沈阳', '长沙3天2晚 | 入住长沙星沙世铭大酒店 + 海南航空/四川航空往返机票'],\n",
       " ['广州', '西双版纳3天2晚 | 入住西双版纳北城假日酒店 + 东方航空往返机票'],\n",
       " ['沈阳', '厦门3天2晚 | 入住厦门唐代尔酒店新轮渡码头店 + 海南航空/深圳航空往...'],\n",
       " ['广州', '大理3天2晚 | 入住大理古城阿拉里客栈 + 东方航空往返机票'],\n",
       " ['杭州', '西宁3天2晚 | 入住西宁可可西里国际饭店 + 长龙航空往返机票'],\n",
       " ['大连', '长沙3天2晚 | 入住长沙天成国际大酒店 + 奥凯航空往返机票'],\n",
       " ['沈阳', '丽江3天2晚 | 入住丽江和玺酒店 + 首都航空往返机票'],\n",
       " ['成都', '青岛3天2晚 | 入住青岛陆达大酒店 + 中国国航/青岛航往返机票'],\n",
       " ['西安', '大连3天2晚 | 入住大连泰达美居酒店 + 中国国航/南方航空往返机票'],\n",
       " ['广州', '西双版纳3天2晚 | 入住西双版纳傣澜阁客栈 + 东方航空往返机票'],\n",
       " ['广州', '西安3天2晚 | 入住布丁酒店西安大雁塔南店 + 东方航空/深圳航空往返机票'],\n",
       " ['上海', '武汉3天2晚 | 入住湖北民航大酒店 + 东方航空/南方航空往返机票'],\n",
       " ['济南', '桂林3天2晚 | 入住桂林紫藤花大酒店联达广场店 + 桂林航空有限公司往返...'],\n",
       " ['沈阳', '珠海3天2晚 | 入住珠海城市悦栈酒店 + 深圳航空/春秋航空往返机票'],\n",
       " ['上海', '太原3天2晚 | 入住山西农业大厦绿色主题酒店 + 春秋航空往返机票'],\n",
       " ['广州', '拉萨3天2晚 | 入住麗枫酒店拉萨布达拉宫纳金路店 + 南方航空往返机票'],\n",
       " ['深圳', '沈阳3天2晚 | 入住沈阳荣富饭店 + 深圳航空/厦门航空往返机票'],\n",
       " ['宁波', '兰州3天2晚 | 入住宜必思酒店兰州张掖路店 + 东方航空往返机票'],\n",
       " ['沈阳', '丽江3天2晚 | 入住Q居丽江芸栖客栈 + 首都航空往返机票'],\n",
       " ['深圳', '大连3天2晚 | 入住大连新华宫大酒店 + 南方航空/东海往返机票'],\n",
       " ['哈尔滨', '西宁3天2晚 | 入住西宁银江商务酒店 + 成都航空往返机票'],\n",
       " ['深圳', '西安3天2晚 | 入住西安美丽豪酒店 + 海南航空/东海往返机票'],\n",
       " ['杭州', '西安3天2晚 | 入住西安美居人民大厦 + 东方航空/长龙航空往返机票'],\n",
       " ['成都', '哈尔滨3天2晚 | 入住尚志万家灯火山庄 + 南方航空/西藏航空往返机票'],\n",
       " ['广州', '大理3天2晚 | 入住Q居大理古城字母客栈 + 东方航空往返机票'],\n",
       " ['北京', '西安3天2晚 | 入住西安君乐城堡酒店 + 东方航空/海南航空往返机票'],\n",
       " ['天津', '西安3天2晚 | 入住西安君悦尚品酒店 + 奥凯航空/天津航空往返机票'],\n",
       " ['大连', '九寨沟3天2晚 | 入住黑水县芦花大酒店 + 长龙航空/南方航空往返机票'],\n",
       " ['大连', '厦门3天2晚 | 入住7天酒店厦门机场店 + 山东航空往返机票'],\n",
       " ['南京', '西双版纳3天2晚 | 入住西双版纳暹罗泰式精品度假酒店 + 东方航空往返机票'],\n",
       " ['大连', '武汉3天2晚 | 入住武汉锦汇酒店华中师范大学店 + 南方航空/东方航空往...'],\n",
       " ['南京', '西宁3天2晚 | 入住西宁东湖宾馆 + 海南航空/东方航空往返机票'],\n",
       " ['青岛', '海口3天2晚 | 入住海口鑫源温泉大酒店 + 青岛航/山东航空往返机票'],\n",
       " ['大连', '青岛3天2晚 | 入住青岛祝晖商务酒店农业大学店 + 山东航空往返机票'],\n",
       " ['沈阳', '厦门3天2晚 | 入住厦门泊旅时尚酒店会展中心店 + 海南航空/深圳航空往...'],\n",
       " ['重庆', '桂林3天2晚 | 入住阳朔怡景大酒店 + 西部航空往返机票'],\n",
       " ['西安', '三亚3天2晚 | 入住三亚东方之道酒店 + 首都航空/四川航空往返机票'],\n",
       " ['天津', '西安3天2晚 | 入住西安美居人民大厦 + 奥凯航空/天津航空往返机票'],\n",
       " ['武汉', '呼和浩特3天2晚 | 入住呼和浩特美华酒店海东路店 + 首都航空/深圳航空...'],\n",
       " ['厦门', '沈阳3天2晚 | 入住全季酒店沈阳张士开发区店 + 深圳航空/海南航空往返...'],\n",
       " ['宁波', '长沙3天2晚 | 入住长沙春天酒店汽车南站店 + 成都航空往返机票'],\n",
       " ['沈阳', '承德3天2晚 | 入住承德云山饭店 + 南方航空往返机票'],\n",
       " ['天津', '北海3天2晚 | 入住北海市合浦昌和大酒店 + 四川航空往返机票'],\n",
       " ['青岛', '重庆3天2晚 | 入住重庆乐芙田园酒店汽博中心店 + 山东航空/华夏航空往...'],\n",
       " ['南京', '厦门3天2晚 | 入住厦门鑫博雅大酒店 + 厦门航空/东方航空往返机票'],\n",
       " ['宁波', '重庆3天2晚 | 入住重庆牡丹源酒店 + 南方航空/四川航空往返机票'],\n",
       " ['成都', '桂林3天2晚 | 入住桂林锦绣潇湘酒店南洲店 + 中国国航/山东航空往返机票'],\n",
       " ['沈阳', '武汉3天2晚 | 入住武汉循礼门饭店 + 南方航空往返机票'],\n",
       " ['武汉', '西安3天2晚 | 入住西安建国饭店 + 东方航空往返机票'],\n",
       " ['天津', '成都3天2晚 | 入住成都春天美居酒店 + 天津航空往返机票'],\n",
       " ['济南', '昆明3天2晚 | 入住昆明永都酒店 + 昆明航空/东方航空往返机票'],\n",
       " ['天津', '深圳3天2晚 | 入住深圳龙岗中心区新城宾馆 + 海南航空往返机票'],\n",
       " ['杭州', '成都3天2晚 | 入住成都伊丽特酒店 + 成都航空/长龙航空往返机票'],\n",
       " ['上海', '西双版纳3天2晚 | 入住西双版纳云舒社艺术精品酒店万达广场店 + 上海航...'],\n",
       " ['武汉', '西双版纳3天2晚 | 入住西双版纳皇冠大酒店 + 华夏航空往返机票'],\n",
       " ['青岛', '沈阳3天2晚 | 入住沈阳金海岸大酒店 + 南方航空/瑞丽航空往返机票'],\n",
       " ['西安', '三亚3天2晚 | 入住三亚鸿芳中洋海景酒店 + 首都航空/四川航空往返机票'],\n",
       " ['广州', '长春3天2晚 | 入住长春天新饭店 + 南方航空往返机票'],\n",
       " ['上海', '桂林3天2晚 | 入住桂林民航大厦 + 扬子江航空/中国国航往返机票'],\n",
       " ['青岛', '九寨沟3天2晚 | 入住阿坝黑水钦可里山庄 + 东方航空/山东航空往返机票'],\n",
       " ['上海', '青岛3天2晚 | 入住青岛好尚嘉乐园主题酒店 + 春秋航空/吉祥航空往返机票'],\n",
       " ['济南', '长沙3天2晚 | 入住长沙蓝天宾馆高铁南站店 + 山东航空往返机票'],\n",
       " ['上海', '呼和浩特3天2晚 | 入住呼和浩特烟草宾馆 + 中国国航/东方航空往返机票'],\n",
       " ['武汉', '厦门3天2晚 | 入住厦门京闽中心酒店 + 厦门航空/中国国航往返机票'],\n",
       " ['西安', '呼和浩特3天2晚 | 入住呼和浩特美华酒店巨海城店 + 瑞丽航空/天津航空...'],\n",
       " ['杭州', '天津3天2晚 | 入住天津中心Today酒店式公寓 + 天津航空往返机票'],\n",
       " ['大连', '九寨沟3天2晚 | 入住九寨沟九江·豪庭大酒店 + 长龙航空/南方航空往返...'],\n",
       " ['杭州', '桂林3天2晚 | 入住Q居阳朔西街和园精品客栈 + 中国国航/山东航空往返...'],\n",
       " ['广州', '武汉3天2晚 | 入住武汉火柠檬花园旅店 + 东方航空往返机票'],\n",
       " ['大连', '哈尔滨3天2晚 | 入住哈尔滨卓琳酒店会展中心店 + 东方航空往返机票'],\n",
       " ['青岛', '承德3天2晚 | 入住承德承钢宾馆 + 山东航空往返机票'],\n",
       " ['武汉', '三亚3天2晚 | 入住三亚椰林苑度假公寓 + 南方航空/东方航空往返机票'],\n",
       " ['天津', '杭州3天2晚 | 入住布丁酒店杭州西湖解放路店 + 奥凯航空/天津航空往返...'],\n",
       " ['武汉', '大连3天2晚 | 入住大连长城饭店 + 祥鹏航空/首都航空往返机票'],\n",
       " ['成都', '青岛3天2晚 | 入住青岛好客100商务酒店 + 中国国航/青岛航往返机票'],\n",
       " ['成都', '哈尔滨3天2晚 | 入住哈尔滨颐嘉假日酒店火车站海城店 + 南方航空/西藏...'],\n",
       " ['广州', '大连3天2晚 | 入住大连名传世纪酷贝拉主题酒店 + 海南航空/深圳航空往...'],\n",
       " ['西安', '厦门3天2晚 | 入住厦门曾厝垵垵墅海边客栈 + 东方航空往返机票'],\n",
       " ['南京', '西宁3天2晚 | 入住西宁建银宾馆 + 海南航空/东方航空往返机票'],\n",
       " ['青岛', '哈尔滨3天2晚 | 入住宜必思酒店哈尔滨索菲亚教堂店 + 福州/东方航空往...'],\n",
       " ['天津', '深圳3天2晚 | 入住深圳皇朝假日酒店 + 海南航空往返机票'],\n",
       " ['成都', '泸沽湖3天2晚 | 入住Q居丽江束河小吻花园别院 + 成都航空往返机票'],\n",
       " ['天津', '九寨沟3天2晚 | 入住松潘县太阳河国际大酒店 + 天津航空往返机票'],\n",
       " ['宁波', '神农架3天2晚 | 入住神农架宾馆 + 南方航空往返机票'],\n",
       " ['杭州', '武汉3天2晚 | 入住湖北民航大酒店 + 南方航空/厦门航空往返机票'],\n",
       " ['宁波', '兰州3天2晚 | 入住甘肃万商国际大酒店 + 东方航空/华夏航空往返机票'],\n",
       " ['深圳', '神农架3天2晚 | 入住神农架萧六生态旅游农庄 + 南方航空/东方航空往返...'],\n",
       " ['天津', '西双版纳3天2晚 | 入住西双版纳象家花园客栈 + 东方航空往返机票'],\n",
       " ['青岛', '重庆3天2晚 | 入住重庆蚬木酒店 + 山东航空/华夏航空往返机票'],\n",
       " ['厦门', '西安3天2晚 | 入住西安塞尔德青年旅舍钟鼓楼回民街店 + 东方航空/奥凯...'],\n",
       " ['厦门', '重庆3天2晚 | 入住重庆巨豪国际酒店 + 西藏航空/西部航空往返机票'],\n",
       " ['哈尔滨', '天津3天2晚 | 入住天津海得润滋酒店 + 海南航空/福州往返机票'],\n",
       " ['南京', '西安3天2晚 | 入住西安美居人民大厦 + 吉祥航空/深圳航空往返机票'],\n",
       " ['武汉', '呼和浩特3天2晚 | 入住呼和浩特徽商大酒店 + 首都航空/昆明航空往返机票'],\n",
       " ['南京', '大连3天2晚 | 入住大连金华大酒店 + 东方航空/中国国航往返机票'],\n",
       " ['广州', '厦门3天2晚 | 入住厦门龙净假日中心酒店 + 深圳航空/南方航空往返机票'],\n",
       " ['北京', '大理3天2晚 | 入住Q居大理阳光故事驿栈 + 深圳航空/中国国航往返机票'],\n",
       " ['重庆', '长春3天2晚 | 入住长春金安大饭店 + 山东航空/四川航空往返机票'],\n",
       " ['上海', '哈尔滨3天2晚 | 入住哈尔滨西苑宾馆 + 春秋航空/吉祥航空往返机票'],\n",
       " ['北京', '西双版纳3天2晚 | 入住五悦景区连锁酒店西双版纳景洪泼水广场店 + 东方...'],\n",
       " ['大连', '西安3天2晚 | 入住西安弘冠酒店 + 华夏航空/天津航空往返机票'],\n",
       " ['北京', '九寨沟3天2晚 | 入住理县毕棚沟娜姆湖酒店 + 南方航空/联合航空往返机票'],\n",
       " ['南京', '三亚3天2晚 | 入住金茂三亚亚龙湾丽思卡尔顿酒店 + 首都航空往返机票'],\n",
       " ['哈尔滨', '九寨沟3天2晚 | 入住茂县兴隆精选酒店 + 瑞丽航空/四川航空往返机票'],\n",
       " ['深圳', '哈尔滨3天2晚 | 入住宜必思酒店哈尔滨索菲亚教堂店 + 南方航空/东海往...'],\n",
       " ['成都', '青岛3天2晚 | 入住平度市物资宾馆 + 中国国航/青岛航往返机票'],\n",
       " ['深圳', '呼和浩特3天2晚 | 入住宜必思酒店呼和浩特长乐宫店 + 东方航空/深圳航...'],\n",
       " ['青岛', '重庆3天2晚 | 入住重庆华章商务酒店 + 山东航空/华夏航空往返机票'],\n",
       " ['杭州', '三亚3天2晚 | 入住三亚太阳湾柏悦酒店 + 南方航空/海南航空往返机票'],\n",
       " ['南京', '蜈支洲岛3天2晚 | 入住三亚南田温泉度假酒店 + 首都航空往返机票'],\n",
       " ['哈尔滨', '三亚3天2晚 | 入住三亚南海风情海景酒店 + 首都航空/福州往返机票'],\n",
       " ['沈阳', '九寨沟3天2晚 | 入住阿坝九寨记忆温泉大酒店 + 西藏航空/成都航空往返...'],\n",
       " ['广州', '武汉3天2晚 | 入住武汉雅斯特酒店长丰大道园博园店 + 东方航空往返机票'],\n",
       " ['南京', '西安3天2晚 | 入住西安蜗牛商务酒店北郊店 + 吉祥航空/深圳航空往返机票'],\n",
       " ['青岛', '天津3天2晚 | 入住天津时光e栈酒店王顶堤店 + 青岛航往返机票'],\n",
       " ['杭州', '天津3天2晚 | 入住天津银河大酒店 + 天津航空往返机票'],\n",
       " ['厦门', '大连3天2晚 | 入住大连团山花园大酒店 + 厦门航空往返机票'],\n",
       " ['南京', '厦门3天2晚 | 入住厦门四海之星酒店 + 厦门航空/东方航空往返机票'],\n",
       " ['西安', '九寨沟3天2晚 | 入住九寨天堂甲蕃古城假日酒店 + 华夏航空/成都航空往...'],\n",
       " ['哈尔滨', '西安3天2晚 | 入住西安故乡润土商务酒店 + 天津航空/东方航空往返机票'],\n",
       " ['杭州', '青岛3天2晚 | 入住青岛机场辅特戴斯酒店流亭机场店 + 厦门航空往返机票'],\n",
       " ['沈阳', '厦门3天2晚 | 入住厦门碧宫酒店 + 海南航空/深圳航空往返机票'],\n",
       " ['广州', '三亚3天2晚 | 入住三亚亚龙湾红树林度假酒店 + 海南航空往返机票'],\n",
       " ['哈尔滨', '西宁3天2晚 | 入住西宁黄河源假日饭店 + 成都航空往返机票'],\n",
       " ['南京', '九寨沟3天2晚 | 入住理县毕棚沟娜姆湖酒店 + 东方航空/西藏航空往返机票'],\n",
       " ['南京', '哈尔滨3天2晚 | 入住哈尔滨棠枫艺术酒店松花江江畔店 + 厦门航空/吉祥...'],\n",
       " ['济南', '珠海3天2晚 | 入住珠海宏景大酒店拱北口岸富华里店 + 山东航空往返机票'],\n",
       " ['杭州', '西宁3天2晚 | 入住西宁夏日麗景酒店 + 长龙航空/四川航空往返机票'],\n",
       " ['西安', '鼓浪屿3天2晚 | 入住厦门佐海宾馆 + 东方航空往返机票'],\n",
       " ['杭州', '青岛3天2晚 | 入住青岛海悦来旅馆 + 厦门航空往返机票'],\n",
       " ['西安', '三亚湾3天2晚 | 入住三亚鸿洲埃德瑞度假酒店 + 首都航空/四川航空往返...'],\n",
       " ['广州', '大连3天2晚 | 入住锦江之星品尚酒店大连友好广场店 + 海南航空/深圳航...'],\n",
       " ['青岛', '海口3天2晚 | 入住海口丽华大酒店 + 青岛航/山东航空往返机票'],\n",
       " ['大连', '天津3天2晚 | 入住麗枫酒店天津西湖道店 + 天津航空/南方航空往返机票'],\n",
       " ['青岛', '海口3天2晚 | 入住海口宝嘉商务酒店 + 青岛航/山东航空往返机票'],\n",
       " ['宁波', '长沙3天2晚 | 入住长沙宁乡金太阳温泉度假村 + 成都航空往返机票'],\n",
       " ['杭州', '哈尔滨3天2晚 | 入住哈尔滨弗拉基米尔国际青年旅舍中央大街店 + 海南航...'],\n",
       " ['西安', '大连3天2晚 | 入住大连金佰家国际酒店 + 中国国航/南方航空往返机票'],\n",
       " ['上海', '哈尔滨3天2晚 | 入住哈尔滨鑫城酒店会展中心店 + 春秋航空/吉祥航空往...'],\n",
       " ['沈阳', '长沙3天2晚 | 入住长沙无限风光假日酒店 + 海南航空/四川航空往返机票'],\n",
       " ['广州', '拉萨3天2晚 | 入住拉萨云来酒店 + 南方航空往返机票'],\n",
       " ['成都', '鼓浪屿3天2晚 | 入住夏商怡庭商务酒店厦门莲岳店 + 四川航空/山东航空...'],\n",
       " ['大连', '长沙3天2晚 | 入住长沙金特商务酒店 + 奥凯航空往返机票'],\n",
       " ['青岛', '重庆3天2晚 | 入住秀山富炫酒店 + 山东航空/华夏航空往返机票'],\n",
       " ['天津', '杭州3天2晚 | 入住杭州JD铂豪酒店萧山机场店 + 奥凯航空/天津航空往...'],\n",
       " ['上海', '沈阳3天2晚 | 入住锦江之星品尚酒店沈阳塔湾兴顺国际夜市店 + 深圳航空...'],\n",
       " ['大连', '九寨沟3天2晚 | 入住五悦景区连锁酒店阿坝九寨沟店 + 长龙航空/南方航...'],\n",
       " ['大连', '上海3天2晚 | 入住上海禾邦精品酒店 + 春秋航空/吉祥航空往返机票'],\n",
       " ['成都', '西安3天2晚 | 入住格林豪泰酒店西安火车站尚勤门店 + 成都航空/华夏航...'],\n",
       " ['天津', '广州3天2晚 | 入住广州星源商务酒店 + 海南航空/奥凯航空往返机票'],\n",
       " ['北京', '三亚3天2晚 | 入住三亚美度酒店 + 南方航空/海南航空往返机票'],\n",
       " ['深圳', '九寨沟3天2晚 | 入住阿坝古尔沟醉佳温泉酒店 + 成都航空往返机票'],\n",
       " ['厦门', '天津3天2晚 | 入住天津滨海艾尔博国际酒店 + 华夏航空/厦门航空往返机票'],\n",
       " ['沈阳', '西安3天2晚 | 入住西安铁通商务酒店贵宾楼 + 长安航空有限责任公司/南...'],\n",
       " ['广州', '呼和浩特3天2晚 | 入住呼和浩特美华酒店海东路店 + 南方航空/深圳航空...'],\n",
       " ['南京', '长沙3天2晚 | 入住长沙异国风情主题酒店 + 东方航空往返机票'],\n",
       " ['宁波', '大连3天2晚 | 入住大连铁道1896花园酒店 + 南方航空/海南航空往返...'],\n",
       " ['沈阳', '厦门3天2晚 | 入住厦门航成精品酒店自贸区店 + 海南航空/深圳航空往返...'],\n",
       " ['重庆', '桂林3天2晚 | 入住Q居阳朔驿步轩精品酒店 + 西部航空往返机票'],\n",
       " ['重庆', '桂林3天2晚 | 入住桂林时代碧莲精品酒店火车北站店 + 西部航空往返机票'],\n",
       " ['上海', '三亚3天2晚 | 入住全季酒店三亚三亚湾店 + 上海航空/扬子江航空往返机票'],\n",
       " ['西安', '鼓浪屿3天2晚 | 入住厦门泊旅时尚酒店会展中心店 + 东方航空往返机票'],\n",
       " ['广州', '长春3天2晚 | 入住长春海航长白山宾馆 + 南方航空往返机票'],\n",
       " ['西安', '武汉3天2晚 | 入住武汉馨乐庭沌口服务公寓 + 东方航空往返机票'],\n",
       " ['西安', '鼓浪屿3天2晚 | 入住厦门温泉戴斯酒店 + 东方航空往返机票'],\n",
       " ['西安', '长沙3天2晚 | 入住宁乡县广圣花园酒店 + 奥凯航空往返机票'],\n",
       " ['沈阳', '桂林3天2晚 | 入住7天酒店桂林独秀峰靖江王府店 + 南方航空/深圳航空...'],\n",
       " ['哈尔滨', '天津3天2晚 | 入住天津鑫茂天财酒店 + 海南航空/福州往返机票'],\n",
       " ['哈尔滨', '桂林3天2晚 | 入住龙胜碧莲大酒店 + 中国国航/奥凯航空往返机票'],\n",
       " ['北京', '西双版纳3天2晚 | 入住西双版纳雨林傣乡精品酒店 + 东方航空/首都航空...'],\n",
       " ['宁波', '武汉3天2晚 | 入住武汉公民花园酒店吴家山五环大道店 + 南方航空/东方...'],\n",
       " ['厦门', '大连3天2晚 | 入住麗枫酒店大连星海公园店 + 厦门航空往返机票'],\n",
       " ['深圳', '沈阳3天2晚 | 入住沈阳高登大酒店 + 深圳航空/厦门航空往返机票'],\n",
       " ['广州', '神农架3天2晚 | 入住神农架盛景怡家酒店 + 东方航空往返机票'],\n",
       " ['济南', '沈阳3天2晚 | 入住沈阳辽宁宁山大厦 + 首都航空/山东航空往返机票'],\n",
       " ['成都', '哈尔滨3天2晚 | 入住哈尔滨北大荒桦语精品酒店先锋路店 + 南方航空/西...'],\n",
       " ['重庆', '长春3天2晚 | 入住长春国信南山酒店 + 山东航空/四川航空往返机票'],\n",
       " ['宁波', '哈尔滨3天2晚 | 入住哈尔滨西街国际青年旅舍 + 南方航空/东方航空往返...'],\n",
       " ['南京', '西宁3天2晚 | 入住西宁高原印象时尚酒店 + 海南航空/东方航空往返机票'],\n",
       " ['天津', '珠海3天2晚 | 入住珠海景致新华苑酒店 + 奥凯航空/中国国航往返机票'],\n",
       " ['沈阳', '长沙3天2晚 | 入住长沙君都假日酒店 + 海南航空/四川航空往返机票'],\n",
       " ['天津', '西安3天2晚 | 入住西安君乐城堡酒店 + 奥凯航空/天津航空往返机票'],\n",
       " ['厦门', '杭州3天2晚 | 入住杭州万尊·春天花园酒店 + 东方航空/山东航空往返机票'],\n",
       " ['广州', '长沙3天2晚 | 入住宁乡梦港湾大酒店 + 南方航空往返机票'],\n",
       " ['天津', '桂林3天2晚 | 入住龙胜龙脊国际青年旅舍 + 奥凯航空往返机票'],\n",
       " ['成都', '沈阳3天2晚 | 入住沈阳万方酒店 + 南方航空/成都航空往返机票'],\n",
       " ['天津', '重庆3天2晚 | 入住重庆果亿精品酒店 + 华夏航空往返机票'],\n",
       " ['杭州', '丽江3天2晚 | 入住丽江太和园休闲度假酒店 + 长龙航空/首都航空往返机票'],\n",
       " ['济南', '昆明3天2晚 | 入住昆明锦都大酒店 + 昆明航空/东方航空往返机票'],\n",
       " ['武汉', '三亚3天2晚 | 入住全季酒店三亚三亚湾店 + 南方航空/东方航空往返机票'],\n",
       " ['济南', '丽江3天2晚 | 入住丽江新青年旅舍 + 山东航空往返机票'],\n",
       " ['杭州', '武汉3天2晚 | 入住麗枫酒店武汉园博园长丰大道店 + 南方航空/厦门航空...'],\n",
       " ['南京', '厦门3天2晚 | 入住厦门鑫誉隆大酒店高崎机场店 + 厦门航空/东方航空往...'],\n",
       " ['沈阳', '珠海3天2晚 | 入住珠海康德莱公寓酒店 + 深圳航空/春秋航空往返机票'],\n",
       " ['西安', '丽江3天2晚 | 入住丽江听心祥和院 + 祥鹏航空/长龙航空往返机票'],\n",
       " ['哈尔滨', '西宁3天2晚 | 入住西宁凯美莱酒店 + 成都航空往返机票'],\n",
       " ['厦门', '长沙3天2晚 | 入住长沙那年二月青年旅舍 + 西部航空/海南航空往返机票'],\n",
       " ['厦门', '杭州3天2晚 | 入住千岛湖松城饭店 + 东方航空/山东航空往返机票'],\n",
       " ['重庆', '鼓浪屿3天2晚 | 入住厦门帝乐酒店 + 西藏航空/厦门航空往返机票'],\n",
       " ['武汉', '西双版纳3天2晚 | 入住景洪伟宏大酒店 + 华夏航空往返机票'],\n",
       " ['济南', '九寨沟3天2晚 | 入住九寨沟港威瑞逸度假酒店 + 中国国航/成都航空往返...'],\n",
       " ['杭州', '青岛3天2晚 | 入住青岛世界旅舍台东商业街店 + 厦门航空往返机票'],\n",
       " ['西安', '三亚3天2晚 | 入住三亚亚龙湾凯莱仙人掌度假酒店 + 首都航空/四川航空...'],\n",
       " ['青岛', '九寨沟3天2晚 | 入住九寨沟九江·豪庭大酒店 + 东方航空/山东航空往返...'],\n",
       " ['杭州', '呼和浩特3天2晚 | 入住呼和浩特军港酒店 + 长龙航空/厦门航空往返机票'],\n",
       " ['北京', '银川3天2晚 | 入住银川太阳神大酒店 + 中国国航/山东航空往返机票'],\n",
       " ['沈阳', '珠海3天2晚 | 入住珠海花贝壳酒店 + 深圳航空/春秋航空往返机票'],\n",
       " ['上海', '桂林3天2晚 | 入住Q居阳朔枫林晚客栈 + 扬子江航空/中国国航往返机票'],\n",
       " ['南京', '昆明3天2晚 | 入住昆明宜良桔子商务酒店 + 祥鹏航空/四川航空往返机票'],\n",
       " ['大连', '九寨沟3天2晚 | 入住马尔康婆陵甲萨酒店 + 长龙航空/南方航空往返机票'],\n",
       " ['广州', '张家界3天2晚 | 入住张家界京溪国际酒店 + 南方航空往返机票'],\n",
       " ['西安', '大连3天2晚 | 入住大连香格里拉大酒店 + 中国国航/南方航空往返机票'],\n",
       " ['天津', '西宁3天2晚 | 入住西宁新华联索菲特大酒店 + 中国国航往返机票'],\n",
       " ['成都', '桂林3天2晚 | 入住阳朔西街假期酒店 + 中国国航/山东航空往返机票'],\n",
       " ['重庆', '青岛3天2晚 | 入住青岛怡友大酒店流亭机场正阳路店 + 华夏航空/四川航...'],\n",
       " ['天津', '三亚3天2晚 | 入住三亚子悦康年主题套房度假酒店 + 首都航空/奥凯航空...'],\n",
       " ['厦门', '北京3天2晚 | 入住北京港澳中心瑞士酒店 + 联合航空/山东航空往返机票'],\n",
       " ['杭州', '厦门3天2晚 | 入住厦门香草园酒店 + 山东航空往返机票'],\n",
       " ['北京', '沈阳3天2晚 | 入住沈阳茂业华美达广场酒店 + 南方航空往返机票'],\n",
       " ['武汉', '承德3天2晚 | 入住承德燕龙宏顺酒店 + 南方航空/东方航空往返机票'],\n",
       " ['天津', '三亚3天2晚 | 入住全季酒店三亚三亚湾店 + 首都航空/奥凯航空往返机票'],\n",
       " ['杭州', '长沙3天2晚 | 入住浏阳绿之韵国际大酒店 + 成都航空/厦门航空往返机票'],\n",
       " ['广州', '长沙3天2晚 | 入住长沙天佑假日酒店 + 南方航空往返机票'],\n",
       " ['南京', '丽江3天2晚 | 入住丽江两米爱情客栈 + 首都航空/四川航空往返机票'],\n",
       " ['杭州', '西安3天2晚 | 入住西安尚客优连锁酒店鱼化寨地铁站店 + 东方航空/长龙...'],\n",
       " ['青岛', '北京3天2晚 | 入住北京宁夏大厦 + 山东航空往返机票'],\n",
       " ['南京', '陵水3天2晚 | 入住陵水乐龄愉家度假酒店 + 东方航空/首都航空往返机票'],\n",
       " ['成都', '丽江3天2晚 | 入住尚客优连锁酒店丽江古城南门店 + 成都航空往返机票'],\n",
       " ['成都', '鄂尔多斯3天2晚 | 入住鄂尔多斯天誉大酒店 + 东方航空/四川航空往返机票'],\n",
       " ['济南', '西安3天2晚 | 入住西安西稍门大酒店 + 华夏航空往返机票'],\n",
       " ['哈尔滨', '西安3天2晚 | 入住西安蜗牛商务酒店北郊店 + 天津航空/东方航空往返...'],\n",
       " ['厦门', '三亚3天2晚 | 入住三亚文华东方酒店 + 山东航空往返机票'],\n",
       " ['天津', '珠海3天2晚 | 入住珠海桃园帝豪酒店 + 奥凯航空/中国国航往返机票'],\n",
       " ['成都', '泸沽湖3天2晚 | 入住丽江泸沽湖永珍酒店 + 成都航空往返机票'],\n",
       " ['西安', '大连3天2晚 | 入住大连桃源酒店 + 中国国航/南方航空往返机票'],\n",
       " ['成都', '天津3天2晚 | 入住天津华纳高尔夫俱乐部 + 天津航空/西藏航空往返机票'],\n",
       " ['广州', '张家界3天2晚 | 入住张家界山水中天国际大酒店 + 南方航空往返机票'],\n",
       " ['青岛', '承德3天2晚 | 入住承德中兴禹达大酒店 + 山东航空/青岛航往返机票'],\n",
       " ['厦门', '神农架3天2晚 | 入住神农架盛景怡家酒店 + 南方航空/厦门航空往返机票'],\n",
       " ['大连', '张家界3天2晚 | 入住张家界琵琶溪宾馆 + 吉祥航空/东方航空往返机票'],\n",
       " ['深圳', '厦门3天2晚 | 入住厦门滨海蓝湾客栈 + 海南航空往返机票'],\n",
       " ['广州', '大连3天2晚 | 入住大连泰达美居酒店 + 海南航空/深圳航空往返机票'],\n",
       " ['广州', '西双版纳3天2晚 | 入住西双版纳告庄清旅客栈 + 东方航空往返机票'],\n",
       " ['南京', '九寨沟3天2晚 | 入住九寨沟同九山庄 + 东方航空/西藏航空往返机票'],\n",
       " ['上海', '北京3天2晚 | 入住北京逸旅阳光主题酒店 + 吉祥航空/厦门航空往返机票'],\n",
       " ['青岛', '杭州3天2晚 | 入住临安名爵酒店 + 首都航空/山东航空往返机票'],\n",
       " ['杭州', '呼和浩特3天2晚 | 入住呼和浩特丽泰三禾宾馆 + 长龙航空/厦门航空往返...'],\n",
       " ['杭州', '三亚3天2晚 | 入住三亚艾迪逊酒店 + 南方航空/海南航空往返机票'],\n",
       " ['西安', '沈阳3天2晚 | 入住沈阳麗枫酒店经济开发区店 + 春秋航空往返机票'],\n",
       " ['武汉', '沈阳3天2晚 | 入住沈阳金三角饭店 + 东方航空往返机票'],\n",
       " ['天津', '西双版纳3天2晚 | 入住西双版纳凤尾竹客栈 + 东方航空往返机票'],\n",
       " ['重庆', '长春3天2晚 | 入住长春凯悦酒店 + 山东航空/四川航空往返机票'],\n",
       " ['南京', '厦门3天2晚 | 入住厦门台馨亚智能酒店 + 厦门航空/东方航空往返机票'],\n",
       " ['北京', '沈阳3天2晚 | 入住沈阳世星国际饭店 + 南方航空往返机票'],\n",
       " ['哈尔滨', '大连3天2晚 | 入住大连星海高尔夫商务酒店 + 东方航空往返机票'],\n",
       " ['广州', '西安3天2晚 | 入住西安市临潼区阳光朗豪商务酒店 + 东方航空/深圳航空...'],\n",
       " ['大连', '长沙3天2晚 | 入住长沙汇聚大酒店 + 奥凯航空往返机票'],\n",
       " ['天津', '丽江3天2晚 | 入住丽江幸福转角客栈 + 天津航空/首都航空往返机票'],\n",
       " ['南京', '成都3天2晚 | 入住成都川渝现代主题酒店 + 东方航空/西藏航空往返机票'],\n",
       " ['深圳', '西安3天2晚 | 入住西安宏鼎酒店 + 海南航空/东海往返机票'],\n",
       " ['成都', '西安3天2晚 | 入住7天优品酒店西安北门安远门地铁站店 + 成都航空/华...'],\n",
       " ['成都', '丽江3天2晚 | 入住丽江古城微色客栈 + 成都航空往返机票'],\n",
       " ['沈阳', '承德3天2晚 | 入住承德王朝国际酒店 + 南方航空往返机票'],\n",
       " ['杭州', '武汉3天2晚 | 入住富驿时尚酒店武汉吴家山店 + 南方航空/厦门航空往返...'],\n",
       " ['上海', '三亚3天2晚 | 入住三亚湾皇冠假日度假酒店 + 上海航空/扬子江航空往返...'],\n",
       " ['哈尔滨', '青岛3天2晚 | 入住青岛途家斯维登度假公寓城阳机场店 + 青岛航/福州...'],\n",
       " ['武汉', '三亚3天2晚 | 入住三亚亚龙湾辛特拉套房度假酒店 + 南方航空/东方航空...'],\n",
       " ['武汉', '海口3天2晚 | 入住海口颐典园都市快捷酒店 + 首都航空往返机票'],\n",
       " ['深圳', '张家界3天2晚 | 入住张家界琵琶溪宾馆 + 南方航空往返机票'],\n",
       " ['南京', '重庆3天2晚 | 入住重庆海棠大酒店 + 西部航空/东方航空往返机票'],\n",
       " ['宁波', '哈尔滨3天2晚 | 入住哈尔滨巧克力酒店会展中心店 + 南方航空/东方航空...'],\n",
       " ['成都', '桂林3天2晚 | 入住桂林花满楼国际青年旅舍 + 中国国航/山东航空往返机票'],\n",
       " ['青岛', '杭州3天2晚 | 入住如家快捷酒店杭州西溪湿地店 + 首都航空/山东航空往...'],\n",
       " ['深圳', '哈尔滨3天2晚 | 入住哈尔滨东龙大酒店 + 南方航空/东海往返机票'],\n",
       " ['南京', '大连3天2晚 | 入住大连唐银大酒店 + 东方航空/中国国航往返机票'],\n",
       " ['西安', '丽江3天2晚 | 入住丽江第一观景台客栈 + 祥鹏航空/长龙航空往返机票'],\n",
       " ['北京', '神农架3天2晚 | 入住神农架德溪居酒店 + 中国国航/东方航空往返机票'],\n",
       " ['天津', '西宁3天2晚 | 入住西宁豪杰商务酒店 + 中国国航往返机票'],\n",
       " ['济南', '九寨沟3天2晚 | 入住阿坝漳扎九寨阳光酒店 + 中国国航/成都航空往返机票'],\n",
       " ['重庆', '桂林3天2晚 | 入住桂林青都青年旅舍七星公园店 + 西部航空往返机票'],\n",
       " ['南京', '北海3天2晚 | 入住北海国发大酒店 + 吉祥航空/南方航空往返机票'],\n",
       " ['杭州', '三亚3天2晚 | 入住三亚派瑞酒店 + 南方航空/海南航空往返机票'],\n",
       " ['武汉', '承德3天2晚 | 入住承德市围场宾馆 + 南方航空/东方航空往返机票'],\n",
       " ['杭州', '西安3天2晚 | 入住西安未来城好家商务酒店 + 东方航空/长龙航空往返机票'],\n",
       " ['重庆', '丽江3天2晚 | 入住Q居丽江你在哪里连锁客栈古韵轩店 + 四川航空/南方...'],\n",
       " ['武汉', '呼和浩特3天2晚 | 入住呼和浩特三和连锁酒店体育宾馆新华大街店 + 首都...'],\n",
       " ['天津', '九寨沟3天2晚 | 入住九寨沟老城故事青年客栈 + 天津航空往返机票'],\n",
       " ['北京', '乌鲁木齐3天2晚 | 入住乌鲁木齐阿斯塔纳宾馆 + 四川航空/中国国航往返...'],\n",
       " ['杭州', '青岛3天2晚 | 入住青岛福永大酒店 + 厦门航空往返机票'],\n",
       " ['西安', '丽江3天2晚 | 入住Q居丽江辰汐御风阁精品客栈 + 祥鹏航空/长龙航空往...'],\n",
       " ['济南', '北京3天2晚 | 入住山水时尚酒店北京方庄店 + 山东航空往返机票'],\n",
       " ['南京', '大连3天2晚 | 入住大连西安路和颐酒店 + 东方航空/中国国航往返机票'],\n",
       " ['广州', '张家界3天2晚 | 入住张家界汇朋精品客栈 + 南方航空往返机票'],\n",
       " ['杭州', '丽江3天2晚 | 入住丽江满庭芳花园别墅客栈 + 长龙航空/首都航空往返机票'],\n",
       " ['青岛', '长沙3天2晚 | 入住长沙汇聚大酒店 + 青岛航/幸福航空往返机票'],\n",
       " ['上海', '乌鲁木齐3天2晚 | 入住全季酒店乌鲁木齐中山路店 + 吉祥航空/春秋航空...'],\n",
       " ['成都', '天津3天2晚 | 入住天津静海县金岛假日酒店 + 天津航空/西藏航空往返机票'],\n",
       " ['南京', '呼和浩特3天2晚 | 入住水月城温泉大酒店 + 东方航空往返机票'],\n",
       " ['广州', '北京3天2晚 | 入住北京昌浩商务酒店南站店 + 联合航空往返机票'],\n",
       " ['北京', '洛阳3天2晚 | 入住洛阳神剑宾馆 + 东方航空往返机票'],\n",
       " ['青岛', '哈尔滨3天2晚 | 入住哈尔滨君廷商务宾馆会展中心店 + 福州/东方航空往...'],\n",
       " ['厦门', '天津3天2晚 | 入住天津碧海湾酒店 + 华夏航空/厦门航空往返机票'],\n",
       " ['哈尔滨', '南京3天2晚 | 入住南京文华楼宾馆 + 吉祥航空/厦门航空往返机票'],\n",
       " ['武汉', '西双版纳3天2晚 | 入住西双版纳我的客栈告庄西双景店 + 华夏航空往返机票'],\n",
       " ['哈尔滨', '厦门3天2晚 | 入住厦门华舒酒店 + 山东航空/南方航空往返机票'],\n",
       " ['大连', '天津3天2晚 | 入住天津凯德大酒店 + 天津航空/南方航空往返机票'],\n",
       " ['西安', '大连3天2晚 | 入住如家精选酒店大连开发区金马路亿锋广场店 + 中国国航...'],\n",
       " ['上海', '武汉3天2晚 | 入住武汉格瑞思酒店 + 东方航空/南方航空往返机票'],\n",
       " ['重庆', '青岛3天2晚 | 入住青岛宏运东都大酒店 + 华夏航空/四川航空往返机票'],\n",
       " ['厦门', '呼和浩特3天2晚 | 入住呼和浩特凯基国际商务酒店 + 首都航空/厦门航空...'],\n",
       " ['广州', '西安3天2晚 | 入住布丁酒店西安钟楼北大街地铁站店 + 东方航空/深圳航...'],\n",
       " ['西安', '桂林3天2晚 | 入住桂林翠竹大酒店 + 中国国航/天津航空往返机票'],\n",
       " ['深圳', '大理3天2晚 | 入住大理古城粤海缘客栈 + 东方航空往返机票'],\n",
       " ['深圳', '九寨沟3天2晚 | 入住九寨沟喜来登国际大酒店 + 成都航空往返机票'],\n",
       " ['厦门', '武汉3天2晚 | 入住武汉归元大觉宾舍酒店 + 山东航空/南方航空往返机票'],\n",
       " ['重庆', '沈阳3天2晚 | 入住沈阳原动力休闲假日酒店 + 深圳航空/山东航空往返机票'],\n",
       " ['厦门', '呼和浩特3天2晚 | 入住呼和浩特美华酒店鼓楼店 + 首都航空/厦门航空往...'],\n",
       " ['天津', '哈尔滨3天2晚 | 入住哈尔滨向日葵酒店 + 奥凯航空/福州往返机票'],\n",
       " ['南京', '昆明3天2晚 | 入住昆明银鑫大酒店 + 深圳航空/四川航空往返机票'],\n",
       " ['青岛', '海口3天2晚 | 入住锦江之星品尚酒店海口骑楼老街滨海大道店 + 青岛航/...'],\n",
       " ['重庆', '沈阳3天2晚 | 入住豪泽精品酒店沈阳会展中心新南站店 + 深圳航空/山东...'],\n",
       " ['宁波', '九寨沟3天2晚 | 入住阿坝九寨沟青稞游多多客栈 + 成都航空/四川航空往...'],\n",
       " ['上海', '长沙3天2晚 | 入住长沙金源阳光酒店 + 南方航空/吉祥航空往返机票'],\n",
       " ['成都', '哈尔滨3天2晚 | 入住全季酒店哈尔滨西大直街店 + 南方航空/西藏航空往...'],\n",
       " ['武汉', '桂林3天2晚 | 入住桂林雅乐轩酒店广西师大育才店 + 山东航空/南方航空...'],\n",
       " ['杭州', '武汉3天2晚 | 入住武汉居然酒店体育中心店 + 南方航空/厦门航空往返机票'],\n",
       " ['上海', '北京3天2晚 | 入住北京唐拉雅秀酒店 + 吉祥航空/厦门航空往返机票'],\n",
       " ['大连', '哈尔滨3天2晚 | 入住哈尔滨华特酒店 + 东方航空往返机票'],\n",
       " ['厦门', '太原3天2晚 | 入住山西农业大厦绿色主题酒店 + 山东航空往返机票'],\n",
       " ['西安', '沈阳3天2晚 | 入住沈阳天宝国际酒店 + 春秋航空往返机票'],\n",
       " ['广州', '长沙3天2晚 | 入住长沙红星大酒店 + 南方航空往返机票'],\n",
       " ['西安', '厦门3天2晚 | 入住厦门天天假期国际大酒店 + 东方航空往返机票'],\n",
       " ['上海', '哈尔滨3天2晚 | 入住哈尔滨龙达假日酒店 + 春秋航空/吉祥航空往返机票'],\n",
       " ['重庆', '北海3天2晚 | 入住北海泽霖商务酒店北海店 + 成都航空往返机票'],\n",
       " ['厦门', '珠海3天2晚 | 入住珠海风景酒店 + 山东航空往返机票'],\n",
       " ['沈阳', '桂林3天2晚 | 入住桂林金喜大酒店 + 南方航空/深圳航空往返机票'],\n",
       " ['北京', '九寨沟3天2晚 | 入住阿坝漳扎九寨阳光酒店 + 南方航空/联合航空往返机票'],\n",
       " ['西安', '武汉3天2晚 | 入住武汉格林精品快捷酒店关山大道大学园路店 + 东方航空...'],\n",
       " ['青岛', '厦门3天2晚 | 入住锦江之星酒店厦门集美学村店 + 山东航空往返机票'],\n",
       " ['天津', '大连3天2晚 | 入住大连雅乐轩酒店 + 海南航空/天津航空往返机票'],\n",
       " ['广州', '长沙3天2晚 | 入住宁乡县城市印象商务酒店 + 南方航空往返机票'],\n",
       " ['宁波', '兰州3天2晚 | 入住兰州百佳商务宾馆 + 东方航空/华夏航空往返机票'],\n",
       " ['上海', '桂林3天2晚 | 入住阳朔西街小毛驴客栈 + 扬子江航空/中国国航往返机票'],\n",
       " ['广州', '九寨沟3天2晚 | 入住九寨沟大藏风酒店 + 南方航空/首都航空往返机票'],\n",
       " ['上海', '青岛3天2晚 | 入住星程酒店青岛振华路地铁站店 + 春秋航空/吉祥航空往...'],\n",
       " ['大连', '武汉3天2晚 | 入住武汉阳光迪雅大酒店武昌火车站店 + 南方航空/东方航...'],\n",
       " ['重庆', '大理3天2晚 | 入住大理古城南门花中花客栈 + 南方航空往返机票'],\n",
       " ['厦门', '三亚3天2晚 | 入住三亚云海复式套房酒店大东海店 + 山东航空往返机票'],\n",
       " ['杭州', '西宁3天2晚 | 入住西宁青海穆斯林大厦 + 长龙航空往返机票'],\n",
       " ['南京', '苏州3天2晚 | 入住麗枫酒店昆山人民路店 + 东方航空往返机票'],\n",
       " ['青岛', '长沙3天2晚 | 入住长沙才子家郡酒店 + 青岛航/幸福航空往返机票'],\n",
       " ['广州', '呼和浩特3天2晚 | 入住呼和浩特市内蒙古锦江国际大酒店 + 南方航空/深...'],\n",
       " ['武汉', '西安3天2晚 | 入住西安云龙大酒店 + 东方航空往返机票'],\n",
       " ['成都', '桂林3天2晚 | 入住桂林江象阖酒店象山公园店 + 中国国航/山东航空往返...'],\n",
       " ['厦门', '乌鲁木齐3天2晚 | 入住乌鲁木齐东街禧玥酒店 + 山东航空往返机票'],\n",
       " ['哈尔滨', '三亚3天2晚 | 入住星程酒店三亚第一市场店 + 首都航空/福州往返机票'],\n",
       " ['西安', '沈阳3天2晚 | 入住锦江之星品尚酒店沈阳中街步行街故宫店 + 春秋航空往...'],\n",
       " ['武汉', '海口3天2晚 | 入住海口0898温泉酒店秀英港店 + 首都航空往返机票'],\n",
       " ['重庆', '天津3天2晚 | 入住天津善苑假日酒店 + 华夏航空往返机票'],\n",
       " ['大连', '烟台3天2晚 | 入住海阳假日湾酒店 + 幸福航空/天津航空往返机票'],\n",
       " ['杭州', '天津3天2晚 | 入住天津凯德大酒店 + 天津航空往返机票'],\n",
       " ['广州', '九寨沟3天2晚 | 入住五悦景区连锁酒店阿坝九寨沟店 + 南方航空/首都航...'],\n",
       " ['广州', '九寨沟3天2晚 | 入住九寨沟金龙国际度假酒店 + 南方航空/首都航空往返...'],\n",
       " ['杭州', '重庆3天2晚 | 入住酉阳金都大酒店 + 四川航空/海南航空往返机票'],\n",
       " ['武汉', '大连3天2晚 | 入住大连雅乐轩酒店 + 祥鹏航空/首都航空往返机票'],\n",
       " ['济南', '深圳3天2晚 | 入住好爱家商务酒店 + 西部航空往返机票'],\n",
       " ['上海', '三亚3天2晚 | 入住三亚铂金海景大酒店 + 上海航空/扬子江航空往返机票'],\n",
       " ['上海', '重庆3天2晚 | 入住重庆荣华大酒店 + 四川航空/吉祥航空往返机票'],\n",
       " ['天津', '北海3天2晚 | 入住北海之星商务酒店 + 四川航空/奥凯航空往返机票'],\n",
       " ['深圳', '厦门3天2晚 | 入住厦门毕思特酒店 + 海南航空往返机票'],\n",
       " ['杭州', '大连3天2晚 | 入住大连和润东方酒店 + 长龙航空/南方航空往返机票'],\n",
       " ['上海', '长沙3天2晚 | 入住长沙荣富酒店 + 南方航空/吉祥航空往返机票'],\n",
       " ['广州', '长春3天2晚 | 入住长春百家商务宾馆 + 南方航空往返机票'],\n",
       " ['厦门', '珠海3天2晚 | 入住珠海易乐园度假村 + 山东航空往返机票'],\n",
       " ['杭州', '西宁3天2晚 | 入住西宁青海宾馆 + 长龙航空往返机票'],\n",
       " ['西安', '三亚湾3天2晚 | 入住三亚黄金道大酒店 + 首都航空/四川航空往返机票'],\n",
       " ['沈阳', '九寨沟3天2晚 | 入住松潘东干仓山庄精品酒店 + 西藏航空/成都航空往返...'],\n",
       " ['大连', '青岛3天2晚 | 入住青岛中锦假日酒店 + 山东航空往返机票'],\n",
       " ['厦门', '营口3天2晚 | 入住营口奕丰商务酒店 + 深圳航空/海南航空往返机票'],\n",
       " ['成都', '乌鲁木齐3天2晚 | 入住乌鲁木齐美丽华酒店 + 四川航空往返机票'],\n",
       " ['上海', '哈尔滨3天2晚 | 入住哈尔滨龙达瑞吉商务酒店 + 春秋航空/吉祥航空往返...'],\n",
       " ['沈阳', '武汉3天2晚 | 入住武汉斯博兰花园酒店 + 南方航空往返机票'],\n",
       " ['哈尔滨', '大连3天2晚 | 入住大连船舶丽湾大酒店 + 东方航空往返机票'],\n",
       " ['杭州', '天津3天2晚 | 入住星程酒店天津北辰刘园店 + 天津航空往返机票'],\n",
       " ['上海', '神农架3天2晚 | 入住神农架祥云楼森林酒店 + 东方航空/吉祥航空往返机票'],\n",
       " ['西安', '西双版纳3天2晚 | 入住西双版纳逸家酒店 + 东方航空往返机票'],\n",
       " ['北京', '昆明3天2晚 | 入住昆明石林山庄假日酒店 + 东方航空/四川航空往返机票'],\n",
       " ['沈阳', '武汉3天2晚 | 入住武汉楚园饭店 + 南方航空往返机票'],\n",
       " ['西安', '三亚3天2晚 | 入住三亚京韵海景大酒店 + 首都航空/四川航空往返机票'],\n",
       " ['北京', '大理3天2晚 | 入住大理百合国际青年旅舍 + 深圳航空/中国国航往返机票'],\n",
       " ['厦门', '北京3天2晚 | 入住北京中国职工之家 + 联合航空/山东航空往返机票'],\n",
       " ...]"
      ]
     },
     "metadata": {},
     "execution_count": 58
    }
   ],
   "source": [
    "# 第二种解决方法\n",
    "# [str(x).split('-') for x in df.loc[df['出发地'].isnull(),'路线名']]\n",
    "[str(x).split('-') for x in df.loc[df['出发地'].notnull(),'路线名']]"
   ]
  },
  {
   "cell_type": "code",
   "execution_count": 56,
   "metadata": {},
   "outputs": [
    {
     "output_type": "execute_result",
     "data": {
      "text/plain": [
       "'哈尔滨'"
      ]
     },
     "metadata": {},
     "execution_count": 56
    }
   ],
   "source": [
    "[str(x).split('-') for x in df.loc[df['出发地'].notnull(),'路线名']][0][0]"
   ]
  },
  {
   "cell_type": "code",
   "execution_count": 59,
   "metadata": {},
   "outputs": [
    {
     "output_type": "execute_result",
     "data": {
      "text/plain": [
       "0"
      ]
     },
     "metadata": {},
     "execution_count": 59
    }
   ],
   "source": [
    "# 验证数据是否被填充\n",
    "df['出发地'].isnull().sum()"
   ]
  },
  {
   "cell_type": "code",
   "execution_count": 60,
   "metadata": {},
   "outputs": [
    {
     "output_type": "execute_result",
     "data": {
      "text/plain": [
       "1732.5140901771338"
      ]
     },
     "metadata": {},
     "execution_count": 60
    }
   ],
   "source": [
    "# 处理一下价格，价格的处理思路是，用平均值填充\n",
    "# 求价格的平均值\n",
    "df['价格'].mean()"
   ]
  },
  {
   "cell_type": "code",
   "execution_count": 61,
   "metadata": {},
   "outputs": [
    {
     "output_type": "execute_result",
     "data": {
      "text/plain": [
       "1733"
      ]
     },
     "metadata": {},
     "execution_count": 61
    }
   ],
   "source": [
    "# 请将价格进行四舍五入的处理\n",
    "round(df['价格'].mean())"
   ]
  },
  {
   "cell_type": "code",
   "execution_count": 62,
   "metadata": {},
   "outputs": [],
   "source": [
    "# 用平均值填充价格为空的数据\n",
    "df['价格'].fillna(round(df['价格'].mean()),inplace = True)"
   ]
  },
  {
   "cell_type": "code",
   "execution_count": 64,
   "metadata": {},
   "outputs": [
    {
     "output_type": "execute_result",
     "data": {
      "text/plain": [
       "出发地      0\n",
       "目的地      1\n",
       "价格       0\n",
       "节省      17\n",
       "路线名      0\n",
       "酒店       0\n",
       "房间       0\n",
       "去程航司     0\n",
       "去程方式     0\n",
       "去程时间     0\n",
       "回程航司     0\n",
       "回程方式     0\n",
       "回程时间     0\n",
       "dtype: int64"
      ]
     },
     "metadata": {},
     "execution_count": 64
    }
   ],
   "source": [
    "df.isnull().sum()"
   ]
  },
  {
   "cell_type": "code",
   "execution_count": 66,
   "metadata": {},
   "outputs": [
    {
     "output_type": "execute_result",
     "data": {
      "text/plain": [
       "     出发地  目的地      价格     节省                                   路线名  \\\n",
       "1860  深圳  NaN  2149.0  494.0  深圳-大连3天2晚 | 入住大连黄金山大酒店 + 南方航空/东海往返机票   \n",
       "\n",
       "                        酒店                 房间         去程航司 去程方式         去程时间  \\\n",
       "1860  大连黄金山大酒店 舒适型 3.4分/5分  标准间 大/双床 不含早 1间2晚  南方航空 CZ6833   直飞  09:10-12:40   \n",
       "\n",
       "           回程航司 回程方式         回程时间  \n",
       "1860  东海 DZ6242   经停  12:40-18:00  "
      ],
      "text/html": "<div>\n<style scoped>\n    .dataframe tbody tr th:only-of-type {\n        vertical-align: middle;\n    }\n\n    .dataframe tbody tr th {\n        vertical-align: top;\n    }\n\n    .dataframe thead th {\n        text-align: right;\n    }\n</style>\n<table border=\"1\" class=\"dataframe\">\n  <thead>\n    <tr style=\"text-align: right;\">\n      <th></th>\n      <th>出发地</th>\n      <th>目的地</th>\n      <th>价格</th>\n      <th>节省</th>\n      <th>路线名</th>\n      <th>酒店</th>\n      <th>房间</th>\n      <th>去程航司</th>\n      <th>去程方式</th>\n      <th>去程时间</th>\n      <th>回程航司</th>\n      <th>回程方式</th>\n      <th>回程时间</th>\n    </tr>\n  </thead>\n  <tbody>\n    <tr>\n      <th>1860</th>\n      <td>深圳</td>\n      <td>NaN</td>\n      <td>2149.0</td>\n      <td>494.0</td>\n      <td>深圳-大连3天2晚 | 入住大连黄金山大酒店 + 南方航空/东海往返机票</td>\n      <td>大连黄金山大酒店 舒适型 3.4分/5分</td>\n      <td>标准间 大/双床 不含早 1间2晚</td>\n      <td>南方航空 CZ6833</td>\n      <td>直飞</td>\n      <td>09:10-12:40</td>\n      <td>东海 DZ6242</td>\n      <td>经停</td>\n      <td>12:40-18:00</td>\n    </tr>\n  </tbody>\n</table>\n</div>"
     },
     "metadata": {},
     "execution_count": 66
    }
   ],
   "source": [
    "# 处理目的地\n",
    "df[df['目的地'].isnull()]\n"
   ]
  },
  {
   "cell_type": "code",
   "execution_count": 79,
   "metadata": {},
   "outputs": [
    {
     "output_type": "execute_result",
     "data": {
      "text/plain": [
       "     出发地 目的地      价格     节省                                   路线名  \\\n",
       "1860  深圳  大连  2149.0  494.0  深圳-大连3天2晚 | 入住大连黄金山大酒店 + 南方航空/东海往返机票   \n",
       "\n",
       "                        酒店                 房间         去程航司 去程方式         去程时间  \\\n",
       "1860  大连黄金山大酒店 舒适型 3.4分/5分  标准间 大/双床 不含早 1间2晚  南方航空 CZ6833   直飞  09:10-12:40   \n",
       "\n",
       "           回程航司 回程方式         回程时间  \n",
       "1860  东海 DZ6242   经停  12:40-18:00  "
      ],
      "text/html": "<div>\n<style scoped>\n    .dataframe tbody tr th:only-of-type {\n        vertical-align: middle;\n    }\n\n    .dataframe tbody tr th {\n        vertical-align: top;\n    }\n\n    .dataframe thead th {\n        text-align: right;\n    }\n</style>\n<table border=\"1\" class=\"dataframe\">\n  <thead>\n    <tr style=\"text-align: right;\">\n      <th></th>\n      <th>出发地</th>\n      <th>目的地</th>\n      <th>价格</th>\n      <th>节省</th>\n      <th>路线名</th>\n      <th>酒店</th>\n      <th>房间</th>\n      <th>去程航司</th>\n      <th>去程方式</th>\n      <th>去程时间</th>\n      <th>回程航司</th>\n      <th>回程方式</th>\n      <th>回程时间</th>\n    </tr>\n  </thead>\n  <tbody>\n    <tr>\n      <th>1860</th>\n      <td>深圳</td>\n      <td>大连</td>\n      <td>2149.0</td>\n      <td>494.0</td>\n      <td>深圳-大连3天2晚 | 入住大连黄金山大酒店 + 南方航空/东海往返机票</td>\n      <td>大连黄金山大酒店 舒适型 3.4分/5分</td>\n      <td>标准间 大/双床 不含早 1间2晚</td>\n      <td>南方航空 CZ6833</td>\n      <td>直飞</td>\n      <td>09:10-12:40</td>\n      <td>东海 DZ6242</td>\n      <td>经停</td>\n      <td>12:40-18:00</td>\n    </tr>\n  </tbody>\n</table>\n</div>"
     },
     "metadata": {},
     "execution_count": 79
    }
   ],
   "source": [
    "# 使用正则，暂不做解释，可以略过\n",
    "df[df['目的地'].isnull()]['路线名'].str.extract('-(.*?)\\d')\n",
    "df.loc[[1860]]\n"
   ]
  },
  {
   "cell_type": "code",
   "execution_count": 80,
   "metadata": {},
   "outputs": [],
   "source": [
    "# 用平均值填充节省为空的数据\n",
    "df['节省'].fillna(round(df['节省'].mean()),inplace = True)"
   ]
  },
  {
   "cell_type": "code",
   "execution_count": 81,
   "metadata": {},
   "outputs": [
    {
     "output_type": "execute_result",
     "data": {
      "text/plain": [
       "出发地     0\n",
       "目的地     0\n",
       "价格      0\n",
       "节省      0\n",
       "路线名     0\n",
       "酒店      0\n",
       "房间      0\n",
       "去程航司    0\n",
       "去程方式    0\n",
       "去程时间    0\n",
       "回程航司    0\n",
       "回程方式    0\n",
       "回程时间    0\n",
       "dtype: int64"
      ]
     },
     "metadata": {},
     "execution_count": 81
    }
   ],
   "source": [
    "df.isnull().sum()"
   ]
  },
  {
   "cell_type": "code",
   "execution_count": 82,
   "metadata": {},
   "outputs": [
    {
     "output_type": "execute_result",
     "data": {
      "text/plain": [
       "   出发地  目的地      价格     节省                                      路线名  \\\n",
       "0  哈尔滨   北海  2208.0  650.0     哈尔滨-北海3天2晚 | 入住北海祥丰嘉年华大酒店 + 春秋航空往返机票   \n",
       "1   成都  泸沽湖  1145.0  376.0    成都-泸沽湖3天2晚 | 入住7天酒店丽江古城中心店 + 成都航空往返机票   \n",
       "2   广州   沈阳  2702.0  618.0     广州-沈阳3天2晚 | 入住沈阳中煤宾馆 + 南方航空/深圳航空往返机票   \n",
       "3   上海  九寨沟  1954.0  484.0        上海-九寨沟3天2晚 | 入住红原芸谊大酒店 + 成都航空往返机票   \n",
       "4   广州   天津  1608.0  422.0  广州-天津3天2晚 | 入住天津逸海明珠大酒店 + 奥凯航空/海南航空往返机票   \n",
       "\n",
       "                        酒店                          房间         去程航司 去程方式  \\\n",
       "0   北海祥丰嘉年华大酒店 舒适型 4.7分/5分       标准双人间(双床) 双床 不含早 1间2晚  春秋航空 9C8741   直飞   \n",
       "1  7天酒店丽江古城中心店 经济型 4.0分/5分  经济房-不含早-限时特... 其他 不含早 1间2晚  成都航空 EU2237   直飞   \n",
       "2       沈阳中煤宾馆 舒适型 4.5分/5分          大床间(内宾) 大床 双早 1间2晚  南方航空 CZ6384   直飞   \n",
       "3      红原芸谊大酒店 舒适型 4.6分/5分        豪华双床房[双早] 双床 双早 1间2晚  成都航空 EU6678   直飞   \n",
       "4    天津逸海明珠大酒店 高档型 4.1分/5分       豪华双床房(预付) 双床 不含早 1间2晚  奥凯航空 BK2787   直飞   \n",
       "\n",
       "          去程时间         回程航司 回程方式         回程时间 酒店评分  \n",
       "0  17:10-21:50  春秋航空 9C8742   直飞  10:20-15:05  4.7  \n",
       "1  19:45-21:20  成都航空 EU2738   直飞  23:30-01:05  4.0  \n",
       "2  08:05-11:45  深圳航空 ZH9652   经停  08:20-13:05  4.5  \n",
       "3  21:55-01:15  成都航空 EU6677   直飞  17:45-20:35  4.6  \n",
       "4  06:55-10:00  海南航空 HU7201   直飞  20:15-23:25  4.1  "
      ],
      "text/html": "<div>\n<style scoped>\n    .dataframe tbody tr th:only-of-type {\n        vertical-align: middle;\n    }\n\n    .dataframe tbody tr th {\n        vertical-align: top;\n    }\n\n    .dataframe thead th {\n        text-align: right;\n    }\n</style>\n<table border=\"1\" class=\"dataframe\">\n  <thead>\n    <tr style=\"text-align: right;\">\n      <th></th>\n      <th>出发地</th>\n      <th>目的地</th>\n      <th>价格</th>\n      <th>节省</th>\n      <th>路线名</th>\n      <th>酒店</th>\n      <th>房间</th>\n      <th>去程航司</th>\n      <th>去程方式</th>\n      <th>去程时间</th>\n      <th>回程航司</th>\n      <th>回程方式</th>\n      <th>回程时间</th>\n      <th>酒店评分</th>\n    </tr>\n  </thead>\n  <tbody>\n    <tr>\n      <th>0</th>\n      <td>哈尔滨</td>\n      <td>北海</td>\n      <td>2208.0</td>\n      <td>650.0</td>\n      <td>哈尔滨-北海3天2晚 | 入住北海祥丰嘉年华大酒店 + 春秋航空往返机票</td>\n      <td>北海祥丰嘉年华大酒店 舒适型 4.7分/5分</td>\n      <td>标准双人间(双床) 双床 不含早 1间2晚</td>\n      <td>春秋航空 9C8741</td>\n      <td>直飞</td>\n      <td>17:10-21:50</td>\n      <td>春秋航空 9C8742</td>\n      <td>直飞</td>\n      <td>10:20-15:05</td>\n      <td>4.7</td>\n    </tr>\n    <tr>\n      <th>1</th>\n      <td>成都</td>\n      <td>泸沽湖</td>\n      <td>1145.0</td>\n      <td>376.0</td>\n      <td>成都-泸沽湖3天2晚 | 入住7天酒店丽江古城中心店 + 成都航空往返机票</td>\n      <td>7天酒店丽江古城中心店 经济型 4.0分/5分</td>\n      <td>经济房-不含早-限时特... 其他 不含早 1间2晚</td>\n      <td>成都航空 EU2237</td>\n      <td>直飞</td>\n      <td>19:45-21:20</td>\n      <td>成都航空 EU2738</td>\n      <td>直飞</td>\n      <td>23:30-01:05</td>\n      <td>4.0</td>\n    </tr>\n    <tr>\n      <th>2</th>\n      <td>广州</td>\n      <td>沈阳</td>\n      <td>2702.0</td>\n      <td>618.0</td>\n      <td>广州-沈阳3天2晚 | 入住沈阳中煤宾馆 + 南方航空/深圳航空往返机票</td>\n      <td>沈阳中煤宾馆 舒适型 4.5分/5分</td>\n      <td>大床间(内宾) 大床 双早 1间2晚</td>\n      <td>南方航空 CZ6384</td>\n      <td>直飞</td>\n      <td>08:05-11:45</td>\n      <td>深圳航空 ZH9652</td>\n      <td>经停</td>\n      <td>08:20-13:05</td>\n      <td>4.5</td>\n    </tr>\n    <tr>\n      <th>3</th>\n      <td>上海</td>\n      <td>九寨沟</td>\n      <td>1954.0</td>\n      <td>484.0</td>\n      <td>上海-九寨沟3天2晚 | 入住红原芸谊大酒店 + 成都航空往返机票</td>\n      <td>红原芸谊大酒店 舒适型 4.6分/5分</td>\n      <td>豪华双床房[双早] 双床 双早 1间2晚</td>\n      <td>成都航空 EU6678</td>\n      <td>直飞</td>\n      <td>21:55-01:15</td>\n      <td>成都航空 EU6677</td>\n      <td>直飞</td>\n      <td>17:45-20:35</td>\n      <td>4.6</td>\n    </tr>\n    <tr>\n      <th>4</th>\n      <td>广州</td>\n      <td>天津</td>\n      <td>1608.0</td>\n      <td>422.0</td>\n      <td>广州-天津3天2晚 | 入住天津逸海明珠大酒店 + 奥凯航空/海南航空往返机票</td>\n      <td>天津逸海明珠大酒店 高档型 4.1分/5分</td>\n      <td>豪华双床房(预付) 双床 不含早 1间2晚</td>\n      <td>奥凯航空 BK2787</td>\n      <td>直飞</td>\n      <td>06:55-10:00</td>\n      <td>海南航空 HU7201</td>\n      <td>直飞</td>\n      <td>20:15-23:25</td>\n      <td>4.1</td>\n    </tr>\n  </tbody>\n</table>\n</div>"
     },
     "metadata": {},
     "execution_count": 82
    }
   ],
   "source": [
    "# 提取酒店评分，使用正则，暂不做为重点，可以略过\n",
    "df['酒店评分'] = df['酒店'].str.extract('(\\d\\.\\d)分/5分')\n",
    "df.head()"
   ]
  },
  {
   "cell_type": "code",
   "execution_count": 83,
   "metadata": {},
   "outputs": [
    {
     "output_type": "execute_result",
     "data": {
      "text/plain": [
       "   出发地  目的地      价格     节省                                      路线名  \\\n",
       "0  哈尔滨   北海  2208.0  650.0     哈尔滨-北海3天2晚 | 入住北海祥丰嘉年华大酒店 + 春秋航空往返机票   \n",
       "1   成都  泸沽湖  1145.0  376.0    成都-泸沽湖3天2晚 | 入住7天酒店丽江古城中心店 + 成都航空往返机票   \n",
       "2   广州   沈阳  2702.0  618.0     广州-沈阳3天2晚 | 入住沈阳中煤宾馆 + 南方航空/深圳航空往返机票   \n",
       "3   上海  九寨沟  1954.0  484.0        上海-九寨沟3天2晚 | 入住红原芸谊大酒店 + 成都航空往返机票   \n",
       "4   广州   天津  1608.0  422.0  广州-天津3天2晚 | 入住天津逸海明珠大酒店 + 奥凯航空/海南航空往返机票   \n",
       "\n",
       "                        酒店                          房间         去程航司 去程方式  \\\n",
       "0   北海祥丰嘉年华大酒店 舒适型 4.7分/5分       标准双人间(双床) 双床 不含早 1间2晚  春秋航空 9C8741   直飞   \n",
       "1  7天酒店丽江古城中心店 经济型 4.0分/5分  经济房-不含早-限时特... 其他 不含早 1间2晚  成都航空 EU2237   直飞   \n",
       "2       沈阳中煤宾馆 舒适型 4.5分/5分          大床间(内宾) 大床 双早 1间2晚  南方航空 CZ6384   直飞   \n",
       "3      红原芸谊大酒店 舒适型 4.6分/5分        豪华双床房[双早] 双床 双早 1间2晚  成都航空 EU6678   直飞   \n",
       "4    天津逸海明珠大酒店 高档型 4.1分/5分       豪华双床房(预付) 双床 不含早 1间2晚  奥凯航空 BK2787   直飞   \n",
       "\n",
       "          去程时间         回程航司 回程方式         回程时间 酒店评分 酒店等级  \n",
       "0  17:10-21:50  春秋航空 9C8742   直飞  10:20-15:05  4.7  舒适型  \n",
       "1  19:45-21:20  成都航空 EU2738   直飞  23:30-01:05  4.0  经济型  \n",
       "2  08:05-11:45  深圳航空 ZH9652   经停  08:20-13:05  4.5  舒适型  \n",
       "3  21:55-01:15  成都航空 EU6677   直飞  17:45-20:35  4.6  舒适型  \n",
       "4  06:55-10:00  海南航空 HU7201   直飞  20:15-23:25  4.1  高档型  "
      ],
      "text/html": "<div>\n<style scoped>\n    .dataframe tbody tr th:only-of-type {\n        vertical-align: middle;\n    }\n\n    .dataframe tbody tr th {\n        vertical-align: top;\n    }\n\n    .dataframe thead th {\n        text-align: right;\n    }\n</style>\n<table border=\"1\" class=\"dataframe\">\n  <thead>\n    <tr style=\"text-align: right;\">\n      <th></th>\n      <th>出发地</th>\n      <th>目的地</th>\n      <th>价格</th>\n      <th>节省</th>\n      <th>路线名</th>\n      <th>酒店</th>\n      <th>房间</th>\n      <th>去程航司</th>\n      <th>去程方式</th>\n      <th>去程时间</th>\n      <th>回程航司</th>\n      <th>回程方式</th>\n      <th>回程时间</th>\n      <th>酒店评分</th>\n      <th>酒店等级</th>\n    </tr>\n  </thead>\n  <tbody>\n    <tr>\n      <th>0</th>\n      <td>哈尔滨</td>\n      <td>北海</td>\n      <td>2208.0</td>\n      <td>650.0</td>\n      <td>哈尔滨-北海3天2晚 | 入住北海祥丰嘉年华大酒店 + 春秋航空往返机票</td>\n      <td>北海祥丰嘉年华大酒店 舒适型 4.7分/5分</td>\n      <td>标准双人间(双床) 双床 不含早 1间2晚</td>\n      <td>春秋航空 9C8741</td>\n      <td>直飞</td>\n      <td>17:10-21:50</td>\n      <td>春秋航空 9C8742</td>\n      <td>直飞</td>\n      <td>10:20-15:05</td>\n      <td>4.7</td>\n      <td>舒适型</td>\n    </tr>\n    <tr>\n      <th>1</th>\n      <td>成都</td>\n      <td>泸沽湖</td>\n      <td>1145.0</td>\n      <td>376.0</td>\n      <td>成都-泸沽湖3天2晚 | 入住7天酒店丽江古城中心店 + 成都航空往返机票</td>\n      <td>7天酒店丽江古城中心店 经济型 4.0分/5分</td>\n      <td>经济房-不含早-限时特... 其他 不含早 1间2晚</td>\n      <td>成都航空 EU2237</td>\n      <td>直飞</td>\n      <td>19:45-21:20</td>\n      <td>成都航空 EU2738</td>\n      <td>直飞</td>\n      <td>23:30-01:05</td>\n      <td>4.0</td>\n      <td>经济型</td>\n    </tr>\n    <tr>\n      <th>2</th>\n      <td>广州</td>\n      <td>沈阳</td>\n      <td>2702.0</td>\n      <td>618.0</td>\n      <td>广州-沈阳3天2晚 | 入住沈阳中煤宾馆 + 南方航空/深圳航空往返机票</td>\n      <td>沈阳中煤宾馆 舒适型 4.5分/5分</td>\n      <td>大床间(内宾) 大床 双早 1间2晚</td>\n      <td>南方航空 CZ6384</td>\n      <td>直飞</td>\n      <td>08:05-11:45</td>\n      <td>深圳航空 ZH9652</td>\n      <td>经停</td>\n      <td>08:20-13:05</td>\n      <td>4.5</td>\n      <td>舒适型</td>\n    </tr>\n    <tr>\n      <th>3</th>\n      <td>上海</td>\n      <td>九寨沟</td>\n      <td>1954.0</td>\n      <td>484.0</td>\n      <td>上海-九寨沟3天2晚 | 入住红原芸谊大酒店 + 成都航空往返机票</td>\n      <td>红原芸谊大酒店 舒适型 4.6分/5分</td>\n      <td>豪华双床房[双早] 双床 双早 1间2晚</td>\n      <td>成都航空 EU6678</td>\n      <td>直飞</td>\n      <td>21:55-01:15</td>\n      <td>成都航空 EU6677</td>\n      <td>直飞</td>\n      <td>17:45-20:35</td>\n      <td>4.6</td>\n      <td>舒适型</td>\n    </tr>\n    <tr>\n      <th>4</th>\n      <td>广州</td>\n      <td>天津</td>\n      <td>1608.0</td>\n      <td>422.0</td>\n      <td>广州-天津3天2晚 | 入住天津逸海明珠大酒店 + 奥凯航空/海南航空往返机票</td>\n      <td>天津逸海明珠大酒店 高档型 4.1分/5分</td>\n      <td>豪华双床房(预付) 双床 不含早 1间2晚</td>\n      <td>奥凯航空 BK2787</td>\n      <td>直飞</td>\n      <td>06:55-10:00</td>\n      <td>海南航空 HU7201</td>\n      <td>直飞</td>\n      <td>20:15-23:25</td>\n      <td>4.1</td>\n      <td>高档型</td>\n    </tr>\n  </tbody>\n</table>\n</div>"
     },
     "metadata": {},
     "execution_count": 83
    }
   ],
   "source": [
    "# 提取酒店等级\n",
    "df['酒店等级'] = df['酒店'].str.extract(' (.+) ')\n",
    "df.head()"
   ]
  },
  {
   "source": [
    "# 下一节：matplotlib基本图形绘制"
   ],
   "cell_type": "markdown",
   "metadata": {}
  }
 ]
}