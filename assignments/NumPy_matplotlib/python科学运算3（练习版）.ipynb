{
 "metadata": {
  "language_info": {
   "codemirror_mode": {
    "name": "ipython",
    "version": 3
   },
   "file_extension": ".py",
   "mimetype": "text/x-python",
   "name": "python",
   "nbconvert_exporter": "python",
   "pygments_lexer": "ipython3",
   "version": "3.8.8"
  },
  "orig_nbformat": 4,
  "kernelspec": {
   "name": "python3",
   "display_name": "Python 3.8.8 64-bit ('base': conda)"
  },
  "interpreter": {
   "hash": "0a50b215142d87f83c3467aa843d55e66b293ff2981807bd882bb4e6b8ecbdc5"
  }
 },
 "nbformat": 4,
 "nbformat_minor": 2,
 "cells": [
  {
   "source": [
    "# Python科学运算3:pandas复习与时间戳应用（练习版）\n",
    "> 请补全单元格"
   ],
   "cell_type": "markdown",
   "metadata": {}
  },
  {
   "cell_type": "code",
   "execution_count": 1,
   "metadata": {},
   "outputs": [
    {
     "output_type": "execute_result",
     "data": {
      "text/plain": [
       "   orderid  bikeid  userid        start_time  start_location_x  \\\n",
       "0    78387  158357   10080  2016-08-20 06:57           121.348   \n",
       "1   891333   92776    6605  2016-08-29 19:09           121.508   \n",
       "2  1106623  152045    8876  2016-08-13 16:17           121.383   \n",
       "3  1389484  196259   10648  2016-08-23 21:34           121.484   \n",
       "4   188537   78208   11735  2016-08-16 07:32           121.407   \n",
       "\n",
       "   start_location_y          end_time  end_location_x  end_location_y  \\\n",
       "0            31.389  2016-08-20 07:04         121.357          31.388   \n",
       "1            31.279  2016-08-29 19:31         121.489          31.271   \n",
       "2            31.254  2016-08-13 16:36         121.405          31.248   \n",
       "3            31.320  2016-08-23 21:43         121.471          31.325   \n",
       "4            31.292  2016-08-16 07:41         121.418          31.288   \n",
       "\n",
       "                                               track  \n",
       "0  121.347,31.392#121.348,31.389#121.349,31.390#1...  \n",
       "1  121.489,31.270#121.489,31.271#121.490,31.270#1...  \n",
       "2  121.381,31.251#121.382,31.251#121.382,31.252#1...  \n",
       "3  121.471,31.325#121.472,31.325#121.473,31.324#1...  \n",
       "4  121.407,31.291#121.407,31.292#121.408,31.291#1...  "
      ],
      "text/html": "<div>\n<style scoped>\n    .dataframe tbody tr th:only-of-type {\n        vertical-align: middle;\n    }\n\n    .dataframe tbody tr th {\n        vertical-align: top;\n    }\n\n    .dataframe thead th {\n        text-align: right;\n    }\n</style>\n<table border=\"1\" class=\"dataframe\">\n  <thead>\n    <tr style=\"text-align: right;\">\n      <th></th>\n      <th>orderid</th>\n      <th>bikeid</th>\n      <th>userid</th>\n      <th>start_time</th>\n      <th>start_location_x</th>\n      <th>start_location_y</th>\n      <th>end_time</th>\n      <th>end_location_x</th>\n      <th>end_location_y</th>\n      <th>track</th>\n    </tr>\n  </thead>\n  <tbody>\n    <tr>\n      <th>0</th>\n      <td>78387</td>\n      <td>158357</td>\n      <td>10080</td>\n      <td>2016-08-20 06:57</td>\n      <td>121.348</td>\n      <td>31.389</td>\n      <td>2016-08-20 07:04</td>\n      <td>121.357</td>\n      <td>31.388</td>\n      <td>121.347,31.392#121.348,31.389#121.349,31.390#1...</td>\n    </tr>\n    <tr>\n      <th>1</th>\n      <td>891333</td>\n      <td>92776</td>\n      <td>6605</td>\n      <td>2016-08-29 19:09</td>\n      <td>121.508</td>\n      <td>31.279</td>\n      <td>2016-08-29 19:31</td>\n      <td>121.489</td>\n      <td>31.271</td>\n      <td>121.489,31.270#121.489,31.271#121.490,31.270#1...</td>\n    </tr>\n    <tr>\n      <th>2</th>\n      <td>1106623</td>\n      <td>152045</td>\n      <td>8876</td>\n      <td>2016-08-13 16:17</td>\n      <td>121.383</td>\n      <td>31.254</td>\n      <td>2016-08-13 16:36</td>\n      <td>121.405</td>\n      <td>31.248</td>\n      <td>121.381,31.251#121.382,31.251#121.382,31.252#1...</td>\n    </tr>\n    <tr>\n      <th>3</th>\n      <td>1389484</td>\n      <td>196259</td>\n      <td>10648</td>\n      <td>2016-08-23 21:34</td>\n      <td>121.484</td>\n      <td>31.320</td>\n      <td>2016-08-23 21:43</td>\n      <td>121.471</td>\n      <td>31.325</td>\n      <td>121.471,31.325#121.472,31.325#121.473,31.324#1...</td>\n    </tr>\n    <tr>\n      <th>4</th>\n      <td>188537</td>\n      <td>78208</td>\n      <td>11735</td>\n      <td>2016-08-16 07:32</td>\n      <td>121.407</td>\n      <td>31.292</td>\n      <td>2016-08-16 07:41</td>\n      <td>121.418</td>\n      <td>31.288</td>\n      <td>121.407,31.291#121.407,31.292#121.408,31.291#1...</td>\n    </tr>\n  </tbody>\n</table>\n</div>"
     },
     "metadata": {},
     "execution_count": 1
    }
   ],
   "source": [
    "# 导包\n",
    "import pandas as pd\n",
    "# 数据读取\n",
    "df = pd.read_csv('data1.csv')\n",
    "df.head()"
   ]
  },
  {
   "cell_type": "code",
   "execution_count": 2,
   "metadata": {},
   "outputs": [],
   "source": [
    "## 检查列名"
   ]
  },
  {
   "cell_type": "code",
   "execution_count": 3,
   "metadata": {},
   "outputs": [],
   "source": [
    "# 修改列的索引名称为中文\n",
    "# ['订单编号','车辆编号','用户编号','订单开始时间','起始位置经度','起始位置纬度','订单结束时间','结束位置经度','结束位置纬度','轨迹']\n"
   ]
  },
  {
   "cell_type": "code",
   "execution_count": 4,
   "metadata": {},
   "outputs": [],
   "source": [
    "# 按照订单编号排序"
   ]
  },
  {
   "cell_type": "code",
   "execution_count": 5,
   "metadata": {},
   "outputs": [],
   "source": [
    "# 选取订单编号大于1807840的数据\n"
   ]
  },
  {
   "cell_type": "code",
   "execution_count": 6,
   "metadata": {},
   "outputs": [],
   "source": [
    "# 查询 df 的info"
   ]
  },
  {
   "cell_type": "code",
   "execution_count": 7,
   "metadata": {},
   "outputs": [],
   "source": [
    "# 将订单开始时间数据类型改为 datetime"
   ]
  },
  {
   "cell_type": "code",
   "execution_count": 8,
   "metadata": {},
   "outputs": [],
   "source": [
    "# 计算骑行最长时间"
   ]
  },
  {
   "cell_type": "code",
   "execution_count": 9,
   "metadata": {},
   "outputs": [],
   "source": [
    "# 计算骑行平均时间"
   ]
  },
  {
   "cell_type": "code",
   "execution_count": null,
   "metadata": {},
   "outputs": [],
   "source": []
  }
 ]
}