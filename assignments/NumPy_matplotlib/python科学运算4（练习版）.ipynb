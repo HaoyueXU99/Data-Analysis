{
 "metadata": {
  "language_info": {
   "codemirror_mode": {
    "name": "ipython",
    "version": 3
   },
   "file_extension": ".py",
   "mimetype": "text/x-python",
   "name": "python",
   "nbconvert_exporter": "python",
   "pygments_lexer": "ipython3",
   "version": "3.8.8"
  },
  "orig_nbformat": 4,
  "kernelspec": {
   "name": "python3",
   "display_name": "Python 3.8.8 64-bit ('base': conda)"
  },
  "interpreter": {
   "hash": "0a50b215142d87f83c3467aa843d55e66b293ff2981807bd882bb4e6b8ecbdc5"
  }
 },
 "nbformat": 4,
 "nbformat_minor": 2,
 "cells": [
  {
   "source": [
    "# Python科学运算4:空值的填充和重复值处理（练习版）"
   ],
   "cell_type": "markdown",
   "metadata": {}
  },
  {
   "source": [
    "## 填充空值"
   ],
   "cell_type": "markdown",
   "metadata": {}
  },
  {
   "cell_type": "code",
   "execution_count": 1,
   "metadata": {},
   "outputs": [],
   "source": [
    "# 导包\n",
    "import pandas as pd\n",
    "import numpy as np"
   ]
  },
  {
   "cell_type": "code",
   "execution_count": 2,
   "metadata": {},
   "outputs": [
    {
     "output_type": "execute_result",
     "data": {
      "text/plain": [
       "     A    B   C  D\n",
       "0  NaN  2.0 NaN  0\n",
       "1  3.0  4.0 NaN  1\n",
       "2  NaN  NaN NaN  4\n",
       "3  NaN  3.0 NaN  4"
      ],
      "text/html": "<div>\n<style scoped>\n    .dataframe tbody tr th:only-of-type {\n        vertical-align: middle;\n    }\n\n    .dataframe tbody tr th {\n        vertical-align: top;\n    }\n\n    .dataframe thead th {\n        text-align: right;\n    }\n</style>\n<table border=\"1\" class=\"dataframe\">\n  <thead>\n    <tr style=\"text-align: right;\">\n      <th></th>\n      <th>A</th>\n      <th>B</th>\n      <th>C</th>\n      <th>D</th>\n    </tr>\n  </thead>\n  <tbody>\n    <tr>\n      <th>0</th>\n      <td>NaN</td>\n      <td>2.0</td>\n      <td>NaN</td>\n      <td>0</td>\n    </tr>\n    <tr>\n      <th>1</th>\n      <td>3.0</td>\n      <td>4.0</td>\n      <td>NaN</td>\n      <td>1</td>\n    </tr>\n    <tr>\n      <th>2</th>\n      <td>NaN</td>\n      <td>NaN</td>\n      <td>NaN</td>\n      <td>4</td>\n    </tr>\n    <tr>\n      <th>3</th>\n      <td>NaN</td>\n      <td>3.0</td>\n      <td>NaN</td>\n      <td>4</td>\n    </tr>\n  </tbody>\n</table>\n</div>"
     },
     "metadata": {},
     "execution_count": 2
    }
   ],
   "source": [
    "# 初始化\n",
    "df = pd.DataFrame([[np.nan,2,np.nan,0],\n",
    "                  [3,4,np.nan,1],\n",
    "                  [np.nan,np.nan,np.nan,4],\n",
    "                  [np.nan,3,np.nan,4]],\n",
    "                 columns=list('ABCD'))\n",
    "df"
   ]
  },
  {
   "cell_type": "code",
   "execution_count": 3,
   "metadata": {},
   "outputs": [],
   "source": [
    "# 填充 NaN 为0"
   ]
  },
  {
   "cell_type": "code",
   "execution_count": 4,
   "metadata": {},
   "outputs": [],
   "source": [
    "# 向前填充 NaN"
   ]
  },
  {
   "cell_type": "code",
   "execution_count": 5,
   "metadata": {},
   "outputs": [],
   "source": [
    "# 按照指定的值进行填充"
   ]
  },
  {
   "cell_type": "code",
   "execution_count": 6,
   "metadata": {},
   "outputs": [],
   "source": [
    "# 按照指定的值进行填充,并限定数量\n"
   ]
  },
  {
   "cell_type": "code",
   "execution_count": 7,
   "metadata": {},
   "outputs": [],
   "source": [
    "# 按照指定的值进行填充,并限定数量,并替换原来的值"
   ]
  },
  {
   "source": [
    "## 重复值处理"
   ],
   "cell_type": "markdown",
   "metadata": {}
  },
  {
   "cell_type": "code",
   "execution_count": 8,
   "metadata": {},
   "outputs": [
    {
     "output_type": "execute_result",
     "data": {
      "text/plain": [
       "   orderid  bikeid  userid        start_time  start_location_x  \\\n",
       "0    78387  158357   10080  2016-08-20 06:57           121.348   \n",
       "1   891333   92776    6605  2016-08-29 19:09           121.508   \n",
       "2  1106623  152045    8876  2016-08-13 16:17           121.383   \n",
       "3  1389484  196259   10648  2016-08-23 21:34           121.484   \n",
       "4   188537   78208   11735  2016-08-16 07:32           121.407   \n",
       "\n",
       "   start_location_y          end_time  end_location_x  end_location_y  \\\n",
       "0            31.389  2016-08-20 07:04         121.357          31.388   \n",
       "1            31.279  2016-08-29 19:31         121.489          31.271   \n",
       "2            31.254  2016-08-13 16:36         121.405          31.248   \n",
       "3            31.320  2016-08-23 21:43         121.471          31.325   \n",
       "4            31.292  2016-08-16 07:41         121.418          31.288   \n",
       "\n",
       "                                               track  \n",
       "0  121.347,31.392#121.348,31.389#121.349,31.390#1...  \n",
       "1  121.489,31.270#121.489,31.271#121.490,31.270#1...  \n",
       "2  121.381,31.251#121.382,31.251#121.382,31.252#1...  \n",
       "3  121.471,31.325#121.472,31.325#121.473,31.324#1...  \n",
       "4  121.407,31.291#121.407,31.292#121.408,31.291#1...  "
      ],
      "text/html": "<div>\n<style scoped>\n    .dataframe tbody tr th:only-of-type {\n        vertical-align: middle;\n    }\n\n    .dataframe tbody tr th {\n        vertical-align: top;\n    }\n\n    .dataframe thead th {\n        text-align: right;\n    }\n</style>\n<table border=\"1\" class=\"dataframe\">\n  <thead>\n    <tr style=\"text-align: right;\">\n      <th></th>\n      <th>orderid</th>\n      <th>bikeid</th>\n      <th>userid</th>\n      <th>start_time</th>\n      <th>start_location_x</th>\n      <th>start_location_y</th>\n      <th>end_time</th>\n      <th>end_location_x</th>\n      <th>end_location_y</th>\n      <th>track</th>\n    </tr>\n  </thead>\n  <tbody>\n    <tr>\n      <th>0</th>\n      <td>78387</td>\n      <td>158357</td>\n      <td>10080</td>\n      <td>2016-08-20 06:57</td>\n      <td>121.348</td>\n      <td>31.389</td>\n      <td>2016-08-20 07:04</td>\n      <td>121.357</td>\n      <td>31.388</td>\n      <td>121.347,31.392#121.348,31.389#121.349,31.390#1...</td>\n    </tr>\n    <tr>\n      <th>1</th>\n      <td>891333</td>\n      <td>92776</td>\n      <td>6605</td>\n      <td>2016-08-29 19:09</td>\n      <td>121.508</td>\n      <td>31.279</td>\n      <td>2016-08-29 19:31</td>\n      <td>121.489</td>\n      <td>31.271</td>\n      <td>121.489,31.270#121.489,31.271#121.490,31.270#1...</td>\n    </tr>\n    <tr>\n      <th>2</th>\n      <td>1106623</td>\n      <td>152045</td>\n      <td>8876</td>\n      <td>2016-08-13 16:17</td>\n      <td>121.383</td>\n      <td>31.254</td>\n      <td>2016-08-13 16:36</td>\n      <td>121.405</td>\n      <td>31.248</td>\n      <td>121.381,31.251#121.382,31.251#121.382,31.252#1...</td>\n    </tr>\n    <tr>\n      <th>3</th>\n      <td>1389484</td>\n      <td>196259</td>\n      <td>10648</td>\n      <td>2016-08-23 21:34</td>\n      <td>121.484</td>\n      <td>31.320</td>\n      <td>2016-08-23 21:43</td>\n      <td>121.471</td>\n      <td>31.325</td>\n      <td>121.471,31.325#121.472,31.325#121.473,31.324#1...</td>\n    </tr>\n    <tr>\n      <th>4</th>\n      <td>188537</td>\n      <td>78208</td>\n      <td>11735</td>\n      <td>2016-08-16 07:32</td>\n      <td>121.407</td>\n      <td>31.292</td>\n      <td>2016-08-16 07:41</td>\n      <td>121.418</td>\n      <td>31.288</td>\n      <td>121.407,31.291#121.407,31.292#121.408,31.291#1...</td>\n    </tr>\n  </tbody>\n</table>\n</div>"
     },
     "metadata": {},
     "execution_count": 8
    }
   ],
   "source": [
    "df2 = pd.read_csv('data1.csv')\n",
    "df2.head()"
   ]
  },
  {
   "cell_type": "code",
   "execution_count": 9,
   "metadata": {},
   "outputs": [],
   "source": [
    "# 使用duplicated"
   ]
  },
  {
   "cell_type": "code",
   "execution_count": null,
   "metadata": {},
   "outputs": [],
   "source": [
    "# 显示重复值"
   ]
  },
  {
   "cell_type": "code",
   "execution_count": 10,
   "metadata": {},
   "outputs": [],
   "source": [
    "# subset 就是定义到底什么是重复\n",
    "# 重复的默认定义是所有列的值必须是一致的\n",
    "# 我们可以设置subset参数，然后根据固定的列来定义重复"
   ]
  },
  {
   "cell_type": "code",
   "execution_count": 11,
   "metadata": {},
   "outputs": [],
   "source": [
    "# keep 参数的意思是保留哪个数据\n",
    "# first 保留第一个\n",
    "# last 保留最后一个\n",
    "# False 就是一个都不保留\n",
    "# 请测试 drop_duplicates"
   ]
  },
  {
   "source": [
    "# 下一节：异常值与缺失值的处理"
   ],
   "cell_type": "markdown",
   "metadata": {}
  }
 ]
}