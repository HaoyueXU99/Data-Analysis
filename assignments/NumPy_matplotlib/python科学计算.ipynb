{
 "metadata": {
  "language_info": {
   "codemirror_mode": {
    "name": "ipython",
    "version": 3
   },
   "file_extension": ".py",
   "mimetype": "text/x-python",
   "name": "python",
   "nbconvert_exporter": "python",
   "pygments_lexer": "ipython3",
   "version": "3.8.8"
  },
  "orig_nbformat": 4,
  "kernelspec": {
   "name": "python3",
   "display_name": "Python 3.8.8 64-bit ('base': conda)"
  },
  "interpreter": {
   "hash": "0a50b215142d87f83c3467aa843d55e66b293ff2981807bd882bb4e6b8ecbdc5"
  }
 },
 "nbformat": 4,
 "nbformat_minor": 2,
 "cells": [
  {
   "source": [
    "# Python科学运算1:初识Series与NumPy\n",
    "## Pandas的Series数据类型\n",
    "### 导入pandas包"
   ],
   "cell_type": "markdown",
   "metadata": {}
  },
  {
   "cell_type": "code",
   "execution_count": 3,
   "metadata": {},
   "outputs": [
    {
     "output_type": "stream",
     "name": "stderr",
     "text": [
      "/Users/haoyuexu/opt/anaconda3/lib/python3.8/site-packages/openpyxl/worksheet/_reader.py:312: UserWarning: Unknown extension is not supported and will be removed\n  warn(msg)\n"
     ]
    },
    {
     "output_type": "execute_result",
     "data": {
      "text/plain": [
       "   id  age  place\n",
       "0   1   11     21\n",
       "1   2   12     22\n",
       "2   3   13     23\n",
       "3   4   14     24\n",
       "4   5   15     25\n",
       "5   6   16     26\n",
       "6   7   17     27\n",
       "7   8   18     28\n",
       "8   9   19     29\n",
       "9  10   20     30"
      ],
      "text/html": "<div>\n<style scoped>\n    .dataframe tbody tr th:only-of-type {\n        vertical-align: middle;\n    }\n\n    .dataframe tbody tr th {\n        vertical-align: top;\n    }\n\n    .dataframe thead th {\n        text-align: right;\n    }\n</style>\n<table border=\"1\" class=\"dataframe\">\n  <thead>\n    <tr style=\"text-align: right;\">\n      <th></th>\n      <th>id</th>\n      <th>age</th>\n      <th>place</th>\n    </tr>\n  </thead>\n  <tbody>\n    <tr>\n      <th>0</th>\n      <td>1</td>\n      <td>11</td>\n      <td>21</td>\n    </tr>\n    <tr>\n      <th>1</th>\n      <td>2</td>\n      <td>12</td>\n      <td>22</td>\n    </tr>\n    <tr>\n      <th>2</th>\n      <td>3</td>\n      <td>13</td>\n      <td>23</td>\n    </tr>\n    <tr>\n      <th>3</th>\n      <td>4</td>\n      <td>14</td>\n      <td>24</td>\n    </tr>\n    <tr>\n      <th>4</th>\n      <td>5</td>\n      <td>15</td>\n      <td>25</td>\n    </tr>\n    <tr>\n      <th>5</th>\n      <td>6</td>\n      <td>16</td>\n      <td>26</td>\n    </tr>\n    <tr>\n      <th>6</th>\n      <td>7</td>\n      <td>17</td>\n      <td>27</td>\n    </tr>\n    <tr>\n      <th>7</th>\n      <td>8</td>\n      <td>18</td>\n      <td>28</td>\n    </tr>\n    <tr>\n      <th>8</th>\n      <td>9</td>\n      <td>19</td>\n      <td>29</td>\n    </tr>\n    <tr>\n      <th>9</th>\n      <td>10</td>\n      <td>20</td>\n      <td>30</td>\n    </tr>\n  </tbody>\n</table>\n</div>"
     },
     "metadata": {},
     "execution_count": 3
    }
   ],
   "source": [
    "\n",
    "import pandas as pd\n",
    "df = pd.read_excel('data_excel.xlsx')\n",
    "df\n"
   ]
  },
  {
   "cell_type": "code",
   "execution_count": 4,
   "metadata": {},
   "outputs": [
    {
     "output_type": "execute_result",
     "data": {
      "text/plain": [
       "pandas.core.frame.DataFrame"
      ]
     },
     "metadata": {},
     "execution_count": 4
    }
   ],
   "source": [
    "# 查询 df 的类型为 Dataframe\n",
    "type(df)"
   ]
  },
  {
   "source": [
    "### 读取 ID 列的数据\n"
   ],
   "cell_type": "markdown",
   "metadata": {}
  },
  {
   "cell_type": "code",
   "execution_count": 5,
   "metadata": {},
   "outputs": [
    {
     "output_type": "execute_result",
     "data": {
      "text/plain": [
       "0     1\n",
       "1     2\n",
       "2     3\n",
       "3     4\n",
       "4     5\n",
       "5     6\n",
       "6     7\n",
       "7     8\n",
       "8     9\n",
       "9    10\n",
       "Name: id, dtype: int64"
      ]
     },
     "metadata": {},
     "execution_count": 5
    }
   ],
   "source": [
    "df['id']"
   ]
  },
  {
   "cell_type": "code",
   "execution_count": 6,
   "metadata": {},
   "outputs": [
    {
     "output_type": "execute_result",
     "data": {
      "text/plain": [
       "pandas.core.series.Series"
      ]
     },
     "metadata": {},
     "execution_count": 6
    }
   ],
   "source": [
    "# 查询 id 列的数据类型为 Series\n",
    "type(df['id'])"
   ]
  },
  {
   "source": [
    "### 声明一个Series数据类型"
   ],
   "cell_type": "markdown",
   "metadata": {}
  },
  {
   "cell_type": "code",
   "execution_count": 7,
   "metadata": {},
   "outputs": [
    {
     "output_type": "execute_result",
     "data": {
      "text/plain": [
       "0     1\n",
       "1    23\n",
       "2    14\n",
       "3    34\n",
       "4    22\n",
       "5    84\n",
       "dtype: int64"
      ]
     },
     "metadata": {},
     "execution_count": 7
    }
   ],
   "source": [
    "obj = pd.Series([1,23,14,34,22,84])\n",
    "obj"
   ]
  },
  {
   "source": [
    "### 单独获取索引和值"
   ],
   "cell_type": "markdown",
   "metadata": {}
  },
  {
   "cell_type": "code",
   "execution_count": 8,
   "metadata": {},
   "outputs": [
    {
     "output_type": "execute_result",
     "data": {
      "text/plain": [
       "array([ 1, 23, 14, 34, 22, 84])"
      ]
     },
     "metadata": {},
     "execution_count": 8
    }
   ],
   "source": [
    "obj.values"
   ]
  },
  {
   "cell_type": "code",
   "execution_count": 9,
   "metadata": {},
   "outputs": [
    {
     "output_type": "execute_result",
     "data": {
      "text/plain": [
       "RangeIndex(start=0, stop=6, step=1)"
      ]
     },
     "metadata": {},
     "execution_count": 9
    }
   ],
   "source": [
    "obj.index"
   ]
  },
  {
   "source": [
    "### 自定义索引操作"
   ],
   "cell_type": "markdown",
   "metadata": {}
  },
  {
   "cell_type": "code",
   "execution_count": 11,
   "metadata": {},
   "outputs": [
    {
     "output_type": "execute_result",
     "data": {
      "text/plain": [
       "4    a\n",
       "5    b\n",
       "6    c\n",
       "7    d\n",
       "dtype: object"
      ]
     },
     "metadata": {},
     "execution_count": 11
    }
   ],
   "source": [
    "df2 = pd.Series(['a','b','c','d'], index=[4,5,6,7])\n",
    "df2"
   ]
  },
  {
   "cell_type": "code",
   "execution_count": 13,
   "metadata": {},
   "outputs": [
    {
     "output_type": "execute_result",
     "data": {
      "text/plain": [
       "'a'"
      ]
     },
     "metadata": {},
     "execution_count": 13
    }
   ],
   "source": [
    "#通过索引获取值\n",
    "df2[4]"
   ]
  },
  {
   "source": [
    "### 声明Series的第二种方法"
   ],
   "cell_type": "markdown",
   "metadata": {}
  },
  {
   "cell_type": "code",
   "execution_count": 14,
   "metadata": {},
   "outputs": [
    {
     "output_type": "execute_result",
     "data": {
      "text/plain": [
       "a    10000\n",
       "b    20000\n",
       "c    30000\n",
       "dtype: int64"
      ]
     },
     "metadata": {},
     "execution_count": 14
    }
   ],
   "source": [
    "d = {'a':10000,'b':20000,'c':30000}\n",
    "obj = pd.Series(d)\n",
    "obj"
   ]
  },
  {
   "source": [
    "#### 结论：我们可以把一个字典类型的数据，直接变成Series类型"
   ],
   "cell_type": "markdown",
   "metadata": {}
  },
  {
   "cell_type": "code",
   "execution_count": 17,
   "metadata": {},
   "outputs": [
    {
     "output_type": "execute_result",
     "data": {
      "text/plain": [
       "a    10000\n",
       "c    30000\n",
       "dtype: int64"
      ]
     },
     "metadata": {},
     "execution_count": 17
    }
   ],
   "source": [
    "# 根据自己的需求，取出字典对应的值进行Series数据类型的转换\n",
    "keys = ['a','c']\n",
    "obj2 = pd.Series(d,index = keys)\n",
    "obj2"
   ]
  },
  {
   "source": [
    "### 发现缺失值"
   ],
   "cell_type": "markdown",
   "metadata": {}
  },
  {
   "cell_type": "code",
   "execution_count": 19,
   "metadata": {},
   "outputs": [
    {
     "output_type": "execute_result",
     "data": {
      "text/plain": [
       "a        NaN\n",
       "b    20000.0\n",
       "c    30000.0\n",
       "dtype: float64"
      ]
     },
     "metadata": {},
     "execution_count": 19
    }
   ],
   "source": [
    "d = {'a':None,'b':20000,'c':30000}\n",
    "obj = pd.Series(d)\n",
    "obj"
   ]
  },
  {
   "cell_type": "code",
   "execution_count": 20,
   "metadata": {},
   "outputs": [
    {
     "output_type": "execute_result",
     "data": {
      "text/plain": [
       "a     True\n",
       "b    False\n",
       "c    False\n",
       "dtype: bool"
      ]
     },
     "metadata": {},
     "execution_count": 20
    }
   ],
   "source": [
    "obj.isnull()"
   ]
  },
  {
   "cell_type": "code",
   "execution_count": 21,
   "metadata": {},
   "outputs": [
    {
     "output_type": "execute_result",
     "data": {
      "text/plain": [
       "a     True\n",
       "b    False\n",
       "c    False\n",
       "dtype: bool"
      ]
     },
     "metadata": {},
     "execution_count": 21
    }
   ],
   "source": [
    "pd.isnull(obj)"
   ]
  },
  {
   "cell_type": "code",
   "execution_count": 22,
   "metadata": {},
   "outputs": [
    {
     "output_type": "execute_result",
     "data": {
      "text/plain": [
       "a    False\n",
       "b     True\n",
       "c     True\n",
       "dtype: bool"
      ]
     },
     "metadata": {},
     "execution_count": 22
    }
   ],
   "source": [
    "pd.notnull(obj)"
   ]
  },
  {
   "source": [
    "## 算数运算"
   ],
   "cell_type": "markdown",
   "metadata": {}
  },
  {
   "cell_type": "code",
   "execution_count": 31,
   "metadata": {},
   "outputs": [
    {
     "output_type": "execute_result",
     "data": {
      "text/plain": [
       "e    1.3\n",
       "b    1.5\n",
       "c    2.6\n",
       "d   -3.5\n",
       "dtype: float64"
      ]
     },
     "metadata": {},
     "execution_count": 31
    }
   ],
   "source": [
    "d1 = pd.Series([1.3,1.5,2.6,-3.5],index = ['e','b','c','d'])\n",
    "d1"
   ]
  },
  {
   "cell_type": "code",
   "execution_count": 32,
   "metadata": {},
   "outputs": [
    {
     "output_type": "execute_result",
     "data": {
      "text/plain": [
       "a   -1.3\n",
       "b   -1.0\n",
       "c   -2.5\n",
       "d    3.9\n",
       "e    9.8\n",
       "dtype: float64"
      ]
     },
     "metadata": {},
     "execution_count": 32
    }
   ],
   "source": [
    "d2 = pd.Series([-1.3,-1,-2.5,3.9,9.8],index = ['a','b','c','d','e'])\n",
    "d2"
   ]
  },
  {
   "source": [
    "### 两个series的加法"
   ],
   "cell_type": "markdown",
   "metadata": {}
  },
  {
   "cell_type": "code",
   "execution_count": 34,
   "metadata": {},
   "outputs": [
    {
     "output_type": "execute_result",
     "data": {
      "text/plain": [
       "a     NaN\n",
       "b     0.5\n",
       "c     0.1\n",
       "d     0.4\n",
       "e    11.1\n",
       "dtype: float64"
      ]
     },
     "metadata": {},
     "execution_count": 34
    }
   ],
   "source": [
    "# 两个Series在进行运算的时候，不重叠的地方是空值，重叠的地方进行估算\n",
    "d1+d2"
   ]
  },
  {
   "source": [
    "## pandas读取超大文件时分块操作\n",
    "python 处理文件时，读取的是硬盘上的资源，而不需要把数据全部直接加载到内存中"
   ],
   "cell_type": "markdown",
   "metadata": {}
  },
  {
   "cell_type": "code",
   "execution_count": 37,
   "metadata": {},
   "outputs": [
    {
     "output_type": "execute_result",
     "data": {
      "text/plain": [
       "     name:ID sex  age  :LABEL\n",
       "0        谢永林   男   50  people\n",
       "1        胡跃飞   男   56  people\n",
       "2         刘勇   男   49  people\n",
       "3        朱季成   男   37  people\n",
       "4        张丕杰   男   57  people\n",
       "...      ...  ..  ...     ...\n",
       "5645     朱新宏   男   58  people\n",
       "5646      江津   女   55  people\n",
       "5647     徐文苏   男   41  people\n",
       "5648     刘志平   女   55  people\n",
       "5649     林茂德   男   62  people\n",
       "\n",
       "[5650 rows x 4 columns]"
      ],
      "text/html": "<div>\n<style scoped>\n    .dataframe tbody tr th:only-of-type {\n        vertical-align: middle;\n    }\n\n    .dataframe tbody tr th {\n        vertical-align: top;\n    }\n\n    .dataframe thead th {\n        text-align: right;\n    }\n</style>\n<table border=\"1\" class=\"dataframe\">\n  <thead>\n    <tr style=\"text-align: right;\">\n      <th></th>\n      <th>name:ID</th>\n      <th>sex</th>\n      <th>age</th>\n      <th>:LABEL</th>\n    </tr>\n  </thead>\n  <tbody>\n    <tr>\n      <th>0</th>\n      <td>谢永林</td>\n      <td>男</td>\n      <td>50</td>\n      <td>people</td>\n    </tr>\n    <tr>\n      <th>1</th>\n      <td>胡跃飞</td>\n      <td>男</td>\n      <td>56</td>\n      <td>people</td>\n    </tr>\n    <tr>\n      <th>2</th>\n      <td>刘勇</td>\n      <td>男</td>\n      <td>49</td>\n      <td>people</td>\n    </tr>\n    <tr>\n      <th>3</th>\n      <td>朱季成</td>\n      <td>男</td>\n      <td>37</td>\n      <td>people</td>\n    </tr>\n    <tr>\n      <th>4</th>\n      <td>张丕杰</td>\n      <td>男</td>\n      <td>57</td>\n      <td>people</td>\n    </tr>\n    <tr>\n      <th>...</th>\n      <td>...</td>\n      <td>...</td>\n      <td>...</td>\n      <td>...</td>\n    </tr>\n    <tr>\n      <th>5645</th>\n      <td>朱新宏</td>\n      <td>男</td>\n      <td>58</td>\n      <td>people</td>\n    </tr>\n    <tr>\n      <th>5646</th>\n      <td>江津</td>\n      <td>女</td>\n      <td>55</td>\n      <td>people</td>\n    </tr>\n    <tr>\n      <th>5647</th>\n      <td>徐文苏</td>\n      <td>男</td>\n      <td>41</td>\n      <td>people</td>\n    </tr>\n    <tr>\n      <th>5648</th>\n      <td>刘志平</td>\n      <td>女</td>\n      <td>55</td>\n      <td>people</td>\n    </tr>\n    <tr>\n      <th>5649</th>\n      <td>林茂德</td>\n      <td>男</td>\n      <td>62</td>\n      <td>people</td>\n    </tr>\n  </tbody>\n</table>\n<p>5650 rows × 4 columns</p>\n</div>"
     },
     "metadata": {},
     "execution_count": 37
    }
   ],
   "source": [
    "# 以前的做法\n",
    "df = pd.read_csv(\"executive.csv\")\n",
    "df"
   ]
  },
  {
   "cell_type": "code",
   "execution_count": 41,
   "metadata": {},
   "outputs": [
    {
     "output_type": "execute_result",
     "data": {
      "text/plain": [
       "    name:ID sex  age  :LABEL\n",
       "0       谢永林   男   50  people\n",
       "1       胡跃飞   男   56  people\n",
       "2        刘勇   男   49  people\n",
       "3       朱季成   男   37  people\n",
       "4       张丕杰   男   57  people\n",
       "..      ...  ..  ...     ...\n",
       "115     张新育   男   64  people\n",
       "116     朱春林   男   58  people\n",
       "117     邰正彪   男   54  people\n",
       "118     邹志强   男   55  people\n",
       "119      李春   男   38  people\n",
       "\n",
       "[120 rows x 4 columns]"
      ],
      "text/html": "<div>\n<style scoped>\n    .dataframe tbody tr th:only-of-type {\n        vertical-align: middle;\n    }\n\n    .dataframe tbody tr th {\n        vertical-align: top;\n    }\n\n    .dataframe thead th {\n        text-align: right;\n    }\n</style>\n<table border=\"1\" class=\"dataframe\">\n  <thead>\n    <tr style=\"text-align: right;\">\n      <th></th>\n      <th>name:ID</th>\n      <th>sex</th>\n      <th>age</th>\n      <th>:LABEL</th>\n    </tr>\n  </thead>\n  <tbody>\n    <tr>\n      <th>0</th>\n      <td>谢永林</td>\n      <td>男</td>\n      <td>50</td>\n      <td>people</td>\n    </tr>\n    <tr>\n      <th>1</th>\n      <td>胡跃飞</td>\n      <td>男</td>\n      <td>56</td>\n      <td>people</td>\n    </tr>\n    <tr>\n      <th>2</th>\n      <td>刘勇</td>\n      <td>男</td>\n      <td>49</td>\n      <td>people</td>\n    </tr>\n    <tr>\n      <th>3</th>\n      <td>朱季成</td>\n      <td>男</td>\n      <td>37</td>\n      <td>people</td>\n    </tr>\n    <tr>\n      <th>4</th>\n      <td>张丕杰</td>\n      <td>男</td>\n      <td>57</td>\n      <td>people</td>\n    </tr>\n    <tr>\n      <th>...</th>\n      <td>...</td>\n      <td>...</td>\n      <td>...</td>\n      <td>...</td>\n    </tr>\n    <tr>\n      <th>115</th>\n      <td>张新育</td>\n      <td>男</td>\n      <td>64</td>\n      <td>people</td>\n    </tr>\n    <tr>\n      <th>116</th>\n      <td>朱春林</td>\n      <td>男</td>\n      <td>58</td>\n      <td>people</td>\n    </tr>\n    <tr>\n      <th>117</th>\n      <td>邰正彪</td>\n      <td>男</td>\n      <td>54</td>\n      <td>people</td>\n    </tr>\n    <tr>\n      <th>118</th>\n      <td>邹志强</td>\n      <td>男</td>\n      <td>55</td>\n      <td>people</td>\n    </tr>\n    <tr>\n      <th>119</th>\n      <td>李春</td>\n      <td>男</td>\n      <td>38</td>\n      <td>people</td>\n    </tr>\n  </tbody>\n</table>\n<p>120 rows × 4 columns</p>\n</div>"
     },
     "metadata": {},
     "execution_count": 41
    }
   ],
   "source": [
    "# nrows 参数的作用就是限制读取多少行\n",
    "e = pd.read_csv(\"executive.csv\", nrows = 120)\n",
    "e"
   ]
  },
  {
   "cell_type": "code",
   "execution_count": 42,
   "metadata": {},
   "outputs": [
    {
     "output_type": "execute_result",
     "data": {
      "text/plain": [
       "<pandas.io.parsers.TextFileReader at 0x7ff9fe218940>"
      ]
     },
     "metadata": {},
     "execution_count": 42
    }
   ],
   "source": [
    "f = pd.read_csv('executive.csv',chunksize = 200)\n",
    "f"
   ]
  },
  {
   "cell_type": "code",
   "execution_count": 43,
   "metadata": {},
   "outputs": [
    {
     "output_type": "stream",
     "name": "stdout",
     "text": [
      "    name:ID sex  age  :LABEL\n0       谢永林   男   50  people\n1       胡跃飞   男   56  people\n2        刘勇   男   49  people\n3       朱季成   男   37  people\n4       张丕杰   男   57  people\n..      ...  ..  ...     ...\n195     钱震斌   男   59  people\n196     杨振华   男   54  people\n197      周中   男   51  people\n198      张曦   男   44  people\n199     符冠华   男   55  people\n\n[200 rows x 4 columns]\n    name:ID sex  age  :LABEL\n200     黄国宏   男   49  people\n201      高波   男   44  people\n202     罗叶兰   女   41  people\n203      张兵   男   47  people\n204     王军华   男   57  people\n..      ...  ..  ...     ...\n395     柯生灿   男   35  people\n396     董凤亮   男   46  people\n397      王臻   女   38  people\n398     李建勇   男   62  people\n399     俞敏亮   男   61  people\n\n[200 rows x 4 columns]\n    name:ID sex  age  :LABEL\n400     徐永模   男   62  people\n401     李晋昭   男   56  people\n402      徐千   男   56  people\n403     邵晓明   男   60  people\n404     陶云鹏   男   48  people\n..      ...  ..  ...     ...\n595     郑洪霞   女   47  people\n596     曾文光   男   50  people\n597     邵明海   男   52  people\n598     田云飞   男   38  people\n599     高政权   男   50  people\n\n[200 rows x 4 columns]\n    name:ID sex  age  :LABEL\n600     倪永培   男   66  people\n601     许芸霞   女   29  people\n602     张璞临   男   53  people\n603     陈德康   男   67  people\n604     杨卫新   男   50  people\n..      ...  ..  ...     ...\n795     余德辉   男   58  people\n796     钱文龙   男   65  people\n797     林岱仁   男   60  people\n798     张兆祥   男   55  people\n799     赵淑文   女   50  people\n\n[200 rows x 4 columns]\n    name:ID sex  age  :LABEL\n800     王春民   男   59  people\n801      左敏   男   57  people\n802     卢东亮   男   45  people\n803     缪进义   男   53  people\n804     贺江川   男   53  people\n..      ...  ..  ...     ...\n995     李全文   男   54  people\n996      李刚   男   37  people\n997     李高生   男   48  people\n998      黄欣   男   56  people\n999     李俊喜   男   53  people\n\n[200 rows x 4 columns]\n     name:ID sex  age  :LABEL\n1000     邵文林   男   50  people\n1001     夏之云   男   56  people\n1002     李生希   男   54  people\n1003     单志鹏   男   52  people\n1004      罗磊   男   51  people\n...      ...  ..  ...     ...\n1195     颜骏廷   男   55  people\n1196      刘实   男   54  people\n1197     王仲会   男   55  people\n1198     韩铁林   男   60  people\n1199      曲奎   男   52  people\n\n[200 rows x 4 columns]\n     name:ID sex  age  :LABEL\n1200     刘卫国   男   55  people\n1201      王飚   男   50  people\n1202     夏文勇   男   46  people\n1203     朱文臣   男   52  people\n1204     王启瑞   男   53  people\n...      ...  ..  ...     ...\n1395     朱戟敏   男   55  people\n1396     是飞舟   男   50  people\n1397     刘体斌   男   55  people\n1398     张红伟   男   46  people\n1399     宫平强   男   36  people\n\n[200 rows x 4 columns]\n     name:ID sex  age  :LABEL\n1400      全凯   男   55  people\n1401     虞建红   男   52  people\n1402     赵振元   男   63  people\n1403     左洪波   男   53  people\n1404     俞向前   男   51  people\n...      ...  ..  ...     ...\n1595     刘彦龙   男   53  people\n1596      王民   男   54  people\n1597      肖伟   男   59  people\n1598      张琲   男   46  people\n1599      薛桓   男   51  people\n\n[200 rows x 4 columns]\n     name:ID sex  age  :LABEL\n1600      夏宁   男   50  people\n1601      吴隼   男   51  people\n1602      张鹏   男   45  people\n1603     杨光浩   男   46  people\n1604     黄长庚   男   53  people\n...      ...  ..  ...     ...\n1795     刘清涛   男   49  people\n1796     王春生   男   54  people\n1797     王风斌   男   54  people\n1798     郑宗强   男   49  people\n1799      吴琼   男   51  people\n\n[200 rows x 4 columns]\n     name:ID sex  age  :LABEL\n1800     吴同性   男   54  people\n1801      邱新   男   44  people\n1802     刘连红   女   52  people\n1803      孙启   男   54  people\n1804     周建平   男   58  people\n...      ...  ..  ...     ...\n1995     尹成国   男   53  people\n1996     张延红   女   48  people\n1997     何中辉   男   55  people\n1998     祝瑞荣   男   51  people\n1999      康山   男   55  people\n\n[200 rows x 4 columns]\n     name:ID sex  age  :LABEL\n2000     陈新生   男   48  people\n2001     熊维明   男   57  people\n2002     瞿元庆   男   51  people\n2003     徐卫晖   男   48  people\n2004     孙飘扬   男   60  people\n...      ...  ..  ...     ...\n2195     陶永泽   男   55  people\n2196     张勇峰   男   58  people\n2197     何承命   男   58  people\n2198     张建功   男   50  people\n2199     周黎旸   男   50  people\n\n[200 rows x 4 columns]\n     name:ID sex  age  :LABEL\n2200     马志方   男   47  people\n2201      王军   男   54  people\n2202     黄云晴   男   54  people\n2203     李建雄   男   41  people\n2204     黄文洲   男   53  people\n...      ...  ..  ...     ...\n2395     戴厚良   男   54  people\n2396      马健   男   54  people\n2397     付刚峰   男   52  people\n2398     刘先福   男   54  people\n2399     吴新华   男   51  people\n\n[200 rows x 4 columns]\n     name:ID sex  age  :LABEL\n2400     向文波   男   56  people\n2401     杨明辉   男   54  people\n2402     谭万庚   男   54  people\n2403     凌逸群   男   55  people\n2404     赵建国   男   60  people\n...      ...  ..  ...     ...\n2595     马焕政   男   53  people\n2596      吴限   男   50  people\n2597      邝青   男   54  people\n2598     张金山   男   55  people\n2599     贺增林   男   47  people\n\n[200 rows x 4 columns]\n     name:ID sex  age  :LABEL\n2600      宋勇   男   55  people\n2601     吴学民   男   55  people\n2602     邹支农   男   50  people\n2603     林建伟   男   52  people\n2604     徐德勇   男   41  people\n...      ...  ..  ...     ...\n2795      胡霞   女   54  people\n2796     严学文   男   38  people\n2797     张昌楠   男   46  people\n2798     孙伟龙   男   50  people\n2799      鲍蕾   女   38  people\n\n[200 rows x 4 columns]\n     name:ID sex  age  :LABEL\n2800      顾群   男   48  people\n2801     胡东群   男   52  people\n2802     章文藻   男   61  people\n2803     朱汉平   男   55  people\n2804      马焰   男   51  people\n...      ...  ..  ...     ...\n2995     钟百胜   男   53  people\n2996     廖定海   男   55  people\n2997      张林   男   31  people\n2998     戚大广   男   65  people\n2999     许文显   男   41  people\n\n[200 rows x 4 columns]\n     name:ID sex  age  :LABEL\n3000     郭景松   男   56  people\n3001     王政福   男   52  people\n3002     付玉霞   女   48  people\n3003     段乃琦   女   52  people\n3004    欧阳业恒   男   48  people\n...      ...  ..  ...     ...\n3195     王万春   男   41  people\n3196     孙新军   男   48  people\n3197     朱永民   男   46  people\n3198      陈博   男   50  people\n3199     徐长进   男   45  people\n\n[200 rows x 4 columns]\n     name:ID sex  age  :LABEL\n3200     李建林   男   62  people\n3201     申万秋   男   48  people\n3202     郭留希   男   55  people\n3203      冯毅   男   53  people\n3204     陈添旭   男   56  people\n...      ...  ..  ...     ...\n3395      李希   男   50  people\n3396     张光柳   男   56  people\n3397     颜泽松   男   48  people\n3398     李尔龙   男   43  people\n3399     孙龙龙   男   45  people\n\n[200 rows x 4 columns]\n     name:ID sex  age  :LABEL\n3400     靳庆军   男   61  people\n3401      王健   男   54  people\n3402     王航军   男   52  people\n3403     陈新民   男   52  people\n3404     肖俊承   男   52  people\n...      ...  ..  ...     ...\n3595     朱烨东   男   50  people\n3596     谢冠宏   男   56  people\n3597     李志江   男   61  people\n3598     王俊民   男   50  people\n3599      王晖   女   47  people\n\n[200 rows x 4 columns]\n     name:ID sex  age  :LABEL\n3600     何亚民   男   61  people\n3601      杨振   男   56  people\n3602      沈飒   女   45  people\n3603      郝军   男   46  people\n3604     范秀莲   女   55  people\n...      ...  ..  ...     ...\n3795     朱丽霞   女   37  people\n3796     梁桂添   男   52  people\n3797      赵刚   男   53  people\n3798     祝恩福   男   56  people\n3799     陈俊海   男   54  people\n\n[200 rows x 4 columns]\n     name:ID sex  age  :LABEL\n3800     孙洁晓   男   51  people\n3801      胡敏   男   58  people\n3802     韩方如   女   54  people\n3803     韩玉辉   男   54  people\n3804     叶远璋   男   54  people\n...      ...  ..  ...     ...\n3995     朱吉满   男   54  people\n3996     邱醒亚   男   49  people\n3997     郁霞秋   女   55  people\n3998     黄河清   男   56  people\n3999     柯树泉   男   70  people\n\n[200 rows x 4 columns]\n     name:ID sex  age  :LABEL\n4000     阮加春   男   55  people\n4001      齐舰   男   58  people\n4002     张逸芳   女   55  people\n4003     王东绪   男   55  people\n4004      陈岚   女   48  people\n...      ...  ..  ...     ...\n4195     汪培毅   男   65  people\n4196     何人宝   男   53  people\n4197      刘望   男   31  people\n4198      周文   男   53  people\n4199     唐继勇   男   50  people\n\n[200 rows x 4 columns]\n     name:ID sex  age  :LABEL\n4200     周方洁   男   54  people\n4201     曹家富   男   66  people\n4202      林健   男   52  people\n4203     周宇斌   男   34  people\n4204     李郑周   男   45  people\n...      ...  ..  ...     ...\n4395     邵长南   男   56  people\n4396     钱自强   男   33  people\n4397     王海波   男   44  people\n4398      缪振   男   68  people\n4399     杨槐璋   男   60  people\n\n[200 rows x 4 columns]\n     name:ID sex  age  :LABEL\n4400      王皓   男   30  people\n4401     陈泳洪   男   63  people\n4402     曾胜强   男   55  people\n4403      张敏   男   57  people\n4404     陈于冰   男   41  people\n...      ...  ..  ...     ...\n4595     陈学华   男   43  people\n4596     杨江红   女   47  people\n4597     谭秋斌   女   55  people\n4598     叶留金   男   53  people\n4599      徐磊   男   35  people\n\n[200 rows x 4 columns]\n     name:ID sex  age  :LABEL\n4600      鹿超   男   47  people\n4601     陶国定   男   55  people\n4602      车轼   男   58  people\n4603     陈爱莲   女   60  people\n4604     孙日贵   男   63  people\n...      ...  ..  ...     ...\n4795      李凌   男   53  people\n4796     李军风   男   52  people\n4797     王保玉   男   58  people\n4798      马刚   男   39  people\n4799      杨勤   男   52  people\n\n[200 rows x 4 columns]\n     name:ID sex  age  :LABEL\n4800     周广林   男   56  people\n4801     李邦良   男   72  people\n4802     李春光   男   50  people\n4803     陈锦石   男   56  people\n4804     周武平   男   52  people\n...      ...  ..  ...     ...\n4995     莫翊斌   男   50  people\n4996     王永志   男   52  people\n4997     周世荣   男   49  people\n4998     吴智勇   男   41  people\n4999     彭东升   男   56  people\n\n[200 rows x 4 columns]\n     name:ID sex  age  :LABEL\n5000     蔡卫东   男   49  people\n5001      贾浚   男   48  people\n5002     许仕清   男   54  people\n5003      张湧   男   51  people\n5004     袁汉源   男   56  people\n...      ...  ..  ...     ...\n5195     季长彬   男   48  people\n5196     赵立仁   男   46  people\n5197     邹文彬   男   54  people\n5198     胡瀚阳   男   35  people\n5199     吴斯远   男   54  people\n\n[200 rows x 4 columns]\n          name:ID sex  age  :LABEL\n5200          王俊伟   男   41  people\n5201          杜善津   男   63  people\n5202           张雷   男   55  people\n5203           孙健   男   41  people\n5204          熊贵成   男   44  people\n...           ...  ..  ...     ...\n5395          朱宜存   男   57  people\n5396           何勇   男   58  people\n5397  Peter Fleet   男   51  people\n5398          陈小松   男   55  people\n5399           王勇   男   48  people\n\n[200 rows x 4 columns]\n     name:ID sex  age  :LABEL\n5400      赵辉   男   44  people\n5401     彭安铮   女   54  people\n5402     丁青海   男   54  people\n5403     施大福   男   56  people\n5404     庄坚毅   男   67  people\n...      ...  ..  ...     ...\n5595     周宇斌   男   34  people\n5596     卢志强   男   66  people\n5597      朱军   男   55  people\n5598     石正林   男   50  people\n5599     姚日波   男   50  people\n\n[200 rows x 4 columns]\n     name:ID sex  age  :LABEL\n5600     朱胜利   男   48  people\n5601      王宏   男   56  people\n5602     季圣智   男   32  people\n5603     陈创新   男   51  people\n5604     李明海   男   52  people\n5605     朱梅柱   男   54  people\n5606     钟宏伟   男   51  people\n5607     谭华森   男   56  people\n5608     柏志伟   女   36  people\n5609     王宇航   男   57  people\n5610      郝亮   男   47  people\n5611     李新威   男   53  people\n5612     董炳根   男   69  people\n5613     李中秋   男   56  people\n5614     郑煜曦   男   56  people\n5615      陈略   男   48  people\n5616     刘凤喜   男   46  people\n5617     宿南南   女   34  people\n5618     李雪燕   女   44  people\n5619     李洪生   男   55  people\n5620      丁跃   男   59  people\n5621     张光柳   男   56  people\n5622     颜泽松   男   48  people\n5623     李尔龙   男   43  people\n5624     靳庆军   男   61  people\n5625      马骧   男   53  people\n5626      陈勇   男   48  people\n5627     厉怒江   男   57  people\n5628      陈琳   女   46  people\n5629     刘声向   男   47  people\n5630      李中   男   54  people\n5631     陈政立   男   58  people\n5632     王志全   男   55  people\n5633      温毅   男   56  people\n5634     阮克竖   男   52  people\n5635      王健   男   54  people\n5636     王航军   男   52  people\n5637     李德友   男   42  people\n5638     陈泰泉   男   55  people\n5639      钟岩   男   43  people\n5640     赵宏伟   男   50  people\n5641      丁芃   女   67  people\n5642     李林琳   女   34  people\n5643     马钟鸿   男   45  people\n5644      郁亮   男   53  people\n5645     朱新宏   男   58  people\n5646      江津   女   55  people\n5647     徐文苏   男   41  people\n5648     刘志平   女   55  people\n5649     林茂德   男   62  people\n"
     ]
    }
   ],
   "source": [
    "# 然后使用for循环去每块每块地去处理（chunk的type是DataFrame）\n",
    "for i in f:\n",
    "    print(i)"
   ]
  },
  {
   "source": [
    "## NumPy 库\n",
    "- NumPy 其实就是一个多维的数组（列表）对象\n",
    "- 每一个数组对象都有 shape方法 和 dtype方法\n",
    "- shape 属性表示获取到列表的纬度\n",
    "- dtype 属性表示获取到列表的类型\n"
   ],
   "cell_type": "markdown",
   "metadata": {}
  },
  {
   "source": [
    "### 导入NumPy库\n",
    "- 命令行： pip install numpy\n",
    "- jupyter: !pip install numpy\n",
    "- anaconda: 无需"
   ],
   "cell_type": "markdown",
   "metadata": {}
  },
  {
   "cell_type": "code",
   "execution_count": 44,
   "metadata": {},
   "outputs": [],
   "source": [
    "import numpy as np"
   ]
  },
  {
   "cell_type": "code",
   "execution_count": 46,
   "metadata": {},
   "outputs": [
    {
     "output_type": "execute_result",
     "data": {
      "text/plain": [
       "[1, 2, 3, 4]"
      ]
     },
     "metadata": {},
     "execution_count": 46
    }
   ],
   "source": [
    "# 列表的数据类型\n",
    "data = [1,2,3,4]\n",
    "data"
   ]
  },
  {
   "cell_type": "code",
   "execution_count": 47,
   "metadata": {},
   "outputs": [
    {
     "output_type": "execute_result",
     "data": {
      "text/plain": [
       "array([1, 2, 3, 4])"
      ]
     },
     "metadata": {},
     "execution_count": 47
    }
   ],
   "source": [
    "# 一个列表对象\n",
    "n = np.array(data)\n",
    "n"
   ]
  },
  {
   "cell_type": "code",
   "execution_count": 48,
   "metadata": {},
   "outputs": [
    {
     "output_type": "execute_result",
     "data": {
      "text/plain": [
       "(4,)"
      ]
     },
     "metadata": {},
     "execution_count": 48
    }
   ],
   "source": [
    "# 查看纬度\n",
    "n.shape"
   ]
  },
  {
   "cell_type": "code",
   "execution_count": 49,
   "metadata": {},
   "outputs": [
    {
     "output_type": "execute_result",
     "data": {
      "text/plain": [
       "dtype('int64')"
      ]
     },
     "metadata": {},
     "execution_count": 49
    }
   ],
   "source": [
    "# 查看数据类型\n",
    "n.dtype"
   ]
  },
  {
   "cell_type": "code",
   "execution_count": 50,
   "metadata": {},
   "outputs": [
    {
     "output_type": "execute_result",
     "data": {
      "text/plain": [
       "array([1, 2, 3, 4, 1, 2, 3, 4, 1, 2, 3, 4, 1, 2, 3, 4, 1, 2, 3, 4, 1, 2,\n",
       "       3, 4, 1, 2, 3, 4, 1, 2, 3, 4, 1, 2, 3, 4, 1, 2, 3, 4])"
      ]
     },
     "metadata": {},
     "execution_count": 50
    }
   ],
   "source": [
    "# 将 data 重复10次 存入对象\n",
    "n2 = np.array(data*10)\n",
    "n2"
   ]
  },
  {
   "cell_type": "code",
   "execution_count": 51,
   "metadata": {},
   "outputs": [
    {
     "output_type": "execute_result",
     "data": {
      "text/plain": [
       "(40,)"
      ]
     },
     "metadata": {},
     "execution_count": 51
    }
   ],
   "source": [
    "# 查看n2的shape和dtype\n",
    "n2.shape"
   ]
  },
  {
   "cell_type": "code",
   "execution_count": 52,
   "metadata": {},
   "outputs": [
    {
     "output_type": "execute_result",
     "data": {
      "text/plain": [
       "dtype('int64')"
      ]
     },
     "metadata": {},
     "execution_count": 52
    }
   ],
   "source": [
    "n2.dtype"
   ]
  },
  {
   "source": [
    "### 嵌套序列：由一组等长列表组成的列表"
   ],
   "cell_type": "markdown",
   "metadata": {}
  },
  {
   "cell_type": "code",
   "execution_count": 55,
   "metadata": {},
   "outputs": [
    {
     "output_type": "execute_result",
     "data": {
      "text/plain": [
       "array([[1, 2, 3, 4],\n",
       "       [5, 6, 7, 8]])"
      ]
     },
     "metadata": {},
     "execution_count": 55
    }
   ],
   "source": [
    "arr = [[1,2,3,4],[5,6,7,8]]\n",
    "arr2 = np.array(arr)\n",
    "arr2"
   ]
  },
  {
   "cell_type": "code",
   "execution_count": 56,
   "metadata": {},
   "outputs": [
    {
     "output_type": "execute_result",
     "data": {
      "text/plain": [
       "(2, 4)"
      ]
     },
     "metadata": {},
     "execution_count": 56
    }
   ],
   "source": [
    "# 查看 arr2 的 shape ndim(纬度) dtype\n",
    "arr2.shape"
   ]
  },
  {
   "cell_type": "code",
   "execution_count": 57,
   "metadata": {},
   "outputs": [
    {
     "output_type": "execute_result",
     "data": {
      "text/plain": [
       "2"
      ]
     },
     "metadata": {},
     "execution_count": 57
    }
   ],
   "source": [
    "arr2.ndim"
   ]
  },
  {
   "cell_type": "code",
   "execution_count": 58,
   "metadata": {},
   "outputs": [
    {
     "output_type": "execute_result",
     "data": {
      "text/plain": [
       "dtype('int64')"
      ]
     },
     "metadata": {},
     "execution_count": 58
    }
   ],
   "source": [
    "arr2.dtype"
   ]
  },
  {
   "source": [
    "### 类型推断：numpy会对数据类型进行一个较为合理的推断"
   ],
   "cell_type": "markdown",
   "metadata": {}
  },
  {
   "cell_type": "code",
   "execution_count": 60,
   "metadata": {},
   "outputs": [
    {
     "output_type": "execute_result",
     "data": {
      "text/plain": [
       "array([['1', '2', '3', '4'],\n",
       "       ['5', '6', '7', '8']], dtype='<U1')"
      ]
     },
     "metadata": {},
     "execution_count": 60
    }
   ],
   "source": [
    "arr = [[\"1\",\"2\",3,4],[5,6,7,8]]\n",
    "arr2 = np.array(arr)\n",
    "arr2"
   ]
  },
  {
   "cell_type": "code",
   "execution_count": 61,
   "metadata": {},
   "outputs": [
    {
     "output_type": "execute_result",
     "data": {
      "text/plain": [
       "dtype('<U1')"
      ]
     },
     "metadata": {},
     "execution_count": 61
    }
   ],
   "source": [
    "# 查看 dtype\n",
    "# <u1 unicode类型 字符串\n",
    "arr2.dtype"
   ]
  },
  {
   "cell_type": "code",
   "execution_count": 62,
   "metadata": {},
   "outputs": [
    {
     "output_type": "execute_result",
     "data": {
      "text/plain": [
       "array([[1. , 2.2, 3. , 4. ],\n",
       "       [5. , 6. , 7. , 8. ]])"
      ]
     },
     "metadata": {},
     "execution_count": 62
    }
   ],
   "source": [
    "arr = [[1,2.2,3,4],[5,6,7,8]]\n",
    "arr2 = np.array(arr)\n",
    "arr2"
   ]
  },
  {
   "cell_type": "code",
   "execution_count": 63,
   "metadata": {},
   "outputs": [
    {
     "output_type": "execute_result",
     "data": {
      "text/plain": [
       "dtype('float64')"
      ]
     },
     "metadata": {},
     "execution_count": 63
    }
   ],
   "source": [
    "# 查看 dtype\n",
    "# float 浮点数\n",
    "arr2.dtype"
   ]
  },
  {
   "source": [
    "### numpy指定长度数组的创建\n"
   ],
   "cell_type": "markdown",
   "metadata": {}
  },
  {
   "cell_type": "code",
   "execution_count": 64,
   "metadata": {},
   "outputs": [
    {
     "output_type": "execute_result",
     "data": {
      "text/plain": [
       "array([0., 0., 0., 0., 0., 0., 0., 0., 0., 0.])"
      ]
     },
     "metadata": {},
     "execution_count": 64
    }
   ],
   "source": [
    "# 创建长度为10的数组，默认值为0\n",
    "np.zeros(10)"
   ]
  },
  {
   "cell_type": "code",
   "execution_count": 65,
   "metadata": {},
   "outputs": [
    {
     "output_type": "execute_result",
     "data": {
      "text/plain": [
       "array([1., 1., 1., 1., 1., 1., 1., 1., 1., 1.])"
      ]
     },
     "metadata": {},
     "execution_count": 65
    }
   ],
   "source": [
    "# 创建长度为10的数组，默认值为1\n",
    "np.ones(10)"
   ]
  },
  {
   "cell_type": "code",
   "execution_count": 69,
   "metadata": {},
   "outputs": [
    {
     "output_type": "execute_result",
     "data": {
      "text/plain": [
       "array([[1., 1., 1.],\n",
       "       [1., 1., 1.]])"
      ]
     },
     "metadata": {},
     "execution_count": 69
    }
   ],
   "source": [
    "# 创建2*3的数组，默认值为1\n",
    "np.ones((2,3))"
   ]
  },
  {
   "cell_type": "code",
   "execution_count": 70,
   "metadata": {},
   "outputs": [
    {
     "output_type": "execute_result",
     "data": {
      "text/plain": [
       "array([0.e+000, 5.e-324, 1.e-323])"
      ]
     },
     "metadata": {},
     "execution_count": 70
    }
   ],
   "source": [
    "# 创建空数组\n",
    "# 注意 − 数组元素为随机值，因为它们未初始化。\n",
    "np.empty(3)"
   ]
  },
  {
   "source": [
    "### arange 是range函数的数组版本"
   ],
   "cell_type": "markdown",
   "metadata": {}
  },
  {
   "cell_type": "code",
   "execution_count": 72,
   "metadata": {},
   "outputs": [
    {
     "output_type": "stream",
     "name": "stdout",
     "text": [
      "0\n1\n2\n3\n4\n5\n6\n7\n8\n9\n"
     ]
    }
   ],
   "source": [
    "for i in range(10):\n",
    "    print(i)"
   ]
  },
  {
   "cell_type": "code",
   "execution_count": 73,
   "metadata": {},
   "outputs": [
    {
     "output_type": "execute_result",
     "data": {
      "text/plain": [
       "range"
      ]
     },
     "metadata": {},
     "execution_count": 73
    }
   ],
   "source": [
    "i = range(10)\n",
    "type(i)"
   ]
  },
  {
   "cell_type": "code",
   "execution_count": 74,
   "metadata": {},
   "outputs": [
    {
     "output_type": "execute_result",
     "data": {
      "text/plain": [
       "range(0, 10)"
      ]
     },
     "metadata": {},
     "execution_count": 74
    }
   ],
   "source": [
    "i"
   ]
  },
  {
   "cell_type": "code",
   "execution_count": 75,
   "metadata": {},
   "outputs": [
    {
     "output_type": "execute_result",
     "data": {
      "text/plain": [
       "array([0, 1, 2, 3, 4, 5, 6, 7, 8, 9])"
      ]
     },
     "metadata": {},
     "execution_count": 75
    }
   ],
   "source": [
    "# 输出一个arange \n",
    "# arange = array range\n",
    "np.arange(10)"
   ]
  },
  {
   "source": [
    "### 数据类型转换"
   ],
   "cell_type": "markdown",
   "metadata": {}
  },
  {
   "cell_type": "code",
   "execution_count": 76,
   "metadata": {},
   "outputs": [
    {
     "output_type": "execute_result",
     "data": {
      "text/plain": [
       "array([ 1.2,  1.6,  1.8, -2.3, -5.8])"
      ]
     },
     "metadata": {},
     "execution_count": 76
    }
   ],
   "source": [
    "arr = np.array([1.2,1.6,1.8,-2.3,-5.8])\n",
    "arr"
   ]
  },
  {
   "cell_type": "code",
   "execution_count": 78,
   "metadata": {},
   "outputs": [
    {
     "output_type": "execute_result",
     "data": {
      "text/plain": [
       "dtype('float64')"
      ]
     },
     "metadata": {},
     "execution_count": 78
    }
   ],
   "source": [
    "arr.dtype\n",
    "# float32/float64 双精度浮点数"
   ]
  },
  {
   "cell_type": "code",
   "execution_count": 79,
   "metadata": {},
   "outputs": [
    {
     "output_type": "execute_result",
     "data": {
      "text/plain": [
       "array([ 1,  1,  1, -2, -5], dtype=int32)"
      ]
     },
     "metadata": {},
     "execution_count": 79
    }
   ],
   "source": [
    "# 转换为 int \n",
    "# int32 32位整型占4个字节\n",
    "# int64 64位整形占8个字节\n",
    "arr.astype(np.int32)"
   ]
  },
  {
   "source": [
    "# 下一节 矢量化操作与广播运算"
   ],
   "cell_type": "markdown",
   "metadata": {}
  },
  {
   "cell_type": "code",
   "execution_count": null,
   "metadata": {},
   "outputs": [],
   "source": []
  }
 ]
}