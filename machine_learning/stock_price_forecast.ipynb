{
 "cells": [
  {
   "cell_type": "code",
   "execution_count": null,
   "id": "super-trouble",
   "metadata": {},
   "outputs": [],
   "source": [
    "df['date'] = pd.to_datetime(df['date'])  # 把字符串转换成时间的格式 \n",
    "\n",
    "df = df.set_index('date')  # 把date字段作为index \n",
    "\n",
    "# 按照时间升序排列 \n",
    "\n",
    "df.sort_values(by=['date'], inplace=True, ascending=True) \n",
    "\n",
    "df.head() "
   ]
  },
  {
   "cell_type": "code",
   "execution_count": 1,
   "id": "pacific-missouri",
   "metadata": {},
   "outputs": [
    {
     "ename": "NameError",
     "evalue": "name 'df' is not defined",
     "output_type": "error",
     "traceback": [
      "\u001b[0;31m---------------------------------------------------------------------------\u001b[0m",
      "\u001b[0;31mNameError\u001b[0m                                 Traceback (most recent call last)",
      "\u001b[0;32m<ipython-input-1-779bfbfea2ac>\u001b[0m in \u001b[0;36m<module>\u001b[0;34m\u001b[0m\n\u001b[0;32m----> 1\u001b[0;31m \u001b[0mdf\u001b[0m\u001b[0;34m[\u001b[0m\u001b[0;34m'label'\u001b[0m\u001b[0;34m]\u001b[0m \u001b[0;34m=\u001b[0m \u001b[0mdf\u001b[0m\u001b[0;34m[\u001b[0m\u001b[0;34m'close'\u001b[0m\u001b[0;34m]\u001b[0m\u001b[0;34m.\u001b[0m\u001b[0mshift\u001b[0m\u001b[0;34m(\u001b[0m\u001b[0;34m-\u001b[0m\u001b[0mnum\u001b[0m\u001b[0;34m)\u001b[0m  \u001b[0;31m# 构造预测值,这里的num=5\u001b[0m\u001b[0;34m\u001b[0m\u001b[0;34m\u001b[0m\u001b[0m\n\u001b[0m",
      "\u001b[0;31mNameError\u001b[0m: name 'df' is not defined"
     ]
    }
   ],
   "source": [
    "df['label'] = df['close'].shift(-num)  # 构造预测值,这里的num=5 "
   ]
  },
  {
   "cell_type": "code",
   "execution_count": 2,
   "id": "intensive-philosophy",
   "metadata": {},
   "outputs": [
    {
     "ename": "NameError",
     "evalue": "name 'df' is not defined",
     "output_type": "error",
     "traceback": [
      "\u001b[0;31m---------------------------------------------------------------------------\u001b[0m",
      "\u001b[0;31mNameError\u001b[0m                                 Traceback (most recent call last)",
      "\u001b[0;32m<ipython-input-2-d1ada024d2eb>\u001b[0m in \u001b[0;36m<module>\u001b[0;34m\u001b[0m\n\u001b[0;32m----> 1\u001b[0;31m \u001b[0mdf\u001b[0m\u001b[0;34m.\u001b[0m\u001b[0mdropna\u001b[0m\u001b[0;34m(\u001b[0m\u001b[0minplace\u001b[0m \u001b[0;34m=\u001b[0m \u001b[0;32mTrue\u001b[0m\u001b[0;34m)\u001b[0m\u001b[0;34m\u001b[0m\u001b[0;34m\u001b[0m\u001b[0m\n\u001b[0m",
      "\u001b[0;31mNameError\u001b[0m: name 'df' is not defined"
     ]
    }
   ],
   "source": [
    "df.dropna(inplace = True)"
   ]
  },
  {
   "cell_type": "markdown",
   "id": "appointed-utility",
   "metadata": {},
   "source": [
    "我们要做股票的预测，针对于历史数据来预测股价的走势。\n",
    "\n",
    "在这里，我们要解决的具体问题为：给定历史数据来预测5天之后的股价。 这个问题是经典的回归问题，所以可以使用线性回归模型来解决。 在这个项目中，需要做如下的几件事情：\n",
    "\n",
    "1.读取某一只股票行情数据，并试着理解每一个字段的含义\n",
    "\n",
    "2.对于读取之后的数据，做一些必要的预处理（如排序，去掉NAN，把字符串转换成日期等）\n",
    "\n",
    "3.提取特征值和预测值，分别保存为X, y两个变量中\n",
    "\n",
    "4.把数据分为训练和测试数据\n",
    "\n",
    "5.在训练数据中训练模型，在测试数据中测试模型的效果\n",
    "\n",
    "6.做简单的可视化展示\n",
    "\n",
    "7.分析特征的重要性，这部分可以从学出来的权重获得。"
   ]
  },
  {
   "cell_type": "code",
   "execution_count": null,
   "id": "official-secretariat",
   "metadata": {},
   "outputs": [],
   "source": []
  }
 ],
 "metadata": {
  "kernelspec": {
   "display_name": "Python 3",
   "language": "python",
   "name": "python3"
  },
  "language_info": {
   "codemirror_mode": {
    "name": "ipython",
    "version": 3
   },
   "file_extension": ".py",
   "mimetype": "text/x-python",
   "name": "python",
   "nbconvert_exporter": "python",
   "pygments_lexer": "ipython3",
   "version": "3.8.8"
  }
 },
 "nbformat": 4,
 "nbformat_minor": 5
}
