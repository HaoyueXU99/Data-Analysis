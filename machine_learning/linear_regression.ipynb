{
 "cells": [
  {
   "cell_type": "markdown",
   "id": "interstate-carroll",
   "metadata": {},
   "source": [
    "# 多元线性回归"
   ]
  },
  {
   "cell_type": "code",
   "execution_count": 7,
   "id": "fallen-burns",
   "metadata": {},
   "outputs": [
    {
     "name": "stdout",
     "output_type": "stream",
     "text": [
      "基于sklearn的线性回归模型参数为 coef:  [1. 2.]  intercept: 3.00000\n"
     ]
    }
   ],
   "source": [
    "import numpy as np \n",
    "from sklearn.linear_model import LinearRegression \n",
    "# 生成样本数据, 特征维度为2 \n",
    "X = np.array([[1, 1], [1, 2], [2, 2], [2, 3]]) \n",
    "# y = 1 * x_0 + 2 * x_1 + 3 \n",
    "y = np.dot(X, np.array([1, 2])) + 3 \n",
    "# 先使用sklearn自带的库来解决 \n",
    "model = LinearRegression().fit(X, y) \n",
    "# 打印参数以及偏移量（bias） \n",
    "print (\"基于sklearn的线性回归模型参数为 coef: \", model.coef_, \" intercept: %.5f\" %model.intercept_) \n"
   ]
  },
  {
   "cell_type": "code",
   "execution_count": 16,
   "id": "looking-endorsement",
   "metadata": {},
   "outputs": [
    {
     "data": {
      "text/plain": [
       "array([3., 1., 2.])"
      ]
     },
     "execution_count": 16,
     "metadata": {},
     "output_type": "execute_result"
    }
   ],
   "source": [
    "import numpy as np \n",
    "from sklearn.linear_model import LinearRegression \n",
    "# TODO: 动手实现多元线性回归的参数估计, 把最后的结果放在res变量里。 res[0]存储的是偏移量,res[1:]存储的是模型参数 \n",
    "\n",
    "\n",
    "X = np.array([[1, 1], [1, 2], [2, 2], [2, 3]]) \n",
    "\n",
    "# 手动实现参数的求解。先把偏移量加到X里 \n",
    "a = np.ones(X.shape[0]).reshape(-1,1)\n",
    "X = np.concatenate((a, X), axis=1) \n",
    "\n",
    "# 通过矩阵、向量乘法来求解参数, res已经包含了偏移量 \n",
    "\n",
    "res = np.matmul(np.linalg.inv(np.matmul(X.T, X)), np.matmul(X.T, y)) \n",
    "res\n",
    "# # 打印参数以偏移量（bias） \n",
    "print (\"通过手动实现的线性回归模型参数为 coef: \", res[1:], \" intercept: %.5f\"%res[0]) "
   ]
  },
  {
   "cell_type": "code",
   "execution_count": 12,
   "id": "medieval-antique",
   "metadata": {},
   "outputs": [
    {
     "data": {
      "text/plain": [
       "4"
      ]
     },
     "execution_count": 12,
     "metadata": {},
     "output_type": "execute_result"
    }
   ],
   "source": [
    "X.shape[0]"
   ]
  },
  {
   "cell_type": "code",
   "execution_count": 13,
   "id": "structured-dictionary",
   "metadata": {},
   "outputs": [
    {
     "data": {
      "text/plain": [
       "array([1., 1., 1., 1.])"
      ]
     },
     "execution_count": 13,
     "metadata": {},
     "output_type": "execute_result"
    }
   ],
   "source": [
    "np.ones(X.shape[0])"
   ]
  },
  {
   "cell_type": "code",
   "execution_count": 17,
   "id": "external-buddy",
   "metadata": {},
   "outputs": [
    {
     "data": {
      "text/plain": [
       "array([[ 4.,  6.,  8.],\n",
       "       [ 6., 10., 13.],\n",
       "       [ 8., 13., 18.]])"
      ]
     },
     "execution_count": 17,
     "metadata": {},
     "output_type": "execute_result"
    }
   ],
   "source": [
    "np.matmul(X.T, X)\n",
    "# 矩阵相乘"
   ]
  },
  {
   "cell_type": "code",
   "execution_count": null,
   "id": "opening-principle",
   "metadata": {},
   "outputs": [],
   "source": []
  }
 ],
 "metadata": {
  "kernelspec": {
   "display_name": "Python 3",
   "language": "python",
   "name": "python3"
  },
  "language_info": {
   "codemirror_mode": {
    "name": "ipython",
    "version": 3
   },
   "file_extension": ".py",
   "mimetype": "text/x-python",
   "name": "python",
   "nbconvert_exporter": "python",
   "pygments_lexer": "ipython3",
   "version": "3.8.8"
  }
 },
 "nbformat": 4,
 "nbformat_minor": 5
}
