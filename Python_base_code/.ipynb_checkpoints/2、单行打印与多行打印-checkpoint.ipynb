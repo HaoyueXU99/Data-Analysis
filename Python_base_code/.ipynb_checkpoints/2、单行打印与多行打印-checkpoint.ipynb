{
 "cells": [
  {
   "cell_type": "code",
   "execution_count": 1,
   "metadata": {},
   "outputs": [
    {
     "name": "stdout",
     "output_type": "stream",
     "text": [
      "Hello world\n"
     ]
    }
   ],
   "source": [
    "# 单行打印\n",
    "print(\"Hello world\")"
   ]
  },
  {
   "cell_type": "code",
   "execution_count": 2,
   "metadata": {},
   "outputs": [
    {
     "name": "stdout",
     "output_type": "stream",
     "text": [
      "Hello \n",
      " World\n"
     ]
    }
   ],
   "source": [
    "# 多行打印   \\n换行符号解决多行打印问题\n",
    "print(\"Hello \\n World\")"
   ]
  },
  {
   "cell_type": "code",
   "execution_count": 7,
   "metadata": {},
   "outputs": [
    {
     "name": "stdout",
     "output_type": "stream",
     "text": [
      "Hello \n",
      "World \n",
      "\n"
     ]
    }
   ],
   "source": [
    "# 第二种多行打印\n",
    "# 注意：这种实现方式，是使用三对儿引号，来包裹我们要打印输出的内容\n",
    "print(\"\"\"Hello \n",
    "World \n",
    "\"\"\")\n"
   ]
  },
  {
   "cell_type": "code",
   "execution_count": 8,
   "metadata": {},
   "outputs": [],
   "source": [
    "### 我们来打印一个 心型  "
   ]
  },
  {
   "cell_type": "code",
   "execution_count": 9,
   "metadata": {},
   "outputs": [
    {
     "name": "stdout",
     "output_type": "stream",
     "text": [
      "\n",
      "                veLoveLov           veLoveLov               \n",
      "            eLoveLoveLoveLove   eLoveLoveLoveLove           \n",
      "          veLoveLoveLoveLoveLoveLoveLoveLoveLoveLov         \n",
      "         veLoveLoveLoveLoveLoveLoveLoveLoveLoveLoveL        \n",
      "        veLoveLoveLoveLoveLoveLoveLoveLoveLoveLoveLov       \n",
      "        eLoveLoveLoveLoveLoveLoveLoveLoveLoveLoveLove       \n",
      "        LoveLoveLoveLoveLoveLoveLoveLoveLoveLoveLoveL       \n",
      "        oveLoveLoveLoveLoveLoveLoveLoveLoveLoveLoveLo       \n",
      "        veLoveLoveLoveLoveLoveLoveLoveLoveLoveLoveLov       \n",
      "        eLoveLoveLoveLoveLoveLoveLoveLoveLoveLoveLove       \n",
      "         oveLoveLoveLoveLoveLoveLoveLoveLoveLoveLove        \n",
      "          eLoveLoveLoveLoveLoveLoveLoveLoveLoveLove         \n",
      "          LoveLoveLoveLoveLoveLoveLoveLoveLoveLoveL         \n",
      "            eLoveLoveLoveLoveLoveLoveLoveLoveLove           \n",
      "             oveLoveLoveLoveLoveLoveLoveLoveLove            \n",
      "              eLoveLoveLoveLoveLoveLoveLoveLove             \n",
      "                veLoveLoveLoveLoveLoveLoveLov               \n",
      "                  oveLoveLoveLoveLoveLoveLo                 \n",
      "                    LoveLoveLoveLoveLoveL                   \n",
      "                       LoveLoveLoveLov                      \n",
      "                          LoveLoveL                         \n",
      "                             Lov                            \n",
      "                              v                             \n",
      "                                     \n",
      "\n"
     ]
    }
   ],
   "source": [
    "print(\n",
    "    \"\"\"\n",
    "                veLoveLov           veLoveLov               \n",
    "            eLoveLoveLoveLove   eLoveLoveLoveLove           \n",
    "          veLoveLoveLoveLoveLoveLoveLoveLoveLoveLov         \n",
    "         veLoveLoveLoveLoveLoveLoveLoveLoveLoveLoveL        \n",
    "        veLoveLoveLoveLoveLoveLoveLoveLoveLoveLoveLov       \n",
    "        eLoveLoveLoveLoveLoveLoveLoveLoveLoveLoveLove       \n",
    "        LoveLoveLoveLoveLoveLoveLoveLoveLoveLoveLoveL       \n",
    "        oveLoveLoveLoveLoveLoveLoveLoveLoveLoveLoveLo       \n",
    "        veLoveLoveLoveLoveLoveLoveLoveLoveLoveLoveLov       \n",
    "        eLoveLoveLoveLoveLoveLoveLoveLoveLoveLoveLove       \n",
    "         oveLoveLoveLoveLoveLoveLoveLoveLoveLoveLove        \n",
    "          eLoveLoveLoveLoveLoveLoveLoveLoveLoveLove         \n",
    "          LoveLoveLoveLoveLoveLoveLoveLoveLoveLoveL         \n",
    "            eLoveLoveLoveLoveLoveLoveLoveLoveLove           \n",
    "             oveLoveLoveLoveLoveLoveLoveLoveLove            \n",
    "              eLoveLoveLoveLoveLoveLoveLoveLove             \n",
    "                veLoveLoveLoveLoveLoveLoveLov               \n",
    "                  oveLoveLoveLoveLoveLoveLo                 \n",
    "                    LoveLoveLoveLoveLoveL                   \n",
    "                       LoveLoveLoveLov                      \n",
    "                          LoveLoveL                         \n",
    "                             Lov                            \n",
    "                              v                             \n",
    "                                     \n",
    "\"\"\"\n",
    ")"
   ]
  },
  {
   "cell_type": "code",
   "execution_count": null,
   "metadata": {},
   "outputs": [],
   "source": []
  }
 ],
 "metadata": {
  "kernelspec": {
   "display_name": "Python 3",
   "language": "python",
   "name": "python3"
  },
  "language_info": {
   "codemirror_mode": {
    "name": "ipython",
    "version": 3
   },
   "file_extension": ".py",
   "mimetype": "text/x-python",
   "name": "python",
   "nbconvert_exporter": "python",
   "pygments_lexer": "ipython3",
   "version": "3.8.8"
  }
 },
 "nbformat": 4,
 "nbformat_minor": 2
}
