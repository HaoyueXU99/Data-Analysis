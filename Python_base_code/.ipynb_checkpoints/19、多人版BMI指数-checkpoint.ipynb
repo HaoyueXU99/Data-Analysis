{
 "cells": [
  {
   "cell_type": "code",
   "execution_count": 1,
   "metadata": {},
   "outputs": [],
   "source": [
    "## 函数的默认参数\n",
    "\n",
    "def calc_bmi(weight,height,name = \"大周老师\"):\n",
    "    bmi = weight / (height ** 2)\n",
    "    \n",
    "    return \"您好\" + name + \",您的BMI指数是 \" + str(bmi)\n",
    "\n",
    "\n"
   ]
  },
  {
   "cell_type": "code",
   "execution_count": 4,
   "metadata": {},
   "outputs": [
    {
     "name": "stdout",
     "output_type": "stream",
     "text": [
      "您好小强,您的BMI指数是 0.02734375\n"
     ]
    }
   ],
   "source": [
    "s = calc_bmi(175,80,\"小强\")\n",
    "y = calc_bmi(165,50)\n",
    "print(s)\n",
    "print"
   ]
  },
  {
   "cell_type": "code",
   "execution_count": 5,
   "metadata": {},
   "outputs": [
    {
     "name": "stdout",
     "output_type": "stream",
     "text": [
      "您好小强,您的BMI指数是 0.02734375\n"
     ]
    }
   ],
   "source": [
    "s = calc_bmi(weight = 175, height = 80, name = \"小强\")\n",
    "print(s)"
   ]
  },
  {
   "cell_type": "code",
   "execution_count": 6,
   "metadata": {},
   "outputs": [
    {
     "name": "stdout",
     "output_type": "stream",
     "text": [
      "您好小强,您的BMI指数是 0.02734375\n"
     ]
    }
   ],
   "source": [
    "# 当我们显示的指定参数的名字的时候，可以不按照函数定义的参数的顺序来传参数\n",
    "s = calc_bmi(height = 80,weight = 175, name = \"小强\")\n",
    "print(s)"
   ]
  },
  {
   "cell_type": "code",
   "execution_count": 11,
   "metadata": {},
   "outputs": [
    {
     "name": "stdout",
     "output_type": "stream",
     "text": [
      "(1, 2, 3, 4, 5)\n",
      "<class 'tuple'>\n",
      "1\n",
      "2\n",
      "3\n",
      "4\n",
      "5\n"
     ]
    }
   ],
   "source": [
    "## 函数的不定长参数\n",
    "def my_function(*param):\n",
    "    print(param)\n",
    "    print(type(param))\n",
    "    for i in param:\n",
    "        print(i)\n",
    "    \n",
    "my_function(1,2,3,4,5)"
   ]
  },
  {
   "cell_type": "code",
   "execution_count": 14,
   "metadata": {},
   "outputs": [
    {
     "name": "stdout",
     "output_type": "stream",
     "text": [
      "亲爱的小红,您的bmi指数是22.22222222222222\n",
      "亲爱的小明,您的bmi指数是24.221453287197235\n",
      "亲爱的老王,您的bmi指数是20.98765432098765\n"
     ]
    }
   ],
   "source": [
    "## 不定长参数计算BMI指数\n",
    "\n",
    "def calc_bmi(*weight_height_name):\n",
    "    for i in weight_height_name:\n",
    "        weight = i[0]\n",
    "        height = i[1]\n",
    "        name = i[2]\n",
    "        bmi = weight / (height **2 )\n",
    "        result = \"亲爱的{},您的bmi指数是{}\".format(name,bmi)\n",
    "        print(result)\n",
    "    \n",
    "# 假设我们要传的3个参数，每个参数应该是一个列表数据类型，包含了身高、体重、名字\n",
    "xiaohong = [50,1.50,'小红']\n",
    "xiaoming = [70,1.70,'小明']\n",
    "laowang  = [68,1.80,'老王']\n",
    "calc_bmi(xiaohong,xiaoming,laowang)"
   ]
  },
  {
   "cell_type": "code",
   "execution_count": 33,
   "metadata": {},
   "outputs": [
    {
     "name": "stdout",
     "output_type": "stream",
     "text": [
      "{'a': 1, 'b': 2, 'c': 3}\n",
      "<class 'dict'>\n",
      "a\n",
      "1\n",
      "b\n",
      "2\n",
      "c\n",
      "3\n"
     ]
    }
   ],
   "source": [
    "# 可变参数\n",
    "def my_function(**param):\n",
    "    print(param)\n",
    "    print(type(param))\n",
    "    for k,v in param.items():\n",
    "        print(k)\n",
    "        print(v)\n",
    "    \n",
    "my_function(a=1,b=2,c=3)"
   ]
  },
  {
   "cell_type": "code",
   "execution_count": 35,
   "metadata": {},
   "outputs": [
    {
     "name": "stdout",
     "output_type": "stream",
     "text": [
      "亲爱的xiaohong,您的bmi指数是22.22222222222222\n",
      "亲爱的xiaoming,您的bmi指数是24.221453287197235\n",
      "亲爱的laowang,您的bmi指数是20.98765432098765\n",
      "['亲爱的xiaohong,您的bmi指数是22.22222222222222', '亲爱的xiaoming,您的bmi指数是24.221453287197235', '亲爱的laowang,您的bmi指数是20.98765432098765']\n"
     ]
    }
   ],
   "source": [
    "l = []\n",
    "def calc_bmi(**weight_height):\n",
    "    for k,v in weight_height.items():\n",
    "        weight = v[0]\n",
    "        height = v[1]\n",
    "        bmi = weight / (height **2 )\n",
    "        result = \"亲爱的{},您的bmi指数是{}\".format(k,bmi)\n",
    "        print(result)\n",
    "        l.append(result)\n",
    "    \n",
    "# 假设我们要传的3个参数，每个参数应该是一个列表数据类型，包含了身高、体重、名字\n",
    "xiaohong = [50,1.50,'小红']\n",
    "xiaoming = [70,1.70,'小明']\n",
    "laowang  = [68,1.80,'老王']\n",
    "r = calc_bmi(xiaohong=xiaohong,xiaoming=xiaoming,laowang=laowang)\n",
    "print(l)"
   ]
  },
  {
   "cell_type": "code",
   "execution_count": null,
   "metadata": {},
   "outputs": [],
   "source": []
  }
 ],
 "metadata": {
  "kernelspec": {
   "display_name": "Python 3",
   "language": "python",
   "name": "python3"
  },
  "language_info": {
   "codemirror_mode": {
    "name": "ipython",
    "version": 3
   },
   "file_extension": ".py",
   "mimetype": "text/x-python",
   "name": "python",
   "nbconvert_exporter": "python",
   "pygments_lexer": "ipython3",
   "version": "3.8.8"
  }
 },
 "nbformat": 4,
 "nbformat_minor": 2
}
