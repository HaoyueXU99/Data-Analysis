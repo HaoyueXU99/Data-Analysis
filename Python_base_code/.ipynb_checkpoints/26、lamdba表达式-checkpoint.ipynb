{
 "cells": [
  {
   "cell_type": "code",
   "execution_count": 1,
   "metadata": {},
   "outputs": [],
   "source": [
    "# 导入数学模块\n",
    "import math\n",
    "def circle_area(r):\n",
    "    result = math.pi * r * r\n",
    "    return result"
   ]
  },
  {
   "cell_type": "code",
   "execution_count": 2,
   "metadata": {},
   "outputs": [
    {
     "data": {
      "text/plain": [
       "50.26548245743669"
      ]
     },
     "execution_count": 2,
     "metadata": {},
     "output_type": "execute_result"
    }
   ],
   "source": [
    "# lambda表达式又叫做匿名函数\n",
    "# lambda是一个关键字\n",
    "# 冒号前边的r是这个函数的参数 \n",
    "# 冒号后边的部分，是这个函数的运算逻辑\n",
    "result = lambda r:math.pi * r * r\n",
    "result(4)"
   ]
  },
  {
   "cell_type": "code",
   "execution_count": 6,
   "metadata": {},
   "outputs": [
    {
     "name": "stdout",
     "output_type": "stream",
     "text": [
      "<function calc_function.<locals>.<lambda> at 0x10ca3b158>\n",
      "7\n"
     ]
    }
   ],
   "source": [
    "def calc_function(o):\n",
    "    if o == \"+\":\n",
    "        return lambda a,b : a + b\n",
    "    elif o == \"-\":\n",
    "        return lambda a,b : a - b\n",
    "    elif o == \"*\":\n",
    "        return lambda a,b : a * b\n",
    "    elif o == \"/\":\n",
    "        return lambda a,b : a / b\n",
    "f = calc_function(\"+\")\n",
    "print(f)\n",
    "r = f(3,4)\n",
    "print(r)"
   ]
  },
  {
   "cell_type": "code",
   "execution_count": 7,
   "metadata": {},
   "outputs": [
    {
     "data": {
      "text/plain": [
       "[('西装', 1280, 6473),\n",
       " ('水杯', 12.5, 35),\n",
       " ('电脑', 7800, 13800),\n",
       " ('摄像头', 258.8, 450)]"
      ]
     },
     "execution_count": 7,
     "metadata": {},
     "output_type": "execute_result"
    }
   ],
   "source": [
    "# 商品列表变量。 (商品名称，折扣后的价格，原价)\n",
    "goods_info = [\n",
    "    (\"水杯\",12.5,35),\n",
    "    (\"西装\",1280,6473),\n",
    "    (\"电脑\",7800,13800),\n",
    "    (\"摄像头\",258.8,450)\n",
    "]\n",
    "\n",
    "# 请按照每一件商品的折扣进行排序\n",
    "goods_info.sort(key=lambda x:x[1]/x[2])\n",
    "goods_info"
   ]
  },
  {
   "cell_type": "code",
   "execution_count": 8,
   "metadata": {},
   "outputs": [
    {
     "name": "stdout",
     "output_type": "stream",
     "text": [
      "西装 0.19774447705855092\n",
      "水杯 0.35714285714285715\n",
      "电脑 0.5652173913043478\n",
      "摄像头 0.5751111111111111\n"
     ]
    }
   ],
   "source": [
    "for i in goods_info:\n",
    "    print(i[0],i[1]/i[2])"
   ]
  },
  {
   "cell_type": "code",
   "execution_count": null,
   "metadata": {},
   "outputs": [],
   "source": []
  }
 ],
 "metadata": {
  "kernelspec": {
   "display_name": "Python 3",
   "language": "python",
   "name": "python3"
  },
  "language_info": {
   "codemirror_mode": {
    "name": "ipython",
    "version": 3
   },
   "file_extension": ".py",
   "mimetype": "text/x-python",
   "name": "python",
   "nbconvert_exporter": "python",
   "pygments_lexer": "ipython3",
   "version": "3.8.8"
  }
 },
 "nbformat": 4,
 "nbformat_minor": 2
}
