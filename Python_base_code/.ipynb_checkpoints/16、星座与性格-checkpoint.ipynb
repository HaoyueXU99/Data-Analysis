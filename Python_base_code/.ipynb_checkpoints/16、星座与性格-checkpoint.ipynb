{
 "cells": [
  {
   "cell_type": "code",
   "execution_count": 1,
   "metadata": {},
   "outputs": [],
   "source": [
    "\n",
    "dates = [\"星期一\",\"星期二\",\"星期三\",\"星期四\",\"星期五\",\"星期六\",\"星期日\"]\n",
    "\n",
    "content = [\n",
    "\"坚持下去不是因为我很坚强,而是因为我别无选择\",\n",
    "\"含泪播种的人一定能笑着收获\",\n",
    "\"做对的事情比把事情做对更重要\",\n",
    "\"命运给予我们的不是失望之酒,而是机会之杯\",\n",
    "\"不要等到明天,明天太遥远,今天就行动\",\n",
    "\"求知若饥,虚心若愚\",\n",
    "\"成功将属于那些从不说'不可能'的人\"\n",
    "]"
   ]
  },
  {
   "cell_type": "code",
   "execution_count": 4,
   "metadata": {},
   "outputs": [
    {
     "data": {
      "text/plain": [
       "{'星期一': '坚持下去不是因为我很坚强,而是因为我别无选择',\n",
       " '星期二': '含泪播种的人一定能笑着收获',\n",
       " '星期三': '做对的事情比把事情做对更重要',\n",
       " '星期四': '命运给予我们的不是失望之酒,而是机会之杯',\n",
       " '星期五': '不要等到明天,明天太遥远,今天就行动',\n",
       " '星期六': '求知若饥,虚心若愚',\n",
       " '星期日': \"成功将属于那些从不说'不可能'的人\"}"
      ]
     },
     "execution_count": 4,
     "metadata": {},
     "output_type": "execute_result"
    }
   ],
   "source": [
    "my_dict = dict(zip(dates,content))\n",
    "my_dict"
   ]
  },
  {
   "cell_type": "code",
   "execution_count": 5,
   "metadata": {},
   "outputs": [
    {
     "data": {
      "text/plain": [
       "dict"
      ]
     },
     "execution_count": 5,
     "metadata": {},
     "output_type": "execute_result"
    }
   ],
   "source": [
    "type(my_dict)"
   ]
  },
  {
   "cell_type": "code",
   "execution_count": 1,
   "metadata": {},
   "outputs": [],
   "source": [
    "constellation_name_list = [\"白羊座\",\"金牛座\",\"双子座\",\"巨蟹座\",\"狮子座\",\"处女座\",\"天秤座\",\"天蝎座\",\"射手座\",\"摩羯座\",\"水瓶座\",\"双鱼座\"]\n",
    "\n",
    "constellation_value_list = [\n",
    "\"有一种让人看见就觉得开心的感觉，阳光、乐观、坚强，性格直来直去，就是有点小脾气。\",\n",
    "\"很保守，喜欢稳定，一旦有什么变动就会觉得心里不踏实，性格比较慢熟，是个理财高手。\",\n",
    "\"喜欢追求新鲜感，有点小聪明，耐心不够，因你的可爱性格会让很多人喜欢和你做朋友。\",\n",
    "\"情绪容易敏感，缺乏安全感，做事情有坚持到底的毅力，为人重情重义，对朋友和家人特别忠实。\",\n",
    "\"有着远大的理想，总想靠自己的努力成为人上人，总是期待被仰慕被崇拜的感觉。\",\n",
    "\"坚持追求自己的完美主义者。\",\n",
    "\"追求平等、和谐，交际能力强，因此朋友比较多，最大的缺点就是面对选择时总是犹豫不决。\",\n",
    "\"精力旺盛，占有欲强，对于生活很有目标，不达目的誓不罢休，复仇心重。\",\n",
    "\"崇尚自由，勇敢、果断、独立，身上有一股勇往直前的劲儿，只要想做就能做。\",\n",
    "\"是最优耐心的，做事最小心。做事脚踏实地，比较固执，不达目的不罢休，而且非常勤奋。\",\n",
    "\"人很聪明，最大的特点是创新，追求独一无二的生活，个人主义色彩很浓的星座。\",\n",
    "\"集所有星座的优缺点于一身，最大的有点是有一颗善良的心，愿意帮助别人。\"\n",
    "]"
   ]
  },
  {
   "cell_type": "code",
   "execution_count": null,
   "metadata": {},
   "outputs": [
    {
     "name": "stdout",
     "output_type": "stream",
     "text": [
      "请输入星座的名字>>>aaa\n",
      "星座不存在，请重新输入\n",
      "请输入星座的名字>>>白羊座\n",
      "有一种让人看见就觉得开心的感觉，阳光、乐观、坚强，性格直来直去，就是有点小脾气。\n"
     ]
    }
   ],
   "source": [
    "## 写一段代码，根据星座能够获得这个星座对应的性格\n",
    "\n",
    "constellation_dict = dict(zip(constellation_name_list,constellation_value_list))\n",
    "\n",
    "while True:\n",
    "    constellation_name = input(\"请输入星座的名字>>>\")\n",
    "    # 获取字典用的key，并转换成列表\n",
    "    # constellation_name_list = list(constellation_dict.keys())\n",
    "    \n",
    "    # 判断用户输入的星座的名字是否存在，如果不存在就让用户重新输入\n",
    "    # 如果存在就打印出用户输入星座的性格\n",
    "    # 如果输入q或者是Q就退出\n",
    "    if constellation_name in constellation_dict.keys():\n",
    "        print(constellation_dict[constellation_name])\n",
    "    elif constellation_name.upper() == \"Q\":\n",
    "        print(\"程序退出\")\n",
    "        break\n",
    "    else:\n",
    "        print(\"星座不存在，请重新输入\")\n",
    "\n"
   ]
  },
  {
   "cell_type": "code",
   "execution_count": null,
   "metadata": {},
   "outputs": [],
   "source": [
    "31"
   ]
  }
 ],
 "metadata": {
  "kernelspec": {
   "display_name": "Python 3",
   "language": "python",
   "name": "python3"
  },
  "language_info": {
   "codemirror_mode": {
    "name": "ipython",
    "version": 3
   },
   "file_extension": ".py",
   "mimetype": "text/x-python",
   "name": "python",
   "nbconvert_exporter": "python",
   "pygments_lexer": "ipython3",
   "version": "3.8.8"
  }
 },
 "nbformat": 4,
 "nbformat_minor": 2
}
