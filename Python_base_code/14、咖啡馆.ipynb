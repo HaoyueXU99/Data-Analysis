{
 "cells": [
  {
   "cell_type": "code",
   "execution_count": 1,
   "metadata": {},
   "outputs": [
    {
     "name": "stdout",
     "output_type": "stream",
     "text": [
      "(1, 2, 3)\n"
     ]
    }
   ],
   "source": [
    "## 元组\n",
    "\n",
    "t = (1,2,3) # 这就是元组\n",
    "print(t)\n"
   ]
  },
  {
   "cell_type": "code",
   "execution_count": 2,
   "metadata": {},
   "outputs": [
    {
     "name": "stdout",
     "output_type": "stream",
     "text": [
      "<class 'tuple'>\n"
     ]
    }
   ],
   "source": [
    "print(type(t))"
   ]
  },
  {
   "cell_type": "code",
   "execution_count": 3,
   "metadata": {},
   "outputs": [
    {
     "name": "stdout",
     "output_type": "stream",
     "text": [
      "<class 'list'>\n"
     ]
    }
   ],
   "source": [
    "l = [1,2,3]\n",
    "print(type(l))"
   ]
  },
  {
   "cell_type": "code",
   "execution_count": 4,
   "metadata": {},
   "outputs": [
    {
     "data": {
      "text/plain": [
       "2"
      ]
     },
     "execution_count": 4,
     "metadata": {},
     "output_type": "execute_result"
    }
   ],
   "source": [
    "t[1]"
   ]
  },
  {
   "cell_type": "code",
   "execution_count": 5,
   "metadata": {},
   "outputs": [],
   "source": [
    "## 列表和元组的区别\n",
    "# 列表是允许增加、修改和删除元素的，那么元组是不允许的"
   ]
  },
  {
   "cell_type": "code",
   "execution_count": 6,
   "metadata": {},
   "outputs": [
    {
     "ename": "TypeError",
     "evalue": "'tuple' object does not support item assignment",
     "output_type": "error",
     "traceback": [
      "\u001b[0;31m---------------------------------------------------------------------------\u001b[0m",
      "\u001b[0;31mTypeError\u001b[0m                                 Traceback (most recent call last)",
      "\u001b[0;32m<ipython-input-6-c53026d12066>\u001b[0m in \u001b[0;36m<module>\u001b[0;34m\u001b[0m\n\u001b[0;32m----> 1\u001b[0;31m \u001b[0mt\u001b[0m\u001b[0;34m[\u001b[0m\u001b[0;36m1\u001b[0m\u001b[0;34m]\u001b[0m \u001b[0;34m=\u001b[0m \u001b[0;36m5\u001b[0m\u001b[0;34m\u001b[0m\u001b[0m\n\u001b[0m",
      "\u001b[0;31mTypeError\u001b[0m: 'tuple' object does not support item assignment"
     ]
    }
   ],
   "source": [
    "t[1] = 5"
   ]
  },
  {
   "cell_type": "code",
   "execution_count": 7,
   "metadata": {},
   "outputs": [],
   "source": [
    "### 咖啡馆的基本要求\n",
    "# 咖啡馆在开业之初会有一些基本的咖啡种类，比如“蓝山”、卡布奇诺、曼特宁、摩卡这4中咖啡\n",
    "# 当客人来的时候，我们会展示出我们所拥有的咖啡\n",
    "# 咖啡馆在卖不同咖啡的同时，也在研发新的咖啡种类\n",
    "# 咖啡单一旦确定了是不允许随意修改的\n",
    "# 新咖啡种类的研发是需要依靠用户调研的\n",
    "# 每当有一个用户来到我们的咖啡馆喝咖啡之后，我们要询问这个用户还期望喝到什么样的咖啡\n",
    "# 当同一种类的咖啡被提到3次的时候\n",
    "# 我们就会把这个咖啡种类添加到我们已有的咖啡单当中\n",
    "# 再有新的客人到来的时候我们会展示出我们所有的咖啡种类\n",
    "\n",
    "\n",
    "# 基本流程\n",
    "# 展示所有的咖啡\n",
    "# 用户来了问用户点什么咖啡\n",
    "# 如果有这个咖啡就给用户上咖啡\n",
    "# 如果没有这个咖啡，那么就给用户道歉说没有这个咖啡\n",
    "# 调研用户还喜欢喝什么咖啡\n",
    "# 把用户期望喝到的咖啡放到用户期望的咖啡列表中\n",
    "# 声明变量，把用户期望喝到的咖啡放在列表变量中\n",
    "# 再计算用户期望的咖啡存储的次数\n",
    "# 超过3次，咱们就更新咖啡单\n"
   ]
  },
  {
   "cell_type": "code",
   "execution_count": null,
   "metadata": {},
   "outputs": [],
   "source": []
  },
  {
   "cell_type": "code",
   "execution_count": 9,
   "metadata": {},
   "outputs": [
    {
     "name": "stdout",
     "output_type": "stream",
     "text": [
      "欢迎光临，本店拥有('蓝山', '卡布奇诺', '曼特宁', '摩卡')咖啡，您喜欢哪一种呢？蓝山\n",
      "蓝山咖啡在制作中..........\n",
      "您好，这是您点的蓝山咖啡，请您慢用\n",
      "除了蓝山咖啡，您还喜欢什么其他的咖啡呢？a\n",
      "是否继续营业(y/n)??d\n",
      "欢迎光临，本店拥有('蓝山', '卡布奇诺', '曼特宁', '摩卡')咖啡，您喜欢哪一种呢？蓝山\n",
      "蓝山咖啡在制作中..........\n",
      "您好，这是您点的蓝山咖啡，请您慢用\n",
      "除了蓝山咖啡，您还喜欢什么其他的咖啡呢？a\n",
      "是否继续营业(y/n)??df\n",
      "欢迎光临，本店拥有('蓝山', '卡布奇诺', '曼特宁', '摩卡')咖啡，您喜欢哪一种呢？摩卡\n",
      "摩卡咖啡在制作中..........\n",
      "您好，这是您点的摩卡咖啡，请您慢用\n",
      "除了摩卡咖啡，您还喜欢什么其他的咖啡呢？a\n",
      "是否继续营业(y/n)??y\n",
      "欢迎光临，本店拥有('蓝山', '卡布奇诺', '曼特宁', '摩卡', 'a')咖啡，您喜欢哪一种呢？a\n",
      "a咖啡在制作中..........\n",
      "您好，这是您点的a咖啡，请您慢用\n",
      "除了a咖啡，您还喜欢什么其他的咖啡呢？xx\n",
      "是否继续营业(y/n)??n\n"
     ]
    }
   ],
   "source": [
    "## 声明一个变量，用来存储用户期望喝到的咖啡\n",
    "customer_expectation_coffee_list = []\n",
    "\n",
    "# 由于咖啡单 一旦确定，不允许随意更改，所以咱们的咖啡单要用元组类型来声明\n",
    "coffee_types = ('蓝山','卡布奇诺','曼特宁','摩卡')\n",
    "\n",
    "# 声明一个变量，统计在用户期望的咖啡列表里，有多少种咖啡\n",
    "# 暂时我们需要用一个新的列表去存储，去重之后再进行次数统计\n",
    "different_coffee_list = []\n",
    "\n",
    "while True:\n",
    "    # 客户点咖啡\n",
    "    customer_coffee = input(\"欢迎光临，本店拥有{}咖啡，您喜欢哪一种呢？\".format(coffee_types))\n",
    "    # 当用户输入了没有的咖啡时，做判断，然后让用户重新输入\n",
    "    if customer_coffee not in coffee_types:\n",
    "        print(\"非常抱歉，我们还没有这种咖啡，请您重新选择\")\n",
    "        continue\n",
    "    print(\"{}咖啡在制作中..........\".format(customer_coffee))\n",
    "    print(\"您好，这是您点的{}咖啡，请您慢用\".format(customer_coffee))\n",
    "    \n",
    "    # 用户调用，问用户还喜欢喝什么咖啡\n",
    "    customer_expectation_coffee = input(\"除了{}咖啡，您还喜欢什么其他的咖啡呢？\".format(customer_coffee))\n",
    "    # 把用户期望的咖啡放到用户期望的咖啡列表变量中\n",
    "    customer_expectation_coffee_list.append(customer_expectation_coffee)\n",
    "    \n",
    "    for coffee in customer_expectation_coffee_list:\n",
    "        if coffee not in different_coffee_list:\n",
    "            different_coffee_list.append(coffee)\n",
    "    # 声明一个变量，用来存储最终的咖啡单\n",
    "    # 由于元组不能够进行修改，我们需要把最初的咖啡单变量转换成列表类型\n",
    "    final_coffee_list = list(coffee_types)\n",
    "    \n",
    "    # 计算用户喜欢的每一种咖啡在用户期望的咖啡列表中出现了多少次\n",
    "    for coffee in different_coffee_list:\n",
    "        coffee_count = customer_expectation_coffee_list.count(coffee)\n",
    "        \n",
    "        # 当用户期望的咖啡数量等于3的时候，我们进行咖啡列表的添加，其他次数就不添加了\n",
    "        if coffee_count == 3:\n",
    "            final_coffee_list.append(coffee)\n",
    "    \n",
    "    # 最终把列表再转换回元组，形成最新的咖啡单\n",
    "    coffee_types = tuple(final_coffee_list)\n",
    "    \n",
    "    # 明确循环结束条件，询问是否营业，当回答n时，跳出循环\n",
    "    if_bussiness = input(\"是否继续营业(y/n)??\")\n",
    "    if if_bussiness == 'n':\n",
    "        break\n",
    "    \n",
    "    \n"
   ]
  },
  {
   "cell_type": "code",
   "execution_count": null,
   "metadata": {},
   "outputs": [],
   "source": []
  },
  {
   "cell_type": "code",
   "execution_count": null,
   "metadata": {},
   "outputs": [],
   "source": []
  },
  {
   "cell_type": "code",
   "execution_count": null,
   "metadata": {},
   "outputs": [],
   "source": []
  }
 ],
 "metadata": {
  "kernelspec": {
   "display_name": "Python 3",
   "language": "python",
   "name": "python3"
  },
  "language_info": {
   "codemirror_mode": {
    "name": "ipython",
    "version": 3
   },
   "file_extension": ".py",
   "mimetype": "text/x-python",
   "name": "python",
   "nbconvert_exporter": "python",
   "pygments_lexer": "ipython3",
   "version": "3.8.8"
  }
 },
 "nbformat": 4,
 "nbformat_minor": 2
}
