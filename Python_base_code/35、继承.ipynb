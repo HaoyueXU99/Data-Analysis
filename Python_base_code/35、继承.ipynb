{
 "cells": [
  {
   "cell_type": "code",
   "execution_count": 8,
   "metadata": {},
   "outputs": [
    {
     "name": "stdout",
     "output_type": "stream",
     "text": [
      "爸爸有很多钱\n",
      "38\n",
      "爸爸在学习\n",
      "爸爸有很多朋友\n",
      "Son\n",
      "38\n"
     ]
    }
   ],
   "source": [
    "# 单继承\n",
    "\n",
    "class Father(object):\n",
    "    \n",
    "    age = 38\n",
    "    \n",
    "    def __init__(self,name):\n",
    "        self.name = name\n",
    "    \n",
    "    # 一般方法\n",
    "    def father_money(self):\n",
    "        print(\"爸爸有很多钱\")\n",
    "    \n",
    "    \n",
    "    # 私有方法,私有方法不允许外部访问\n",
    "    def __father_knowleger(self):\n",
    "        print(\"爸爸的知识体系\")\n",
    "    \n",
    "    # 静态方法,这里需要使用装饰器staticmethod来进行修饰\n",
    "    # 静态方法不可以访问类中的变量（包含类变量和实例变量）\n",
    "    # 那么我们就可以把静态方法看做是一个普通的函数，只是写在类中了\n",
    "    @staticmethod\n",
    "    def study():\n",
    "        print(\"爸爸在学习\")\n",
    "        \n",
    "    # 类方法\n",
    "    # 类方法可以访问类变量，但是不能访问实例变量\n",
    "    @classmethod\n",
    "    def father_friend(cls):\n",
    "        print(\"爸爸有很多朋友\")\n",
    "        print(cls.__name__)\n",
    "        \n",
    "        print(cls.age)\n",
    "\n",
    "# 继承\n",
    "class Son(Father):\n",
    "    pass\n",
    "\n",
    "\n",
    "# 实例化一个son\n",
    "son = Son(\"小王\")\n",
    "son.father_money()\n",
    "print(son.age)\n",
    "\n",
    "# son.__father_knowleger()\n",
    "son.study()\n",
    "\n",
    "son.father_friend()"
   ]
  },
  {
   "cell_type": "code",
   "execution_count": 9,
   "metadata": {},
   "outputs": [],
   "source": [
    "## 继承是可以继承一般方法、构造方法、变量\n",
    "## 私有方法是不可以被继承\n",
    "## 静态方法和类方法都可以被继承\n"
   ]
  },
  {
   "cell_type": "code",
   "execution_count": null,
   "metadata": {},
   "outputs": [],
   "source": []
  },
  {
   "cell_type": "code",
   "execution_count": null,
   "metadata": {},
   "outputs": [],
   "source": []
  },
  {
   "cell_type": "code",
   "execution_count": 10,
   "metadata": {},
   "outputs": [],
   "source": [
    "## 既然我们没有老王那样的爸爸，或者是老马那样的爸爸\n",
    "## 我们能拼的只有知识，知识改变命运"
   ]
  },
  {
   "cell_type": "code",
   "execution_count": 14,
   "metadata": {},
   "outputs": [
    {
     "name": "stdout",
     "output_type": "stream",
     "text": [
      "漂亮的容颜\n"
     ]
    }
   ],
   "source": [
    "# 多继承\n",
    "class Father(object):\n",
    "    \n",
    "    age = 38\n",
    "    \n",
    "    def __init__(self):\n",
    "        pass\n",
    "    \n",
    "    # 一般方法\n",
    "    def father_money(self):\n",
    "        print(\"爸爸有很多钱\")\n",
    "    \n",
    "    \n",
    "    # 私有方法,私有方法不允许外部访问\n",
    "    def __father_knowleger(self):\n",
    "        print(\"爸爸的知识体系\")\n",
    "    \n",
    "    # 静态方法,这里需要使用装饰器staticmethod来进行修饰\n",
    "    # 静态方法不可以访问类中的变量（包含类变量和实例变量）\n",
    "    # 那么我们就可以把静态方法看做是一个普通的函数，只是写在类中了\n",
    "    @staticmethod\n",
    "    def study():\n",
    "        print(\"爸爸在学习\")\n",
    "        \n",
    "    # 类方法\n",
    "    # 类方法可以访问类变量，但是不能访问实例变量\n",
    "    @classmethod\n",
    "    def father_friend(cls):\n",
    "        print(\"爸爸有很多朋友\")\n",
    "        print(cls.__name__)\n",
    "        \n",
    "        print(cls.age)\n",
    "    def face(self):\n",
    "        print(\"爸爸也很帅\")\n",
    "\n",
    "class Mother():\n",
    "    def face(self):\n",
    "        print(\"漂亮的容颜\")\n",
    "\n",
    "# 多继承\n",
    "class Son(Mother,Father):\n",
    "    pass\n",
    "son = Son()\n",
    "son.face()"
   ]
  },
  {
   "cell_type": "code",
   "execution_count": null,
   "metadata": {},
   "outputs": [],
   "source": []
  },
  {
   "cell_type": "code",
   "execution_count": null,
   "metadata": {},
   "outputs": [],
   "source": []
  },
  {
   "cell_type": "code",
   "execution_count": null,
   "metadata": {},
   "outputs": [],
   "source": []
  },
  {
   "cell_type": "code",
   "execution_count": null,
   "metadata": {},
   "outputs": [],
   "source": []
  },
  {
   "cell_type": "code",
   "execution_count": null,
   "metadata": {},
   "outputs": [],
   "source": []
  }
 ],
 "metadata": {
  "kernelspec": {
   "display_name": "Python 3",
   "language": "python",
   "name": "python3"
  },
  "language_info": {
   "codemirror_mode": {
    "name": "ipython",
    "version": 3
   },
   "file_extension": ".py",
   "mimetype": "text/x-python",
   "name": "python",
   "nbconvert_exporter": "python",
   "pygments_lexer": "ipython3",
   "version": "3.6.3"
  }
 },
 "nbformat": 4,
 "nbformat_minor": 2
}
