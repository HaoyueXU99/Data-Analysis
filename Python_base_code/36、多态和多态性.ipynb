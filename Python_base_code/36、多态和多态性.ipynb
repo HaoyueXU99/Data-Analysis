{
 "cells": [
  {
   "cell_type": "code",
   "execution_count": 7,
   "metadata": {},
   "outputs": [
    {
     "name": "stdout",
     "output_type": "stream",
     "text": [
      "狗狗跑\n",
      "猫咪跑\n"
     ]
    }
   ],
   "source": [
    "# 多态：指多种形态\n",
    "class Animal():\n",
    "    def run(self):\n",
    "        print(\"动物跑\")\n",
    "\n",
    "# 子类在继承了父类的过程中，重写了父类的方法\n",
    "# 多个类继承同一个类，都重写了父类的方法，呈现出了不同的形态\n",
    "class Dog(Animal):\n",
    "    def run(self):\n",
    "        print(\"狗狗跑\")\n",
    "\n",
    "class Cat(Animal):\n",
    "    def run(self):\n",
    "        print(\"猫咪跑\")\n",
    "\n",
    "        \n",
    "class Person(Animal):\n",
    "    def run(self):\n",
    "        print(\"人类跑\")\n",
    "\n",
    "dog = Dog()\n",
    "dog.run()\n",
    "\n",
    "cat = Cat()\n",
    "cat.run()"
   ]
  },
  {
   "cell_type": "code",
   "execution_count": 10,
   "metadata": {},
   "outputs": [
    {
     "name": "stdout",
     "output_type": "stream",
     "text": [
      "狗狗跑\n",
      "猫咪跑\n",
      "人类跑\n",
      "动物跑\n"
     ]
    }
   ],
   "source": [
    "## 多态性\n",
    "\n",
    "class A(Animal):\n",
    "    pass\n",
    "\n",
    "a = A()\n",
    "\n",
    "def run(obj):\n",
    "    obj.run()\n",
    "\n",
    "run(dog)\n",
    "run(cat)\n",
    "p = Person()\n",
    "run(p)\n",
    "run(a)"
   ]
  },
  {
   "cell_type": "code",
   "execution_count": null,
   "metadata": {},
   "outputs": [],
   "source": []
  }
 ],
 "metadata": {
  "kernelspec": {
   "display_name": "Python 3",
   "language": "python",
   "name": "python3"
  },
  "language_info": {
   "codemirror_mode": {
    "name": "ipython",
    "version": 3
   },
   "file_extension": ".py",
   "mimetype": "text/x-python",
   "name": "python",
   "nbconvert_exporter": "python",
   "pygments_lexer": "ipython3",
   "version": "3.6.3"
  }
 },
 "nbformat": 4,
 "nbformat_minor": 2
}
