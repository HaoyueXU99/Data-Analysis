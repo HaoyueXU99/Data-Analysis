{
 "cells": [
  {
   "cell_type": "code",
   "execution_count": 1,
   "metadata": {},
   "outputs": [
    {
     "name": "stdout",
     "output_type": "stream",
     "text": [
      "afasdfasdfasdfasdfshkfsadhf\n"
     ]
    },
    {
     "data": {
      "text/plain": [
       "'afasdfasdfasdfasdfshkfsadhf'"
      ]
     },
     "execution_count": 1,
     "metadata": {},
     "output_type": "execute_result"
    }
   ],
   "source": [
    "# 从键盘输入中获取到值\n",
    "# input\n",
    "input()"
   ]
  },
  {
   "cell_type": "code",
   "execution_count": 2,
   "metadata": {},
   "outputs": [
    {
     "name": "stdout",
     "output_type": "stream",
     "text": [
      "请输入父亲的身高：1231231234124\n"
     ]
    },
    {
     "data": {
      "text/plain": [
       "'1231231234124'"
      ]
     },
     "execution_count": 2,
     "metadata": {},
     "output_type": "execute_result"
    }
   ],
   "source": [
    "input(\"请输入父亲的身高：\")"
   ]
  },
  {
   "cell_type": "code",
   "execution_count": 3,
   "metadata": {},
   "outputs": [
    {
     "name": "stdout",
     "output_type": "stream",
     "text": [
      "请输入父亲的身高：180\n"
     ]
    }
   ],
   "source": [
    "father_height = input(\"请输入父亲的身高：\")"
   ]
  },
  {
   "cell_type": "code",
   "execution_count": 4,
   "metadata": {},
   "outputs": [
    {
     "name": "stdout",
     "output_type": "stream",
     "text": [
      "180\n"
     ]
    }
   ],
   "source": [
    "print(father_height)"
   ]
  },
  {
   "cell_type": "code",
   "execution_count": 5,
   "metadata": {},
   "outputs": [],
   "source": [
    "## 作业练习的题目\n",
    "\"\"\"\n",
    "根据父母的身高推断孩子的身高\n",
    "孩子的身高 = (父亲的身高 + 母亲的身高) * 0.54\n",
    "\n",
    "\"\"\""
   ]
  },
  {
   "cell_type": "code",
   "execution_count": 11,
   "metadata": {},
   "outputs": [
    {
     "name": "stdout",
     "output_type": "stream",
     "text": [
      "请输入父亲的身高>>>>170\n",
      "<class 'str'>\n",
      "请输入妈妈的身高>>>>158\n",
      "<class 'str'>\n"
     ]
    }
   ],
   "source": [
    "father_height = input('请输入父亲的身高>>>>')\n",
    "print(type(father_height))\n",
    "mother_height = input('请输入妈妈的身高>>>>')\n",
    "print(type(mother_height))\n",
    "child_height = (float(father_height) + float(mother_height)) * 0.54"
   ]
  },
  {
   "cell_type": "code",
   "execution_count": 12,
   "metadata": {},
   "outputs": [
    {
     "name": "stdout",
     "output_type": "stream",
     "text": [
      "177.12\n"
     ]
    }
   ],
   "source": [
    "print(child_height)"
   ]
  },
  {
   "cell_type": "code",
   "execution_count": null,
   "metadata": {},
   "outputs": [],
   "source": []
  },
  {
   "cell_type": "code",
   "execution_count": null,
   "metadata": {},
   "outputs": [],
   "source": []
  },
  {
   "cell_type": "code",
   "execution_count": null,
   "metadata": {},
   "outputs": [],
   "source": []
  }
 ],
 "metadata": {
  "kernelspec": {
   "display_name": "Python 3",
   "language": "python",
   "name": "python3"
  },
  "language_info": {
   "codemirror_mode": {
    "name": "ipython",
    "version": 3
   },
   "file_extension": ".py",
   "mimetype": "text/x-python",
   "name": "python",
   "nbconvert_exporter": "python",
   "pygments_lexer": "ipython3",
   "version": "3.6.3"
  }
 },
 "nbformat": 4,
 "nbformat_minor": 2
}
