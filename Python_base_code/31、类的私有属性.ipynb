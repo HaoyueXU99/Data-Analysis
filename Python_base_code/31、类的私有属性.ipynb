{
 "cells": [
  {
   "cell_type": "code",
   "execution_count": 7,
   "metadata": {},
   "outputs": [
    {
     "name": "stdout",
     "output_type": "stream",
     "text": [
      "构造函数运行\n",
      "北京市\n"
     ]
    },
    {
     "ename": "AttributeError",
     "evalue": "'BeautifulGirl' object has no attribute '__name'",
     "output_type": "error",
     "traceback": [
      "\u001b[0;31m---------------------------------------------------------------------------\u001b[0m",
      "\u001b[0;31mAttributeError\u001b[0m                            Traceback (most recent call last)",
      "\u001b[0;32m<ipython-input-7-3cd6754dfc6a>\u001b[0m in \u001b[0;36m<module>\u001b[0;34m\u001b[0m\n\u001b[1;32m     21\u001b[0m \u001b[0mprint\u001b[0m\u001b[0;34m(\u001b[0m\u001b[0mgirl\u001b[0m\u001b[0;34m.\u001b[0m\u001b[0maddress\u001b[0m\u001b[0;34m)\u001b[0m\u001b[0;34m\u001b[0m\u001b[0m\n\u001b[1;32m     22\u001b[0m \u001b[0;34m\u001b[0m\u001b[0m\n\u001b[0;32m---> 23\u001b[0;31m \u001b[0mprint\u001b[0m\u001b[0;34m(\u001b[0m\u001b[0mgirl\u001b[0m\u001b[0;34m.\u001b[0m\u001b[0m__name\u001b[0m\u001b[0;34m)\u001b[0m\u001b[0;34m\u001b[0m\u001b[0m\n\u001b[0m\u001b[1;32m     24\u001b[0m \u001b[0;31m#print(BeautifulGirl.name)\u001b[0m\u001b[0;34m\u001b[0m\u001b[0;34m\u001b[0m\u001b[0m\n",
      "\u001b[0;31mAttributeError\u001b[0m: 'BeautifulGirl' object has no attribute '__name'"
     ]
    }
   ],
   "source": [
    "class BeautifulGirl():\n",
    "    \n",
    "    # 类的私有属性:在类的外部是不可以访问的\n",
    "    __name = \"高圆圆\"\n",
    "    # 这叫做类的共有属性：在类的外部是可以访问到的\n",
    "    address = \"北京市\"\n",
    "    \n",
    "    # 构造函数\n",
    "    def __init__(self,name,address):\n",
    "        print(\"构造函数运行\")\n",
    "        self.__name = name\n",
    "        \n",
    "        # 这个叫做实例变量\n",
    "        self.address = address\n",
    "#        print(self.address)\n",
    "    # 这叫做类的方法\n",
    "    def dance(self):\n",
    "        print(\"美女在跳舞\")\n",
    "\n",
    "girl = BeautifulGirl(\"刘亦菲\",\"北京市\")\n",
    "print(girl.address)\n",
    "\n",
    "print(girl.__name)\n",
    "#print(BeautifulGirl.name)"
   ]
  },
  {
   "cell_type": "code",
   "execution_count": 9,
   "metadata": {},
   "outputs": [
    {
     "name": "stdout",
     "output_type": "stream",
     "text": [
      "构造函数运行\n",
      "{'__module__': '__main__', '_BeautifulGirl__name': '高圆圆', 'address': '北京市', '__init__': <function BeautifulGirl.__init__ at 0x10cb37620>, 'dance': <function BeautifulGirl.dance at 0x10cb370d0>, '__dict__': <attribute '__dict__' of 'BeautifulGirl' objects>, '__weakref__': <attribute '__weakref__' of 'BeautifulGirl' objects>, '__doc__': None}\n",
      "高圆圆\n"
     ]
    }
   ],
   "source": [
    "class BeautifulGirl():\n",
    "    \n",
    "    # 类的私有属性:在类的外部是不可以访问的\n",
    "    __name = \"高圆圆\"\n",
    "    # 这叫做类的共有属性：在类的外部是可以访问到的\n",
    "    address = \"北京市\"\n",
    "    \n",
    "    # 构造函数\n",
    "    def __init__(self,name,address):\n",
    "        print(\"构造函数运行\")\n",
    "        self.__name = name\n",
    "        \n",
    "        # 这个叫做实例变量\n",
    "        self.address = address\n",
    "#        print(self.address)\n",
    "    # 这叫做类的方法\n",
    "    def dance(self):\n",
    "        print(\"美女在跳舞\")\n",
    "\n",
    "girl = BeautifulGirl(\"刘亦菲\",\"北京市\")\n",
    "print(BeautifulGirl.__dict__)\n",
    "\n",
    "# 揭秘：其实类的私有属性的实现方式是\n",
    "# _BeautifulGirl__name \n",
    "# _类名字 属性名字\n",
    "\n",
    "\n",
    "# 类的私有属性的非法访问访问\n",
    "print(BeautifulGirl._BeautifulGirl__name )"
   ]
  },
  {
   "cell_type": "code",
   "execution_count": 10,
   "metadata": {},
   "outputs": [
    {
     "name": "stdout",
     "output_type": "stream",
     "text": [
      "构造函数运行\n",
      "刘亦菲美女在跳舞\n"
     ]
    }
   ],
   "source": [
    "# 类的私有属性在哪里可以访问\n",
    "\n",
    "class BeautifulGirl():\n",
    "    \n",
    "    # 类的私有属性:在类的外部是不可以访问的\n",
    "    __name = \"高圆圆\"\n",
    "    # 这叫做类的共有属性：在类的外部是可以访问到的\n",
    "    address = \"北京市\"\n",
    "    \n",
    "    # 构造函数\n",
    "    def __init__(self,name,address):\n",
    "        print(\"构造函数运行\")\n",
    "        self.__name = name\n",
    "        \n",
    "        # 这个叫做实例变量\n",
    "        self.address = address\n",
    "#        print(self.address)\n",
    "    # 这叫做类的方法\n",
    "    def dance(self):\n",
    "        print(self.__name + \"美女在跳舞\")\n",
    "\n",
    "girl = BeautifulGirl(\"刘亦菲\",\"北京市\")\n",
    "girl.dance()\n",
    "#正常来说，类的私有属性是在类自己内部的方法中可以访问，外部就不要访问了。\n"
   ]
  },
  {
   "cell_type": "code",
   "execution_count": null,
   "metadata": {},
   "outputs": [],
   "source": []
  }
 ],
 "metadata": {
  "kernelspec": {
   "display_name": "Python 3",
   "language": "python",
   "name": "python3"
  },
  "language_info": {
   "codemirror_mode": {
    "name": "ipython",
    "version": 3
   },
   "file_extension": ".py",
   "mimetype": "text/x-python",
   "name": "python",
   "nbconvert_exporter": "python",
   "pygments_lexer": "ipython3",
   "version": "3.8.8"
  }
 },
 "nbformat": 4,
 "nbformat_minor": 2
}
