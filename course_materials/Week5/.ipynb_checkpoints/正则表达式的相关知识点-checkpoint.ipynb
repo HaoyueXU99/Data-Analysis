{
 "cells": [
  {
   "cell_type": "markdown",
   "id": "digital-thinking",
   "metadata": {},
   "source": [
    "<h1>正则表达式</h1>\n",
    "<ol>\n",
    "    <li>\n",
    "        <a href = \"#正则的含义\">正则的含义</a> \n",
    "    </li>\n",
    "    <li>\n",
    "        <a href = \"#正则表达式的应用场景\">正则表达式的应用场景</a> \n",
    "    </li>\n",
    "    <li>\n",
    "        <a href = \"#元字符\">元字符</a> \n",
    "    </li>\n",
    "    <li>\n",
    "        <a href = \"#反义代码\">反义代码</a> \n",
    "    </li>\n",
    "    <li>\n",
    "        <a href = \"#限定符\">限定符</a> \n",
    "    </li>\n",
    "    <li>\n",
    "        <a href = \"#分组匹配\">分组匹配</a> \n",
    "    </li>\n",
    "    <li>\n",
    "        <a href = \"#贪婪与非贪婪\">贪婪与非贪婪</a> \n",
    "    </li>\n",
    "    <li>\n",
    "        <a href = \"#分支条件匹配\">分支条件匹配</a> \n",
    "    </li>\n",
    "    <li>\n",
    "        <a href = \"#零宽断言\">零宽断言</a> \n",
    "    </li>\n",
    "    <li>\n",
    "        <a href=\"#实例展示\">实例展示</a>\n",
    "    </li>\n",
    "</ol>"
   ]
  },
  {
   "cell_type": "markdown",
   "id": "mathematical-blackjack",
   "metadata": {},
   "source": [
    "## 正则的含义\n",
    "- 正则表达式是用来操作字符串的一种逻辑公式"
   ]
  },
  {
   "cell_type": "markdown",
   "id": "provincial-sperm",
   "metadata": {},
   "source": [
    "## 正则表达式的应用场景\n",
    "- 数据分析时，数据获取的文本筛选\n",
    "- 写爬虫代码时，网页数据的匹配\n",
    "- 写前端代码时（html）,用户输入的数据验证（手机号/邮箱的判断）\n",
    "- 测试人员在请求接口时\n",
    "- 批量文本编辑，比如在sublime text或notepad++等等笔记本软件中\n",
    "\n",
    "### 常见格式验证\n",
    "- 邮箱验证\n",
    "- IP地址验证\n",
    "- 电话号码验证\n",
    "- 密码强度验证\n",
    "- 网址验证\n",
    "- 汉子验证，汉字的范围是：[\\u4E00-\\u9FA5]\n",
    "\n",
    "<b>凡是有一定规律的，批量的数据获取，我们都可以使用正则表达式来完成</b>\n",
    "\n",
    "### 正则表达式的演示"
   ]
  },
  {
   "cell_type": "code",
   "execution_count": 177,
   "id": "characteristic-harrison",
   "metadata": {},
   "outputs": [
    {
     "data": {
      "text/plain": [
       "['https://www.baidu.com']"
      ]
     },
     "execution_count": 177,
     "metadata": {},
     "output_type": "execute_result"
    }
   ],
   "source": [
    "# 使用正则表达式，需要导入re库\n",
    "import re\n",
    "s = \"百度网址：https://www.baidu.com/\"\n",
    "reg = \"https://[w]{3}\\.[a-z]*\\.com\"\n",
    "re.findall(reg,s)"
   ]
  },
  {
   "cell_type": "code",
   "execution_count": 178,
   "id": "identical-debut",
   "metadata": {},
   "outputs": [
    {
     "data": {
      "text/plain": [
       "['百度网址',\n",
       " '',\n",
       " '',\n",
       " '',\n",
       " '',\n",
       " '',\n",
       " '',\n",
       " '',\n",
       " '',\n",
       " '',\n",
       " '',\n",
       " '',\n",
       " '',\n",
       " '',\n",
       " '',\n",
       " '',\n",
       " '',\n",
       " '',\n",
       " '',\n",
       " '',\n",
       " '',\n",
       " '',\n",
       " '',\n",
       " '',\n",
       " '']"
      ]
     },
     "execution_count": 178,
     "metadata": {},
     "output_type": "execute_result"
    }
   ],
   "source": [
    "s = \"百度网址：https://www.baidu.com/\"\n",
    "reg = \"[\\u4E00-\\u9FA5]{0,}\"\n",
    "re.findall(reg,s)"
   ]
  },
  {
   "cell_type": "markdown",
   "id": "extraordinary-wright",
   "metadata": {},
   "source": [
    "# 元字符\n",
    "|字符|说明|\n",
    "|--|--|\n",
    "|.|代表的是换行符（\\n,\\r\\n）以外的任意字符|\n",
    "|\\w|匹配字母或数字或下划线或汉字的字符|\n",
    "|\\s|匹配任意的空白符|\n",
    "|\\d|匹配数字|\n",
    "|^|匹配字符串的开始|\n",
    "|$|匹配字符串的结束|"
   ]
  },
  {
   "cell_type": "code",
   "execution_count": 179,
   "id": "domestic-vector",
   "metadata": {},
   "outputs": [
    {
     "data": {
      "text/plain": [
       "['2', '3', '3', '3', '3', '4', '5', '4', '5', '4', '3']"
      ]
     },
     "execution_count": 179,
     "metadata": {},
     "output_type": "execute_result"
    }
   ],
   "source": [
    "s = \"百23度3334网54543址：https://www.baidu.com/\"\n",
    "re.findall('\\d',s)"
   ]
  },
  {
   "cell_type": "code",
   "execution_count": 180,
   "id": "explicit-magnet",
   "metadata": {},
   "outputs": [
    {
     "data": {
      "text/plain": [
       "['w', 'w', 'w']"
      ]
     },
     "execution_count": 180,
     "metadata": {},
     "output_type": "execute_result"
    }
   ],
   "source": [
    "s = \"百23度3334网54543址：https://www.baidu.com/\"\n",
    "re.findall('w',s)"
   ]
  },
  {
   "cell_type": "code",
   "execution_count": 181,
   "id": "efficient-tobacco",
   "metadata": {},
   "outputs": [
    {
     "data": {
      "text/plain": [
       "[]"
      ]
     },
     "execution_count": 181,
     "metadata": {},
     "output_type": "execute_result"
    }
   ],
   "source": [
    "s = \"百23度33342网542543址：https://www.baidu.com/\"\n",
    "re.findall('^2',s)"
   ]
  },
  {
   "cell_type": "code",
   "execution_count": 182,
   "id": "skilled-volleyball",
   "metadata": {},
   "outputs": [
    {
     "data": {
      "text/plain": [
       "['2']"
      ]
     },
     "execution_count": 182,
     "metadata": {},
     "output_type": "execute_result"
    }
   ],
   "source": [
    "s = \"2百23度33342网542543址：https://www.baidu.com/\"\n",
    "re.findall('^2',s)"
   ]
  },
  {
   "cell_type": "code",
   "execution_count": 183,
   "id": "divine-seafood",
   "metadata": {},
   "outputs": [
    {
     "data": {
      "text/plain": [
       "[]"
      ]
     },
     "execution_count": 183,
     "metadata": {},
     "output_type": "execute_result"
    }
   ],
   "source": [
    "s = \"2百23度33342网542543址：https://www.baidu.com/\"\n",
    "re.findall('m$',s)"
   ]
  },
  {
   "cell_type": "code",
   "execution_count": 184,
   "id": "reliable-project",
   "metadata": {},
   "outputs": [
    {
     "data": {
      "text/plain": [
       "['/']"
      ]
     },
     "execution_count": 184,
     "metadata": {},
     "output_type": "execute_result"
    }
   ],
   "source": [
    "s = \"2百23度33342网542543址：https://www.baidu.com/\"\n",
    "re.findall('/$',s)"
   ]
  },
  {
   "cell_type": "markdown",
   "id": "mighty-smile",
   "metadata": {},
   "source": [
    "## 反义代码\n",
    "### 就是与元字符相反的代码\n",
    "\n",
    "|字符|说明|\n",
    "|--|--|\n",
    "|\\W|匹配任意不是字母、数字、下划线、汉字的字符|\n",
    "|\\S|匹配任意不是空白符的字符|\n",
    "|\\D|匹配任意不是数字的字符|"
   ]
  },
  {
   "cell_type": "markdown",
   "id": "planned-cocktail",
   "metadata": {},
   "source": [
    "## 限定符\n",
    "- 限定某一个逻辑集合所出现的次数\n",
    "|字符|说明|\n",
    "|--|--|\n",
    "|*|代表的是重复0次或者是多次|\n",
    "|+|代表的是重复1次或者是多次|\n",
    "|?|代表是重复0次或者是1次|\n",
    "|{n}|重复n次的意思|\n",
    "|{n,}|重复n次或者是更多次|\n",
    "|{n,m}|重复n次到m次|"
   ]
  },
  {
   "cell_type": "code",
   "execution_count": 185,
   "id": "imposed-month",
   "metadata": {},
   "outputs": [
    {
     "data": {
      "text/plain": [
       "['https://www.baidu.com']"
      ]
     },
     "execution_count": 185,
     "metadata": {},
     "output_type": "execute_result"
    }
   ],
   "source": [
    "s = \"百度网址：https://www.baidu.com/\"\n",
    "reg = \"https://[w]{3}\\.[a-z]*\\.com\" #[]代表一个逻辑的集合\n",
    "re.findall(reg,s)"
   ]
  },
  {
   "cell_type": "code",
   "execution_count": 186,
   "id": "valuable-covering",
   "metadata": {},
   "outputs": [
    {
     "data": {
      "text/plain": [
       "['98', '23', '33', '13', '56']"
      ]
     },
     "execution_count": 186,
     "metadata": {},
     "output_type": "execute_result"
    }
   ],
   "source": [
    "s = \"百98度234网33址1356io3：https://www.baidu.com/\"\n",
    "reg = \"\\d{2}\"\n",
    "re.findall(reg,s)"
   ]
  },
  {
   "cell_type": "code",
   "execution_count": 187,
   "id": "prescribed-memorabilia",
   "metadata": {},
   "outputs": [
    {
     "data": {
      "text/plain": [
       "['98', '234', '33', '1356', '3']"
      ]
     },
     "execution_count": 187,
     "metadata": {},
     "output_type": "execute_result"
    }
   ],
   "source": [
    "s = \"百98度234网33址1356io3：https://www.baidu.com/\"\n",
    "reg = \"\\d+\"\n",
    "re.findall(reg,s)"
   ]
  },
  {
   "cell_type": "markdown",
   "id": "ordinary-causing",
   "metadata": {},
   "source": [
    "## 分组匹配"
   ]
  },
  {
   "cell_type": "code",
   "execution_count": 188,
   "id": "ready-concern",
   "metadata": {},
   "outputs": [
    {
     "data": {
      "text/plain": [
       "['1203892273', '150000']"
      ]
     },
     "execution_count": 188,
     "metadata": {},
     "output_type": "execute_result"
    }
   ],
   "source": [
    "s = \"我的qq号码是:1203892273;my postcode: 150000\"\n",
    "reg = \"\\d{6,10}\"\n",
    "result = re.findall(reg,s)\n",
    "# 注意这里的返回值是一个列表\n",
    "result "
   ]
  },
  {
   "cell_type": "code",
   "execution_count": 189,
   "id": "solid-auditor",
   "metadata": {},
   "outputs": [
    {
     "data": {
      "text/plain": [
       "'1203892273'"
      ]
     },
     "execution_count": 189,
     "metadata": {},
     "output_type": "execute_result"
    }
   ],
   "source": [
    "result[0]"
   ]
  },
  {
   "cell_type": "code",
   "execution_count": 190,
   "id": "intellectual-tribe",
   "metadata": {},
   "outputs": [
    {
     "data": {
      "text/plain": [
       "[('1203892273', '150000')]"
      ]
     },
     "execution_count": 190,
     "metadata": {},
     "output_type": "execute_result"
    }
   ],
   "source": [
    "reg = \"(\\d{10}).*(\\d{6})\"\n",
    "result = re.findall(reg,s)\n",
    "result"
   ]
  },
  {
   "cell_type": "code",
   "execution_count": 191,
   "id": "mobile-juice",
   "metadata": {},
   "outputs": [
    {
     "data": {
      "text/plain": [
       "<re.Match object; span=(8, 38), match='1203892273;my postcode: 150000'>"
      ]
     },
     "execution_count": 191,
     "metadata": {},
     "output_type": "execute_result"
    }
   ],
   "source": [
    "# 分组\n",
    "reg = \"(\\d{10}).*(\\d{6})\"\n",
    "result = re.search(reg,s)\n",
    "result"
   ]
  },
  {
   "cell_type": "code",
   "execution_count": 192,
   "id": "affiliated-strike",
   "metadata": {},
   "outputs": [
    {
     "data": {
      "text/plain": [
       "'1203892273;my postcode: 150000'"
      ]
     },
     "execution_count": 192,
     "metadata": {},
     "output_type": "execute_result"
    }
   ],
   "source": [
    "result.group()"
   ]
  },
  {
   "cell_type": "code",
   "execution_count": 193,
   "id": "fifth-rogers",
   "metadata": {},
   "outputs": [
    {
     "data": {
      "text/plain": [
       "'1203892273;my postcode: 150000'"
      ]
     },
     "execution_count": 193,
     "metadata": {},
     "output_type": "execute_result"
    }
   ],
   "source": [
    "result.group(0)"
   ]
  },
  {
   "cell_type": "code",
   "execution_count": 194,
   "id": "interested-consultation",
   "metadata": {},
   "outputs": [
    {
     "data": {
      "text/plain": [
       "'1203892273'"
      ]
     },
     "execution_count": 194,
     "metadata": {},
     "output_type": "execute_result"
    }
   ],
   "source": [
    "result.group(1)"
   ]
  },
  {
   "cell_type": "code",
   "execution_count": 195,
   "id": "backed-knowing",
   "metadata": {},
   "outputs": [
    {
     "data": {
      "text/plain": [
       "'150000'"
      ]
     },
     "execution_count": 195,
     "metadata": {},
     "output_type": "execute_result"
    }
   ],
   "source": [
    "result.group(2)"
   ]
  },
  {
   "cell_type": "markdown",
   "id": "expressed-education",
   "metadata": {},
   "source": [
    "## 贪婪与非贪婪\n",
    "- 贪婪：尽可能多的匹配\n",
    "- 非贪婪：尽可能少的匹配\n",
    "- 非贪婪匹配的操作符是？\n",
    "  \n",
    "\n",
    "\n",
    "|字符|说明|\n",
    "|--|--|\n",
    "|*|代表的是重复0次或者是多次|\n",
    "|+|代表的是重复1次或者是多次|\n",
    "|?|代表是重复0次或者是1次|\n",
    "\n",
    "??:代表的是匹配1次\n",
    "\n",
    "\n",
    "- 贪婪和非贪婪对限定符做出了一些限制"
   ]
  },
  {
   "cell_type": "code",
   "execution_count": 196,
   "id": "danish-magnet",
   "metadata": {},
   "outputs": [
    {
     "data": {
      "text/plain": [
       "['',\n",
       " '98',\n",
       " '',\n",
       " '234',\n",
       " '',\n",
       " '33',\n",
       " '',\n",
       " '1356',\n",
       " '',\n",
       " '',\n",
       " '3',\n",
       " '',\n",
       " '',\n",
       " '',\n",
       " '',\n",
       " '',\n",
       " '',\n",
       " '',\n",
       " '',\n",
       " '',\n",
       " '',\n",
       " '',\n",
       " '',\n",
       " '',\n",
       " '',\n",
       " '',\n",
       " '',\n",
       " '',\n",
       " '',\n",
       " '',\n",
       " '',\n",
       " '',\n",
       " '',\n",
       " '',\n",
       " '']"
      ]
     },
     "execution_count": 196,
     "metadata": {},
     "output_type": "execute_result"
    }
   ],
   "source": [
    "s = \"百98度234网33址1356io3：https://www.baidu.com/\"\n",
    "reg = \"\\d*\"\n",
    "re.findall(reg,s)"
   ]
  },
  {
   "cell_type": "code",
   "execution_count": 197,
   "id": "textile-kingdom",
   "metadata": {},
   "outputs": [
    {
     "data": {
      "text/plain": [
       "['du', 'du', 'du', 'du', 'du']"
      ]
     },
     "execution_count": 197,
     "metadata": {},
     "output_type": "execute_result"
    }
   ],
   "source": [
    "# 默认是贪婪匹配\n",
    "s = \"baidududududuuu\"\n",
    "reg = \"du\"\n",
    "re.findall(reg,s)"
   ]
  },
  {
   "cell_type": "code",
   "execution_count": 198,
   "id": "established-state",
   "metadata": {},
   "outputs": [
    {
     "data": {
      "text/plain": [
       "['du', 'du', 'du', 'du', 'd', 'du']"
      ]
     },
     "execution_count": 198,
     "metadata": {},
     "output_type": "execute_result"
    }
   ],
   "source": [
    "s = \"baidududududduuu\"\n",
    "reg = \"du?\"\n",
    "re.findall(reg,s)"
   ]
  },
  {
   "cell_type": "code",
   "execution_count": 199,
   "id": "fresh-universal",
   "metadata": {},
   "outputs": [
    {
     "data": {
      "text/plain": [
       "['',\n",
       " '',\n",
       " '',\n",
       " 'd',\n",
       " 'u',\n",
       " 'd',\n",
       " 'u',\n",
       " 'd',\n",
       " 'u',\n",
       " 'd',\n",
       " 'u',\n",
       " 'd',\n",
       " 'd',\n",
       " 'u',\n",
       " 'u',\n",
       " 'u',\n",
       " '']"
      ]
     },
     "execution_count": 199,
     "metadata": {},
     "output_type": "execute_result"
    }
   ],
   "source": [
    "s = \"baidududududduuu\"\n",
    "reg = \"[du]?\"\n",
    "re.findall(reg,s)"
   ]
  },
  {
   "cell_type": "code",
   "execution_count": 200,
   "id": "broad-virginia",
   "metadata": {},
   "outputs": [
    {
     "data": {
      "text/plain": [
       "['', '', '', 'du', 'du', 'du', 'du', '', 'du', '', '', '']"
      ]
     },
     "execution_count": 200,
     "metadata": {},
     "output_type": "execute_result"
    }
   ],
   "source": [
    "s = \"baidududududduuu\"\n",
    "reg = \"(du)?\"\n",
    "re.findall(reg,s)"
   ]
  },
  {
   "cell_type": "code",
   "execution_count": 201,
   "id": "objective-tonight",
   "metadata": {},
   "outputs": [
    {
     "data": {
      "text/plain": [
       "['', '', '', '', 'du', '', 'du', '', 'du', '', 'du', '', '', 'du', '', '', '']"
      ]
     },
     "execution_count": 201,
     "metadata": {},
     "output_type": "execute_result"
    }
   ],
   "source": [
    "s = \"baidududududduuu\"\n",
    "reg = \"(du)*?\"\n",
    "re.findall(reg,s)"
   ]
  },
  {
   "cell_type": "code",
   "execution_count": 202,
   "id": "rising-savings",
   "metadata": {},
   "outputs": [
    {
     "data": {
      "text/plain": [
       "['', '', '', '', 'du', '', 'du', '', 'du', '', 'du', '', '', 'du', '', '', '']"
      ]
     },
     "execution_count": 202,
     "metadata": {},
     "output_type": "execute_result"
    }
   ],
   "source": [
    "s = \"baidududududduuu\"\n",
    "reg = \"(du)??\"\n",
    "re.findall(reg,s)"
   ]
  },
  {
   "cell_type": "markdown",
   "id": "disturbed-monte",
   "metadata": {},
   "source": [
    "## 分支条件匹配"
   ]
  },
  {
   "cell_type": "code",
   "execution_count": 203,
   "id": "cultural-reproduction",
   "metadata": {},
   "outputs": [
    {
     "data": {
      "text/plain": [
       "['7145',\n",
       " '5397',\n",
       " '5251',\n",
       " '4873',\n",
       " '1101',\n",
       " '2189',\n",
       " '6617',\n",
       " '7256',\n",
       " '5184',\n",
       " '512',\n",
       " '6000']"
      ]
     },
     "execution_count": 203,
     "metadata": {},
     "output_type": "execute_result"
    }
   ],
   "source": [
    "# 条件1 或 条件2\n",
    "s = \"\"\"\n",
    "5c7145a5397be4c5251a4873,1,2,西罗园,北京,丰台,1101.0,西南,1,近地铁 集中供暖,整租 · \n",
    "南三环边木樨园桥西宝汇苑带车位西南向两居室！https://m.lianjia.com/chuzu/bj/zufang/BJ2189661772565184512.html,\n",
    "72,6000,元/月,宝汇苑,整租\n",
    "\"\"\"\n",
    "\n",
    "# 分支条件匹配书写正则表达式所需要注意的点\n",
    "# 条件限定时，范围越小的，也就是越难满足的要写在前边\n",
    "# 因为多条件匹配的时候，匹配规则是从左到右，如果满足了左边的规则，那么右边就不去看了\n",
    "\n",
    "reg = '\\d{4}|\\d{3}'\n",
    "re.findall(reg,s)"
   ]
  },
  {
   "cell_type": "markdown",
   "id": "medieval-ratio",
   "metadata": {},
   "source": [
    "## 零宽断言\n",
    "|符号(reg代表着一个正则表达式)|说明|\n",
    "|--|--|\n",
    "|(?=reg)|匹配正则表达式前边的内容|\n",
    "|(?<=reg)|匹配正则表达式后边的内容|\n",
    "|(?!reg)|匹配后边跟的不是正则表达式的内容|\n",
    "|(?<!reg)|匹配前边不是正则表达式的内容|"
   ]
  },
  {
   "cell_type": "code",
   "execution_count": 225,
   "id": "illegal-chester",
   "metadata": {},
   "outputs": [
    {
     "data": {
      "text/plain": [
       "[',']"
      ]
     },
     "execution_count": 225,
     "metadata": {},
     "output_type": "execute_result"
    }
   ],
   "source": [
    "s = \"\"\"\n",
    "5c714e1f397be4c5251a7185,1,1,武夷花园,北京,通州,,西,0,精装 集中供暖 随时看房,整租 · 京贸中心大开间，窗户是大落地窗，\n",
    "看房随时https://m.lianjia.com/chuzu/bj/zufang/BJ2136262410049159168.html,72,3500,元/月,京贸中心,整租\n",
    "\"\"\"\n",
    "reg = \",(?=整租$)\"\n",
    "re.findall(reg,s)"
   ]
  },
  {
   "cell_type": "code",
   "execution_count": 226,
   "id": "binding-casting",
   "metadata": {},
   "outputs": [
    {
     "data": {
      "text/plain": [
       "['lo']"
      ]
     },
     "execution_count": 226,
     "metadata": {},
     "output_type": "execute_result"
    }
   ],
   "source": [
    "# 匹配hello中的lo\n",
    "s = \"helloworldilove\"\n",
    "reg = \"lo(?=world)\" # 匹配后面是world的lo\n",
    "re.findall(reg,s)"
   ]
  },
  {
   "cell_type": "code",
   "execution_count": 227,
   "id": "forty-lending",
   "metadata": {},
   "outputs": [
    {
     "data": {
      "text/plain": [
       "['ilove']"
      ]
     },
     "execution_count": 227,
     "metadata": {},
     "output_type": "execute_result"
    }
   ],
   "source": [
    "# 匹配world之后的所有字母\n",
    "s = \"helloworldilove\"\n",
    "reg = \"(?<=world)[a-z]*\" # 匹配 world后面的所有字母\n",
    "re.findall(reg,s)"
   ]
  },
  {
   "cell_type": "code",
   "execution_count": 228,
   "id": "integral-equity",
   "metadata": {},
   "outputs": [
    {
     "data": {
      "text/plain": [
       "['lo']"
      ]
     },
     "execution_count": 228,
     "metadata": {},
     "output_type": "execute_result"
    }
   ],
   "source": [
    "# 匹配love中的lo\n",
    "s = \"helloworldilove\"\n",
    "reg = \"lo(?!world)\" # 匹配后面不是world的咯\n",
    "re.findall(reg,s)"
   ]
  },
  {
   "cell_type": "code",
   "execution_count": 229,
   "id": "laughing-headquarters",
   "metadata": {},
   "outputs": [
    {
     "data": {
      "text/plain": [
       "['o', 'o']"
      ]
     },
     "execution_count": 229,
     "metadata": {},
     "output_type": "execute_result"
    }
   ],
   "source": [
    "s = \"helloworldilove\"\n",
    "reg = '(?<!worldil)o'# 匹配前面不是worldil的o,这里生成的o不包含love中的o\n",
    "re.findall(reg,s)"
   ]
  },
  {
   "cell_type": "markdown",
   "id": "fresh-lexington",
   "metadata": {},
   "source": [
    "## 实例展示"
   ]
  },
  {
   "cell_type": "code",
   "execution_count": 8,
   "id": "neural-vegetation",
   "metadata": {},
   "outputs": [],
   "source": [
    "import pandas as pd \n",
    "import matplotlib.pyplot as plt\n",
    "import numpy as np"
   ]
  },
  {
   "cell_type": "code",
   "execution_count": 9,
   "id": "bearing-introduction",
   "metadata": {},
   "outputs": [
    {
     "data": {
      "text/html": [
       "<div>\n",
       "<style scoped>\n",
       "    .dataframe tbody tr th:only-of-type {\n",
       "        vertical-align: middle;\n",
       "    }\n",
       "\n",
       "    .dataframe tbody tr th {\n",
       "        vertical-align: top;\n",
       "    }\n",
       "\n",
       "    .dataframe thead th {\n",
       "        text-align: right;\n",
       "    }\n",
       "</style>\n",
       "<table border=\"1\" class=\"dataframe\">\n",
       "  <thead>\n",
       "    <tr style=\"text-align: right;\">\n",
       "      <th></th>\n",
       "      <th>出发地</th>\n",
       "      <th>目的地</th>\n",
       "      <th>价格</th>\n",
       "      <th>节省</th>\n",
       "      <th>路线名</th>\n",
       "      <th>酒店</th>\n",
       "      <th>房间</th>\n",
       "      <th>去程航司</th>\n",
       "      <th>去程方式</th>\n",
       "      <th>去程时间</th>\n",
       "      <th>回程航司</th>\n",
       "      <th>回程方式</th>\n",
       "      <th>回程时间</th>\n",
       "    </tr>\n",
       "  </thead>\n",
       "  <tbody>\n",
       "    <tr>\n",
       "      <th>0</th>\n",
       "      <td>哈尔滨</td>\n",
       "      <td>北海</td>\n",
       "      <td>2208.0</td>\n",
       "      <td>650.0</td>\n",
       "      <td>哈尔滨-北海3天2晚 | 入住北海祥丰嘉年华大酒店 + 春秋航空往返机票</td>\n",
       "      <td>北海祥丰嘉年华大酒店 舒适型 4.7分/5分</td>\n",
       "      <td>标准双人间(双床) 双床 不含早 1间2晚</td>\n",
       "      <td>春秋航空 9C8741</td>\n",
       "      <td>直飞</td>\n",
       "      <td>17:10-21:50</td>\n",
       "      <td>春秋航空 9C8742</td>\n",
       "      <td>直飞</td>\n",
       "      <td>10:20-15:05</td>\n",
       "    </tr>\n",
       "    <tr>\n",
       "      <th>1</th>\n",
       "      <td>成都</td>\n",
       "      <td>泸沽湖</td>\n",
       "      <td>1145.0</td>\n",
       "      <td>376.0</td>\n",
       "      <td>成都-泸沽湖3天2晚 | 入住7天酒店丽江古城中心店 + 成都航空往返机票</td>\n",
       "      <td>7天酒店丽江古城中心店 经济型 4.0分/5分</td>\n",
       "      <td>经济房-不含早-限时特... 其他 不含早 1间2晚</td>\n",
       "      <td>成都航空 EU2237</td>\n",
       "      <td>直飞</td>\n",
       "      <td>19:45-21:20</td>\n",
       "      <td>成都航空 EU2738</td>\n",
       "      <td>直飞</td>\n",
       "      <td>23:30-01:05</td>\n",
       "    </tr>\n",
       "    <tr>\n",
       "      <th>2</th>\n",
       "      <td>广州</td>\n",
       "      <td>沈阳</td>\n",
       "      <td>2702.0</td>\n",
       "      <td>618.0</td>\n",
       "      <td>广州-沈阳3天2晚 | 入住沈阳中煤宾馆 + 南方航空/深圳航空往返机票</td>\n",
       "      <td>沈阳中煤宾馆 舒适型 4.5分/5分</td>\n",
       "      <td>大床间(内宾) 大床 双早 1间2晚</td>\n",
       "      <td>南方航空 CZ6384</td>\n",
       "      <td>直飞</td>\n",
       "      <td>08:05-11:45</td>\n",
       "      <td>深圳航空 ZH9652</td>\n",
       "      <td>经停</td>\n",
       "      <td>08:20-13:05</td>\n",
       "    </tr>\n",
       "    <tr>\n",
       "      <th>3</th>\n",
       "      <td>上海</td>\n",
       "      <td>九寨沟</td>\n",
       "      <td>1954.0</td>\n",
       "      <td>484.0</td>\n",
       "      <td>上海-九寨沟3天2晚 | 入住红原芸谊大酒店 + 成都航空往返机票</td>\n",
       "      <td>红原芸谊大酒店 舒适型 4.6分/5分</td>\n",
       "      <td>豪华双床房[双早] 双床 双早 1间2晚</td>\n",
       "      <td>成都航空 EU6678</td>\n",
       "      <td>直飞</td>\n",
       "      <td>21:55-01:15</td>\n",
       "      <td>成都航空 EU6677</td>\n",
       "      <td>直飞</td>\n",
       "      <td>17:45-20:35</td>\n",
       "    </tr>\n",
       "    <tr>\n",
       "      <th>4</th>\n",
       "      <td>广州</td>\n",
       "      <td>天津</td>\n",
       "      <td>1608.0</td>\n",
       "      <td>422.0</td>\n",
       "      <td>广州-天津3天2晚 | 入住天津逸海明珠大酒店 + 奥凯航空/海南航空往返机票</td>\n",
       "      <td>天津逸海明珠大酒店 高档型 4.1分/5分</td>\n",
       "      <td>豪华双床房(预付) 双床 不含早 1间2晚</td>\n",
       "      <td>奥凯航空 BK2787</td>\n",
       "      <td>直飞</td>\n",
       "      <td>06:55-10:00</td>\n",
       "      <td>海南航空 HU7201</td>\n",
       "      <td>直飞</td>\n",
       "      <td>20:15-23:25</td>\n",
       "    </tr>\n",
       "  </tbody>\n",
       "</table>\n",
       "</div>"
      ],
      "text/plain": [
       "  出发地   目的地     价格      节省                                      路线名  \\\n",
       "0  哈尔滨   北海  2208.0  650.0     哈尔滨-北海3天2晚 | 入住北海祥丰嘉年华大酒店 + 春秋航空往返机票   \n",
       "1   成都  泸沽湖  1145.0  376.0    成都-泸沽湖3天2晚 | 入住7天酒店丽江古城中心店 + 成都航空往返机票   \n",
       "2   广州   沈阳  2702.0  618.0     广州-沈阳3天2晚 | 入住沈阳中煤宾馆 + 南方航空/深圳航空往返机票   \n",
       "3   上海  九寨沟  1954.0  484.0        上海-九寨沟3天2晚 | 入住红原芸谊大酒店 + 成都航空往返机票   \n",
       "4   广州   天津  1608.0  422.0  广州-天津3天2晚 | 入住天津逸海明珠大酒店 + 奥凯航空/海南航空往返机票   \n",
       "\n",
       "                        酒店                          房间         去程航司 去程方式  \\\n",
       "0   北海祥丰嘉年华大酒店 舒适型 4.7分/5分       标准双人间(双床) 双床 不含早 1间2晚  春秋航空 9C8741   直飞   \n",
       "1  7天酒店丽江古城中心店 经济型 4.0分/5分  经济房-不含早-限时特... 其他 不含早 1间2晚  成都航空 EU2237   直飞   \n",
       "2       沈阳中煤宾馆 舒适型 4.5分/5分          大床间(内宾) 大床 双早 1间2晚  南方航空 CZ6384   直飞   \n",
       "3      红原芸谊大酒店 舒适型 4.6分/5分        豪华双床房[双早] 双床 双早 1间2晚  成都航空 EU6678   直飞   \n",
       "4    天津逸海明珠大酒店 高档型 4.1分/5分       豪华双床房(预付) 双床 不含早 1间2晚  奥凯航空 BK2787   直飞   \n",
       "\n",
       "          去程时间         回程航司 回程方式          回程时间  \n",
       "0  17:10-21:50  春秋航空 9C8742    直飞  10:20-15:05  \n",
       "1  19:45-21:20  成都航空 EU2738    直飞  23:30-01:05  \n",
       "2  08:05-11:45  深圳航空 ZH9652    经停  08:20-13:05  \n",
       "3  21:55-01:15  成都航空 EU6677    直飞  17:45-20:35  \n",
       "4  06:55-10:00  海南航空 HU7201    直飞  20:15-23:25  "
      ]
     },
     "execution_count": 9,
     "metadata": {},
     "output_type": "execute_result"
    }
   ],
   "source": [
    "df = pd.read_csv('旅游.csv',index_col =0)\n",
    "df.head()"
   ]
  },
  {
   "cell_type": "code",
   "execution_count": 10,
   "id": "received-runner",
   "metadata": {},
   "outputs": [
    {
     "data": {
      "text/html": [
       "<div>\n",
       "<style scoped>\n",
       "    .dataframe tbody tr th:only-of-type {\n",
       "        vertical-align: middle;\n",
       "    }\n",
       "\n",
       "    .dataframe tbody tr th {\n",
       "        vertical-align: top;\n",
       "    }\n",
       "\n",
       "    .dataframe thead th {\n",
       "        text-align: right;\n",
       "    }\n",
       "</style>\n",
       "<table border=\"1\" class=\"dataframe\">\n",
       "  <thead>\n",
       "    <tr style=\"text-align: right;\">\n",
       "      <th></th>\n",
       "      <th>出发地</th>\n",
       "      <th>目的地</th>\n",
       "      <th>价格</th>\n",
       "      <th>节省</th>\n",
       "      <th>路线名</th>\n",
       "      <th>酒店</th>\n",
       "      <th>房间</th>\n",
       "      <th>去程航司</th>\n",
       "      <th>去程方式</th>\n",
       "      <th>去程时间</th>\n",
       "      <th>回程航司</th>\n",
       "      <th>回程方式</th>\n",
       "      <th>回程时间</th>\n",
       "      <th>酒店评分</th>\n",
       "    </tr>\n",
       "  </thead>\n",
       "  <tbody>\n",
       "    <tr>\n",
       "      <th>0</th>\n",
       "      <td>哈尔滨</td>\n",
       "      <td>北海</td>\n",
       "      <td>2208.0</td>\n",
       "      <td>650.0</td>\n",
       "      <td>哈尔滨-北海3天2晚 | 入住北海祥丰嘉年华大酒店 + 春秋航空往返机票</td>\n",
       "      <td>北海祥丰嘉年华大酒店 舒适型 4.7分/5分</td>\n",
       "      <td>标准双人间(双床) 双床 不含早 1间2晚</td>\n",
       "      <td>春秋航空 9C8741</td>\n",
       "      <td>直飞</td>\n",
       "      <td>17:10-21:50</td>\n",
       "      <td>春秋航空 9C8742</td>\n",
       "      <td>直飞</td>\n",
       "      <td>10:20-15:05</td>\n",
       "      <td>4.7</td>\n",
       "    </tr>\n",
       "    <tr>\n",
       "      <th>1</th>\n",
       "      <td>成都</td>\n",
       "      <td>泸沽湖</td>\n",
       "      <td>1145.0</td>\n",
       "      <td>376.0</td>\n",
       "      <td>成都-泸沽湖3天2晚 | 入住7天酒店丽江古城中心店 + 成都航空往返机票</td>\n",
       "      <td>7天酒店丽江古城中心店 经济型 4.0分/5分</td>\n",
       "      <td>经济房-不含早-限时特... 其他 不含早 1间2晚</td>\n",
       "      <td>成都航空 EU2237</td>\n",
       "      <td>直飞</td>\n",
       "      <td>19:45-21:20</td>\n",
       "      <td>成都航空 EU2738</td>\n",
       "      <td>直飞</td>\n",
       "      <td>23:30-01:05</td>\n",
       "      <td>4.0</td>\n",
       "    </tr>\n",
       "    <tr>\n",
       "      <th>2</th>\n",
       "      <td>广州</td>\n",
       "      <td>沈阳</td>\n",
       "      <td>2702.0</td>\n",
       "      <td>618.0</td>\n",
       "      <td>广州-沈阳3天2晚 | 入住沈阳中煤宾馆 + 南方航空/深圳航空往返机票</td>\n",
       "      <td>沈阳中煤宾馆 舒适型 4.5分/5分</td>\n",
       "      <td>大床间(内宾) 大床 双早 1间2晚</td>\n",
       "      <td>南方航空 CZ6384</td>\n",
       "      <td>直飞</td>\n",
       "      <td>08:05-11:45</td>\n",
       "      <td>深圳航空 ZH9652</td>\n",
       "      <td>经停</td>\n",
       "      <td>08:20-13:05</td>\n",
       "      <td>4.5</td>\n",
       "    </tr>\n",
       "    <tr>\n",
       "      <th>3</th>\n",
       "      <td>上海</td>\n",
       "      <td>九寨沟</td>\n",
       "      <td>1954.0</td>\n",
       "      <td>484.0</td>\n",
       "      <td>上海-九寨沟3天2晚 | 入住红原芸谊大酒店 + 成都航空往返机票</td>\n",
       "      <td>红原芸谊大酒店 舒适型 4.6分/5分</td>\n",
       "      <td>豪华双床房[双早] 双床 双早 1间2晚</td>\n",
       "      <td>成都航空 EU6678</td>\n",
       "      <td>直飞</td>\n",
       "      <td>21:55-01:15</td>\n",
       "      <td>成都航空 EU6677</td>\n",
       "      <td>直飞</td>\n",
       "      <td>17:45-20:35</td>\n",
       "      <td>4.6</td>\n",
       "    </tr>\n",
       "    <tr>\n",
       "      <th>4</th>\n",
       "      <td>广州</td>\n",
       "      <td>天津</td>\n",
       "      <td>1608.0</td>\n",
       "      <td>422.0</td>\n",
       "      <td>广州-天津3天2晚 | 入住天津逸海明珠大酒店 + 奥凯航空/海南航空往返机票</td>\n",
       "      <td>天津逸海明珠大酒店 高档型 4.1分/5分</td>\n",
       "      <td>豪华双床房(预付) 双床 不含早 1间2晚</td>\n",
       "      <td>奥凯航空 BK2787</td>\n",
       "      <td>直飞</td>\n",
       "      <td>06:55-10:00</td>\n",
       "      <td>海南航空 HU7201</td>\n",
       "      <td>直飞</td>\n",
       "      <td>20:15-23:25</td>\n",
       "      <td>4.1</td>\n",
       "    </tr>\n",
       "  </tbody>\n",
       "</table>\n",
       "</div>"
      ],
      "text/plain": [
       "  出发地   目的地     价格      节省                                      路线名  \\\n",
       "0  哈尔滨   北海  2208.0  650.0     哈尔滨-北海3天2晚 | 入住北海祥丰嘉年华大酒店 + 春秋航空往返机票   \n",
       "1   成都  泸沽湖  1145.0  376.0    成都-泸沽湖3天2晚 | 入住7天酒店丽江古城中心店 + 成都航空往返机票   \n",
       "2   广州   沈阳  2702.0  618.0     广州-沈阳3天2晚 | 入住沈阳中煤宾馆 + 南方航空/深圳航空往返机票   \n",
       "3   上海  九寨沟  1954.0  484.0        上海-九寨沟3天2晚 | 入住红原芸谊大酒店 + 成都航空往返机票   \n",
       "4   广州   天津  1608.0  422.0  广州-天津3天2晚 | 入住天津逸海明珠大酒店 + 奥凯航空/海南航空往返机票   \n",
       "\n",
       "                        酒店                          房间         去程航司 去程方式  \\\n",
       "0   北海祥丰嘉年华大酒店 舒适型 4.7分/5分       标准双人间(双床) 双床 不含早 1间2晚  春秋航空 9C8741   直飞   \n",
       "1  7天酒店丽江古城中心店 经济型 4.0分/5分  经济房-不含早-限时特... 其他 不含早 1间2晚  成都航空 EU2237   直飞   \n",
       "2       沈阳中煤宾馆 舒适型 4.5分/5分          大床间(内宾) 大床 双早 1间2晚  南方航空 CZ6384   直飞   \n",
       "3      红原芸谊大酒店 舒适型 4.6分/5分        豪华双床房[双早] 双床 双早 1间2晚  成都航空 EU6678   直飞   \n",
       "4    天津逸海明珠大酒店 高档型 4.1分/5分       豪华双床房(预付) 双床 不含早 1间2晚  奥凯航空 BK2787   直飞   \n",
       "\n",
       "          去程时间         回程航司 回程方式          回程时间 酒店评分  \n",
       "0  17:10-21:50  春秋航空 9C8742    直飞  10:20-15:05  4.7  \n",
       "1  19:45-21:20  成都航空 EU2738    直飞  23:30-01:05  4.0  \n",
       "2  08:05-11:45  深圳航空 ZH9652    经停  08:20-13:05  4.5  \n",
       "3  21:55-01:15  成都航空 EU6677    直飞  17:45-20:35  4.6  \n",
       "4  06:55-10:00  海南航空 HU7201    直飞  20:15-23:25  4.1  "
      ]
     },
     "execution_count": 10,
     "metadata": {},
     "output_type": "execute_result"
    }
   ],
   "source": [
    "# 提取酒店评分\n",
    "df['酒店评分'] = df['酒店'].str.extract('(\\d\\.\\d)分/5分')\n",
    "df.head()"
   ]
  },
  {
   "cell_type": "code",
   "execution_count": 11,
   "id": "common-dealer",
   "metadata": {},
   "outputs": [
    {
     "data": {
      "text/html": [
       "<div>\n",
       "<style scoped>\n",
       "    .dataframe tbody tr th:only-of-type {\n",
       "        vertical-align: middle;\n",
       "    }\n",
       "\n",
       "    .dataframe tbody tr th {\n",
       "        vertical-align: top;\n",
       "    }\n",
       "\n",
       "    .dataframe thead th {\n",
       "        text-align: right;\n",
       "    }\n",
       "</style>\n",
       "<table border=\"1\" class=\"dataframe\">\n",
       "  <thead>\n",
       "    <tr style=\"text-align: right;\">\n",
       "      <th></th>\n",
       "      <th>出发地</th>\n",
       "      <th>目的地</th>\n",
       "      <th>价格</th>\n",
       "      <th>节省</th>\n",
       "      <th>路线名</th>\n",
       "      <th>酒店</th>\n",
       "      <th>房间</th>\n",
       "      <th>去程航司</th>\n",
       "      <th>去程方式</th>\n",
       "      <th>去程时间</th>\n",
       "      <th>回程航司</th>\n",
       "      <th>回程方式</th>\n",
       "      <th>回程时间</th>\n",
       "      <th>酒店评分</th>\n",
       "      <th>酒店等级</th>\n",
       "    </tr>\n",
       "  </thead>\n",
       "  <tbody>\n",
       "    <tr>\n",
       "      <th>0</th>\n",
       "      <td>哈尔滨</td>\n",
       "      <td>北海</td>\n",
       "      <td>2208.0</td>\n",
       "      <td>650.0</td>\n",
       "      <td>哈尔滨-北海3天2晚 | 入住北海祥丰嘉年华大酒店 + 春秋航空往返机票</td>\n",
       "      <td>北海祥丰嘉年华大酒店 舒适型 4.7分/5分</td>\n",
       "      <td>标准双人间(双床) 双床 不含早 1间2晚</td>\n",
       "      <td>春秋航空 9C8741</td>\n",
       "      <td>直飞</td>\n",
       "      <td>17:10-21:50</td>\n",
       "      <td>春秋航空 9C8742</td>\n",
       "      <td>直飞</td>\n",
       "      <td>10:20-15:05</td>\n",
       "      <td>4.7</td>\n",
       "      <td>舒适型</td>\n",
       "    </tr>\n",
       "    <tr>\n",
       "      <th>1</th>\n",
       "      <td>成都</td>\n",
       "      <td>泸沽湖</td>\n",
       "      <td>1145.0</td>\n",
       "      <td>376.0</td>\n",
       "      <td>成都-泸沽湖3天2晚 | 入住7天酒店丽江古城中心店 + 成都航空往返机票</td>\n",
       "      <td>7天酒店丽江古城中心店 经济型 4.0分/5分</td>\n",
       "      <td>经济房-不含早-限时特... 其他 不含早 1间2晚</td>\n",
       "      <td>成都航空 EU2237</td>\n",
       "      <td>直飞</td>\n",
       "      <td>19:45-21:20</td>\n",
       "      <td>成都航空 EU2738</td>\n",
       "      <td>直飞</td>\n",
       "      <td>23:30-01:05</td>\n",
       "      <td>4.0</td>\n",
       "      <td>经济型</td>\n",
       "    </tr>\n",
       "    <tr>\n",
       "      <th>2</th>\n",
       "      <td>广州</td>\n",
       "      <td>沈阳</td>\n",
       "      <td>2702.0</td>\n",
       "      <td>618.0</td>\n",
       "      <td>广州-沈阳3天2晚 | 入住沈阳中煤宾馆 + 南方航空/深圳航空往返机票</td>\n",
       "      <td>沈阳中煤宾馆 舒适型 4.5分/5分</td>\n",
       "      <td>大床间(内宾) 大床 双早 1间2晚</td>\n",
       "      <td>南方航空 CZ6384</td>\n",
       "      <td>直飞</td>\n",
       "      <td>08:05-11:45</td>\n",
       "      <td>深圳航空 ZH9652</td>\n",
       "      <td>经停</td>\n",
       "      <td>08:20-13:05</td>\n",
       "      <td>4.5</td>\n",
       "      <td>舒适型</td>\n",
       "    </tr>\n",
       "    <tr>\n",
       "      <th>3</th>\n",
       "      <td>上海</td>\n",
       "      <td>九寨沟</td>\n",
       "      <td>1954.0</td>\n",
       "      <td>484.0</td>\n",
       "      <td>上海-九寨沟3天2晚 | 入住红原芸谊大酒店 + 成都航空往返机票</td>\n",
       "      <td>红原芸谊大酒店 舒适型 4.6分/5分</td>\n",
       "      <td>豪华双床房[双早] 双床 双早 1间2晚</td>\n",
       "      <td>成都航空 EU6678</td>\n",
       "      <td>直飞</td>\n",
       "      <td>21:55-01:15</td>\n",
       "      <td>成都航空 EU6677</td>\n",
       "      <td>直飞</td>\n",
       "      <td>17:45-20:35</td>\n",
       "      <td>4.6</td>\n",
       "      <td>舒适型</td>\n",
       "    </tr>\n",
       "    <tr>\n",
       "      <th>4</th>\n",
       "      <td>广州</td>\n",
       "      <td>天津</td>\n",
       "      <td>1608.0</td>\n",
       "      <td>422.0</td>\n",
       "      <td>广州-天津3天2晚 | 入住天津逸海明珠大酒店 + 奥凯航空/海南航空往返机票</td>\n",
       "      <td>天津逸海明珠大酒店 高档型 4.1分/5分</td>\n",
       "      <td>豪华双床房(预付) 双床 不含早 1间2晚</td>\n",
       "      <td>奥凯航空 BK2787</td>\n",
       "      <td>直飞</td>\n",
       "      <td>06:55-10:00</td>\n",
       "      <td>海南航空 HU7201</td>\n",
       "      <td>直飞</td>\n",
       "      <td>20:15-23:25</td>\n",
       "      <td>4.1</td>\n",
       "      <td>高档型</td>\n",
       "    </tr>\n",
       "  </tbody>\n",
       "</table>\n",
       "</div>"
      ],
      "text/plain": [
       "  出发地   目的地     价格      节省                                      路线名  \\\n",
       "0  哈尔滨   北海  2208.0  650.0     哈尔滨-北海3天2晚 | 入住北海祥丰嘉年华大酒店 + 春秋航空往返机票   \n",
       "1   成都  泸沽湖  1145.0  376.0    成都-泸沽湖3天2晚 | 入住7天酒店丽江古城中心店 + 成都航空往返机票   \n",
       "2   广州   沈阳  2702.0  618.0     广州-沈阳3天2晚 | 入住沈阳中煤宾馆 + 南方航空/深圳航空往返机票   \n",
       "3   上海  九寨沟  1954.0  484.0        上海-九寨沟3天2晚 | 入住红原芸谊大酒店 + 成都航空往返机票   \n",
       "4   广州   天津  1608.0  422.0  广州-天津3天2晚 | 入住天津逸海明珠大酒店 + 奥凯航空/海南航空往返机票   \n",
       "\n",
       "                        酒店                          房间         去程航司 去程方式  \\\n",
       "0   北海祥丰嘉年华大酒店 舒适型 4.7分/5分       标准双人间(双床) 双床 不含早 1间2晚  春秋航空 9C8741   直飞   \n",
       "1  7天酒店丽江古城中心店 经济型 4.0分/5分  经济房-不含早-限时特... 其他 不含早 1间2晚  成都航空 EU2237   直飞   \n",
       "2       沈阳中煤宾馆 舒适型 4.5分/5分          大床间(内宾) 大床 双早 1间2晚  南方航空 CZ6384   直飞   \n",
       "3      红原芸谊大酒店 舒适型 4.6分/5分        豪华双床房[双早] 双床 双早 1间2晚  成都航空 EU6678   直飞   \n",
       "4    天津逸海明珠大酒店 高档型 4.1分/5分       豪华双床房(预付) 双床 不含早 1间2晚  奥凯航空 BK2787   直飞   \n",
       "\n",
       "          去程时间         回程航司 回程方式          回程时间 酒店评分 酒店等级  \n",
       "0  17:10-21:50  春秋航空 9C8742    直飞  10:20-15:05  4.7  舒适型  \n",
       "1  19:45-21:20  成都航空 EU2738    直飞  23:30-01:05  4.0  经济型  \n",
       "2  08:05-11:45  深圳航空 ZH9652    经停  08:20-13:05  4.5  舒适型  \n",
       "3  21:55-01:15  成都航空 EU6677    直飞  17:45-20:35  4.6  舒适型  \n",
       "4  06:55-10:00  海南航空 HU7201    直飞  20:15-23:25  4.1  高档型  "
      ]
     },
     "execution_count": 11,
     "metadata": {},
     "output_type": "execute_result"
    }
   ],
   "source": [
    "# 提取酒店等级\n",
    "df['酒店等级'] = df['酒店'].str.extract(' (.+) ')\n",
    "df.head()"
   ]
  },
  {
   "cell_type": "code",
   "execution_count": 12,
   "id": "needed-engagement",
   "metadata": {},
   "outputs": [
    {
     "data": {
      "text/html": [
       "<div>\n",
       "<style scoped>\n",
       "    .dataframe tbody tr th:only-of-type {\n",
       "        vertical-align: middle;\n",
       "    }\n",
       "\n",
       "    .dataframe tbody tr th {\n",
       "        vertical-align: top;\n",
       "    }\n",
       "\n",
       "    .dataframe thead th {\n",
       "        text-align: right;\n",
       "    }\n",
       "</style>\n",
       "<table border=\"1\" class=\"dataframe\">\n",
       "  <thead>\n",
       "    <tr style=\"text-align: right;\">\n",
       "      <th></th>\n",
       "      <th>出发地</th>\n",
       "      <th>目的地</th>\n",
       "      <th>价格</th>\n",
       "      <th>节省</th>\n",
       "      <th>路线名</th>\n",
       "      <th>酒店</th>\n",
       "      <th>房间</th>\n",
       "      <th>去程航司</th>\n",
       "      <th>去程方式</th>\n",
       "      <th>去程时间</th>\n",
       "      <th>回程航司</th>\n",
       "      <th>回程方式</th>\n",
       "      <th>回程时间</th>\n",
       "      <th>酒店评分</th>\n",
       "      <th>酒店等级</th>\n",
       "      <th>天数</th>\n",
       "    </tr>\n",
       "  </thead>\n",
       "  <tbody>\n",
       "    <tr>\n",
       "      <th>0</th>\n",
       "      <td>哈尔滨</td>\n",
       "      <td>北海</td>\n",
       "      <td>2208.0</td>\n",
       "      <td>650.0</td>\n",
       "      <td>哈尔滨-北海3天2晚 | 入住北海祥丰嘉年华大酒店 + 春秋航空往返机票</td>\n",
       "      <td>北海祥丰嘉年华大酒店 舒适型 4.7分/5分</td>\n",
       "      <td>标准双人间(双床) 双床 不含早 1间2晚</td>\n",
       "      <td>春秋航空 9C8741</td>\n",
       "      <td>直飞</td>\n",
       "      <td>17:10-21:50</td>\n",
       "      <td>春秋航空 9C8742</td>\n",
       "      <td>直飞</td>\n",
       "      <td>10:20-15:05</td>\n",
       "      <td>4.7</td>\n",
       "      <td>舒适型</td>\n",
       "      <td>3</td>\n",
       "    </tr>\n",
       "    <tr>\n",
       "      <th>1</th>\n",
       "      <td>成都</td>\n",
       "      <td>泸沽湖</td>\n",
       "      <td>1145.0</td>\n",
       "      <td>376.0</td>\n",
       "      <td>成都-泸沽湖3天2晚 | 入住7天酒店丽江古城中心店 + 成都航空往返机票</td>\n",
       "      <td>7天酒店丽江古城中心店 经济型 4.0分/5分</td>\n",
       "      <td>经济房-不含早-限时特... 其他 不含早 1间2晚</td>\n",
       "      <td>成都航空 EU2237</td>\n",
       "      <td>直飞</td>\n",
       "      <td>19:45-21:20</td>\n",
       "      <td>成都航空 EU2738</td>\n",
       "      <td>直飞</td>\n",
       "      <td>23:30-01:05</td>\n",
       "      <td>4.0</td>\n",
       "      <td>经济型</td>\n",
       "      <td>3</td>\n",
       "    </tr>\n",
       "    <tr>\n",
       "      <th>2</th>\n",
       "      <td>广州</td>\n",
       "      <td>沈阳</td>\n",
       "      <td>2702.0</td>\n",
       "      <td>618.0</td>\n",
       "      <td>广州-沈阳3天2晚 | 入住沈阳中煤宾馆 + 南方航空/深圳航空往返机票</td>\n",
       "      <td>沈阳中煤宾馆 舒适型 4.5分/5分</td>\n",
       "      <td>大床间(内宾) 大床 双早 1间2晚</td>\n",
       "      <td>南方航空 CZ6384</td>\n",
       "      <td>直飞</td>\n",
       "      <td>08:05-11:45</td>\n",
       "      <td>深圳航空 ZH9652</td>\n",
       "      <td>经停</td>\n",
       "      <td>08:20-13:05</td>\n",
       "      <td>4.5</td>\n",
       "      <td>舒适型</td>\n",
       "      <td>3</td>\n",
       "    </tr>\n",
       "    <tr>\n",
       "      <th>3</th>\n",
       "      <td>上海</td>\n",
       "      <td>九寨沟</td>\n",
       "      <td>1954.0</td>\n",
       "      <td>484.0</td>\n",
       "      <td>上海-九寨沟3天2晚 | 入住红原芸谊大酒店 + 成都航空往返机票</td>\n",
       "      <td>红原芸谊大酒店 舒适型 4.6分/5分</td>\n",
       "      <td>豪华双床房[双早] 双床 双早 1间2晚</td>\n",
       "      <td>成都航空 EU6678</td>\n",
       "      <td>直飞</td>\n",
       "      <td>21:55-01:15</td>\n",
       "      <td>成都航空 EU6677</td>\n",
       "      <td>直飞</td>\n",
       "      <td>17:45-20:35</td>\n",
       "      <td>4.6</td>\n",
       "      <td>舒适型</td>\n",
       "      <td>3</td>\n",
       "    </tr>\n",
       "    <tr>\n",
       "      <th>4</th>\n",
       "      <td>广州</td>\n",
       "      <td>天津</td>\n",
       "      <td>1608.0</td>\n",
       "      <td>422.0</td>\n",
       "      <td>广州-天津3天2晚 | 入住天津逸海明珠大酒店 + 奥凯航空/海南航空往返机票</td>\n",
       "      <td>天津逸海明珠大酒店 高档型 4.1分/5分</td>\n",
       "      <td>豪华双床房(预付) 双床 不含早 1间2晚</td>\n",
       "      <td>奥凯航空 BK2787</td>\n",
       "      <td>直飞</td>\n",
       "      <td>06:55-10:00</td>\n",
       "      <td>海南航空 HU7201</td>\n",
       "      <td>直飞</td>\n",
       "      <td>20:15-23:25</td>\n",
       "      <td>4.1</td>\n",
       "      <td>高档型</td>\n",
       "      <td>3</td>\n",
       "    </tr>\n",
       "  </tbody>\n",
       "</table>\n",
       "</div>"
      ],
      "text/plain": [
       "  出发地   目的地     价格      节省                                      路线名  \\\n",
       "0  哈尔滨   北海  2208.0  650.0     哈尔滨-北海3天2晚 | 入住北海祥丰嘉年华大酒店 + 春秋航空往返机票   \n",
       "1   成都  泸沽湖  1145.0  376.0    成都-泸沽湖3天2晚 | 入住7天酒店丽江古城中心店 + 成都航空往返机票   \n",
       "2   广州   沈阳  2702.0  618.0     广州-沈阳3天2晚 | 入住沈阳中煤宾馆 + 南方航空/深圳航空往返机票   \n",
       "3   上海  九寨沟  1954.0  484.0        上海-九寨沟3天2晚 | 入住红原芸谊大酒店 + 成都航空往返机票   \n",
       "4   广州   天津  1608.0  422.0  广州-天津3天2晚 | 入住天津逸海明珠大酒店 + 奥凯航空/海南航空往返机票   \n",
       "\n",
       "                        酒店                          房间         去程航司 去程方式  \\\n",
       "0   北海祥丰嘉年华大酒店 舒适型 4.7分/5分       标准双人间(双床) 双床 不含早 1间2晚  春秋航空 9C8741   直飞   \n",
       "1  7天酒店丽江古城中心店 经济型 4.0分/5分  经济房-不含早-限时特... 其他 不含早 1间2晚  成都航空 EU2237   直飞   \n",
       "2       沈阳中煤宾馆 舒适型 4.5分/5分          大床间(内宾) 大床 双早 1间2晚  南方航空 CZ6384   直飞   \n",
       "3      红原芸谊大酒店 舒适型 4.6分/5分        豪华双床房[双早] 双床 双早 1间2晚  成都航空 EU6678   直飞   \n",
       "4    天津逸海明珠大酒店 高档型 4.1分/5分       豪华双床房(预付) 双床 不含早 1间2晚  奥凯航空 BK2787   直飞   \n",
       "\n",
       "          去程时间         回程航司 回程方式          回程时间 酒店评分 酒店等级 天数  \n",
       "0  17:10-21:50  春秋航空 9C8742    直飞  10:20-15:05  4.7  舒适型  3  \n",
       "1  19:45-21:20  成都航空 EU2738    直飞  23:30-01:05  4.0  经济型  3  \n",
       "2  08:05-11:45  深圳航空 ZH9652    经停  08:20-13:05  4.5  舒适型  3  \n",
       "3  21:55-01:15  成都航空 EU6677    直飞  17:45-20:35  4.6  舒适型  3  \n",
       "4  06:55-10:00  海南航空 HU7201    直飞  20:15-23:25  4.1  高档型  3  "
      ]
     },
     "execution_count": 12,
     "metadata": {},
     "output_type": "execute_result"
    }
   ],
   "source": [
    "# 提取天数\n",
    "df['天数'] = df['路线名'].str.extract('(\\d)天\\d晚') \n",
    "df.head()"
   ]
  },
  {
   "cell_type": "markdown",
   "id": "considered-story",
   "metadata": {},
   "source": [
    "### 租房数据提取（练习）"
   ]
  },
  {
   "cell_type": "code",
   "execution_count": 13,
   "id": "running-rotation",
   "metadata": {
    "scrolled": true
   },
   "outputs": [
    {
     "data": {
      "text/html": [
       "<div>\n",
       "<style scoped>\n",
       "    .dataframe tbody tr th:only-of-type {\n",
       "        vertical-align: middle;\n",
       "    }\n",
       "\n",
       "    .dataframe tbody tr th {\n",
       "        vertical-align: top;\n",
       "    }\n",
       "\n",
       "    .dataframe thead th {\n",
       "        text-align: right;\n",
       "    }\n",
       "</style>\n",
       "<table border=\"1\" class=\"dataframe\">\n",
       "  <thead>\n",
       "    <tr style=\"text-align: right;\">\n",
       "      <th></th>\n",
       "      <th>_id</th>\n",
       "      <th>bathroom_num</th>\n",
       "      <th>bedroom_num</th>\n",
       "      <th>bizcircle_name</th>\n",
       "      <th>city</th>\n",
       "      <th>dist</th>\n",
       "      <th>distance</th>\n",
       "      <th>frame_orientation</th>\n",
       "      <th>hall_num</th>\n",
       "      <th>house_tag</th>\n",
       "      <th>house_title</th>\n",
       "      <th>rent_area</th>\n",
       "      <th>rent_price_listing</th>\n",
       "      <th>rent_price_unit</th>\n",
       "      <th>resblock_name</th>\n",
       "      <th>type</th>\n",
       "    </tr>\n",
       "  </thead>\n",
       "  <tbody>\n",
       "    <tr>\n",
       "      <th>0</th>\n",
       "      <td>5c7145a5397be4c5251a4873</td>\n",
       "      <td>1</td>\n",
       "      <td>2</td>\n",
       "      <td>西罗园</td>\n",
       "      <td>北京</td>\n",
       "      <td>丰台</td>\n",
       "      <td>1101.0</td>\n",
       "      <td>西南</td>\n",
       "      <td>1</td>\n",
       "      <td>近地铁 集中供暖</td>\n",
       "      <td>整租 · 南三环边木樨园桥西宝汇苑带车位西南向两居室！https://m.lianjia.c...</td>\n",
       "      <td>72</td>\n",
       "      <td>6000</td>\n",
       "      <td>元/月</td>\n",
       "      <td>宝汇苑</td>\n",
       "      <td>整租</td>\n",
       "    </tr>\n",
       "    <tr>\n",
       "      <th>1</th>\n",
       "      <td>5c714bb4397be4c5251a65c3</td>\n",
       "      <td>2</td>\n",
       "      <td>3</td>\n",
       "      <td>通州北苑</td>\n",
       "      <td>北京</td>\n",
       "      <td>朝阳</td>\n",
       "      <td>132.0</td>\n",
       "      <td>东南</td>\n",
       "      <td>2</td>\n",
       "      <td>近地铁 集中供暖</td>\n",
       "      <td>天时名苑 3室2厅 11000元https://m.lianjia.com/chuzu/bj...</td>\n",
       "      <td>153</td>\n",
       "      <td>11000</td>\n",
       "      <td>元/月</td>\n",
       "      <td>天时名苑</td>\n",
       "      <td>整租</td>\n",
       "    </tr>\n",
       "    <tr>\n",
       "      <th>2</th>\n",
       "      <td>5c72b1e9397be4c5251e36fd</td>\n",
       "      <td>2</td>\n",
       "      <td>3</td>\n",
       "      <td>朝阳公园</td>\n",
       "      <td>北京</td>\n",
       "      <td>朝阳</td>\n",
       "      <td>296.0</td>\n",
       "      <td>东北</td>\n",
       "      <td>2</td>\n",
       "      <td>近地铁 精装 双卫生间</td>\n",
       "      <td>整租 · 丽水嘉园 3室2厅 16300元https://m.lianjia.com/chu...</td>\n",
       "      <td>133</td>\n",
       "      <td>16300</td>\n",
       "      <td>元/月</td>\n",
       "      <td>丽水嘉园</td>\n",
       "      <td>整租</td>\n",
       "    </tr>\n",
       "    <tr>\n",
       "      <th>3</th>\n",
       "      <td>5c712d6c397be4c5251a015f</td>\n",
       "      <td>1</td>\n",
       "      <td>2</td>\n",
       "      <td>六铺炕</td>\n",
       "      <td>北京</td>\n",
       "      <td>西城</td>\n",
       "      <td>1177.0</td>\n",
       "      <td>南 北</td>\n",
       "      <td>1</td>\n",
       "      <td>精装 集中供暖 随时看房</td>\n",
       "      <td>整租 · 黄寺大街24号院精装修两居室 南北通透 中间楼层https://m.lianjia...</td>\n",
       "      <td>60</td>\n",
       "      <td>8500</td>\n",
       "      <td>元/月</td>\n",
       "      <td>黄寺大街24号院</td>\n",
       "      <td>整租</td>\n",
       "    </tr>\n",
       "    <tr>\n",
       "      <th>4</th>\n",
       "      <td>5c714974397be4c5251a5afb</td>\n",
       "      <td>1</td>\n",
       "      <td>2</td>\n",
       "      <td>科技园区</td>\n",
       "      <td>北京</td>\n",
       "      <td>丰台</td>\n",
       "      <td>993.0</td>\n",
       "      <td>南 北</td>\n",
       "      <td>1</td>\n",
       "      <td>近地铁 精装 集中供暖</td>\n",
       "      <td>整租 · 京投银泰万科西华府 2室1厅 7300元https://m.lianjia.com...</td>\n",
       "      <td>83</td>\n",
       "      <td>7300</td>\n",
       "      <td>元/月</td>\n",
       "      <td>京投银泰万科西华府</td>\n",
       "      <td>整租</td>\n",
       "    </tr>\n",
       "  </tbody>\n",
       "</table>\n",
       "</div>"
      ],
      "text/plain": [
       "                        _id  bathroom_num  bedroom_num bizcircle_name city  \\\n",
       "0  5c7145a5397be4c5251a4873             1            2            西罗园   北京   \n",
       "1  5c714bb4397be4c5251a65c3             2            3           通州北苑   北京   \n",
       "2  5c72b1e9397be4c5251e36fd             2            3           朝阳公园   北京   \n",
       "3  5c712d6c397be4c5251a015f             1            2            六铺炕   北京   \n",
       "4  5c714974397be4c5251a5afb             1            2           科技园区   北京   \n",
       "\n",
       "  dist  distance frame_orientation  hall_num     house_tag  \\\n",
       "0   丰台    1101.0                西南         1      近地铁 集中供暖   \n",
       "1   朝阳     132.0                东南         2      近地铁 集中供暖   \n",
       "2   朝阳     296.0                东北         2   近地铁 精装 双卫生间   \n",
       "3   西城    1177.0               南 北         1  精装 集中供暖 随时看房   \n",
       "4   丰台     993.0               南 北         1   近地铁 精装 集中供暖   \n",
       "\n",
       "                                         house_title rent_area  \\\n",
       "0  整租 · 南三环边木樨园桥西宝汇苑带车位西南向两居室！https://m.lianjia.c...        72   \n",
       "1  天时名苑 3室2厅 11000元https://m.lianjia.com/chuzu/bj...       153   \n",
       "2  整租 · 丽水嘉园 3室2厅 16300元https://m.lianjia.com/chu...       133   \n",
       "3  整租 · 黄寺大街24号院精装修两居室 南北通透 中间楼层https://m.lianjia...        60   \n",
       "4  整租 · 京投银泰万科西华府 2室1厅 7300元https://m.lianjia.com...        83   \n",
       "\n",
       "  rent_price_listing rent_price_unit resblock_name type  \n",
       "0               6000             元/月           宝汇苑   整租  \n",
       "1              11000             元/月          天时名苑   整租  \n",
       "2              16300             元/月          丽水嘉园   整租  \n",
       "3               8500             元/月      黄寺大街24号院   整租  \n",
       "4               7300             元/月     京投银泰万科西华府   整租  "
      ]
     },
     "execution_count": 13,
     "metadata": {},
     "output_type": "execute_result"
    }
   ],
   "source": [
    "rent = pd.read_csv('租房.csv')\n",
    "rent.head()"
   ]
  },
  {
   "cell_type": "code",
   "execution_count": 14,
   "id": "devoted-surveillance",
   "metadata": {},
   "outputs": [],
   "source": [
    "# 使用正则表达式获取网址\n",
    "# 补充extract 内容\n",
    "# rent['url'] = rent['house_title'].str.extract()"
   ]
  },
  {
   "cell_type": "code",
   "execution_count": 23,
   "id": "domestic-charity",
   "metadata": {},
   "outputs": [],
   "source": [
    "# 拼接几室几厅几卫\n",
    "# bathroom_num 卫 bedroom_num 室 hall_num 厅\n",
    "def str_concat(a,b,c):\n",
    "    return str(a) + '室' + str(b) + '厅' + str(c) + '卫'\n",
    "# 使用apply,补充lambda函数\n",
    "# 注意： 要 使用 axis = 1 来限定apply方向为纵轴\n",
    "# rent['户型'] = rent.apply(lambda x: )"
   ]
  },
  {
   "cell_type": "markdown",
   "id": "reasonable-runner",
   "metadata": {},
   "source": [
    "### 评论数据实战（练习）"
   ]
  },
  {
   "cell_type": "code",
   "execution_count": 26,
   "id": "automated-fraud",
   "metadata": {},
   "outputs": [
    {
     "data": {
      "text/html": [
       "<div>\n",
       "<style scoped>\n",
       "    .dataframe tbody tr th:only-of-type {\n",
       "        vertical-align: middle;\n",
       "    }\n",
       "\n",
       "    .dataframe tbody tr th {\n",
       "        vertical-align: top;\n",
       "    }\n",
       "\n",
       "    .dataframe thead th {\n",
       "        text-align: right;\n",
       "    }\n",
       "</style>\n",
       "<table border=\"1\" class=\"dataframe\">\n",
       "  <thead>\n",
       "    <tr style=\"text-align: right;\">\n",
       "      <th></th>\n",
       "      <th>content</th>\n",
       "      <th>creationTime</th>\n",
       "      <th>nickname</th>\n",
       "      <th>referenceName</th>\n",
       "      <th>content_type</th>\n",
       "    </tr>\n",
       "  </thead>\n",
       "  <tbody>\n",
       "    <tr>\n",
       "      <th>0</th>\n",
       "      <td>东西收到这么久，都忘了去好评，美的大品牌，值得信赖，东西整体来看，个人感觉还不错，没有出现什...</td>\n",
       "      <td>2017-04-17 13:01:54</td>\n",
       "      <td>鑫***辰</td>\n",
       "      <td>美的（Midea）60升预约洗浴 无线遥控 电热水器 F60-15WB5(Y)</td>\n",
       "      <td>pos</td>\n",
       "    </tr>\n",
       "    <tr>\n",
       "      <th>1</th>\n",
       "      <td>安装师傅很给力，热水器也好用，感谢美的。</td>\n",
       "      <td>2017-04-17 10:45:33</td>\n",
       "      <td>切***药</td>\n",
       "      <td>美的（Midea）60升预约洗浴 无线遥控 电热水器 F60-15WB5(Y)</td>\n",
       "      <td>pos</td>\n",
       "    </tr>\n",
       "    <tr>\n",
       "      <th>2</th>\n",
       "      <td>还没安装，基本满意</td>\n",
       "      <td>2017-04-17 10:58:33</td>\n",
       "      <td>j***x</td>\n",
       "      <td>美的（Midea）60升预约洗浴 无线遥控 电热水器 F60-15WB5(Y)</td>\n",
       "      <td>pos</td>\n",
       "    </tr>\n",
       "    <tr>\n",
       "      <th>3</th>\n",
       "      <td>电热水器收到了，京东自营商品就是好，发货速度快，品质有保障，安装效果好，宝贝非常喜欢，冬天可...</td>\n",
       "      <td>2017-10-18 20:22:33</td>\n",
       "      <td>j***2</td>\n",
       "      <td>美的（Midea）60升预约洗浴 无线遥控 电热水器 F60-15WB5(Y)</td>\n",
       "      <td>pos</td>\n",
       "    </tr>\n",
       "    <tr>\n",
       "      <th>4</th>\n",
       "      <td>用了几次才来评价，对产品非常满意，加热快保温时间长，售后服务特别好，主动打电话询问送货情况帮...</td>\n",
       "      <td>2017-04-17 09:19:16</td>\n",
       "      <td>j***6</td>\n",
       "      <td>美的（Midea）60升预约洗浴 无线遥控 电热水器 F60-15WB5(Y)</td>\n",
       "      <td>pos</td>\n",
       "    </tr>\n",
       "  </tbody>\n",
       "</table>\n",
       "</div>"
      ],
      "text/plain": [
       "                                             content         creationTime  \\\n",
       "0  东西收到这么久，都忘了去好评，美的大品牌，值得信赖，东西整体来看，个人感觉还不错，没有出现什...  2017-04-17 13:01:54   \n",
       "1                               安装师傅很给力，热水器也好用，感谢美的。  2017-04-17 10:45:33   \n",
       "2                                          还没安装，基本满意  2017-04-17 10:58:33   \n",
       "3  电热水器收到了，京东自营商品就是好，发货速度快，品质有保障，安装效果好，宝贝非常喜欢，冬天可...  2017-10-18 20:22:33   \n",
       "4  用了几次才来评价，对产品非常满意，加热快保温时间长，售后服务特别好，主动打电话询问送货情况帮...  2017-04-17 09:19:16   \n",
       "\n",
       "  nickname                            referenceName content_type  \n",
       "0    鑫***辰  美的（Midea）60升预约洗浴 无线遥控 电热水器 F60-15WB5(Y)          pos  \n",
       "1    切***药  美的（Midea）60升预约洗浴 无线遥控 电热水器 F60-15WB5(Y)          pos  \n",
       "2    j***x  美的（Midea）60升预约洗浴 无线遥控 电热水器 F60-15WB5(Y)          pos  \n",
       "3    j***2  美的（Midea）60升预约洗浴 无线遥控 电热水器 F60-15WB5(Y)          pos  \n",
       "4    j***6  美的（Midea）60升预约洗浴 无线遥控 电热水器 F60-15WB5(Y)          pos  "
      ]
     },
     "execution_count": 26,
     "metadata": {},
     "output_type": "execute_result"
    }
   ],
   "source": [
    "comment = pd.read_csv('评论.csv')\n",
    "comment.head()"
   ]
  },
  {
   "cell_type": "code",
   "execution_count": 29,
   "id": "medical-trinidad",
   "metadata": {},
   "outputs": [],
   "source": [
    "# 分析用户活跃时间段\n",
    "# 将creationTime 中的小时提取出来\n",
    "# 补充 extract 信息\n",
    "# comment['hour'] = comment['creationTime'].str.extract()"
   ]
  },
  {
   "cell_type": "code",
   "execution_count": 39,
   "id": "inside-supervision",
   "metadata": {},
   "outputs": [
    {
     "data": {
      "text/plain": [
       "array(['00', '01', '02', '03', '04', '05', '06', '07', '08', '09', '10',\n",
       "       '11', '12', '13', '14', '15', '16', '17', '18', '19', '20', '21',\n",
       "       '22', '23'], dtype=object)"
      ]
     },
     "execution_count": 39,
     "metadata": {},
     "output_type": "execute_result"
    }
   ],
   "source": [
    "# 查看有多少个小时的数据\n",
    "a = np.sort(comment['hour'].unique())\n",
    "a"
   ]
  },
  {
   "cell_type": "code",
   "execution_count": 57,
   "id": "interstate-manchester",
   "metadata": {},
   "outputs": [
    {
     "data": {
      "image/png": "[encoded data removed]",
      "text/plain": [
       "<Figure size 1440x360 with 1 Axes>"
      ]
     },
     "metadata": {
      "needs_background": "light"
     },
     "output_type": "display_data"
    }
   ],
   "source": [
    "# 解决中文显示问题\n",
    "font = {'family':'Arial Unicode MS','size' :15}\n",
    "plt.rc('font',**font)\n",
    "\n",
    "# 使用 grouby 和 count 来统计 每个小时有多少评论\n",
    "\n",
    "# 柱状图绘制，关注哪个时间段更活跃\n",
    "\n",
    "plt.figure(figsize = (20,5))\n",
    "# 补充 bar\n",
    "#plt.bar()\n",
    "plt.title('用户评论活跃时间段')\n",
    "gca = plt.gca()\n",
    "gca.spines['right'].set_color('none')\n",
    "gca.spines['top'].set_color('none')\n",
    "plt.show()"
   ]
  },
  {
   "cell_type": "code",
   "execution_count": 87,
   "id": "afraid-installation",
   "metadata": {},
   "outputs": [
    {
     "name": "stdout",
     "output_type": "stream",
     "text": [
      "Requirement already satisfied: jieba in /Users/haoyuexu/opt/anaconda3/lib/python3.8/site-packages (0.42.1)\n",
      "Collecting wordcloud\n",
      "  Downloading wordcloud-1.8.1.tar.gz (220 kB)\n",
      "\u001b[K     |████████████████████████████████| 220 kB 1.1 MB/s eta 0:00:01\n",
      "\u001b[?25hRequirement already satisfied: numpy>=1.6.1 in /Users/haoyuexu/opt/anaconda3/lib/python3.8/site-packages (from wordcloud) (1.19.2)\n",
      "Requirement already satisfied: pillow in /Users/haoyuexu/opt/anaconda3/lib/python3.8/site-packages (from wordcloud) (8.1.2)\n",
      "Requirement already satisfied: matplotlib in /Users/haoyuexu/opt/anaconda3/lib/python3.8/site-packages (from wordcloud) (3.3.4)\n",
      "Requirement already satisfied: kiwisolver>=1.0.1 in /Users/haoyuexu/opt/anaconda3/lib/python3.8/site-packages (from matplotlib->wordcloud) (1.3.1)\n",
      "Requirement already satisfied: python-dateutil>=2.1 in /Users/haoyuexu/opt/anaconda3/lib/python3.8/site-packages (from matplotlib->wordcloud) (2.8.1)\n",
      "Requirement already satisfied: pyparsing!=2.0.4,!=2.1.2,!=2.1.6,>=2.0.3 in /Users/haoyuexu/opt/anaconda3/lib/python3.8/site-packages (from matplotlib->wordcloud) (2.4.7)\n",
      "Requirement already satisfied: cycler>=0.10 in /Users/haoyuexu/opt/anaconda3/lib/python3.8/site-packages (from matplotlib->wordcloud) (0.10.0)\n",
      "Requirement already satisfied: six in /Users/haoyuexu/opt/anaconda3/lib/python3.8/site-packages (from cycler>=0.10->matplotlib->wordcloud) (1.15.0)\n",
      "Building wheels for collected packages: wordcloud\n",
      "  Building wheel for wordcloud (setup.py) ... \u001b[?25ldone\n",
      "\u001b[?25h  Created wheel for wordcloud: filename=wordcloud-1.8.1-cp38-cp38-macosx_10_9_x86_64.whl size=158428 sha256=79c34c148f7e12f79a333c1336cfac83ef303b326938cc392e79d9953a20f903\n",
      "  Stored in directory: /Users/haoyuexu/Library/Caches/pip/wheels/4d/3f/0d/a2ba9b7895c9f1be89018b3141c3df3d4f9c786c882ccfbc3b\n",
      "Successfully built wordcloud\n",
      "Installing collected packages: wordcloud\n",
      "Successfully installed wordcloud-1.8.1\n"
     ]
    }
   ],
   "source": [
    "# 词云图生成\n",
    "!pip install jieba\n",
    "!pip install wordcloud"
   ]
  },
  {
   "cell_type": "code",
   "execution_count": 65,
   "id": "skilled-palmer",
   "metadata": {},
   "outputs": [
    {
     "data": {
      "text/plain": [
       "'我~爱~学习~，~学习~爱~我~，~我们~都~是~爱~学习~的~好孩子'"
      ]
     },
     "execution_count": 65,
     "metadata": {},
     "output_type": "execute_result"
    }
   ],
   "source": [
    "# 把句子变为词\n",
    "import jieba\n",
    "my = '我爱学习，学习爱我，我们都是爱学习的好孩子'\n",
    "# 全模式\n",
    "s = jieba.cut(my, cut_all = False)\n",
    "# 精确模式\n",
    "d = jieba.cut(my, cut_all = True)\n",
    "r = '~'.join(s)\n",
    "k = '~'.join(d)\n",
    "r\n",
    "#k "
   ]
  },
  {
   "cell_type": "code",
   "execution_count": 68,
   "id": "removed-empire",
   "metadata": {},
   "outputs": [
    {
     "data": {
      "text/plain": [
       "['我',\n",
       " '爱',\n",
       " '学习',\n",
       " '，',\n",
       " '学习',\n",
       " '爱',\n",
       " '我',\n",
       " '，',\n",
       " '我们',\n",
       " '都',\n",
       " '是',\n",
       " '爱',\n",
       " '学习',\n",
       " '的',\n",
       " '好孩子']"
      ]
     },
     "execution_count": 68,
     "metadata": {},
     "output_type": "execute_result"
    }
   ],
   "source": [
    "s = jieba.lcut(my)\n",
    "s"
   ]
  },
  {
   "cell_type": "code",
   "execution_count": 97,
   "id": "polish-jungle",
   "metadata": {},
   "outputs": [
    {
     "data": {
      "text/plain": [
       "0       东西收到这么久，都忘了去好评，美的大品牌，值得信赖，东西整体来看，个人感觉还不错，没有出现什...\n",
       "1                                    安装师傅很给力，热水器也好用，感谢美的。\n",
       "2                                               还没安装，基本满意\n",
       "3       电热水器收到了，京东自营商品就是好，发货速度快，品质有保障，安装效果好，宝贝非常喜欢，冬天可...\n",
       "4       用了几次才来评价，对产品非常满意，加热快保温时间长，售后服务特别好，主动打电话询问送货情况帮...\n",
       "                              ...                        \n",
       "1995                                  差评，差的一塌糊涂，千万别买，上当了，\n",
       "1996    热水器还没有安装，就搞一肚子气，安装人员今天推明天，明天推后天，售后安装服务太差，给差评，目...\n",
       "1997                                          好不容易网购一下还漏电\n",
       "1998                             东西送的挺快，后期报装2天还没人联系我，售后太差\n",
       "1999                                 买了两个，送到一个，还有一个至今未送到。\n",
       "Name: content, Length: 2000, dtype: object"
      ]
     },
     "execution_count": 97,
     "metadata": {},
     "output_type": "execute_result"
    }
   ],
   "source": [
    "# 从评论中获取词云\n",
    "recommended = comment['content']\n",
    "recommended"
   ]
  },
  {
   "cell_type": "code",
   "execution_count": 103,
   "id": "boolean-figure",
   "metadata": {},
   "outputs": [],
   "source": [
    "text = ''\n",
    "for r in recommended:\n",
    "    ## 去掉无用的词，停用词\n",
    "    if r == \" \":\n",
    "        continue\n",
    "    text += r # 把所有recommended内容都合在一起放入 text中\n",
    "# print(text)\n",
    "# 下面绘制词云图，需要用到一个字符串，里面包含很多词，词与词之间使用空格进行分割\n",
    "\n",
    "# 把 ”的“ ”了“ 从list 里删除\n",
    "text_list = jieba.lcut(text)\n",
    "for i in text_list:\n",
    "    if i == \"的\":\n",
    "        text_list.remove(i)\n",
    "    if i == \"了\":\n",
    "        text_list.remove(i)\n",
    "        \n",
    "data_cut = \" \".join(text_list)\n",
    "\n",
    "    "
   ]
  },
  {
   "cell_type": "code",
   "execution_count": 104,
   "id": "distant-multiple",
   "metadata": {},
   "outputs": [
    {
     "data": {
      "image/png": "[encoded data removed]",
      "text/plain": [
       "<PIL.PngImagePlugin.PngImageFile image mode=RGB size=400x200 at 0x7FFD3D74F310>"
      ]
     },
     "metadata": {},
     "output_type": "display_data"
    }
   ],
   "source": [
    "# 绘制词云图\n",
    "from wordcloud import WordCloud\n",
    "# 解决文字显示问题\n",
    "# 声明一个变量用来存储本地字体的路径，你可以上网搜索，windows/mac字体存储路径\n",
    "# windows 可能为 C：\\Windows\\Fonts\n",
    "# 这里是mac的存储路径\n",
    "font = '/System/Library/Fonts/Supplemental/Songti.ttc'\n",
    "\n",
    "\n",
    "\n",
    "# 生成词云图\n",
    "w = WordCloud(font_path = font)\n",
    "w.generate(data_cut)\n",
    "\n",
    "# 把这个词云图写在一个图片里\n",
    "image = w.to_file('comment.png')\n",
    "# 显示这个图片\n",
    "from PIL import Image\n",
    "display(Image.open('comment.png'))"
   ]
  },
  {
   "cell_type": "markdown",
   "id": "advised-merchant",
   "metadata": {},
   "source": [
    "### 租房数据提取（答案）"
   ]
  },
  {
   "cell_type": "code",
   "execution_count": 16,
   "id": "technological-operation",
   "metadata": {},
   "outputs": [
    {
     "data": {
      "text/plain": [
       "0       https://m.lianjia.com/chuzu/bj/zufang/BJ218966...\n",
       "1       https://m.lianjia.com/chuzu/bj/zufang/BJ219100...\n",
       "2       https://m.lianjia.com/chuzu/bj/zufang/BJ217730...\n",
       "3       https://m.lianjia.com/chuzu/bj/zufang/BJ211269...\n",
       "4       https://m.lianjia.com/chuzu/bj/zufang/BJ212014...\n",
       "                              ...                        \n",
       "8404    https://m.lianjia.com/chuzu/gz/zufang/GZ209759...\n",
       "8405    https://m.lianjia.com/chuzu/gz/apartment/layou...\n",
       "8406    https://m.lianjia.com/chuzu/gz/zufang/GZ216267...\n",
       "8407    https://m.lianjia.com/chuzu/gz/apartment/layou...\n",
       "8408    https://m.lianjia.com/chuzu/gz/zufang/GZ202798...\n",
       "Name: url, Length: 8409, dtype: object"
      ]
     },
     "execution_count": 16,
     "metadata": {},
     "output_type": "execute_result"
    }
   ],
   "source": [
    "# 使用正则表达式获取网址\n",
    "rent['url'] = rent['house_title'].str.extract('(https://.*)')\n",
    "rent['url']"
   ]
  },
  {
   "cell_type": "code",
   "execution_count": 20,
   "id": "revolutionary-impression",
   "metadata": {},
   "outputs": [
    {
     "data": {
      "text/html": [
       "<div>\n",
       "<style scoped>\n",
       "    .dataframe tbody tr th:only-of-type {\n",
       "        vertical-align: middle;\n",
       "    }\n",
       "\n",
       "    .dataframe tbody tr th {\n",
       "        vertical-align: top;\n",
       "    }\n",
       "\n",
       "    .dataframe thead th {\n",
       "        text-align: right;\n",
       "    }\n",
       "</style>\n",
       "<table border=\"1\" class=\"dataframe\">\n",
       "  <thead>\n",
       "    <tr style=\"text-align: right;\">\n",
       "      <th></th>\n",
       "      <th>_id</th>\n",
       "      <th>bathroom_num</th>\n",
       "      <th>bedroom_num</th>\n",
       "      <th>bizcircle_name</th>\n",
       "      <th>city</th>\n",
       "      <th>dist</th>\n",
       "      <th>distance</th>\n",
       "      <th>frame_orientation</th>\n",
       "      <th>hall_num</th>\n",
       "      <th>house_tag</th>\n",
       "      <th>house_title</th>\n",
       "      <th>rent_area</th>\n",
       "      <th>rent_price_listing</th>\n",
       "      <th>rent_price_unit</th>\n",
       "      <th>resblock_name</th>\n",
       "      <th>type</th>\n",
       "      <th>url</th>\n",
       "      <th>户型</th>\n",
       "    </tr>\n",
       "  </thead>\n",
       "  <tbody>\n",
       "    <tr>\n",
       "      <th>0</th>\n",
       "      <td>5c7145a5397be4c5251a4873</td>\n",
       "      <td>1</td>\n",
       "      <td>2</td>\n",
       "      <td>西罗园</td>\n",
       "      <td>北京</td>\n",
       "      <td>丰台</td>\n",
       "      <td>1101.0</td>\n",
       "      <td>西南</td>\n",
       "      <td>1</td>\n",
       "      <td>近地铁 集中供暖</td>\n",
       "      <td>整租 · 南三环边木樨园桥西宝汇苑带车位西南向两居室！https://m.lianjia.c...</td>\n",
       "      <td>72</td>\n",
       "      <td>6000</td>\n",
       "      <td>元/月</td>\n",
       "      <td>宝汇苑</td>\n",
       "      <td>整租</td>\n",
       "      <td>https://m.lianjia.com/chuzu/bj/zufang/BJ218966...</td>\n",
       "      <td>2室1厅1卫</td>\n",
       "    </tr>\n",
       "    <tr>\n",
       "      <th>1</th>\n",
       "      <td>5c714bb4397be4c5251a65c3</td>\n",
       "      <td>2</td>\n",
       "      <td>3</td>\n",
       "      <td>通州北苑</td>\n",
       "      <td>北京</td>\n",
       "      <td>朝阳</td>\n",
       "      <td>132.0</td>\n",
       "      <td>东南</td>\n",
       "      <td>2</td>\n",
       "      <td>近地铁 集中供暖</td>\n",
       "      <td>天时名苑 3室2厅 11000元https://m.lianjia.com/chuzu/bj...</td>\n",
       "      <td>153</td>\n",
       "      <td>11000</td>\n",
       "      <td>元/月</td>\n",
       "      <td>天时名苑</td>\n",
       "      <td>整租</td>\n",
       "      <td>https://m.lianjia.com/chuzu/bj/zufang/BJ219100...</td>\n",
       "      <td>3室2厅2卫</td>\n",
       "    </tr>\n",
       "    <tr>\n",
       "      <th>2</th>\n",
       "      <td>5c72b1e9397be4c5251e36fd</td>\n",
       "      <td>2</td>\n",
       "      <td>3</td>\n",
       "      <td>朝阳公园</td>\n",
       "      <td>北京</td>\n",
       "      <td>朝阳</td>\n",
       "      <td>296.0</td>\n",
       "      <td>东北</td>\n",
       "      <td>2</td>\n",
       "      <td>近地铁 精装 双卫生间</td>\n",
       "      <td>整租 · 丽水嘉园 3室2厅 16300元https://m.lianjia.com/chu...</td>\n",
       "      <td>133</td>\n",
       "      <td>16300</td>\n",
       "      <td>元/月</td>\n",
       "      <td>丽水嘉园</td>\n",
       "      <td>整租</td>\n",
       "      <td>https://m.lianjia.com/chuzu/bj/zufang/BJ217730...</td>\n",
       "      <td>3室2厅2卫</td>\n",
       "    </tr>\n",
       "    <tr>\n",
       "      <th>3</th>\n",
       "      <td>5c712d6c397be4c5251a015f</td>\n",
       "      <td>1</td>\n",
       "      <td>2</td>\n",
       "      <td>六铺炕</td>\n",
       "      <td>北京</td>\n",
       "      <td>西城</td>\n",
       "      <td>1177.0</td>\n",
       "      <td>南 北</td>\n",
       "      <td>1</td>\n",
       "      <td>精装 集中供暖 随时看房</td>\n",
       "      <td>整租 · 黄寺大街24号院精装修两居室 南北通透 中间楼层https://m.lianjia...</td>\n",
       "      <td>60</td>\n",
       "      <td>8500</td>\n",
       "      <td>元/月</td>\n",
       "      <td>黄寺大街24号院</td>\n",
       "      <td>整租</td>\n",
       "      <td>https://m.lianjia.com/chuzu/bj/zufang/BJ211269...</td>\n",
       "      <td>2室1厅1卫</td>\n",
       "    </tr>\n",
       "    <tr>\n",
       "      <th>4</th>\n",
       "      <td>5c714974397be4c5251a5afb</td>\n",
       "      <td>1</td>\n",
       "      <td>2</td>\n",
       "      <td>科技园区</td>\n",
       "      <td>北京</td>\n",
       "      <td>丰台</td>\n",
       "      <td>993.0</td>\n",
       "      <td>南 北</td>\n",
       "      <td>1</td>\n",
       "      <td>近地铁 精装 集中供暖</td>\n",
       "      <td>整租 · 京投银泰万科西华府 2室1厅 7300元https://m.lianjia.com...</td>\n",
       "      <td>83</td>\n",
       "      <td>7300</td>\n",
       "      <td>元/月</td>\n",
       "      <td>京投银泰万科西华府</td>\n",
       "      <td>整租</td>\n",
       "      <td>https://m.lianjia.com/chuzu/bj/zufang/BJ212014...</td>\n",
       "      <td>2室1厅1卫</td>\n",
       "    </tr>\n",
       "  </tbody>\n",
       "</table>\n",
       "</div>"
      ],
      "text/plain": [
       "                        _id  bathroom_num  bedroom_num bizcircle_name city  \\\n",
       "0  5c7145a5397be4c5251a4873             1            2            西罗园   北京   \n",
       "1  5c714bb4397be4c5251a65c3             2            3           通州北苑   北京   \n",
       "2  5c72b1e9397be4c5251e36fd             2            3           朝阳公园   北京   \n",
       "3  5c712d6c397be4c5251a015f             1            2            六铺炕   北京   \n",
       "4  5c714974397be4c5251a5afb             1            2           科技园区   北京   \n",
       "\n",
       "  dist  distance frame_orientation  hall_num     house_tag  \\\n",
       "0   丰台    1101.0                西南         1      近地铁 集中供暖   \n",
       "1   朝阳     132.0                东南         2      近地铁 集中供暖   \n",
       "2   朝阳     296.0                东北         2   近地铁 精装 双卫生间   \n",
       "3   西城    1177.0               南 北         1  精装 集中供暖 随时看房   \n",
       "4   丰台     993.0               南 北         1   近地铁 精装 集中供暖   \n",
       "\n",
       "                                         house_title rent_area  \\\n",
       "0  整租 · 南三环边木樨园桥西宝汇苑带车位西南向两居室！https://m.lianjia.c...        72   \n",
       "1  天时名苑 3室2厅 11000元https://m.lianjia.com/chuzu/bj...       153   \n",
       "2  整租 · 丽水嘉园 3室2厅 16300元https://m.lianjia.com/chu...       133   \n",
       "3  整租 · 黄寺大街24号院精装修两居室 南北通透 中间楼层https://m.lianjia...        60   \n",
       "4  整租 · 京投银泰万科西华府 2室1厅 7300元https://m.lianjia.com...        83   \n",
       "\n",
       "  rent_price_listing rent_price_unit resblock_name type  \\\n",
       "0               6000             元/月           宝汇苑   整租   \n",
       "1              11000             元/月          天时名苑   整租   \n",
       "2              16300             元/月          丽水嘉园   整租   \n",
       "3               8500             元/月      黄寺大街24号院   整租   \n",
       "4               7300             元/月     京投银泰万科西华府   整租   \n",
       "\n",
       "                                                 url      户型  \n",
       "0  https://m.lianjia.com/chuzu/bj/zufang/BJ218966...  2室1厅1卫  \n",
       "1  https://m.lianjia.com/chuzu/bj/zufang/BJ219100...  3室2厅2卫  \n",
       "2  https://m.lianjia.com/chuzu/bj/zufang/BJ217730...  3室2厅2卫  \n",
       "3  https://m.lianjia.com/chuzu/bj/zufang/BJ211269...  2室1厅1卫  \n",
       "4  https://m.lianjia.com/chuzu/bj/zufang/BJ212014...  2室1厅1卫  "
      ]
     },
     "execution_count": 20,
     "metadata": {},
     "output_type": "execute_result"
    }
   ],
   "source": [
    "# 拼接几室几厅几卫\n",
    "# bathroom_num 卫 bedroom_num 室 hall_num 厅\n",
    "def str_concat(a,b,c):\n",
    "    return str(a) + '室' + str(b) + '厅' + str(c) + '卫'\n",
    "rent['户型'] = rent.apply(lambda x: str_concat(x['bedroom_num'],x['hall_num'],x['bathroom_num']),axis = 1)\n",
    "rent.head()"
   ]
  },
  {
   "cell_type": "markdown",
   "id": "comparative-salad",
   "metadata": {},
   "source": [
    "### 评论数据实战（答案）"
   ]
  },
  {
   "cell_type": "code",
   "execution_count": 30,
   "id": "great-kingston",
   "metadata": {},
   "outputs": [
    {
     "data": {
      "text/html": [
       "<div>\n",
       "<style scoped>\n",
       "    .dataframe tbody tr th:only-of-type {\n",
       "        vertical-align: middle;\n",
       "    }\n",
       "\n",
       "    .dataframe tbody tr th {\n",
       "        vertical-align: top;\n",
       "    }\n",
       "\n",
       "    .dataframe thead th {\n",
       "        text-align: right;\n",
       "    }\n",
       "</style>\n",
       "<table border=\"1\" class=\"dataframe\">\n",
       "  <thead>\n",
       "    <tr style=\"text-align: right;\">\n",
       "      <th></th>\n",
       "      <th>content</th>\n",
       "      <th>creationTime</th>\n",
       "      <th>nickname</th>\n",
       "      <th>referenceName</th>\n",
       "      <th>content_type</th>\n",
       "    </tr>\n",
       "  </thead>\n",
       "  <tbody>\n",
       "    <tr>\n",
       "      <th>0</th>\n",
       "      <td>东西收到这么久，都忘了去好评，美的大品牌，值得信赖，东西整体来看，个人感觉还不错，没有出现什...</td>\n",
       "      <td>2017-04-17 13:01:54</td>\n",
       "      <td>鑫***辰</td>\n",
       "      <td>美的（Midea）60升预约洗浴 无线遥控 电热水器 F60-15WB5(Y)</td>\n",
       "      <td>pos</td>\n",
       "    </tr>\n",
       "    <tr>\n",
       "      <th>1</th>\n",
       "      <td>安装师傅很给力，热水器也好用，感谢美的。</td>\n",
       "      <td>2017-04-17 10:45:33</td>\n",
       "      <td>切***药</td>\n",
       "      <td>美的（Midea）60升预约洗浴 无线遥控 电热水器 F60-15WB5(Y)</td>\n",
       "      <td>pos</td>\n",
       "    </tr>\n",
       "    <tr>\n",
       "      <th>2</th>\n",
       "      <td>还没安装，基本满意</td>\n",
       "      <td>2017-04-17 10:58:33</td>\n",
       "      <td>j***x</td>\n",
       "      <td>美的（Midea）60升预约洗浴 无线遥控 电热水器 F60-15WB5(Y)</td>\n",
       "      <td>pos</td>\n",
       "    </tr>\n",
       "    <tr>\n",
       "      <th>3</th>\n",
       "      <td>电热水器收到了，京东自营商品就是好，发货速度快，品质有保障，安装效果好，宝贝非常喜欢，冬天可...</td>\n",
       "      <td>2017-10-18 20:22:33</td>\n",
       "      <td>j***2</td>\n",
       "      <td>美的（Midea）60升预约洗浴 无线遥控 电热水器 F60-15WB5(Y)</td>\n",
       "      <td>pos</td>\n",
       "    </tr>\n",
       "    <tr>\n",
       "      <th>4</th>\n",
       "      <td>用了几次才来评价，对产品非常满意，加热快保温时间长，售后服务特别好，主动打电话询问送货情况帮...</td>\n",
       "      <td>2017-04-17 09:19:16</td>\n",
       "      <td>j***6</td>\n",
       "      <td>美的（Midea）60升预约洗浴 无线遥控 电热水器 F60-15WB5(Y)</td>\n",
       "      <td>pos</td>\n",
       "    </tr>\n",
       "  </tbody>\n",
       "</table>\n",
       "</div>"
      ],
      "text/plain": [
       "                                             content         creationTime  \\\n",
       "0  东西收到这么久，都忘了去好评，美的大品牌，值得信赖，东西整体来看，个人感觉还不错，没有出现什...  2017-04-17 13:01:54   \n",
       "1                               安装师傅很给力，热水器也好用，感谢美的。  2017-04-17 10:45:33   \n",
       "2                                          还没安装，基本满意  2017-04-17 10:58:33   \n",
       "3  电热水器收到了，京东自营商品就是好，发货速度快，品质有保障，安装效果好，宝贝非常喜欢，冬天可...  2017-10-18 20:22:33   \n",
       "4  用了几次才来评价，对产品非常满意，加热快保温时间长，售后服务特别好，主动打电话询问送货情况帮...  2017-04-17 09:19:16   \n",
       "\n",
       "  nickname                            referenceName content_type  \n",
       "0    鑫***辰  美的（Midea）60升预约洗浴 无线遥控 电热水器 F60-15WB5(Y)          pos  \n",
       "1    切***药  美的（Midea）60升预约洗浴 无线遥控 电热水器 F60-15WB5(Y)          pos  \n",
       "2    j***x  美的（Midea）60升预约洗浴 无线遥控 电热水器 F60-15WB5(Y)          pos  \n",
       "3    j***2  美的（Midea）60升预约洗浴 无线遥控 电热水器 F60-15WB5(Y)          pos  \n",
       "4    j***6  美的（Midea）60升预约洗浴 无线遥控 电热水器 F60-15WB5(Y)          pos  "
      ]
     },
     "execution_count": 30,
     "metadata": {},
     "output_type": "execute_result"
    }
   ],
   "source": [
    "comment = pd.read_csv('评论.csv')\n",
    "comment.head()"
   ]
  },
  {
   "cell_type": "code",
   "execution_count": 36,
   "id": "recognized-ordinary",
   "metadata": {},
   "outputs": [
    {
     "data": {
      "text/html": [
       "<div>\n",
       "<style scoped>\n",
       "    .dataframe tbody tr th:only-of-type {\n",
       "        vertical-align: middle;\n",
       "    }\n",
       "\n",
       "    .dataframe tbody tr th {\n",
       "        vertical-align: top;\n",
       "    }\n",
       "\n",
       "    .dataframe thead th {\n",
       "        text-align: right;\n",
       "    }\n",
       "</style>\n",
       "<table border=\"1\" class=\"dataframe\">\n",
       "  <thead>\n",
       "    <tr style=\"text-align: right;\">\n",
       "      <th></th>\n",
       "      <th>content</th>\n",
       "      <th>creationTime</th>\n",
       "      <th>nickname</th>\n",
       "      <th>referenceName</th>\n",
       "      <th>content_type</th>\n",
       "      <th>hour</th>\n",
       "    </tr>\n",
       "  </thead>\n",
       "  <tbody>\n",
       "    <tr>\n",
       "      <th>0</th>\n",
       "      <td>东西收到这么久，都忘了去好评，美的大品牌，值得信赖，东西整体来看，个人感觉还不错，没有出现什...</td>\n",
       "      <td>2017-04-17 13:01:54</td>\n",
       "      <td>鑫***辰</td>\n",
       "      <td>美的（Midea）60升预约洗浴 无线遥控 电热水器 F60-15WB5(Y)</td>\n",
       "      <td>pos</td>\n",
       "      <td>13</td>\n",
       "    </tr>\n",
       "    <tr>\n",
       "      <th>1</th>\n",
       "      <td>安装师傅很给力，热水器也好用，感谢美的。</td>\n",
       "      <td>2017-04-17 10:45:33</td>\n",
       "      <td>切***药</td>\n",
       "      <td>美的（Midea）60升预约洗浴 无线遥控 电热水器 F60-15WB5(Y)</td>\n",
       "      <td>pos</td>\n",
       "      <td>10</td>\n",
       "    </tr>\n",
       "    <tr>\n",
       "      <th>2</th>\n",
       "      <td>还没安装，基本满意</td>\n",
       "      <td>2017-04-17 10:58:33</td>\n",
       "      <td>j***x</td>\n",
       "      <td>美的（Midea）60升预约洗浴 无线遥控 电热水器 F60-15WB5(Y)</td>\n",
       "      <td>pos</td>\n",
       "      <td>10</td>\n",
       "    </tr>\n",
       "    <tr>\n",
       "      <th>3</th>\n",
       "      <td>电热水器收到了，京东自营商品就是好，发货速度快，品质有保障，安装效果好，宝贝非常喜欢，冬天可...</td>\n",
       "      <td>2017-10-18 20:22:33</td>\n",
       "      <td>j***2</td>\n",
       "      <td>美的（Midea）60升预约洗浴 无线遥控 电热水器 F60-15WB5(Y)</td>\n",
       "      <td>pos</td>\n",
       "      <td>20</td>\n",
       "    </tr>\n",
       "    <tr>\n",
       "      <th>4</th>\n",
       "      <td>用了几次才来评价，对产品非常满意，加热快保温时间长，售后服务特别好，主动打电话询问送货情况帮...</td>\n",
       "      <td>2017-04-17 09:19:16</td>\n",
       "      <td>j***6</td>\n",
       "      <td>美的（Midea）60升预约洗浴 无线遥控 电热水器 F60-15WB5(Y)</td>\n",
       "      <td>pos</td>\n",
       "      <td>09</td>\n",
       "    </tr>\n",
       "  </tbody>\n",
       "</table>\n",
       "</div>"
      ],
      "text/plain": [
       "                                             content         creationTime  \\\n",
       "0  东西收到这么久，都忘了去好评，美的大品牌，值得信赖，东西整体来看，个人感觉还不错，没有出现什...  2017-04-17 13:01:54   \n",
       "1                               安装师傅很给力，热水器也好用，感谢美的。  2017-04-17 10:45:33   \n",
       "2                                          还没安装，基本满意  2017-04-17 10:58:33   \n",
       "3  电热水器收到了，京东自营商品就是好，发货速度快，品质有保障，安装效果好，宝贝非常喜欢，冬天可...  2017-10-18 20:22:33   \n",
       "4  用了几次才来评价，对产品非常满意，加热快保温时间长，售后服务特别好，主动打电话询问送货情况帮...  2017-04-17 09:19:16   \n",
       "\n",
       "  nickname                            referenceName content_type hour  \n",
       "0    鑫***辰  美的（Midea）60升预约洗浴 无线遥控 电热水器 F60-15WB5(Y)          pos   13  \n",
       "1    切***药  美的（Midea）60升预约洗浴 无线遥控 电热水器 F60-15WB5(Y)          pos   10  \n",
       "2    j***x  美的（Midea）60升预约洗浴 无线遥控 电热水器 F60-15WB5(Y)          pos   10  \n",
       "3    j***2  美的（Midea）60升预约洗浴 无线遥控 电热水器 F60-15WB5(Y)          pos   20  \n",
       "4    j***6  美的（Midea）60升预约洗浴 无线遥控 电热水器 F60-15WB5(Y)          pos   09  "
      ]
     },
     "execution_count": 36,
     "metadata": {},
     "output_type": "execute_result"
    }
   ],
   "source": [
    "# 分析用户活跃时间段\n",
    "comment['hour'] = comment['creationTime'].str.extract(' (\\d{2}):')\n",
    "comment.head()"
   ]
  },
  {
   "cell_type": "code",
   "execution_count": 37,
   "id": "crazy-geography",
   "metadata": {},
   "outputs": [
    {
     "data": {
      "text/plain": [
       "array(['00', '01', '02', '03', '04', '05', '06', '07', '08', '09', '10',\n",
       "       '11', '12', '13', '14', '15', '16', '17', '18', '19', '20', '21',\n",
       "       '22', '23'], dtype=object)"
      ]
     },
     "execution_count": 37,
     "metadata": {},
     "output_type": "execute_result"
    }
   ],
   "source": [
    "# 查看有多少个小时的数据\n",
    "a = np.sort(comment['hour'].unique())\n",
    "a"
   ]
  },
  {
   "cell_type": "code",
   "execution_count": 44,
   "id": "limited-schedule",
   "metadata": {},
   "outputs": [
    {
     "data": {
      "text/plain": [
       "hour\n",
       "00     35\n",
       "01     17\n",
       "02      5\n",
       "03      5\n",
       "04      5\n",
       "05      7\n",
       "06     17\n",
       "07     49\n",
       "08     83\n",
       "09    115\n",
       "10    149\n",
       "11    140\n",
       "12    108\n",
       "13    123\n",
       "14    125\n",
       "15    117\n",
       "16    121\n",
       "17    126\n",
       "18    112\n",
       "19    113\n",
       "20    132\n",
       "21    125\n",
       "22    103\n",
       "23     68\n",
       "Name: content, dtype: int64"
      ]
     },
     "execution_count": 44,
     "metadata": {},
     "output_type": "execute_result"
    }
   ],
   "source": [
    "# 柱状图绘制，关注哪个时间段更活跃\n",
    "height = comment.groupby('hour').count()['content']\n",
    "height"
   ]
  },
  {
   "cell_type": "code",
   "execution_count": 52,
   "id": "rolled-antenna",
   "metadata": {
    "scrolled": true
   },
   "outputs": [
    {
     "data": {
      "image/png": "[encoded data removed]",
      "text/plain": [
       "<Figure size 1440x360 with 1 Axes>"
      ]
     },
     "metadata": {
      "needs_background": "light"
     },
     "output_type": "display_data"
    }
   ],
   "source": [
    "font = {'family':'Arial Unicode MS','size':15}\n",
    "plt.rc('font',**font)\n",
    "\n",
    "plt.figure(figsize = (20,5))\n",
    "plt.bar(a,height = height)\n",
    "plt.title('用户评论活跃时间段')\n",
    "gca = plt.gca()\n",
    "gca.spines['right'].set_color('none')\n",
    "gca.spines['top'].set_color('none')\n",
    "plt.show()"
   ]
  },
  {
   "cell_type": "code",
   "execution_count": null,
   "id": "handmade-perspective",
   "metadata": {},
   "outputs": [],
   "source": []
  }
 ],
 "metadata": {
  "kernelspec": {
   "display_name": "Python 3",
   "language": "python",
   "name": "python3"
  },
  "language_info": {
   "codemirror_mode": {
    "name": "ipython",
    "version": 3
   },
   "file_extension": ".py",
   "mimetype": "text/x-python",
   "name": "python",
   "nbconvert_exporter": "python",
   "pygments_lexer": "ipython3",
   "version": "3.8.8"
  }
 },
 "nbformat": 4,
 "nbformat_minor": 5
}
