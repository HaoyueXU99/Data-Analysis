{
 "cells": [
  {
   "cell_type": "markdown",
   "metadata": {},
   "source": [
    "<h1>正则表达式</h1>\n",
    "<ol>\n",
    "    <li>\n",
    "        <a href=\"#正则的含义\">正则的含义</a>\n",
    "    </li>\n",
    "    <li>\n",
    "        <a href=\"#正则表达式的应用场景\">正则表达式的应用场景</a>\n",
    "    </li>\n",
    "    <li>\n",
    "        <a href=\"#元字符\">元字符</a>\n",
    "    </li>\n",
    "    <li>\n",
    "        <a href=\"#反义代码\">反义代码</a>\n",
    "    </li>\n",
    "    <li>\n",
    "        <a href=\"#限定符\">限定符</a>\n",
    "    </li>\n",
    "    <li>\n",
    "        <a href=\"#分组匹配\">分组匹配</a>\n",
    "    </li>\n",
    "    <li>\n",
    "        <a href=\"#贪婪与非贪婪\">贪婪与非贪婪</a>\n",
    "    </li>\n",
    "    <li>\n",
    "        <a href=\"#分支条件匹配\">分支条件匹配</a>\n",
    "    </li>\n",
    "    <li>\n",
    "        <a href=\"#零宽断言\">零宽断言</a>\n",
    "    </li>\n",
    "     <li>\n",
    "        <a href=\"#实例展示\">实例展示</a>\n",
    "    </li>\n",
    "</ol>"
   ]
  },
  {
   "cell_type": "markdown",
   "metadata": {},
   "source": [
    "## 正则的含义"
   ]
  },
  {
   "cell_type": "markdown",
   "metadata": {},
   "source": [
    "- 正则表达式是用来操作字符串的一种逻辑公式"
   ]
  },
  {
   "cell_type": "markdown",
   "metadata": {},
   "source": [
    "## 正则表达式的应用场景"
   ]
  },
  {
   "cell_type": "markdown",
   "metadata": {},
   "source": [
    "- 数据分析时，数据获取的文本筛选\n",
    "- 写爬虫代码时，网页数据的匹配\n",
    "- 写前端代码时，用户输入数据的验证(比如手机号)\n",
    "- 测试人员在请求接口时，对请求结果的验证\n",
    "- 批量文本编辑，比如在Sublime Text或nodepad++等等记事本软件中\n",
    "\n",
    "### 常见格式验证\n",
    "- 邮箱验证\n",
    "- IP地址验证\n",
    "- 电话号码验证\n",
    "- 密码强度验证\n",
    "- 网址验证\n",
    "- 汉字验证，汉字的范围是:[\\u4e00-\\u9fa5]{0,}\n",
    "\n",
    "\n",
    "- 凡是有一定规律的，批量的数据获取，我们都可以使用正则表达式来完成"
   ]
  },
  {
   "cell_type": "code",
   "execution_count": 2,
   "metadata": {},
   "outputs": [
    {
     "data": {
      "text/plain": [
       "['http://www.greedyai.com']"
      ]
     },
     "execution_count": 2,
     "metadata": {},
     "output_type": "execute_result"
    }
   ],
   "source": [
    "## 正则表达式的演示\n",
    "# 使用正则表达式，需要导入re库\n",
    "import re\n",
    "\n",
    "s = '贪心学院的官网是:http://www.greedyai.com'\n",
    "reg = 'http://[w]{3}\\.[a-z0-9]*\\.com'\n",
    "re.findall(reg,s)"
   ]
  },
  {
   "cell_type": "code",
   "execution_count": 3,
   "metadata": {},
   "outputs": [
    {
     "data": {
      "text/plain": [
       "['贪心学院的官网是',\n",
       " '',\n",
       " '',\n",
       " '',\n",
       " '',\n",
       " '',\n",
       " '',\n",
       " '',\n",
       " '',\n",
       " '',\n",
       " '',\n",
       " '',\n",
       " '',\n",
       " '',\n",
       " '',\n",
       " '',\n",
       " '',\n",
       " '',\n",
       " '',\n",
       " '',\n",
       " '',\n",
       " '',\n",
       " '',\n",
       " '',\n",
       " '',\n",
       " '']"
      ]
     },
     "execution_count": 3,
     "metadata": {},
     "output_type": "execute_result"
    }
   ],
   "source": [
    "reg = '[\\u4e00-\\u9fa5]{0,}'\n",
    "re.findall(reg,s)"
   ]
  },
  {
   "cell_type": "markdown",
   "metadata": {},
   "source": [
    "## 元字符"
   ]
  },
  {
   "cell_type": "markdown",
   "metadata": {},
   "source": [
    "|字符|说明|\n",
    "|--|--|\n",
    "|.|代表的是换行符（\\n,\\r\\n）以外的任意字符|\n",
    "|\\w|匹配字母或数字或下划线或汉字的字符|\n",
    "|\\s|匹配任意的空白符|\n",
    "|\\d|匹配数字|\n",
    "|^|匹配字符串的开始|\n",
    "|$|匹配字符串的结束|"
   ]
  },
  {
   "cell_type": "code",
   "execution_count": 4,
   "metadata": {},
   "outputs": [
    {
     "data": {
      "text/plain": [
       "['2', '3', '1', '2', '3', '9', '8', '7']"
      ]
     },
     "execution_count": 4,
     "metadata": {},
     "output_type": "execute_result"
    }
   ],
   "source": [
    "s = '贪心学23院的123官网987是:http://www.greedyai.com'\n",
    "re.findall('\\d',s)"
   ]
  },
  {
   "cell_type": "code",
   "execution_count": 5,
   "metadata": {},
   "outputs": [
    {
     "data": {
      "text/plain": [
       "['w', 'w', 'w']"
      ]
     },
     "execution_count": 5,
     "metadata": {},
     "output_type": "execute_result"
    }
   ],
   "source": [
    "s = '贪心学23院的123官网987是:http://www.greedyai.com'\n",
    "re.findall('w',s)"
   ]
  },
  {
   "cell_type": "code",
   "execution_count": 6,
   "metadata": {},
   "outputs": [
    {
     "data": {
      "text/plain": [
       "['1']"
      ]
     },
     "execution_count": 6,
     "metadata": {},
     "output_type": "execute_result"
    }
   ],
   "source": [
    "s = '1贪心学23院的123官网987是:http://www.greedyai.com'\n",
    "re.findall('^1',s)"
   ]
  },
  {
   "cell_type": "code",
   "execution_count": 7,
   "metadata": {},
   "outputs": [
    {
     "data": {
      "text/plain": [
       "['1', '1']"
      ]
     },
     "execution_count": 7,
     "metadata": {},
     "output_type": "execute_result"
    }
   ],
   "source": [
    "s = '1贪心学23院的123官m网987是:http://www.greedyai.com'\n",
    "re.findall('1',s)"
   ]
  },
  {
   "cell_type": "code",
   "execution_count": 8,
   "metadata": {},
   "outputs": [
    {
     "data": {
      "text/plain": [
       "['m', 'm']"
      ]
     },
     "execution_count": 8,
     "metadata": {},
     "output_type": "execute_result"
    }
   ],
   "source": [
    "s = '1贪心学23院的123官m网987是:http://www.greedyai.com'\n",
    "re.findall('m',s)"
   ]
  },
  {
   "cell_type": "code",
   "execution_count": 9,
   "metadata": {},
   "outputs": [
    {
     "data": {
      "text/plain": [
       "['m']"
      ]
     },
     "execution_count": 9,
     "metadata": {},
     "output_type": "execute_result"
    }
   ],
   "source": [
    "s = '1贪心学23院的123官m网987是:http://www.greedyai.com'\n",
    "re.findall('m$',s)"
   ]
  },
  {
   "cell_type": "markdown",
   "metadata": {},
   "source": [
    "## 反义代码"
   ]
  },
  {
   "cell_type": "markdown",
   "metadata": {},
   "source": [
    "#### 就是与元字符相反的代码\n",
    "\n",
    "|字符|说明|\n",
    "|--|--|\n",
    "|\\W|匹配任意不是字母、数字、下划线、汉字的字符|\n",
    "|\\S|匹配任意不是空白符的字符|\n",
    "|\\D|匹配任意不是数字的字符|"
   ]
  },
  {
   "cell_type": "code",
   "execution_count": 12,
   "metadata": {},
   "outputs": [
    {
     "data": {
      "text/plain": [
       "['1',\n",
       " '贪',\n",
       " '心',\n",
       " '学',\n",
       " '2',\n",
       " '3',\n",
       " '院',\n",
       " '的',\n",
       " '1',\n",
       " '2',\n",
       " '3',\n",
       " '官',\n",
       " 'm',\n",
       " '网',\n",
       " '9',\n",
       " '8',\n",
       " '7',\n",
       " '是',\n",
       " ':',\n",
       " 'h',\n",
       " 't',\n",
       " 't',\n",
       " 'p',\n",
       " ':',\n",
       " '/',\n",
       " '/',\n",
       " 'w',\n",
       " 'w',\n",
       " 'w',\n",
       " '.',\n",
       " 'g',\n",
       " 'r',\n",
       " 'e',\n",
       " 'e',\n",
       " 'd',\n",
       " 'y',\n",
       " 'a',\n",
       " 'i',\n",
       " '.',\n",
       " 'c',\n",
       " 'o',\n",
       " 'm']"
      ]
     },
     "execution_count": 12,
     "metadata": {},
     "output_type": "execute_result"
    }
   ],
   "source": [
    "s = \"\"\"1贪心学23院的123官m\n",
    "网987是:http://www.\n",
    "greedyai.com\"\"\"\n",
    "re.findall('.',s)"
   ]
  },
  {
   "cell_type": "code",
   "execution_count": 14,
   "metadata": {},
   "outputs": [
    {
     "data": {
      "text/plain": [
       "['1贪心学23院的123官m\\n网987是:http://www.\\ngreedyai.com', '']"
      ]
     },
     "execution_count": 14,
     "metadata": {},
     "output_type": "execute_result"
    }
   ],
   "source": [
    "s = \"\"\"1贪心学23院的123官m\n",
    "网987是:http://www.\n",
    "greedyai.com\"\"\"\n",
    "re.findall('[\\s\\S]*',s)"
   ]
  },
  {
   "cell_type": "markdown",
   "metadata": {},
   "source": [
    "## 限定符"
   ]
  },
  {
   "cell_type": "markdown",
   "metadata": {},
   "source": [
    "- 限定某一个逻辑集合所出现的次数"
   ]
  },
  {
   "cell_type": "code",
   "execution_count": 15,
   "metadata": {},
   "outputs": [],
   "source": [
    "s = '贪心学院的官网是:http://www.greedyai.com'\n",
    "reg = 'http://[w]{3}\\.[a-z0-9]*\\.com'"
   ]
  },
  {
   "cell_type": "markdown",
   "metadata": {},
   "source": [
    "|字符|说明|\n",
    "|--|--|\n",
    "|*|代表的是重复0次或者是多次|\n",
    "|+|代表的是重复1次或者是多次|\n",
    "|?|代表是重复0次或者是1次|\n",
    "|{n}|重复n次的意思|\n",
    "|{n,}|重复n次或者是更多次|\n",
    "|{n,m}|重复n次到m次|"
   ]
  },
  {
   "cell_type": "code",
   "execution_count": 19,
   "metadata": {},
   "outputs": [
    {
     "data": {
      "text/plain": [
       "['12', '34', '45', '67']"
      ]
     },
     "execution_count": 19,
     "metadata": {},
     "output_type": "execute_result"
    }
   ],
   "source": [
    "s = '贪心1234学院的官45网678是:http://www.greedyai.com'\n",
    "reg = '\\d{2}'\n",
    "re.findall(reg,s)\n"
   ]
  },
  {
   "cell_type": "code",
   "execution_count": 20,
   "metadata": {},
   "outputs": [
    {
     "data": {
      "text/plain": [
       "['',\n",
       " '',\n",
       " '1234',\n",
       " '',\n",
       " '',\n",
       " '',\n",
       " '',\n",
       " '45',\n",
       " '',\n",
       " '678',\n",
       " '',\n",
       " '',\n",
       " '',\n",
       " '',\n",
       " '',\n",
       " '',\n",
       " '',\n",
       " '',\n",
       " '',\n",
       " '',\n",
       " '',\n",
       " '',\n",
       " '',\n",
       " '',\n",
       " '',\n",
       " '',\n",
       " '',\n",
       " '',\n",
       " '',\n",
       " '',\n",
       " '',\n",
       " '',\n",
       " '',\n",
       " '',\n",
       " '',\n",
       " '']"
      ]
     },
     "execution_count": 20,
     "metadata": {},
     "output_type": "execute_result"
    }
   ],
   "source": [
    "s = '贪心1234学院的官45网678是:http://www.greedyai.com'\n",
    "reg = '\\d*'\n",
    "re.findall(reg,s)\n"
   ]
  },
  {
   "cell_type": "code",
   "execution_count": null,
   "metadata": {},
   "outputs": [],
   "source": []
  },
  {
   "cell_type": "markdown",
   "metadata": {},
   "source": [
    "## 分组匹配"
   ]
  },
  {
   "cell_type": "code",
   "execution_count": 22,
   "metadata": {},
   "outputs": [
    {
     "data": {
      "text/plain": [
       "['42197393', '10000']"
      ]
     },
     "execution_count": 22,
     "metadata": {},
     "output_type": "execute_result"
    }
   ],
   "source": [
    "s = \"我的qq号码是:42197393,my postcode: 10000\"\n",
    "reg=\"\\d{5,8}\"\n",
    "result = re.findall(reg,s)\n",
    "# 注意这里的返回值是一个列表\n",
    "result"
   ]
  },
  {
   "cell_type": "code",
   "execution_count": 23,
   "metadata": {},
   "outputs": [
    {
     "data": {
      "text/plain": [
       "'42197393'"
      ]
     },
     "execution_count": 23,
     "metadata": {},
     "output_type": "execute_result"
    }
   ],
   "source": [
    "result[0]"
   ]
  },
  {
   "cell_type": "code",
   "execution_count": 24,
   "metadata": {},
   "outputs": [
    {
     "data": {
      "text/plain": [
       "[('42197393', '10000')]"
      ]
     },
     "execution_count": 24,
     "metadata": {},
     "output_type": "execute_result"
    }
   ],
   "source": [
    "reg = \"(\\d{8}).*(\\d{5})\"\n",
    "result = re.findall(reg,s)\n",
    "result"
   ]
  },
  {
   "cell_type": "code",
   "execution_count": 25,
   "metadata": {},
   "outputs": [
    {
     "data": {
      "text/plain": [
       "<_sre.SRE_Match object; span=(8, 35), match='42197393,my postcode: 10000'>"
      ]
     },
     "execution_count": 25,
     "metadata": {},
     "output_type": "execute_result"
    }
   ],
   "source": [
    "# 分组来啦\n",
    "reg = \"(\\d{8}).*(\\d{5})\"\n",
    "result = re.search(reg,s)\n",
    "result\n",
    "\n"
   ]
  },
  {
   "cell_type": "code",
   "execution_count": 26,
   "metadata": {},
   "outputs": [
    {
     "data": {
      "text/plain": [
       "'42197393,my postcode: 10000'"
      ]
     },
     "execution_count": 26,
     "metadata": {},
     "output_type": "execute_result"
    }
   ],
   "source": [
    "result.group()"
   ]
  },
  {
   "cell_type": "code",
   "execution_count": 27,
   "metadata": {},
   "outputs": [
    {
     "data": {
      "text/plain": [
       "'42197393,my postcode: 10000'"
      ]
     },
     "execution_count": 27,
     "metadata": {},
     "output_type": "execute_result"
    }
   ],
   "source": [
    "result.group(0)"
   ]
  },
  {
   "cell_type": "code",
   "execution_count": 28,
   "metadata": {},
   "outputs": [
    {
     "data": {
      "text/plain": [
       "'42197393'"
      ]
     },
     "execution_count": 28,
     "metadata": {},
     "output_type": "execute_result"
    }
   ],
   "source": [
    "result.group(1)"
   ]
  },
  {
   "cell_type": "code",
   "execution_count": 29,
   "metadata": {},
   "outputs": [
    {
     "data": {
      "text/plain": [
       "'10000'"
      ]
     },
     "execution_count": 29,
     "metadata": {},
     "output_type": "execute_result"
    }
   ],
   "source": [
    "result.group(2)"
   ]
  },
  {
   "cell_type": "markdown",
   "metadata": {},
   "source": [
    "## 贪婪与非贪婪"
   ]
  },
  {
   "cell_type": "markdown",
   "metadata": {},
   "source": [
    "- 贪婪：尽可能多的匹配\n",
    "- 非贪婪：尽可能少的匹配\n",
    "\n",
    "\n",
    "- 非贪婪匹配的操作符是?   \n",
    "\n",
    "\n",
    "|字符|说明|\n",
    "|--|--|\n",
    "|*|代表的是重复0次或者是多次|\n",
    "|+|代表的是重复1次或者是多次|\n",
    "|?|代表是重复0次或者是1次|\n",
    "\n",
    "??:代表的是匹配1次\n",
    "\n",
    "\n",
    "- 贪婪和非贪婪对限定符做出了一些限制"
   ]
  },
  {
   "cell_type": "code",
   "execution_count": 30,
   "metadata": {},
   "outputs": [
    {
     "data": {
      "text/plain": [
       "['',\n",
       " '',\n",
       " '1234',\n",
       " '',\n",
       " '',\n",
       " '',\n",
       " '',\n",
       " '45',\n",
       " '',\n",
       " '678',\n",
       " '',\n",
       " '',\n",
       " '',\n",
       " '',\n",
       " '',\n",
       " '',\n",
       " '',\n",
       " '',\n",
       " '',\n",
       " '',\n",
       " '',\n",
       " '',\n",
       " '',\n",
       " '',\n",
       " '',\n",
       " '',\n",
       " '',\n",
       " '',\n",
       " '',\n",
       " '',\n",
       " '',\n",
       " '',\n",
       " '',\n",
       " '',\n",
       " '',\n",
       " '']"
      ]
     },
     "execution_count": 30,
     "metadata": {},
     "output_type": "execute_result"
    }
   ],
   "source": [
    "s = '贪心1234学院的官45网678是:http://www.greedyai.com'\n",
    "reg = '\\d*'\n",
    "re.findall(reg,s)"
   ]
  },
  {
   "cell_type": "code",
   "execution_count": 31,
   "metadata": {},
   "outputs": [
    {
     "data": {
      "text/plain": [
       "['i', 'i', 'i', 'i', 'i', 'i', 'i']"
      ]
     },
     "execution_count": 31,
     "metadata": {},
     "output_type": "execute_result"
    }
   ],
   "source": [
    "s = \"greedyaiiiiiii\"\n",
    "reg = 'i'\n",
    "re.findall(reg,s)"
   ]
  },
  {
   "cell_type": "code",
   "execution_count": 32,
   "metadata": {},
   "outputs": [
    {
     "data": {
      "text/plain": [
       "['', '', '', '', '', '', '', 'iiiiiii', '']"
      ]
     },
     "execution_count": 32,
     "metadata": {},
     "output_type": "execute_result"
    }
   ],
   "source": [
    "# 默认是贪婪匹配，尽可能多的匹配\n",
    "s = \"greedyaiiiiiii\"\n",
    "reg = 'i*'\n",
    "re.findall(reg,s)"
   ]
  },
  {
   "cell_type": "code",
   "execution_count": 33,
   "metadata": {},
   "outputs": [
    {
     "data": {
      "text/plain": [
       "['', '', '', '', '', '', '', 'i', 'i', 'i', 'i', 'i', 'i', 'i', '']"
      ]
     },
     "execution_count": 33,
     "metadata": {},
     "output_type": "execute_result"
    }
   ],
   "source": [
    "s = \"greedyaiiiiiii\"\n",
    "reg = 'i?'\n",
    "re.findall(reg,s)"
   ]
  },
  {
   "cell_type": "code",
   "execution_count": 34,
   "metadata": {},
   "outputs": [
    {
     "data": {
      "text/plain": [
       "['', '', '', '', '', '', '', '', '', '', '', '', '', '', '']"
      ]
     },
     "execution_count": 34,
     "metadata": {},
     "output_type": "execute_result"
    }
   ],
   "source": [
    "# 在元字符后边加上非贪婪匹配操作符?，这个时候就是非贪婪匹配，就是尽可能少的匹配\n",
    "s = \"greedyaiiiiiii\"\n",
    "reg = 'i*?'\n",
    "re.findall(reg,s)"
   ]
  },
  {
   "cell_type": "code",
   "execution_count": 36,
   "metadata": {},
   "outputs": [
    {
     "data": {
      "text/plain": [
       "['', '', '', '', '', '', '', '', '', '', '', '', '', '', '']"
      ]
     },
     "execution_count": 36,
     "metadata": {},
     "output_type": "execute_result"
    }
   ],
   "source": [
    "s = \"greedyaiiiiiii\"\n",
    "reg = 'i??'\n",
    "re.findall(reg,s)"
   ]
  },
  {
   "cell_type": "code",
   "execution_count": 37,
   "metadata": {},
   "outputs": [
    {
     "data": {
      "text/plain": [
       "['greedya']"
      ]
     },
     "execution_count": 37,
     "metadata": {},
     "output_type": "execute_result"
    }
   ],
   "source": [
    "s = \"greedyaiiiiiii\"\n",
    "reg = 'greedyai??'\n",
    "re.findall(reg,s)"
   ]
  },
  {
   "cell_type": "markdown",
   "metadata": {},
   "source": [
    "## 分支条件匹配"
   ]
  },
  {
   "cell_type": "code",
   "execution_count": 41,
   "metadata": {},
   "outputs": [
    {
     "data": {
      "text/plain": [
       "['714', '397', '5251', '7185', '21362', '62410', '04915', '9168', '3500']"
      ]
     },
     "execution_count": 41,
     "metadata": {},
     "output_type": "execute_result"
    }
   ],
   "source": [
    "## 条件1 或 条件2  \n",
    "s = \"\"\"\n",
    "5c714e1f397be4c5251a7185,1,1,武夷花园,北京,通州,,西,0,精装 集中供暖 随时看房,整租 · 京贸中心大开间，窗户是大落地窗，\n",
    "看房随时https://m.lianjia.com/chuzu/bj/zufang/BJ2136262410049159168.html,72,3500,元/月,京贸中心,整租\n",
    "\"\"\"\n",
    "# 分支条件匹配书写正则表达式所需要注意的点\n",
    "# 条件限定时，范围约小的，也就是越难满足的就要写在前边\n",
    "# 因为多条件匹配的时候，匹配规则是从左到右，如果满足了左边的规则，那么右边就不去看了\n",
    "# reg = '\\d{3}|\\d{4}'\n",
    "reg = '\\d{5}|\\d{4}|\\d{3}'\n",
    "re.findall(reg,s)"
   ]
  },
  {
   "cell_type": "markdown",
   "metadata": {},
   "source": [
    "## 零宽断言"
   ]
  },
  {
   "cell_type": "code",
   "execution_count": 46,
   "metadata": {},
   "outputs": [
    {
     "data": {
      "text/plain": [
       "[',']"
      ]
     },
     "execution_count": 46,
     "metadata": {},
     "output_type": "execute_result"
    }
   ],
   "source": [
    "s = \"\"\"\n",
    "5c714e1f397be4c5251a7185,1,1,武夷花园,北京,通州,,西,0,精装 集中供暖 随时看房,整租 · 京贸中心大开间，窗户是大落地窗，\n",
    "看房随时https://m.lianjia.com/chuzu/bj/zufang/BJ2136262410049159168.html,72,3500,元/月,京贸中心,整租\n",
    "\"\"\"\n",
    "reg=',(?=整租$)'\n",
    "re.findall(reg,s)\n"
   ]
  },
  {
   "cell_type": "markdown",
   "metadata": {},
   "source": [
    "|符号(reg代表着一个正则表达式)|说明|\n",
    "|--|--|\n",
    "|(?=reg)|匹配正则表达式前边的内容|\n",
    "|(?<=reg)|匹配正则表达式后边的内容|\n",
    "|(?!reg)|匹配后边跟的不是正则表达式的内容|\n",
    "|(?<!reg)|匹配前边不是正则表达式的内容|"
   ]
  },
  {
   "cell_type": "code",
   "execution_count": 55,
   "metadata": {},
   "outputs": [
    {
     "data": {
      "text/plain": [
       "['lo']"
      ]
     },
     "execution_count": 55,
     "metadata": {},
     "output_type": "execute_result"
    }
   ],
   "source": [
    "# 匹配hello中的lo\n",
    "s = \"hellogreedyaiilove\"\n",
    "reg = 'lo(?=greedy)'\n",
    "re.findall(reg,s)"
   ]
  },
  {
   "cell_type": "code",
   "execution_count": 56,
   "metadata": {},
   "outputs": [
    {
     "data": {
      "text/plain": [
       "['ilove']"
      ]
     },
     "execution_count": 56,
     "metadata": {},
     "output_type": "execute_result"
    }
   ],
   "source": [
    "# 匹配greedyai后边的所有的字母\n",
    "reg = \"(?<=greedyai)[a-z]*\"\n",
    "re.findall(reg,s)"
   ]
  },
  {
   "cell_type": "code",
   "execution_count": 57,
   "metadata": {},
   "outputs": [
    {
     "data": {
      "text/plain": [
       "['lo']"
      ]
     },
     "execution_count": 57,
     "metadata": {},
     "output_type": "execute_result"
    }
   ],
   "source": [
    "# 匹配love中的lo\n",
    "reg='lo(?!greedyai)'\n",
    "re.findall(reg,s)"
   ]
  },
  {
   "cell_type": "code",
   "execution_count": 59,
   "metadata": {},
   "outputs": [
    {
     "data": {
      "text/plain": [
       "['i']"
      ]
     },
     "execution_count": 59,
     "metadata": {},
     "output_type": "execute_result"
    }
   ],
   "source": [
    "# 这个匹配出来的就是greedai中的i，而不是ilove中的i\n",
    "reg = '(?<!greedyai)i'\n",
    "re.findall(reg,s)"
   ]
  },
  {
   "cell_type": "markdown",
   "metadata": {},
   "source": [
    "## 实例展示"
   ]
  },
  {
   "cell_type": "code",
   "execution_count": 12,
   "metadata": {},
   "outputs": [],
   "source": [
    "import pandas as pd \n",
    "import matplotlib.pyplot as plt\n",
    "import numpy as np"
   ]
  },
  {
   "cell_type": "code",
   "execution_count": 16,
   "metadata": {},
   "outputs": [
    {
     "data": {
      "text/html": [
       "<div>\n",
       "<style scoped>\n",
       "    .dataframe tbody tr th:only-of-type {\n",
       "        vertical-align: middle;\n",
       "    }\n",
       "\n",
       "    .dataframe tbody tr th {\n",
       "        vertical-align: top;\n",
       "    }\n",
       "\n",
       "    .dataframe thead th {\n",
       "        text-align: right;\n",
       "    }\n",
       "</style>\n",
       "<table border=\"1\" class=\"dataframe\">\n",
       "  <thead>\n",
       "    <tr style=\"text-align: right;\">\n",
       "      <th></th>\n",
       "      <th>出发地</th>\n",
       "      <th>目的地</th>\n",
       "      <th>价格</th>\n",
       "      <th>节省</th>\n",
       "      <th>路线名</th>\n",
       "      <th>酒店</th>\n",
       "      <th>房间</th>\n",
       "      <th>去程航司</th>\n",
       "      <th>去程方式</th>\n",
       "      <th>去程时间</th>\n",
       "      <th>回程航司</th>\n",
       "      <th>回程方式</th>\n",
       "      <th>回程时间</th>\n",
       "    </tr>\n",
       "  </thead>\n",
       "  <tbody>\n",
       "    <tr>\n",
       "      <th>0</th>\n",
       "      <td>哈尔滨</td>\n",
       "      <td>北海</td>\n",
       "      <td>2208.0</td>\n",
       "      <td>650.0</td>\n",
       "      <td>哈尔滨-北海3天2晚 | 入住北海祥丰嘉年华大酒店 + 春秋航空往返机票</td>\n",
       "      <td>北海祥丰嘉年华大酒店 舒适型 4.7分/5分</td>\n",
       "      <td>标准双人间(双床) 双床 不含早 1间2晚</td>\n",
       "      <td>春秋航空 9C8741</td>\n",
       "      <td>直飞</td>\n",
       "      <td>17:10-21:50</td>\n",
       "      <td>春秋航空 9C8742</td>\n",
       "      <td>直飞</td>\n",
       "      <td>10:20-15:05</td>\n",
       "    </tr>\n",
       "    <tr>\n",
       "      <th>1</th>\n",
       "      <td>成都</td>\n",
       "      <td>泸沽湖</td>\n",
       "      <td>1145.0</td>\n",
       "      <td>376.0</td>\n",
       "      <td>成都-泸沽湖3天2晚 | 入住7天酒店丽江古城中心店 + 成都航空往返机票</td>\n",
       "      <td>7天酒店丽江古城中心店 经济型 4.0分/5分</td>\n",
       "      <td>经济房-不含早-限时特... 其他 不含早 1间2晚</td>\n",
       "      <td>成都航空 EU2237</td>\n",
       "      <td>直飞</td>\n",
       "      <td>19:45-21:20</td>\n",
       "      <td>成都航空 EU2738</td>\n",
       "      <td>直飞</td>\n",
       "      <td>23:30-01:05</td>\n",
       "    </tr>\n",
       "    <tr>\n",
       "      <th>2</th>\n",
       "      <td>广州</td>\n",
       "      <td>沈阳</td>\n",
       "      <td>2702.0</td>\n",
       "      <td>618.0</td>\n",
       "      <td>广州-沈阳3天2晚 | 入住沈阳中煤宾馆 + 南方航空/深圳航空往返机票</td>\n",
       "      <td>沈阳中煤宾馆 舒适型 4.5分/5分</td>\n",
       "      <td>大床间(内宾) 大床 双早 1间2晚</td>\n",
       "      <td>南方航空 CZ6384</td>\n",
       "      <td>直飞</td>\n",
       "      <td>08:05-11:45</td>\n",
       "      <td>深圳航空 ZH9652</td>\n",
       "      <td>经停</td>\n",
       "      <td>08:20-13:05</td>\n",
       "    </tr>\n",
       "    <tr>\n",
       "      <th>3</th>\n",
       "      <td>上海</td>\n",
       "      <td>九寨沟</td>\n",
       "      <td>1954.0</td>\n",
       "      <td>484.0</td>\n",
       "      <td>上海-九寨沟3天2晚 | 入住红原芸谊大酒店 + 成都航空往返机票</td>\n",
       "      <td>红原芸谊大酒店 舒适型 4.6分/5分</td>\n",
       "      <td>豪华双床房[双早] 双床 双早 1间2晚</td>\n",
       "      <td>成都航空 EU6678</td>\n",
       "      <td>直飞</td>\n",
       "      <td>21:55-01:15</td>\n",
       "      <td>成都航空 EU6677</td>\n",
       "      <td>直飞</td>\n",
       "      <td>17:45-20:35</td>\n",
       "    </tr>\n",
       "    <tr>\n",
       "      <th>4</th>\n",
       "      <td>广州</td>\n",
       "      <td>天津</td>\n",
       "      <td>1608.0</td>\n",
       "      <td>422.0</td>\n",
       "      <td>广州-天津3天2晚 | 入住天津逸海明珠大酒店 + 奥凯航空/海南航空往返机票</td>\n",
       "      <td>天津逸海明珠大酒店 高档型 4.1分/5分</td>\n",
       "      <td>豪华双床房(预付) 双床 不含早 1间2晚</td>\n",
       "      <td>奥凯航空 BK2787</td>\n",
       "      <td>直飞</td>\n",
       "      <td>06:55-10:00</td>\n",
       "      <td>海南航空 HU7201</td>\n",
       "      <td>直飞</td>\n",
       "      <td>20:15-23:25</td>\n",
       "    </tr>\n",
       "  </tbody>\n",
       "</table>\n",
       "</div>"
      ],
      "text/plain": [
       "  出发地   目的地     价格      节省                                      路线名  \\\n",
       "0  哈尔滨   北海  2208.0  650.0     哈尔滨-北海3天2晚 | 入住北海祥丰嘉年华大酒店 + 春秋航空往返机票   \n",
       "1   成都  泸沽湖  1145.0  376.0    成都-泸沽湖3天2晚 | 入住7天酒店丽江古城中心店 + 成都航空往返机票   \n",
       "2   广州   沈阳  2702.0  618.0     广州-沈阳3天2晚 | 入住沈阳中煤宾馆 + 南方航空/深圳航空往返机票   \n",
       "3   上海  九寨沟  1954.0  484.0        上海-九寨沟3天2晚 | 入住红原芸谊大酒店 + 成都航空往返机票   \n",
       "4   广州   天津  1608.0  422.0  广州-天津3天2晚 | 入住天津逸海明珠大酒店 + 奥凯航空/海南航空往返机票   \n",
       "\n",
       "                        酒店                          房间         去程航司 去程方式  \\\n",
       "0   北海祥丰嘉年华大酒店 舒适型 4.7分/5分       标准双人间(双床) 双床 不含早 1间2晚  春秋航空 9C8741   直飞   \n",
       "1  7天酒店丽江古城中心店 经济型 4.0分/5分  经济房-不含早-限时特... 其他 不含早 1间2晚  成都航空 EU2237   直飞   \n",
       "2       沈阳中煤宾馆 舒适型 4.5分/5分          大床间(内宾) 大床 双早 1间2晚  南方航空 CZ6384   直飞   \n",
       "3      红原芸谊大酒店 舒适型 4.6分/5分        豪华双床房[双早] 双床 双早 1间2晚  成都航空 EU6678   直飞   \n",
       "4    天津逸海明珠大酒店 高档型 4.1分/5分       豪华双床房(预付) 双床 不含早 1间2晚  奥凯航空 BK2787   直飞   \n",
       "\n",
       "          去程时间         回程航司 回程方式          回程时间  \n",
       "0  17:10-21:50  春秋航空 9C8742    直飞  10:20-15:05  \n",
       "1  19:45-21:20  成都航空 EU2738    直飞  23:30-01:05  \n",
       "2  08:05-11:45  深圳航空 ZH9652    经停  08:20-13:05  \n",
       "3  21:55-01:15  成都航空 EU6677    直飞  17:45-20:35  \n",
       "4  06:55-10:00  海南航空 HU7201    直飞  20:15-23:25  "
      ]
     },
     "execution_count": 16,
     "metadata": {},
     "output_type": "execute_result"
    }
   ],
   "source": [
    "df = pd.read_csv('旅游.csv',index_col =0)\n",
    "df.head()"
   ]
  },
  {
   "cell_type": "code",
   "execution_count": 19,
   "metadata": {},
   "outputs": [
    {
     "data": {
      "text/html": [
       "<div>\n",
       "<style scoped>\n",
       "    .dataframe tbody tr th:only-of-type {\n",
       "        vertical-align: middle;\n",
       "    }\n",
       "\n",
       "    .dataframe tbody tr th {\n",
       "        vertical-align: top;\n",
       "    }\n",
       "\n",
       "    .dataframe thead th {\n",
       "        text-align: right;\n",
       "    }\n",
       "</style>\n",
       "<table border=\"1\" class=\"dataframe\">\n",
       "  <thead>\n",
       "    <tr style=\"text-align: right;\">\n",
       "      <th></th>\n",
       "      <th>出发地</th>\n",
       "      <th>目的地</th>\n",
       "      <th>价格</th>\n",
       "      <th>节省</th>\n",
       "      <th>路线名</th>\n",
       "      <th>酒店</th>\n",
       "      <th>房间</th>\n",
       "      <th>去程航司</th>\n",
       "      <th>去程方式</th>\n",
       "      <th>去程时间</th>\n",
       "      <th>回程航司</th>\n",
       "      <th>回程方式</th>\n",
       "      <th>回程时间</th>\n",
       "      <th>酒店评分</th>\n",
       "    </tr>\n",
       "  </thead>\n",
       "  <tbody>\n",
       "    <tr>\n",
       "      <th>0</th>\n",
       "      <td>哈尔滨</td>\n",
       "      <td>北海</td>\n",
       "      <td>2208.0</td>\n",
       "      <td>650.0</td>\n",
       "      <td>哈尔滨-北海3天2晚 | 入住北海祥丰嘉年华大酒店 + 春秋航空往返机票</td>\n",
       "      <td>北海祥丰嘉年华大酒店 舒适型 4.7分/5分</td>\n",
       "      <td>标准双人间(双床) 双床 不含早 1间2晚</td>\n",
       "      <td>春秋航空 9C8741</td>\n",
       "      <td>直飞</td>\n",
       "      <td>17:10-21:50</td>\n",
       "      <td>春秋航空 9C8742</td>\n",
       "      <td>直飞</td>\n",
       "      <td>10:20-15:05</td>\n",
       "      <td>4.7</td>\n",
       "    </tr>\n",
       "    <tr>\n",
       "      <th>1</th>\n",
       "      <td>成都</td>\n",
       "      <td>泸沽湖</td>\n",
       "      <td>1145.0</td>\n",
       "      <td>376.0</td>\n",
       "      <td>成都-泸沽湖3天2晚 | 入住7天酒店丽江古城中心店 + 成都航空往返机票</td>\n",
       "      <td>7天酒店丽江古城中心店 经济型 4.0分/5分</td>\n",
       "      <td>经济房-不含早-限时特... 其他 不含早 1间2晚</td>\n",
       "      <td>成都航空 EU2237</td>\n",
       "      <td>直飞</td>\n",
       "      <td>19:45-21:20</td>\n",
       "      <td>成都航空 EU2738</td>\n",
       "      <td>直飞</td>\n",
       "      <td>23:30-01:05</td>\n",
       "      <td>4.0</td>\n",
       "    </tr>\n",
       "    <tr>\n",
       "      <th>2</th>\n",
       "      <td>广州</td>\n",
       "      <td>沈阳</td>\n",
       "      <td>2702.0</td>\n",
       "      <td>618.0</td>\n",
       "      <td>广州-沈阳3天2晚 | 入住沈阳中煤宾馆 + 南方航空/深圳航空往返机票</td>\n",
       "      <td>沈阳中煤宾馆 舒适型 4.5分/5分</td>\n",
       "      <td>大床间(内宾) 大床 双早 1间2晚</td>\n",
       "      <td>南方航空 CZ6384</td>\n",
       "      <td>直飞</td>\n",
       "      <td>08:05-11:45</td>\n",
       "      <td>深圳航空 ZH9652</td>\n",
       "      <td>经停</td>\n",
       "      <td>08:20-13:05</td>\n",
       "      <td>4.5</td>\n",
       "    </tr>\n",
       "    <tr>\n",
       "      <th>3</th>\n",
       "      <td>上海</td>\n",
       "      <td>九寨沟</td>\n",
       "      <td>1954.0</td>\n",
       "      <td>484.0</td>\n",
       "      <td>上海-九寨沟3天2晚 | 入住红原芸谊大酒店 + 成都航空往返机票</td>\n",
       "      <td>红原芸谊大酒店 舒适型 4.6分/5分</td>\n",
       "      <td>豪华双床房[双早] 双床 双早 1间2晚</td>\n",
       "      <td>成都航空 EU6678</td>\n",
       "      <td>直飞</td>\n",
       "      <td>21:55-01:15</td>\n",
       "      <td>成都航空 EU6677</td>\n",
       "      <td>直飞</td>\n",
       "      <td>17:45-20:35</td>\n",
       "      <td>4.6</td>\n",
       "    </tr>\n",
       "    <tr>\n",
       "      <th>4</th>\n",
       "      <td>广州</td>\n",
       "      <td>天津</td>\n",
       "      <td>1608.0</td>\n",
       "      <td>422.0</td>\n",
       "      <td>广州-天津3天2晚 | 入住天津逸海明珠大酒店 + 奥凯航空/海南航空往返机票</td>\n",
       "      <td>天津逸海明珠大酒店 高档型 4.1分/5分</td>\n",
       "      <td>豪华双床房(预付) 双床 不含早 1间2晚</td>\n",
       "      <td>奥凯航空 BK2787</td>\n",
       "      <td>直飞</td>\n",
       "      <td>06:55-10:00</td>\n",
       "      <td>海南航空 HU7201</td>\n",
       "      <td>直飞</td>\n",
       "      <td>20:15-23:25</td>\n",
       "      <td>4.1</td>\n",
       "    </tr>\n",
       "  </tbody>\n",
       "</table>\n",
       "</div>"
      ],
      "text/plain": [
       "  出发地   目的地     价格      节省                                      路线名  \\\n",
       "0  哈尔滨   北海  2208.0  650.0     哈尔滨-北海3天2晚 | 入住北海祥丰嘉年华大酒店 + 春秋航空往返机票   \n",
       "1   成都  泸沽湖  1145.0  376.0    成都-泸沽湖3天2晚 | 入住7天酒店丽江古城中心店 + 成都航空往返机票   \n",
       "2   广州   沈阳  2702.0  618.0     广州-沈阳3天2晚 | 入住沈阳中煤宾馆 + 南方航空/深圳航空往返机票   \n",
       "3   上海  九寨沟  1954.0  484.0        上海-九寨沟3天2晚 | 入住红原芸谊大酒店 + 成都航空往返机票   \n",
       "4   广州   天津  1608.0  422.0  广州-天津3天2晚 | 入住天津逸海明珠大酒店 + 奥凯航空/海南航空往返机票   \n",
       "\n",
       "                        酒店                          房间         去程航司 去程方式  \\\n",
       "0   北海祥丰嘉年华大酒店 舒适型 4.7分/5分       标准双人间(双床) 双床 不含早 1间2晚  春秋航空 9C8741   直飞   \n",
       "1  7天酒店丽江古城中心店 经济型 4.0分/5分  经济房-不含早-限时特... 其他 不含早 1间2晚  成都航空 EU2237   直飞   \n",
       "2       沈阳中煤宾馆 舒适型 4.5分/5分          大床间(内宾) 大床 双早 1间2晚  南方航空 CZ6384   直飞   \n",
       "3      红原芸谊大酒店 舒适型 4.6分/5分        豪华双床房[双早] 双床 双早 1间2晚  成都航空 EU6678   直飞   \n",
       "4    天津逸海明珠大酒店 高档型 4.1分/5分       豪华双床房(预付) 双床 不含早 1间2晚  奥凯航空 BK2787   直飞   \n",
       "\n",
       "          去程时间         回程航司 回程方式          回程时间 酒店评分  \n",
       "0  17:10-21:50  春秋航空 9C8742    直飞  10:20-15:05  4.7  \n",
       "1  19:45-21:20  成都航空 EU2738    直飞  23:30-01:05  4.0  \n",
       "2  08:05-11:45  深圳航空 ZH9652    经停  08:20-13:05  4.5  \n",
       "3  21:55-01:15  成都航空 EU6677    直飞  17:45-20:35  4.6  \n",
       "4  06:55-10:00  海南航空 HU7201    直飞  20:15-23:25  4.1  "
      ]
     },
     "execution_count": 19,
     "metadata": {},
     "output_type": "execute_result"
    }
   ],
   "source": [
    "# 提取酒店评分\n",
    "df['酒店评分'] = df['酒店'].str.extract('(\\d\\.\\d)分/5分')\n",
    "df.head()"
   ]
  },
  {
   "cell_type": "code",
   "execution_count": 22,
   "metadata": {
    "scrolled": true
   },
   "outputs": [
    {
     "data": {
      "text/html": [
       "<div>\n",
       "<style scoped>\n",
       "    .dataframe tbody tr th:only-of-type {\n",
       "        vertical-align: middle;\n",
       "    }\n",
       "\n",
       "    .dataframe tbody tr th {\n",
       "        vertical-align: top;\n",
       "    }\n",
       "\n",
       "    .dataframe thead th {\n",
       "        text-align: right;\n",
       "    }\n",
       "</style>\n",
       "<table border=\"1\" class=\"dataframe\">\n",
       "  <thead>\n",
       "    <tr style=\"text-align: right;\">\n",
       "      <th></th>\n",
       "      <th>出发地</th>\n",
       "      <th>目的地</th>\n",
       "      <th>价格</th>\n",
       "      <th>节省</th>\n",
       "      <th>路线名</th>\n",
       "      <th>酒店</th>\n",
       "      <th>房间</th>\n",
       "      <th>去程航司</th>\n",
       "      <th>去程方式</th>\n",
       "      <th>去程时间</th>\n",
       "      <th>回程航司</th>\n",
       "      <th>回程方式</th>\n",
       "      <th>回程时间</th>\n",
       "      <th>酒店评分</th>\n",
       "      <th>酒店等级</th>\n",
       "    </tr>\n",
       "  </thead>\n",
       "  <tbody>\n",
       "    <tr>\n",
       "      <th>0</th>\n",
       "      <td>哈尔滨</td>\n",
       "      <td>北海</td>\n",
       "      <td>2208.0</td>\n",
       "      <td>650.0</td>\n",
       "      <td>哈尔滨-北海3天2晚 | 入住北海祥丰嘉年华大酒店 + 春秋航空往返机票</td>\n",
       "      <td>北海祥丰嘉年华大酒店 舒适型 4.7分/5分</td>\n",
       "      <td>标准双人间(双床) 双床 不含早 1间2晚</td>\n",
       "      <td>春秋航空 9C8741</td>\n",
       "      <td>直飞</td>\n",
       "      <td>17:10-21:50</td>\n",
       "      <td>春秋航空 9C8742</td>\n",
       "      <td>直飞</td>\n",
       "      <td>10:20-15:05</td>\n",
       "      <td>4.7</td>\n",
       "      <td>舒适型</td>\n",
       "    </tr>\n",
       "    <tr>\n",
       "      <th>1</th>\n",
       "      <td>成都</td>\n",
       "      <td>泸沽湖</td>\n",
       "      <td>1145.0</td>\n",
       "      <td>376.0</td>\n",
       "      <td>成都-泸沽湖3天2晚 | 入住7天酒店丽江古城中心店 + 成都航空往返机票</td>\n",
       "      <td>7天酒店丽江古城中心店 经济型 4.0分/5分</td>\n",
       "      <td>经济房-不含早-限时特... 其他 不含早 1间2晚</td>\n",
       "      <td>成都航空 EU2237</td>\n",
       "      <td>直飞</td>\n",
       "      <td>19:45-21:20</td>\n",
       "      <td>成都航空 EU2738</td>\n",
       "      <td>直飞</td>\n",
       "      <td>23:30-01:05</td>\n",
       "      <td>4.0</td>\n",
       "      <td>经济型</td>\n",
       "    </tr>\n",
       "    <tr>\n",
       "      <th>2</th>\n",
       "      <td>广州</td>\n",
       "      <td>沈阳</td>\n",
       "      <td>2702.0</td>\n",
       "      <td>618.0</td>\n",
       "      <td>广州-沈阳3天2晚 | 入住沈阳中煤宾馆 + 南方航空/深圳航空往返机票</td>\n",
       "      <td>沈阳中煤宾馆 舒适型 4.5分/5分</td>\n",
       "      <td>大床间(内宾) 大床 双早 1间2晚</td>\n",
       "      <td>南方航空 CZ6384</td>\n",
       "      <td>直飞</td>\n",
       "      <td>08:05-11:45</td>\n",
       "      <td>深圳航空 ZH9652</td>\n",
       "      <td>经停</td>\n",
       "      <td>08:20-13:05</td>\n",
       "      <td>4.5</td>\n",
       "      <td>舒适型</td>\n",
       "    </tr>\n",
       "    <tr>\n",
       "      <th>3</th>\n",
       "      <td>上海</td>\n",
       "      <td>九寨沟</td>\n",
       "      <td>1954.0</td>\n",
       "      <td>484.0</td>\n",
       "      <td>上海-九寨沟3天2晚 | 入住红原芸谊大酒店 + 成都航空往返机票</td>\n",
       "      <td>红原芸谊大酒店 舒适型 4.6分/5分</td>\n",
       "      <td>豪华双床房[双早] 双床 双早 1间2晚</td>\n",
       "      <td>成都航空 EU6678</td>\n",
       "      <td>直飞</td>\n",
       "      <td>21:55-01:15</td>\n",
       "      <td>成都航空 EU6677</td>\n",
       "      <td>直飞</td>\n",
       "      <td>17:45-20:35</td>\n",
       "      <td>4.6</td>\n",
       "      <td>舒适型</td>\n",
       "    </tr>\n",
       "    <tr>\n",
       "      <th>4</th>\n",
       "      <td>广州</td>\n",
       "      <td>天津</td>\n",
       "      <td>1608.0</td>\n",
       "      <td>422.0</td>\n",
       "      <td>广州-天津3天2晚 | 入住天津逸海明珠大酒店 + 奥凯航空/海南航空往返机票</td>\n",
       "      <td>天津逸海明珠大酒店 高档型 4.1分/5分</td>\n",
       "      <td>豪华双床房(预付) 双床 不含早 1间2晚</td>\n",
       "      <td>奥凯航空 BK2787</td>\n",
       "      <td>直飞</td>\n",
       "      <td>06:55-10:00</td>\n",
       "      <td>海南航空 HU7201</td>\n",
       "      <td>直飞</td>\n",
       "      <td>20:15-23:25</td>\n",
       "      <td>4.1</td>\n",
       "      <td>高档型</td>\n",
       "    </tr>\n",
       "  </tbody>\n",
       "</table>\n",
       "</div>"
      ],
      "text/plain": [
       "  出发地   目的地     价格      节省                                      路线名  \\\n",
       "0  哈尔滨   北海  2208.0  650.0     哈尔滨-北海3天2晚 | 入住北海祥丰嘉年华大酒店 + 春秋航空往返机票   \n",
       "1   成都  泸沽湖  1145.0  376.0    成都-泸沽湖3天2晚 | 入住7天酒店丽江古城中心店 + 成都航空往返机票   \n",
       "2   广州   沈阳  2702.0  618.0     广州-沈阳3天2晚 | 入住沈阳中煤宾馆 + 南方航空/深圳航空往返机票   \n",
       "3   上海  九寨沟  1954.0  484.0        上海-九寨沟3天2晚 | 入住红原芸谊大酒店 + 成都航空往返机票   \n",
       "4   广州   天津  1608.0  422.0  广州-天津3天2晚 | 入住天津逸海明珠大酒店 + 奥凯航空/海南航空往返机票   \n",
       "\n",
       "                        酒店                          房间         去程航司 去程方式  \\\n",
       "0   北海祥丰嘉年华大酒店 舒适型 4.7分/5分       标准双人间(双床) 双床 不含早 1间2晚  春秋航空 9C8741   直飞   \n",
       "1  7天酒店丽江古城中心店 经济型 4.0分/5分  经济房-不含早-限时特... 其他 不含早 1间2晚  成都航空 EU2237   直飞   \n",
       "2       沈阳中煤宾馆 舒适型 4.5分/5分          大床间(内宾) 大床 双早 1间2晚  南方航空 CZ6384   直飞   \n",
       "3      红原芸谊大酒店 舒适型 4.6分/5分        豪华双床房[双早] 双床 双早 1间2晚  成都航空 EU6678   直飞   \n",
       "4    天津逸海明珠大酒店 高档型 4.1分/5分       豪华双床房(预付) 双床 不含早 1间2晚  奥凯航空 BK2787   直飞   \n",
       "\n",
       "          去程时间         回程航司 回程方式          回程时间 酒店评分 酒店等级  \n",
       "0  17:10-21:50  春秋航空 9C8742    直飞  10:20-15:05  4.7  舒适型  \n",
       "1  19:45-21:20  成都航空 EU2738    直飞  23:30-01:05  4.0  经济型  \n",
       "2  08:05-11:45  深圳航空 ZH9652    经停  08:20-13:05  4.5  舒适型  \n",
       "3  21:55-01:15  成都航空 EU6677    直飞  17:45-20:35  4.6  舒适型  \n",
       "4  06:55-10:00  海南航空 HU7201    直飞  20:15-23:25  4.1  高档型  "
      ]
     },
     "execution_count": 22,
     "metadata": {},
     "output_type": "execute_result"
    }
   ],
   "source": [
    "# 提取酒店等级\n",
    "df['酒店等级'] = df['酒店'].str.extract(' (.+) ')\n",
    "df.head()"
   ]
  },
  {
   "cell_type": "code",
   "execution_count": 26,
   "metadata": {
    "scrolled": true
   },
   "outputs": [
    {
     "data": {
      "text/html": [
       "<div>\n",
       "<style scoped>\n",
       "    .dataframe tbody tr th:only-of-type {\n",
       "        vertical-align: middle;\n",
       "    }\n",
       "\n",
       "    .dataframe tbody tr th {\n",
       "        vertical-align: top;\n",
       "    }\n",
       "\n",
       "    .dataframe thead th {\n",
       "        text-align: right;\n",
       "    }\n",
       "</style>\n",
       "<table border=\"1\" class=\"dataframe\">\n",
       "  <thead>\n",
       "    <tr style=\"text-align: right;\">\n",
       "      <th></th>\n",
       "      <th>出发地</th>\n",
       "      <th>目的地</th>\n",
       "      <th>价格</th>\n",
       "      <th>节省</th>\n",
       "      <th>路线名</th>\n",
       "      <th>酒店</th>\n",
       "      <th>房间</th>\n",
       "      <th>去程航司</th>\n",
       "      <th>去程方式</th>\n",
       "      <th>去程时间</th>\n",
       "      <th>回程航司</th>\n",
       "      <th>回程方式</th>\n",
       "      <th>回程时间</th>\n",
       "      <th>酒店评分</th>\n",
       "      <th>酒店等级</th>\n",
       "      <th>天数</th>\n",
       "    </tr>\n",
       "  </thead>\n",
       "  <tbody>\n",
       "    <tr>\n",
       "      <th>0</th>\n",
       "      <td>哈尔滨</td>\n",
       "      <td>北海</td>\n",
       "      <td>2208.0</td>\n",
       "      <td>650.0</td>\n",
       "      <td>哈尔滨-北海3天2晚 | 入住北海祥丰嘉年华大酒店 + 春秋航空往返机票</td>\n",
       "      <td>北海祥丰嘉年华大酒店 舒适型 4.7分/5分</td>\n",
       "      <td>标准双人间(双床) 双床 不含早 1间2晚</td>\n",
       "      <td>春秋航空 9C8741</td>\n",
       "      <td>直飞</td>\n",
       "      <td>17:10-21:50</td>\n",
       "      <td>春秋航空 9C8742</td>\n",
       "      <td>直飞</td>\n",
       "      <td>10:20-15:05</td>\n",
       "      <td>4.7</td>\n",
       "      <td>舒适型</td>\n",
       "      <td>3</td>\n",
       "    </tr>\n",
       "    <tr>\n",
       "      <th>1</th>\n",
       "      <td>成都</td>\n",
       "      <td>泸沽湖</td>\n",
       "      <td>1145.0</td>\n",
       "      <td>376.0</td>\n",
       "      <td>成都-泸沽湖3天2晚 | 入住7天酒店丽江古城中心店 + 成都航空往返机票</td>\n",
       "      <td>7天酒店丽江古城中心店 经济型 4.0分/5分</td>\n",
       "      <td>经济房-不含早-限时特... 其他 不含早 1间2晚</td>\n",
       "      <td>成都航空 EU2237</td>\n",
       "      <td>直飞</td>\n",
       "      <td>19:45-21:20</td>\n",
       "      <td>成都航空 EU2738</td>\n",
       "      <td>直飞</td>\n",
       "      <td>23:30-01:05</td>\n",
       "      <td>4.0</td>\n",
       "      <td>经济型</td>\n",
       "      <td>3</td>\n",
       "    </tr>\n",
       "    <tr>\n",
       "      <th>2</th>\n",
       "      <td>广州</td>\n",
       "      <td>沈阳</td>\n",
       "      <td>2702.0</td>\n",
       "      <td>618.0</td>\n",
       "      <td>广州-沈阳3天2晚 | 入住沈阳中煤宾馆 + 南方航空/深圳航空往返机票</td>\n",
       "      <td>沈阳中煤宾馆 舒适型 4.5分/5分</td>\n",
       "      <td>大床间(内宾) 大床 双早 1间2晚</td>\n",
       "      <td>南方航空 CZ6384</td>\n",
       "      <td>直飞</td>\n",
       "      <td>08:05-11:45</td>\n",
       "      <td>深圳航空 ZH9652</td>\n",
       "      <td>经停</td>\n",
       "      <td>08:20-13:05</td>\n",
       "      <td>4.5</td>\n",
       "      <td>舒适型</td>\n",
       "      <td>3</td>\n",
       "    </tr>\n",
       "    <tr>\n",
       "      <th>3</th>\n",
       "      <td>上海</td>\n",
       "      <td>九寨沟</td>\n",
       "      <td>1954.0</td>\n",
       "      <td>484.0</td>\n",
       "      <td>上海-九寨沟3天2晚 | 入住红原芸谊大酒店 + 成都航空往返机票</td>\n",
       "      <td>红原芸谊大酒店 舒适型 4.6分/5分</td>\n",
       "      <td>豪华双床房[双早] 双床 双早 1间2晚</td>\n",
       "      <td>成都航空 EU6678</td>\n",
       "      <td>直飞</td>\n",
       "      <td>21:55-01:15</td>\n",
       "      <td>成都航空 EU6677</td>\n",
       "      <td>直飞</td>\n",
       "      <td>17:45-20:35</td>\n",
       "      <td>4.6</td>\n",
       "      <td>舒适型</td>\n",
       "      <td>3</td>\n",
       "    </tr>\n",
       "    <tr>\n",
       "      <th>4</th>\n",
       "      <td>广州</td>\n",
       "      <td>天津</td>\n",
       "      <td>1608.0</td>\n",
       "      <td>422.0</td>\n",
       "      <td>广州-天津3天2晚 | 入住天津逸海明珠大酒店 + 奥凯航空/海南航空往返机票</td>\n",
       "      <td>天津逸海明珠大酒店 高档型 4.1分/5分</td>\n",
       "      <td>豪华双床房(预付) 双床 不含早 1间2晚</td>\n",
       "      <td>奥凯航空 BK2787</td>\n",
       "      <td>直飞</td>\n",
       "      <td>06:55-10:00</td>\n",
       "      <td>海南航空 HU7201</td>\n",
       "      <td>直飞</td>\n",
       "      <td>20:15-23:25</td>\n",
       "      <td>4.1</td>\n",
       "      <td>高档型</td>\n",
       "      <td>3</td>\n",
       "    </tr>\n",
       "  </tbody>\n",
       "</table>\n",
       "</div>"
      ],
      "text/plain": [
       "  出发地   目的地     价格      节省                                      路线名  \\\n",
       "0  哈尔滨   北海  2208.0  650.0     哈尔滨-北海3天2晚 | 入住北海祥丰嘉年华大酒店 + 春秋航空往返机票   \n",
       "1   成都  泸沽湖  1145.0  376.0    成都-泸沽湖3天2晚 | 入住7天酒店丽江古城中心店 + 成都航空往返机票   \n",
       "2   广州   沈阳  2702.0  618.0     广州-沈阳3天2晚 | 入住沈阳中煤宾馆 + 南方航空/深圳航空往返机票   \n",
       "3   上海  九寨沟  1954.0  484.0        上海-九寨沟3天2晚 | 入住红原芸谊大酒店 + 成都航空往返机票   \n",
       "4   广州   天津  1608.0  422.0  广州-天津3天2晚 | 入住天津逸海明珠大酒店 + 奥凯航空/海南航空往返机票   \n",
       "\n",
       "                        酒店                          房间         去程航司 去程方式  \\\n",
       "0   北海祥丰嘉年华大酒店 舒适型 4.7分/5分       标准双人间(双床) 双床 不含早 1间2晚  春秋航空 9C8741   直飞   \n",
       "1  7天酒店丽江古城中心店 经济型 4.0分/5分  经济房-不含早-限时特... 其他 不含早 1间2晚  成都航空 EU2237   直飞   \n",
       "2       沈阳中煤宾馆 舒适型 4.5分/5分          大床间(内宾) 大床 双早 1间2晚  南方航空 CZ6384   直飞   \n",
       "3      红原芸谊大酒店 舒适型 4.6分/5分        豪华双床房[双早] 双床 双早 1间2晚  成都航空 EU6678   直飞   \n",
       "4    天津逸海明珠大酒店 高档型 4.1分/5分       豪华双床房(预付) 双床 不含早 1间2晚  奥凯航空 BK2787   直飞   \n",
       "\n",
       "          去程时间         回程航司 回程方式          回程时间 酒店评分 酒店等级 天数  \n",
       "0  17:10-21:50  春秋航空 9C8742    直飞  10:20-15:05  4.7  舒适型  3  \n",
       "1  19:45-21:20  成都航空 EU2738    直飞  23:30-01:05  4.0  经济型  3  \n",
       "2  08:05-11:45  深圳航空 ZH9652    经停  08:20-13:05  4.5  舒适型  3  \n",
       "3  21:55-01:15  成都航空 EU6677    直飞  17:45-20:35  4.6  舒适型  3  \n",
       "4  06:55-10:00  海南航空 HU7201    直飞  20:15-23:25  4.1  高档型  3  "
      ]
     },
     "execution_count": 26,
     "metadata": {},
     "output_type": "execute_result"
    }
   ],
   "source": [
    "# 提取天数\n",
    "df['天数'] = df['路线名'].str.extract('(\\d)天\\d晚') \n",
    "df.head()"
   ]
  },
  {
   "cell_type": "markdown",
   "metadata": {},
   "source": [
    "### 租房数据提取（练习）"
   ]
  },
  {
   "cell_type": "code",
   "execution_count": null,
   "metadata": {},
   "outputs": [],
   "source": []
  },
  {
   "cell_type": "code",
   "execution_count": null,
   "metadata": {},
   "outputs": [],
   "source": []
  },
  {
   "cell_type": "markdown",
   "metadata": {},
   "source": [
    "### 租房数据提取（答案）"
   ]
  },
  {
   "cell_type": "code",
   "execution_count": null,
   "metadata": {},
   "outputs": [],
   "source": []
  }
 ],
 "metadata": {
  "kernelspec": {
   "display_name": "Python 3",
   "language": "python",
   "name": "python3"
  },
  "language_info": {
   "codemirror_mode": {
    "name": "ipython",
    "version": 3
   },
   "file_extension": ".py",
   "mimetype": "text/x-python",
   "name": "python",
   "nbconvert_exporter": "python",
   "pygments_lexer": "ipython3",
   "version": "3.8.8"
  }
 },
 "nbformat": 4,
 "nbformat_minor": 2
}
