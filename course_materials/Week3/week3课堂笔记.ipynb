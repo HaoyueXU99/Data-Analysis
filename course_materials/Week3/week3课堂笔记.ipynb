{
 "cells": [
  {
   "cell_type": "markdown",
   "id": "patient-validity",
   "metadata": {},
   "source": [
    "# Week 3"
   ]
  },
  {
   "cell_type": "markdown",
   "id": "enormous-breast",
   "metadata": {},
   "source": [
    "## Series"
   ]
  },
  {
   "cell_type": "code",
   "execution_count": 32,
   "id": "dedicated-installation",
   "metadata": {},
   "outputs": [
    {
     "name": "stderr",
     "output_type": "stream",
     "text": [
      "/Users/haoyuexu/opt/anaconda3/lib/python3.8/site-packages/openpyxl/worksheet/_reader.py:312: UserWarning: Unknown extension is not supported and will be removed\n",
      "  warn(msg)\n"
     ]
    },
    {
     "data": {
      "text/html": [
       "<div>\n",
       "<style scoped>\n",
       "    .dataframe tbody tr th:only-of-type {\n",
       "        vertical-align: middle;\n",
       "    }\n",
       "\n",
       "    .dataframe tbody tr th {\n",
       "        vertical-align: top;\n",
       "    }\n",
       "\n",
       "    .dataframe thead th {\n",
       "        text-align: right;\n",
       "    }\n",
       "</style>\n",
       "<table border=\"1\" class=\"dataframe\">\n",
       "  <thead>\n",
       "    <tr style=\"text-align: right;\">\n",
       "      <th></th>\n",
       "      <th>id</th>\n",
       "      <th>age</th>\n",
       "      <th>place</th>\n",
       "    </tr>\n",
       "  </thead>\n",
       "  <tbody>\n",
       "    <tr>\n",
       "      <th>0</th>\n",
       "      <td>1</td>\n",
       "      <td>11</td>\n",
       "      <td>21</td>\n",
       "    </tr>\n",
       "    <tr>\n",
       "      <th>1</th>\n",
       "      <td>2</td>\n",
       "      <td>12</td>\n",
       "      <td>22</td>\n",
       "    </tr>\n",
       "    <tr>\n",
       "      <th>2</th>\n",
       "      <td>3</td>\n",
       "      <td>13</td>\n",
       "      <td>23</td>\n",
       "    </tr>\n",
       "    <tr>\n",
       "      <th>3</th>\n",
       "      <td>4</td>\n",
       "      <td>14</td>\n",
       "      <td>24</td>\n",
       "    </tr>\n",
       "    <tr>\n",
       "      <th>4</th>\n",
       "      <td>5</td>\n",
       "      <td>15</td>\n",
       "      <td>25</td>\n",
       "    </tr>\n",
       "    <tr>\n",
       "      <th>5</th>\n",
       "      <td>6</td>\n",
       "      <td>16</td>\n",
       "      <td>26</td>\n",
       "    </tr>\n",
       "    <tr>\n",
       "      <th>6</th>\n",
       "      <td>7</td>\n",
       "      <td>17</td>\n",
       "      <td>27</td>\n",
       "    </tr>\n",
       "    <tr>\n",
       "      <th>7</th>\n",
       "      <td>8</td>\n",
       "      <td>18</td>\n",
       "      <td>28</td>\n",
       "    </tr>\n",
       "    <tr>\n",
       "      <th>8</th>\n",
       "      <td>9</td>\n",
       "      <td>19</td>\n",
       "      <td>29</td>\n",
       "    </tr>\n",
       "    <tr>\n",
       "      <th>9</th>\n",
       "      <td>10</td>\n",
       "      <td>20</td>\n",
       "      <td>30</td>\n",
       "    </tr>\n",
       "  </tbody>\n",
       "</table>\n",
       "</div>"
      ],
      "text/plain": [
       "   id  age  place\n",
       "0   1   11     21\n",
       "1   2   12     22\n",
       "2   3   13     23\n",
       "3   4   14     24\n",
       "4   5   15     25\n",
       "5   6   16     26\n",
       "6   7   17     27\n",
       "7   8   18     28\n",
       "8   9   19     29\n",
       "9  10   20     30"
      ]
     },
     "execution_count": 32,
     "metadata": {},
     "output_type": "execute_result"
    }
   ],
   "source": [
    "import pandas as pd\n",
    "\n",
    "df = pd.read_excel(\"data_excel.xlsx\")\n",
    "df"
   ]
  },
  {
   "cell_type": "code",
   "execution_count": 4,
   "id": "behavioral-negotiation",
   "metadata": {},
   "outputs": [
    {
     "data": {
      "text/plain": [
       "pandas.core.series.Series"
      ]
     },
     "execution_count": 4,
     "metadata": {},
     "output_type": "execute_result"
    }
   ],
   "source": [
    "type(df[\"id\"])\n",
    "# 每一列都是series数据类型"
   ]
  },
  {
   "cell_type": "code",
   "execution_count": 5,
   "id": "altered-seeker",
   "metadata": {},
   "outputs": [
    {
     "data": {
      "text/plain": [
       "0    1\n",
       "1    2\n",
       "2    3\n",
       "3    4\n",
       "4    5\n",
       "dtype: int64"
      ]
     },
     "execution_count": 5,
     "metadata": {},
     "output_type": "execute_result"
    }
   ],
   "source": [
    "# 声明一个series数据类型\n",
    "obj = pd.Series([1,2,3,4,5])\n",
    "obj"
   ]
  },
  {
   "cell_type": "code",
   "execution_count": 6,
   "id": "demonstrated-norway",
   "metadata": {},
   "outputs": [
    {
     "data": {
      "text/plain": [
       "array([1, 2, 3, 4, 5])"
      ]
     },
     "execution_count": 6,
     "metadata": {},
     "output_type": "execute_result"
    }
   ],
   "source": [
    "# 单独获取索引和值\n",
    "obj.values"
   ]
  },
  {
   "cell_type": "code",
   "execution_count": 8,
   "id": "freelance-routine",
   "metadata": {},
   "outputs": [
    {
     "data": {
      "text/plain": [
       "4    a\n",
       "5    b\n",
       "6    c\n",
       "7    d\n",
       "dtype: object"
      ]
     },
     "execution_count": 8,
     "metadata": {},
     "output_type": "execute_result"
    }
   ],
   "source": [
    "# 自定义索引如何操作\n",
    "d = pd.Series([\"a\",\"b\",\"c\",\"d\"],index = [4,5,6,7])\n",
    "d"
   ]
  },
  {
   "cell_type": "code",
   "execution_count": 9,
   "id": "cooperative-pride",
   "metadata": {},
   "outputs": [
    {
     "data": {
      "text/plain": [
       "'a'"
      ]
     },
     "execution_count": 9,
     "metadata": {},
     "output_type": "execute_result"
    }
   ],
   "source": [
    "# 通过索引的方式来获取值\n",
    "#  Series 访问行\n",
    "d[4]"
   ]
  },
  {
   "cell_type": "code",
   "execution_count": 15,
   "id": "handmade-athletics",
   "metadata": {},
   "outputs": [
    {
     "data": {
      "text/plain": [
       "a    10000\n",
       "b    20000\n",
       "c    30000\n",
       "dtype: int64"
      ]
     },
     "execution_count": 15,
     "metadata": {},
     "output_type": "execute_result"
    }
   ],
   "source": [
    "# 申明Series数据类型的第二种方法\n",
    "d2 = {'a':10000,'b':20000,'c':30000}\n",
    "obj = pd.Series(d2)\n",
    "obj"
   ]
  },
  {
   "cell_type": "markdown",
   "id": "perceived-anatomy",
   "metadata": {},
   "source": [
    "### 结论：我们可以把一个字典类型的数据，直接变成series类型"
   ]
  },
  {
   "cell_type": "code",
   "execution_count": 16,
   "id": "similar-accordance",
   "metadata": {},
   "outputs": [
    {
     "data": {
      "text/plain": [
       "a    10000\n",
       "c    30000\n",
       "dtype: int64"
      ]
     },
     "execution_count": 16,
     "metadata": {},
     "output_type": "execute_result"
    }
   ],
   "source": [
    "# index 限制索引\n",
    "# 根据自己的需求，取出字典对应的值进行Series数据类型的转换\n",
    "keys = [\"a\",\"c\"]\n",
    "obj2 = pd.Series(d2,index = keys)\n",
    "obj2"
   ]
  },
  {
   "cell_type": "code",
   "execution_count": 19,
   "id": "unsigned-campus",
   "metadata": {},
   "outputs": [
    {
     "data": {
      "text/plain": [
       "a        NaN\n",
       "b    20000.0\n",
       "c    30000.0\n",
       "dtype: float64"
      ]
     },
     "execution_count": 19,
     "metadata": {},
     "output_type": "execute_result"
    }
   ],
   "source": [
    "## 缺失值的发现\n",
    "data = {\"a\":None,\"b\":20000,\"c\":30000}\n",
    "obj = pd.Series(data)\n",
    "obj"
   ]
  },
  {
   "cell_type": "code",
   "execution_count": 20,
   "id": "urban-rough",
   "metadata": {},
   "outputs": [
    {
     "data": {
      "text/plain": [
       "a     True\n",
       "b    False\n",
       "c    False\n",
       "dtype: bool"
      ]
     },
     "execution_count": 20,
     "metadata": {},
     "output_type": "execute_result"
    }
   ],
   "source": [
    "obj.isnull()"
   ]
  },
  {
   "cell_type": "code",
   "execution_count": 21,
   "id": "nuclear-closing",
   "metadata": {},
   "outputs": [
    {
     "data": {
      "text/plain": [
       "a     True\n",
       "b    False\n",
       "c    False\n",
       "dtype: bool"
      ]
     },
     "execution_count": 21,
     "metadata": {},
     "output_type": "execute_result"
    }
   ],
   "source": [
    "pd.isnull(obj)"
   ]
  },
  {
   "cell_type": "code",
   "execution_count": 22,
   "id": "disciplinary-smart",
   "metadata": {},
   "outputs": [
    {
     "data": {
      "text/plain": [
       "a    False\n",
       "b     True\n",
       "c     True\n",
       "dtype: bool"
      ]
     },
     "execution_count": 22,
     "metadata": {},
     "output_type": "execute_result"
    }
   ],
   "source": [
    "pd.notnull(obj)"
   ]
  },
  {
   "cell_type": "markdown",
   "id": "crucial-eleven",
   "metadata": {},
   "source": [
    "### 算数计算"
   ]
  },
  {
   "cell_type": "code",
   "execution_count": 24,
   "id": "parliamentary-trouble",
   "metadata": {},
   "outputs": [
    {
     "data": {
      "text/plain": [
       "a    1.3\n",
       "b    1.5\n",
       "c    2.6\n",
       "d   -3.5\n",
       "dtype: float64"
      ]
     },
     "execution_count": 24,
     "metadata": {},
     "output_type": "execute_result"
    }
   ],
   "source": [
    "d1 = pd.Series([1.3,1.5,2.6,-3.5], index = ['a','b','c','d'])\n",
    "d1\n"
   ]
  },
  {
   "cell_type": "code",
   "execution_count": 27,
   "id": "intimate-yahoo",
   "metadata": {},
   "outputs": [
    {
     "data": {
      "text/plain": [
       "a   -1.3\n",
       "c   -1.5\n",
       "b   -2.6\n",
       "d    3.9\n",
       "e    9.8\n",
       "dtype: float64"
      ]
     },
     "execution_count": 27,
     "metadata": {},
     "output_type": "execute_result"
    }
   ],
   "source": [
    "d2 = pd.Series([-1.3,-1.5,-2.6,3.9,9.8], index = ['a','c','b','d','e'])\n",
    "d2"
   ]
  },
  {
   "cell_type": "code",
   "execution_count": 28,
   "id": "herbal-teacher",
   "metadata": {},
   "outputs": [
    {
     "data": {
      "text/plain": [
       "a    0.0\n",
       "b   -1.1\n",
       "c    1.1\n",
       "d    0.4\n",
       "e    NaN\n",
       "dtype: float64"
      ]
     },
     "execution_count": 28,
     "metadata": {},
     "output_type": "execute_result"
    }
   ],
   "source": [
    "d1+d2"
   ]
  },
  {
   "cell_type": "markdown",
   "id": "afraid-society",
   "metadata": {},
   "source": [
    "### 两个Series在进行运算的时候，不重叠的地方是空值，重叠的地方进行运算"
   ]
  },
  {
   "cell_type": "markdown",
   "id": "welcome-secretary",
   "metadata": {},
   "source": [
    "### pandas 读取超大文件的时候怎么办\n",
    "### 基本思路是分块操作\n",
    "### python处理文件的时候，读取的是硬盘上的数据，而不需要把数据全部直接加载到内存中"
   ]
  },
  {
   "cell_type": "code",
   "execution_count": 30,
   "id": "prospective-dating",
   "metadata": {},
   "outputs": [
    {
     "data": {
      "text/html": [
       "<div>\n",
       "<style scoped>\n",
       "    .dataframe tbody tr th:only-of-type {\n",
       "        vertical-align: middle;\n",
       "    }\n",
       "\n",
       "    .dataframe tbody tr th {\n",
       "        vertical-align: top;\n",
       "    }\n",
       "\n",
       "    .dataframe thead th {\n",
       "        text-align: right;\n",
       "    }\n",
       "</style>\n",
       "<table border=\"1\" class=\"dataframe\">\n",
       "  <thead>\n",
       "    <tr style=\"text-align: right;\">\n",
       "      <th></th>\n",
       "      <th>name:ID</th>\n",
       "      <th>sex</th>\n",
       "      <th>age</th>\n",
       "      <th>:LABEL</th>\n",
       "    </tr>\n",
       "  </thead>\n",
       "  <tbody>\n",
       "    <tr>\n",
       "      <th>0</th>\n",
       "      <td>谢永林</td>\n",
       "      <td>男</td>\n",
       "      <td>50</td>\n",
       "      <td>people</td>\n",
       "    </tr>\n",
       "    <tr>\n",
       "      <th>1</th>\n",
       "      <td>胡跃飞</td>\n",
       "      <td>男</td>\n",
       "      <td>56</td>\n",
       "      <td>people</td>\n",
       "    </tr>\n",
       "    <tr>\n",
       "      <th>2</th>\n",
       "      <td>刘勇</td>\n",
       "      <td>男</td>\n",
       "      <td>49</td>\n",
       "      <td>people</td>\n",
       "    </tr>\n",
       "    <tr>\n",
       "      <th>3</th>\n",
       "      <td>朱季成</td>\n",
       "      <td>男</td>\n",
       "      <td>37</td>\n",
       "      <td>people</td>\n",
       "    </tr>\n",
       "    <tr>\n",
       "      <th>4</th>\n",
       "      <td>张丕杰</td>\n",
       "      <td>男</td>\n",
       "      <td>57</td>\n",
       "      <td>people</td>\n",
       "    </tr>\n",
       "  </tbody>\n",
       "</table>\n",
       "</div>"
      ],
      "text/plain": [
       "  name:ID sex  age  :LABEL\n",
       "0     谢永林   男   50  people\n",
       "1     胡跃飞   男   56  people\n",
       "2      刘勇   男   49  people\n",
       "3     朱季成   男   37  people\n",
       "4     张丕杰   男   57  people"
      ]
     },
     "execution_count": 30,
     "metadata": {},
     "output_type": "execute_result"
    }
   ],
   "source": [
    "# 以前的做法\n",
    "data = pd.read_csv(\"executive.csv\")\n",
    "data.head()"
   ]
  },
  {
   "cell_type": "code",
   "execution_count": 31,
   "id": "local-tourism",
   "metadata": {},
   "outputs": [],
   "source": [
    "# nrows 参数的作用 ： 限制读取多少行"
   ]
  },
  {
   "cell_type": "code",
   "execution_count": 33,
   "id": "known-luxembourg",
   "metadata": {},
   "outputs": [],
   "source": [
    "# chunksize = 100\n",
    "# 文本文件的读取对象"
   ]
  },
  {
   "cell_type": "markdown",
   "id": "usual-boards",
   "metadata": {},
   "source": [
    "## Numpy库\n",
    "- 其实它就是一个多维的数组（列表）对象\n",
    "- 其实每个数组都有一个shape方法和一个dtype方法\n",
    "- shape属性表示获取到列表的维度\n",
    "- dtypes属性表示获取到列表的类型"
   ]
  },
  {
   "cell_type": "code",
   "execution_count": 36,
   "id": "annual-pharmacy",
   "metadata": {},
   "outputs": [],
   "source": [
    "import numpy as np\n",
    "## pip install numpy"
   ]
  },
  {
   "cell_type": "code",
   "execution_count": 40,
   "id": "gross-minnesota",
   "metadata": {},
   "outputs": [
    {
     "data": {
      "text/plain": [
       "[1, 2, 3, 4]"
      ]
     },
     "execution_count": 40,
     "metadata": {},
     "output_type": "execute_result"
    }
   ],
   "source": [
    "data = [1,2,3,4]\n",
    "data\n",
    "# 这是一个数据类型，列表的"
   ]
  },
  {
   "cell_type": "code",
   "execution_count": 41,
   "id": "dominant-third",
   "metadata": {},
   "outputs": [
    {
     "data": {
      "text/plain": [
       "array([1, 2, 3, 4])"
      ]
     },
     "execution_count": 41,
     "metadata": {},
     "output_type": "execute_result"
    }
   ],
   "source": [
    "n = np.array(data)\n",
    "n\n",
    "# array 是一个numpy的对象"
   ]
  },
  {
   "cell_type": "code",
   "execution_count": 42,
   "id": "adequate-crawford",
   "metadata": {},
   "outputs": [
    {
     "data": {
      "text/plain": [
       "(4,)"
      ]
     },
     "execution_count": 42,
     "metadata": {},
     "output_type": "execute_result"
    }
   ],
   "source": [
    "n.shape"
   ]
  },
  {
   "cell_type": "code",
   "execution_count": 43,
   "id": "classified-simpson",
   "metadata": {},
   "outputs": [
    {
     "data": {
      "text/plain": [
       "dtype('int64')"
      ]
     },
     "execution_count": 43,
     "metadata": {},
     "output_type": "execute_result"
    }
   ],
   "source": [
    "n.dtype"
   ]
  },
  {
   "cell_type": "code",
   "execution_count": 45,
   "id": "monetary-rebound",
   "metadata": {},
   "outputs": [
    {
     "data": {
      "text/plain": [
       "array([1, 2, 3, 4, 1, 2, 3, 4, 1, 2, 3, 4, 1, 2, 3, 4, 1, 2, 3, 4, 1, 2,\n",
       "       3, 4, 1, 2, 3, 4, 1, 2, 3, 4, 1, 2, 3, 4, 1, 2, 3, 4])"
      ]
     },
     "execution_count": 45,
     "metadata": {},
     "output_type": "execute_result"
    }
   ],
   "source": [
    "n2 = np.array(data*10)\n",
    "n2"
   ]
  },
  {
   "cell_type": "code",
   "execution_count": 46,
   "id": "equal-scheduling",
   "metadata": {},
   "outputs": [],
   "source": [
    "#  列表做了一个封装"
   ]
  },
  {
   "cell_type": "code",
   "execution_count": 47,
   "id": "behavioral-imaging",
   "metadata": {},
   "outputs": [
    {
     "data": {
      "text/plain": [
       "(40,)"
      ]
     },
     "execution_count": 47,
     "metadata": {},
     "output_type": "execute_result"
    }
   ],
   "source": [
    "n2.shape"
   ]
  },
  {
   "cell_type": "code",
   "execution_count": 48,
   "id": "unable-butterfly",
   "metadata": {},
   "outputs": [
    {
     "data": {
      "text/plain": [
       "dtype('int64')"
      ]
     },
     "execution_count": 48,
     "metadata": {},
     "output_type": "execute_result"
    }
   ],
   "source": [
    "n2.dtype"
   ]
  },
  {
   "cell_type": "code",
   "execution_count": 50,
   "id": "chemical-accent",
   "metadata": {},
   "outputs": [
    {
     "data": {
      "text/plain": [
       "array([[1, 2, 3, 4],\n",
       "       [1, 2, 3, 4]])"
      ]
     },
     "execution_count": 50,
     "metadata": {},
     "output_type": "execute_result"
    }
   ],
   "source": [
    "### 嵌套序列：是由一组等长列表组成的列表\n",
    "arr = [[1,2,3,4],[1,2,3,4]]\n",
    "arr2 = np.array(arr)\n",
    "arr2"
   ]
  },
  {
   "cell_type": "code",
   "execution_count": 52,
   "id": "hydraulic-plaintiff",
   "metadata": {},
   "outputs": [
    {
     "data": {
      "text/plain": [
       "(2, 4)"
      ]
     },
     "execution_count": 52,
     "metadata": {},
     "output_type": "execute_result"
    }
   ],
   "source": [
    "arr2.shape"
   ]
  },
  {
   "cell_type": "code",
   "execution_count": 53,
   "id": "induced-bargain",
   "metadata": {},
   "outputs": [
    {
     "data": {
      "text/plain": [
       "2"
      ]
     },
     "execution_count": 53,
     "metadata": {},
     "output_type": "execute_result"
    }
   ],
   "source": [
    "arr2.ndim # ndim表示了维度"
   ]
  },
  {
   "cell_type": "code",
   "execution_count": 54,
   "id": "apparent-three",
   "metadata": {},
   "outputs": [
    {
     "data": {
      "text/plain": [
       "dtype('int64')"
      ]
     },
     "execution_count": 54,
     "metadata": {},
     "output_type": "execute_result"
    }
   ],
   "source": [
    "arr2.dtype"
   ]
  },
  {
   "cell_type": "code",
   "execution_count": 55,
   "id": "above-earth",
   "metadata": {},
   "outputs": [],
   "source": [
    "### 类型推断：numpy回对数据类型进行一个较为合理的推断"
   ]
  },
  {
   "cell_type": "code",
   "execution_count": 56,
   "id": "joined-canadian",
   "metadata": {},
   "outputs": [
    {
     "data": {
      "text/plain": [
       "array([['1', '2', '3', '4'],\n",
       "       ['5', '6', '7', '8']], dtype='<U1')"
      ]
     },
     "execution_count": 56,
     "metadata": {},
     "output_type": "execute_result"
    }
   ],
   "source": [
    "arr = [[\"1\",\"2\",3,4],[5,6,7,8]]\n",
    "arr2 = np.array(arr)\n",
    "arr2"
   ]
  },
  {
   "cell_type": "code",
   "execution_count": 57,
   "id": "dangerous-timer",
   "metadata": {},
   "outputs": [
    {
     "data": {
      "text/plain": [
       "dtype('<U1')"
      ]
     },
     "execution_count": 57,
     "metadata": {},
     "output_type": "execute_result"
    }
   ],
   "source": [
    "arr2.dtype\n",
    "# <u1 unicode类型 理解为字符串"
   ]
  },
  {
   "cell_type": "code",
   "execution_count": 60,
   "id": "international-scheme",
   "metadata": {},
   "outputs": [
    {
     "data": {
      "text/plain": [
       "array([[1.2, 2. , 3. , 4. ],\n",
       "       [5. , 6. , 7. , 8. ]])"
      ]
     },
     "execution_count": 60,
     "metadata": {},
     "output_type": "execute_result"
    }
   ],
   "source": [
    "arr = [[1.2,2,3,4],[5,6,7,8]]\n",
    "arr2 = np.array(arr)\n",
    "arr2"
   ]
  },
  {
   "cell_type": "code",
   "execution_count": 61,
   "id": "reported-tobacco",
   "metadata": {},
   "outputs": [
    {
     "data": {
      "text/plain": [
       "dtype('float64')"
      ]
     },
     "execution_count": 61,
     "metadata": {},
     "output_type": "execute_result"
    }
   ],
   "source": [
    "arr2.dtype"
   ]
  },
  {
   "cell_type": "code",
   "execution_count": 62,
   "id": "mechanical-restoration",
   "metadata": {},
   "outputs": [],
   "source": [
    "## numpy 还可以进行制定长度数组的创建\n",
    "## 利用zeros/ ones / empty 这几个函数可以帮助我们创建一些默认的array对象"
   ]
  },
  {
   "cell_type": "code",
   "execution_count": 63,
   "id": "critical-republican",
   "metadata": {},
   "outputs": [
    {
     "data": {
      "text/plain": [
       "array([0., 0., 0., 0., 0., 0., 0., 0., 0., 0.])"
      ]
     },
     "execution_count": 63,
     "metadata": {},
     "output_type": "execute_result"
    }
   ],
   "source": [
    "np.zeros(10)"
   ]
  },
  {
   "cell_type": "code",
   "execution_count": 64,
   "id": "cross-representative",
   "metadata": {},
   "outputs": [
    {
     "data": {
      "text/plain": [
       "array([[1., 1., 1.],\n",
       "       [1., 1., 1.]])"
      ]
     },
     "execution_count": 64,
     "metadata": {},
     "output_type": "execute_result"
    }
   ],
   "source": [
    "np.ones((2,3))"
   ]
  },
  {
   "cell_type": "code",
   "execution_count": 65,
   "id": "combined-diameter",
   "metadata": {},
   "outputs": [
    {
     "data": {
      "text/plain": [
       "array([1.72723371e-077, 1.72723371e-077, 4.71603352e+180])"
      ]
     },
     "execution_count": 65,
     "metadata": {},
     "output_type": "execute_result"
    }
   ],
   "source": [
    "np.empty(3)"
   ]
  },
  {
   "cell_type": "code",
   "execution_count": 73,
   "id": "pursuant-treasure",
   "metadata": {},
   "outputs": [
    {
     "data": {
      "text/plain": [
       "array([0, 1, 2, 3, 4, 5, 6, 7, 8, 9])"
      ]
     },
     "execution_count": 73,
     "metadata": {},
     "output_type": "execute_result"
    }
   ],
   "source": [
    "# arange 是range 函数的数据的版本\n",
    "# arange 其实就是一个array range 这个意思\n",
    "np.arange(10)"
   ]
  },
  {
   "cell_type": "code",
   "execution_count": 68,
   "id": "compressed-litigation",
   "metadata": {},
   "outputs": [
    {
     "data": {
      "text/plain": [
       "range(0, 10)"
      ]
     },
     "execution_count": 68,
     "metadata": {},
     "output_type": "execute_result"
    }
   ],
   "source": [
    "i = range(10)\n",
    "i"
   ]
  },
  {
   "cell_type": "code",
   "execution_count": 71,
   "id": "potential-project",
   "metadata": {},
   "outputs": [
    {
     "data": {
      "text/plain": [
       "range"
      ]
     },
     "execution_count": 71,
     "metadata": {},
     "output_type": "execute_result"
    }
   ],
   "source": [
    "type(i)"
   ]
  },
  {
   "cell_type": "markdown",
   "id": "controlling-assessment",
   "metadata": {},
   "source": [
    "### 数据类型转换"
   ]
  },
  {
   "cell_type": "code",
   "execution_count": 78,
   "id": "coupled-north",
   "metadata": {},
   "outputs": [
    {
     "data": {
      "text/plain": [
       "array([ 1.2,  1.6,  1. ,  8. , -2.3, -5.8])"
      ]
     },
     "execution_count": 78,
     "metadata": {},
     "output_type": "execute_result"
    }
   ],
   "source": [
    "arr = np.array([1.2,1.6,1,8,-2.3,-5.8])\n",
    "arr"
   ]
  },
  {
   "cell_type": "code",
   "execution_count": 79,
   "id": "olive-footwear",
   "metadata": {},
   "outputs": [
    {
     "data": {
      "text/plain": [
       "dtype('float64')"
      ]
     },
     "execution_count": 79,
     "metadata": {},
     "output_type": "execute_result"
    }
   ],
   "source": [
    "## 类型转换，转换成int\n",
    "arr.astype(np.int32)\n",
    "arr.dtype"
   ]
  },
  {
   "cell_type": "code",
   "execution_count": null,
   "id": "ongoing-mountain",
   "metadata": {},
   "outputs": [],
   "source": []
  },
  {
   "cell_type": "markdown",
   "id": "dramatic-inclusion",
   "metadata": {},
   "source": [
    "### 矢量化操作\n",
    "数组通常在不需要编写循环的情况下就可以进行批量运算，这就加欧总矢量化操作"
   ]
  },
  {
   "cell_type": "code",
   "execution_count": 80,
   "id": "interesting-chassis",
   "metadata": {},
   "outputs": [
    {
     "data": {
      "text/plain": [
       "array([2, 4, 6, 8])"
      ]
     },
     "execution_count": 80,
     "metadata": {},
     "output_type": "execute_result"
    }
   ],
   "source": [
    "arr1 = np.array([1,2,3,4])\n",
    "arr2 = np.array([1,2,3,4])\n",
    "arr1+arr2"
   ]
  },
  {
   "cell_type": "code",
   "execution_count": 83,
   "id": "double-characteristic",
   "metadata": {},
   "outputs": [
    {
     "data": {
      "text/plain": [
       "array([[ 2,  4,  6,  8],\n",
       "       [11, 13, 15, 17]])"
      ]
     },
     "execution_count": 83,
     "metadata": {},
     "output_type": "execute_result"
    }
   ],
   "source": [
    "arr1 = np.array([[1,2,3,4],[5,6,7,8]])\n",
    "arr2 = np.array([[1,2,3,4],[6,7,8,9]])\n",
    "arr1+arr2"
   ]
  },
  {
   "cell_type": "code",
   "execution_count": 84,
   "id": "improved-toner",
   "metadata": {},
   "outputs": [
    {
     "data": {
      "text/plain": [
       "array([[ 1,  4,  9, 16],\n",
       "       [30, 42, 56, 72]])"
      ]
     },
     "execution_count": 84,
     "metadata": {},
     "output_type": "execute_result"
    }
   ],
   "source": [
    "arr1 *arr2"
   ]
  },
  {
   "cell_type": "code",
   "execution_count": 85,
   "id": "public-prior",
   "metadata": {},
   "outputs": [
    {
     "data": {
      "text/plain": [
       "array([[1.        , 1.        , 1.        , 1.        ],\n",
       "       [0.83333333, 0.85714286, 0.875     , 0.88888889]])"
      ]
     },
     "execution_count": 85,
     "metadata": {},
     "output_type": "execute_result"
    }
   ],
   "source": [
    "arr1/arr2"
   ]
  },
  {
   "cell_type": "code",
   "execution_count": 86,
   "id": "medical-increase",
   "metadata": {},
   "outputs": [
    {
     "data": {
      "text/plain": [
       "array([[ 5, 10, 15, 20],\n",
       "       [25, 30, 35, 40]])"
      ]
     },
     "execution_count": 86,
     "metadata": {},
     "output_type": "execute_result"
    }
   ],
   "source": [
    "5*arr1"
   ]
  },
  {
   "cell_type": "code",
   "execution_count": 88,
   "id": "motivated-spoke",
   "metadata": {},
   "outputs": [
    {
     "data": {
      "text/plain": [
       "array([0, 1, 2, 3, 4, 5, 6, 7, 8, 9])"
      ]
     },
     "execution_count": 88,
     "metadata": {},
     "output_type": "execute_result"
    }
   ],
   "source": [
    "### 基本的索引和切片操作\n",
    "arr = np.arange(10)\n",
    "arr"
   ]
  },
  {
   "cell_type": "code",
   "execution_count": 89,
   "id": "filled-store",
   "metadata": {},
   "outputs": [
    {
     "data": {
      "text/plain": [
       "3"
      ]
     },
     "execution_count": 89,
     "metadata": {},
     "output_type": "execute_result"
    }
   ],
   "source": [
    "arr[3]"
   ]
  },
  {
   "cell_type": "code",
   "execution_count": 90,
   "id": "weird-christian",
   "metadata": {},
   "outputs": [
    {
     "data": {
      "text/plain": [
       "array([4, 5, 6, 7, 8, 9])"
      ]
     },
     "execution_count": 90,
     "metadata": {},
     "output_type": "execute_result"
    }
   ],
   "source": [
    "## 现在我们要访问4及以后的元素\n",
    "arr[4:]"
   ]
  },
  {
   "cell_type": "code",
   "execution_count": 92,
   "id": "certified-folks",
   "metadata": {},
   "outputs": [
    {
     "data": {
      "text/plain": [
       "array([9, 9, 9, 9, 4, 5, 6, 7, 8, 9])"
      ]
     },
     "execution_count": 92,
     "metadata": {},
     "output_type": "execute_result"
    }
   ],
   "source": [
    "arr[0:4] = 9 # 将一个标量的值赋值给一个切片时，该值回自动的传播到整个区域，并且直接影响到原数据的值\n",
    "arr"
   ]
  },
  {
   "cell_type": "code",
   "execution_count": 94,
   "id": "apart-quick",
   "metadata": {},
   "outputs": [
    {
     "data": {
      "text/plain": [
       "array([9, 9, 9, 9, 4, 5, 6, 7, 8, 9])"
      ]
     },
     "execution_count": 94,
     "metadata": {},
     "output_type": "execute_result"
    }
   ],
   "source": [
    "## 复制\n",
    "a = arr.copy()\n",
    "a"
   ]
  },
  {
   "cell_type": "code",
   "execution_count": 97,
   "id": "under-conducting",
   "metadata": {},
   "outputs": [
    {
     "data": {
      "text/plain": [
       "array([[1, 2, 3, 4],\n",
       "       [5, 6, 7, 8]])"
      ]
     },
     "execution_count": 97,
     "metadata": {},
     "output_type": "execute_result"
    }
   ],
   "source": [
    "## 访问二维数组\n",
    "arr3 = np.array([[1,2,3,4],[5,6,7,8]])\n",
    "arr3"
   ]
  },
  {
   "cell_type": "code",
   "execution_count": 98,
   "id": "acquired-smell",
   "metadata": {},
   "outputs": [
    {
     "data": {
      "text/plain": [
       "array([1, 2, 3, 4])"
      ]
     },
     "execution_count": 98,
     "metadata": {},
     "output_type": "execute_result"
    }
   ],
   "source": [
    "arr3[0]"
   ]
  },
  {
   "cell_type": "code",
   "execution_count": 99,
   "id": "ongoing-tampa",
   "metadata": {},
   "outputs": [
    {
     "data": {
      "text/plain": [
       "2"
      ]
     },
     "execution_count": 99,
     "metadata": {},
     "output_type": "execute_result"
    }
   ],
   "source": [
    "arr3[0][1]"
   ]
  },
  {
   "cell_type": "code",
   "execution_count": 100,
   "id": "finished-lawyer",
   "metadata": {},
   "outputs": [
    {
     "data": {
      "text/plain": [
       "8"
      ]
     },
     "execution_count": 100,
     "metadata": {},
     "output_type": "execute_result"
    }
   ],
   "source": [
    "arr3[1,3]"
   ]
  },
  {
   "cell_type": "markdown",
   "id": "surgical-trailer",
   "metadata": {},
   "source": [
    "### 比较运算"
   ]
  },
  {
   "cell_type": "code",
   "execution_count": 102,
   "id": "raised-underwear",
   "metadata": {},
   "outputs": [
    {
     "data": {
      "text/plain": [
       "array(['zhoudongyu', 'xukai', 'liqin'], dtype='<U10')"
      ]
     },
     "execution_count": 102,
     "metadata": {},
     "output_type": "execute_result"
    }
   ],
   "source": [
    "# 之前多条件运算时，我们使用的是 and 和 or\n",
    "names = np.array([\"zhoudongyu\",\"xukai\",\"liqin\"])\n",
    "names"
   ]
  },
  {
   "cell_type": "code",
   "execution_count": 103,
   "id": "viral-vinyl",
   "metadata": {},
   "outputs": [
    {
     "data": {
      "text/plain": [
       "array([False,  True, False])"
      ]
     },
     "execution_count": 103,
     "metadata": {},
     "output_type": "execute_result"
    }
   ],
   "source": [
    "names == \"xukai\""
   ]
  },
  {
   "cell_type": "code",
   "execution_count": 106,
   "id": "understanding-drink",
   "metadata": {},
   "outputs": [
    {
     "ename": "ValueError",
     "evalue": "The truth value of an array with more than one element is ambiguous. Use a.any() or a.all()",
     "output_type": "error",
     "traceback": [
      "\u001b[0;31m---------------------------------------------------------------------------\u001b[0m",
      "\u001b[0;31mValueError\u001b[0m                                Traceback (most recent call last)",
      "\u001b[0;32m<ipython-input-106-dab87124bd70>\u001b[0m in \u001b[0;36m<module>\u001b[0;34m\u001b[0m\n\u001b[0;32m----> 1\u001b[0;31m \u001b[0mnames\u001b[0m \u001b[0;34m==\u001b[0m \u001b[0;34m\"xukai\"\u001b[0m \u001b[0;32mand\u001b[0m \u001b[0;34m\"liqin\"\u001b[0m\u001b[0;34m\u001b[0m\u001b[0;34m\u001b[0m\u001b[0m\n\u001b[0m",
      "\u001b[0;31mValueError\u001b[0m: The truth value of an array with more than one element is ambiguous. Use a.any() or a.all()"
     ]
    }
   ],
   "source": [
    "names == \"xukai\" and names == \"liqin\""
   ]
  },
  {
   "cell_type": "code",
   "execution_count": 107,
   "id": "resident-hydrogen",
   "metadata": {},
   "outputs": [
    {
     "data": {
      "text/plain": [
       "array([False, False, False])"
      ]
     },
     "execution_count": 107,
     "metadata": {},
     "output_type": "execute_result"
    }
   ],
   "source": [
    "(names == \"xukai\") & (names == \"liqin\")"
   ]
  },
  {
   "cell_type": "code",
   "execution_count": 108,
   "id": "induced-vault",
   "metadata": {},
   "outputs": [
    {
     "data": {
      "text/plain": [
       "array([False,  True,  True])"
      ]
     },
     "execution_count": 108,
     "metadata": {},
     "output_type": "execute_result"
    }
   ],
   "source": [
    "(names == \"xukai\") | (names == \"liqin\")"
   ]
  },
  {
   "cell_type": "markdown",
   "id": "involved-cause",
   "metadata": {},
   "source": [
    "### 我们使用numpy对象进行多条件的比较运算的时候，我们不能够使用and 和 or\n",
    "### 我们必须使用& 和 ｜"
   ]
  },
  {
   "cell_type": "markdown",
   "id": "cardiac-elevation",
   "metadata": {},
   "source": [
    "## 花式索引（fancy indexing ）, 他是一个NumPy中的术语，它指的是利用整数数组来进行索引的方式"
   ]
  },
  {
   "cell_type": "code",
   "execution_count": 109,
   "id": "suited-stability",
   "metadata": {},
   "outputs": [
    {
     "data": {
      "text/plain": [
       "array([[1.72723371e-077, 1.72723371e-077, 7.90505033e-323,\n",
       "        0.00000000e+000],\n",
       "       [0.00000000e+000, 5.02034658e+175, 4.18300609e-062,\n",
       "        2.83240777e-056],\n",
       "       [4.75359394e+174, 6.56052019e+169, 1.47763641e+248,\n",
       "        1.16096346e-028],\n",
       "       [7.69165785e+218, 1.35617292e+248, 6.38062304e+170,\n",
       "        4.71474675e-062],\n",
       "       [1.40460429e+165, 3.34881134e-061, 4.25759303e-096,\n",
       "        6.32299154e+233],\n",
       "       [6.48224638e+170, 5.22411352e+257, 5.74020278e+180,\n",
       "        8.37174974e-144],\n",
       "       [1.41529402e+161, 6.00736899e-067, 4.95296731e+097,\n",
       "        1.45243590e-047],\n",
       "       [3.24790277e+126, 5.90411176e+294, 2.68679876e+154,\n",
       "        2.22941950e-308]])"
      ]
     },
     "execution_count": 109,
     "metadata": {},
     "output_type": "execute_result"
    }
   ],
   "source": [
    "arr = np.empty((8,4))\n",
    "# 声明一个 8*4 的空列表\n",
    "arr"
   ]
  },
  {
   "cell_type": "code",
   "execution_count": 112,
   "id": "angry-dream",
   "metadata": {},
   "outputs": [
    {
     "data": {
      "text/plain": [
       "array([[0., 0., 0., 0.],\n",
       "       [1., 1., 1., 1.],\n",
       "       [2., 2., 2., 2.],\n",
       "       [3., 3., 3., 3.],\n",
       "       [4., 4., 4., 4.],\n",
       "       [5., 5., 5., 5.],\n",
       "       [6., 6., 6., 6.],\n",
       "       [7., 7., 7., 7.]])"
      ]
     },
     "execution_count": 112,
     "metadata": {},
     "output_type": "execute_result"
    }
   ],
   "source": [
    "# 赋值\n",
    "for i in range(8):\n",
    "    arr[i] = i\n",
    "arr"
   ]
  },
  {
   "cell_type": "code",
   "execution_count": 113,
   "id": "honest-schedule",
   "metadata": {},
   "outputs": [
    {
     "data": {
      "text/plain": [
       "array([[4., 4., 4., 4.],\n",
       "       [3., 3., 3., 3.],\n",
       "       [0., 0., 0., 0.],\n",
       "       [6., 6., 6., 6.]])"
      ]
     },
     "execution_count": 113,
     "metadata": {},
     "output_type": "execute_result"
    }
   ],
   "source": [
    "arr[[4,3,0,6]]"
   ]
  },
  {
   "cell_type": "code",
   "execution_count": 115,
   "id": "aware-coordinator",
   "metadata": {},
   "outputs": [
    {
     "data": {
      "text/plain": [
       "array([[ 0,  1,  2,  3],\n",
       "       [ 4,  5,  6,  7],\n",
       "       [ 8,  9, 10, 11],\n",
       "       [12, 13, 14, 15],\n",
       "       [16, 17, 18, 19],\n",
       "       [20, 21, 22, 23],\n",
       "       [24, 25, 26, 27],\n",
       "       [28, 29, 30, 31]])"
      ]
     },
     "execution_count": 115,
     "metadata": {},
     "output_type": "execute_result"
    }
   ],
   "source": [
    "## 以一个特定的顺序来选取行中的子集，我们传入一个用于指定顺序的整数列表，或数组\n",
    "## 这里也可以使用负数来进行索引\n",
    "arr = np.arange(32).reshape((8,4)) # 变成另外的形状\n",
    "arr"
   ]
  },
  {
   "cell_type": "code",
   "execution_count": 116,
   "id": "compact-dutch",
   "metadata": {},
   "outputs": [
    {
     "data": {
      "text/plain": [
       "array([[ 0],\n",
       "       [ 1],\n",
       "       [ 2],\n",
       "       [ 3],\n",
       "       [ 4],\n",
       "       [ 5],\n",
       "       [ 6],\n",
       "       [ 7],\n",
       "       [ 8],\n",
       "       [ 9],\n",
       "       [10],\n",
       "       [11],\n",
       "       [12],\n",
       "       [13],\n",
       "       [14],\n",
       "       [15],\n",
       "       [16],\n",
       "       [17],\n",
       "       [18],\n",
       "       [19],\n",
       "       [20],\n",
       "       [21],\n",
       "       [22],\n",
       "       [23],\n",
       "       [24],\n",
       "       [25],\n",
       "       [26],\n",
       "       [27],\n",
       "       [28],\n",
       "       [29],\n",
       "       [30],\n",
       "       [31]])"
      ]
     },
     "execution_count": 116,
     "metadata": {},
     "output_type": "execute_result"
    }
   ],
   "source": [
    "arr.reshape(-1,1)"
   ]
  },
  {
   "cell_type": "code",
   "execution_count": 117,
   "id": "found-procedure",
   "metadata": {},
   "outputs": [
    {
     "data": {
      "text/plain": [
       "array([[ 4,  5,  6,  7],\n",
       "       [20, 21, 22, 23],\n",
       "       [28, 29, 30, 31],\n",
       "       [ 8,  9, 10, 11]])"
      ]
     },
     "execution_count": 117,
     "metadata": {},
     "output_type": "execute_result"
    }
   ],
   "source": [
    "arr = np.arange(32).reshape((8,4)) # 变成另外的形状\n",
    "arr[[1,5,7,2]]"
   ]
  },
  {
   "cell_type": "code",
   "execution_count": 119,
   "id": "perceived-parts",
   "metadata": {},
   "outputs": [
    {
     "data": {
      "text/plain": [
       "array([ 4, 23, 29, 10])"
      ]
     },
     "execution_count": 119,
     "metadata": {},
     "output_type": "execute_result"
    }
   ],
   "source": [
    "\n",
    "arr[[1,5,7,2],[0,3,1,2]]"
   ]
  },
  {
   "cell_type": "code",
   "execution_count": 121,
   "id": "second-renewal",
   "metadata": {},
   "outputs": [
    {
     "data": {
      "text/plain": [
       "31"
      ]
     },
     "execution_count": 121,
     "metadata": {},
     "output_type": "execute_result"
    }
   ],
   "source": [
    "arr[[1,5,7,2]][2,3]\n",
    "# 第三行的第4个"
   ]
  },
  {
   "cell_type": "code",
   "execution_count": 122,
   "id": "corporate-trail",
   "metadata": {},
   "outputs": [
    {
     "data": {
      "text/plain": [
       "array([[ 4,  7,  5,  6],\n",
       "       [20, 23, 21, 22],\n",
       "       [28, 31, 29, 30],\n",
       "       [ 8, 11,  9, 10]])"
      ]
     },
     "execution_count": 122,
     "metadata": {},
     "output_type": "execute_result"
    }
   ],
   "source": [
    "arr[[1,5,7,2]][:,[0,3,1,2]]\n",
    "# 先行重排 后列重排"
   ]
  },
  {
   "cell_type": "code",
   "execution_count": 123,
   "id": "transparent-private",
   "metadata": {},
   "outputs": [
    {
     "data": {
      "text/plain": [
       "array([[ 4,  7,  5],\n",
       "       [20, 23, 21],\n",
       "       [28, 31, 29],\n",
       "       [ 8, 11,  9]])"
      ]
     },
     "execution_count": 123,
     "metadata": {},
     "output_type": "execute_result"
    }
   ],
   "source": [
    "# 行和列同时进行花式索引操作\n",
    "arr[[1,5,7,2]][:,[0,3,1]]"
   ]
  },
  {
   "cell_type": "code",
   "execution_count": 125,
   "id": "surprised-stupid",
   "metadata": {},
   "outputs": [
    {
     "data": {
      "text/plain": [
       "array([[ 0,  1,  2,  3,  4],\n",
       "       [ 5,  6,  7,  8,  9],\n",
       "       [10, 11, 12, 13, 14]])"
      ]
     },
     "execution_count": 125,
     "metadata": {},
     "output_type": "execute_result"
    }
   ],
   "source": [
    "## 转置操作\n",
    "arr = np.arange(15).reshape((3,5))\n",
    "arr"
   ]
  },
  {
   "cell_type": "code",
   "execution_count": 126,
   "id": "alone-investment",
   "metadata": {},
   "outputs": [
    {
     "data": {
      "text/plain": [
       "array([[ 0,  5, 10],\n",
       "       [ 1,  6, 11],\n",
       "       [ 2,  7, 12],\n",
       "       [ 3,  8, 13],\n",
       "       [ 4,  9, 14]])"
      ]
     },
     "execution_count": 126,
     "metadata": {},
     "output_type": "execute_result"
    }
   ],
   "source": [
    "arr.transpose()"
   ]
  },
  {
   "cell_type": "code",
   "execution_count": 128,
   "id": "ideal-battlefield",
   "metadata": {},
   "outputs": [
    {
     "data": {
      "text/plain": [
       "array([[ 0,  5, 10],\n",
       "       [ 1,  6, 11],\n",
       "       [ 2,  7, 12],\n",
       "       [ 3,  8, 13],\n",
       "       [ 4,  9, 14]])"
      ]
     },
     "execution_count": 128,
     "metadata": {},
     "output_type": "execute_result"
    }
   ],
   "source": [
    "a = arr.T\n",
    "a"
   ]
  },
  {
   "cell_type": "markdown",
   "id": "modern-reputation",
   "metadata": {},
   "source": [
    "## NumPy的降维操作"
   ]
  },
  {
   "cell_type": "code",
   "execution_count": 129,
   "id": "weekly-aspect",
   "metadata": {},
   "outputs": [],
   "source": [
    "arr = np.array([[1,100,1000],[2,200,2000],[3,300,3000]])"
   ]
  },
  {
   "cell_type": "code",
   "execution_count": 130,
   "id": "statutory-rhythm",
   "metadata": {},
   "outputs": [
    {
     "data": {
      "text/plain": [
       "array([[   1,  100, 1000],\n",
       "       [   2,  200, 2000],\n",
       "       [   3,  300, 3000]])"
      ]
     },
     "execution_count": 130,
     "metadata": {},
     "output_type": "execute_result"
    }
   ],
   "source": [
    "arr"
   ]
  },
  {
   "cell_type": "code",
   "execution_count": 131,
   "id": "willing-gravity",
   "metadata": {},
   "outputs": [
    {
     "data": {
      "text/plain": [
       "array([   1,  100, 1000,    2,  200, 2000,    3,  300, 3000])"
      ]
     },
     "execution_count": 131,
     "metadata": {},
     "output_type": "execute_result"
    }
   ],
   "source": [
    "## 默认排序的降维\n",
    "arr.ravel()"
   ]
  },
  {
   "cell_type": "code",
   "execution_count": 132,
   "id": "little-familiar",
   "metadata": {},
   "outputs": [
    {
     "data": {
      "text/plain": [
       "array([   1,  100, 1000,    2,  200, 2000,    3,  300, 3000])"
      ]
     },
     "execution_count": 132,
     "metadata": {},
     "output_type": "execute_result"
    }
   ],
   "source": [
    "arr.reshape(-1)"
   ]
  },
  {
   "cell_type": "code",
   "execution_count": 133,
   "id": "supported-logan",
   "metadata": {},
   "outputs": [
    {
     "data": {
      "text/plain": [
       "array([   1,  100, 1000,    2,  200, 2000,    3,  300, 3000])"
      ]
     },
     "execution_count": 133,
     "metadata": {},
     "output_type": "execute_result"
    }
   ],
   "source": [
    "arr.flatten()"
   ]
  },
  {
   "cell_type": "code",
   "execution_count": 134,
   "id": "tropical-defeat",
   "metadata": {},
   "outputs": [
    {
     "data": {
      "text/plain": [
       "array([   1,    2,    3,  100,  200,  300, 1000, 2000, 3000])"
      ]
     },
     "execution_count": 134,
     "metadata": {},
     "output_type": "execute_result"
    }
   ],
   "source": [
    "arr.ravel(order = \"F\")"
   ]
  },
  {
   "cell_type": "code",
   "execution_count": 135,
   "id": "alternative-india",
   "metadata": {},
   "outputs": [
    {
     "data": {
      "text/plain": [
       "array([   1,    2,    3,  100,  200,  300, 1000, 2000, 3000])"
      ]
     },
     "execution_count": 135,
     "metadata": {},
     "output_type": "execute_result"
    }
   ],
   "source": [
    "arr.reshape(-1,order = \"F\")"
   ]
  },
  {
   "cell_type": "code",
   "execution_count": 136,
   "id": "geographic-produce",
   "metadata": {},
   "outputs": [
    {
     "data": {
      "text/plain": [
       "array([   1,    2,    3,  100,  200,  300, 1000, 2000, 3000])"
      ]
     },
     "execution_count": 136,
     "metadata": {},
     "output_type": "execute_result"
    }
   ],
   "source": [
    "arr.flatten(order=\"F\")"
   ]
  },
  {
   "cell_type": "code",
   "execution_count": 137,
   "id": "helpful-animation",
   "metadata": {},
   "outputs": [],
   "source": [
    "## 降维之后值的修改"
   ]
  },
  {
   "cell_type": "code",
   "execution_count": 139,
   "id": "sustainable-dynamics",
   "metadata": {},
   "outputs": [],
   "source": [
    "arr = np.array([[1,100,1000],[2,200,2000],[3,300,3000]])"
   ]
  },
  {
   "cell_type": "code",
   "execution_count": 140,
   "id": "stable-documentation",
   "metadata": {},
   "outputs": [
    {
     "data": {
      "text/plain": [
       "array([   1,  100, 1000,    2,  200, 2000,    3,  300, 3000])"
      ]
     },
     "execution_count": 140,
     "metadata": {},
     "output_type": "execute_result"
    }
   ],
   "source": [
    "arr.flatten()"
   ]
  },
  {
   "cell_type": "code",
   "execution_count": 141,
   "id": "acquired-browse",
   "metadata": {},
   "outputs": [],
   "source": [
    "arr.flatten()[0]=200"
   ]
  },
  {
   "cell_type": "code",
   "execution_count": 143,
   "id": "institutional-return",
   "metadata": {},
   "outputs": [
    {
     "data": {
      "text/plain": [
       "array([[   1,  100, 1000],\n",
       "       [   2,  200, 2000],\n",
       "       [   3,  300, 3000]])"
      ]
     },
     "execution_count": 143,
     "metadata": {},
     "output_type": "execute_result"
    }
   ],
   "source": [
    "arr\n",
    "# flatten方法降维之后对值修改不改变原数据"
   ]
  },
  {
   "cell_type": "code",
   "execution_count": 145,
   "id": "mediterranean-substitute",
   "metadata": {},
   "outputs": [],
   "source": [
    "arr.ravel()[1]=1000"
   ]
  },
  {
   "cell_type": "code",
   "execution_count": 146,
   "id": "colonial-turner",
   "metadata": {},
   "outputs": [
    {
     "data": {
      "text/plain": [
       "array([[   1, 1000, 1000],\n",
       "       [   2,  200, 2000],\n",
       "       [   3,  300, 3000]])"
      ]
     },
     "execution_count": 146,
     "metadata": {},
     "output_type": "execute_result"
    }
   ],
   "source": [
    "arr"
   ]
  },
  {
   "cell_type": "code",
   "execution_count": 147,
   "id": "organic-seller",
   "metadata": {},
   "outputs": [],
   "source": [
    "# ravel方法降维以后进行值的修改会改变原来的数据\n"
   ]
  },
  {
   "cell_type": "code",
   "execution_count": 148,
   "id": "coral-capability",
   "metadata": {},
   "outputs": [
    {
     "data": {
      "text/plain": [
       "array([   1, 1000, 1000,    2,  200, 2000,    3,  300, 3000])"
      ]
     },
     "execution_count": 148,
     "metadata": {},
     "output_type": "execute_result"
    }
   ],
   "source": [
    "arr.reshape(-1)"
   ]
  },
  {
   "cell_type": "code",
   "execution_count": 149,
   "id": "useful-indication",
   "metadata": {},
   "outputs": [],
   "source": [
    "arr.reshape(-1)[2] = 3000"
   ]
  },
  {
   "cell_type": "code",
   "execution_count": 150,
   "id": "affiliated-gothic",
   "metadata": {},
   "outputs": [
    {
     "data": {
      "text/plain": [
       "array([[   1, 1000, 3000],\n",
       "       [   2,  200, 2000],\n",
       "       [   3,  300, 3000]])"
      ]
     },
     "execution_count": 150,
     "metadata": {},
     "output_type": "execute_result"
    }
   ],
   "source": [
    "arr"
   ]
  },
  {
   "cell_type": "code",
   "execution_count": 151,
   "id": "referenced-civilian",
   "metadata": {},
   "outputs": [],
   "source": [
    "## reshape 本质还是形状上的改变，同时降维以后改变值也修改原数据"
   ]
  },
  {
   "cell_type": "markdown",
   "id": "rational-bailey",
   "metadata": {},
   "source": [
    "## NumPy的堆叠操作\n",
    "其实就是数据的合并"
   ]
  },
  {
   "cell_type": "code",
   "execution_count": 156,
   "id": "intellectual-slave",
   "metadata": {},
   "outputs": [
    {
     "data": {
      "text/plain": [
       "array([[   1,  100, 1000],\n",
       "       [   2,  200, 2000],\n",
       "       [   3,  300, 3000]])"
      ]
     },
     "execution_count": 156,
     "metadata": {},
     "output_type": "execute_result"
    }
   ],
   "source": [
    "arr = np.array([[1,100,1000],[2,200,2000],[3,300,3000]])\n",
    "arr"
   ]
  },
  {
   "cell_type": "code",
   "execution_count": 157,
   "id": "mechanical-supervisor",
   "metadata": {},
   "outputs": [
    {
     "data": {
      "text/plain": [
       "array([1, 2, 3])"
      ]
     },
     "execution_count": 157,
     "metadata": {},
     "output_type": "execute_result"
    }
   ],
   "source": [
    "arr2 = np.array([1,2,3])\n",
    "arr2"
   ]
  },
  {
   "cell_type": "code",
   "execution_count": 159,
   "id": "reserved-concentrate",
   "metadata": {},
   "outputs": [
    {
     "data": {
      "text/plain": [
       "array([[   1,  100, 1000],\n",
       "       [   2,  200, 2000],\n",
       "       [   3,  300, 3000],\n",
       "       [   1,    2,    3]])"
      ]
     },
     "execution_count": 159,
     "metadata": {},
     "output_type": "execute_result"
    }
   ],
   "source": [
    "### 纵向堆叠\n",
    "np.vstack([arr,arr2])"
   ]
  },
  {
   "cell_type": "code",
   "execution_count": 161,
   "id": "suspected-papua",
   "metadata": {},
   "outputs": [
    {
     "data": {
      "text/plain": [
       "array([[   1,  100, 1000],\n",
       "       [   2,  200, 2000],\n",
       "       [   3,  300, 3000],\n",
       "       [   1,    2,    3]])"
      ]
     },
     "execution_count": 161,
     "metadata": {},
     "output_type": "execute_result"
    }
   ],
   "source": [
    "np.row_stack([arr,arr2])"
   ]
  },
  {
   "cell_type": "code",
   "execution_count": 163,
   "id": "suspended-conjunction",
   "metadata": {},
   "outputs": [
    {
     "data": {
      "text/plain": [
       "array([[5],\n",
       "       [6],\n",
       "       [7]])"
      ]
     },
     "execution_count": 163,
     "metadata": {},
     "output_type": "execute_result"
    }
   ],
   "source": [
    "arr3 = np.array([[5],[6],[7]])\n",
    "arr3"
   ]
  },
  {
   "cell_type": "code",
   "execution_count": 164,
   "id": "scientific-mercy",
   "metadata": {},
   "outputs": [
    {
     "data": {
      "text/plain": [
       "array([[   1,  100, 1000,    5],\n",
       "       [   2,  200, 2000,    6],\n",
       "       [   3,  300, 3000,    7]])"
      ]
     },
     "execution_count": 164,
     "metadata": {},
     "output_type": "execute_result"
    }
   ],
   "source": [
    "# 横向堆叠\n",
    "np.hstack([arr,arr3])"
   ]
  },
  {
   "cell_type": "code",
   "execution_count": 166,
   "id": "tested-ranch",
   "metadata": {},
   "outputs": [
    {
     "data": {
      "text/plain": [
       "array([[   1,  100, 1000,    5],\n",
       "       [   2,  200, 2000,    6],\n",
       "       [   3,  300, 3000,    7]])"
      ]
     },
     "execution_count": 166,
     "metadata": {},
     "output_type": "execute_result"
    }
   ],
   "source": [
    "np.column_stack([arr,arr3])"
   ]
  },
  {
   "cell_type": "markdown",
   "id": "greater-knife",
   "metadata": {},
   "source": [
    "## 广播运算"
   ]
  },
  {
   "cell_type": "code",
   "execution_count": 168,
   "id": "neural-guitar",
   "metadata": {},
   "outputs": [
    {
     "data": {
      "text/plain": [
       "array([[ 0,  1,  2,  3],\n",
       "       [ 4,  5,  6,  7],\n",
       "       [ 8,  9, 10, 11]])"
      ]
     },
     "execution_count": 168,
     "metadata": {},
     "output_type": "execute_result"
    }
   ],
   "source": [
    "import numpy as np\n",
    "# 利用随机数生成两个维度一致的数组\n",
    "arr1 = np.arange(12).reshape(3,4)\n",
    "arr1\n"
   ]
  },
  {
   "cell_type": "code",
   "execution_count": 169,
   "id": "negative-houston",
   "metadata": {},
   "outputs": [
    {
     "data": {
      "text/plain": [
       "array([[101, 102, 103, 104],\n",
       "       [105, 106, 107, 108],\n",
       "       [109, 110, 111, 112]])"
      ]
     },
     "execution_count": 169,
     "metadata": {},
     "output_type": "execute_result"
    }
   ],
   "source": [
    "arr2 = np.arange(101,113).reshape(3,4)\n",
    "arr2"
   ]
  },
  {
   "cell_type": "code",
   "execution_count": 172,
   "id": "billion-launch",
   "metadata": {},
   "outputs": [
    {
     "data": {
      "text/plain": [
       "array([[101, 103, 105, 107],\n",
       "       [109, 111, 113, 115],\n",
       "       [117, 119, 121, 123]])"
      ]
     },
     "execution_count": 172,
     "metadata": {},
     "output_type": "execute_result"
    }
   ],
   "source": [
    "## 这并不是广播运算，因为其维度一致\n",
    "arr1+arr2"
   ]
  },
  {
   "cell_type": "code",
   "execution_count": 174,
   "id": "authorized-reporter",
   "metadata": {},
   "outputs": [
    {
     "data": {
      "text/plain": [
       "array([[[ 0,  1,  2],\n",
       "        [ 3,  4,  5],\n",
       "        [ 6,  7,  8],\n",
       "        [ 9, 10, 11]],\n",
       "\n",
       "       [[12, 13, 14],\n",
       "        [15, 16, 17],\n",
       "        [18, 19, 20],\n",
       "        [21, 22, 23]],\n",
       "\n",
       "       [[24, 25, 26],\n",
       "        [27, 28, 29],\n",
       "        [30, 31, 32],\n",
       "        [33, 34, 35]],\n",
       "\n",
       "       [[36, 37, 38],\n",
       "        [39, 40, 41],\n",
       "        [42, 43, 44],\n",
       "        [45, 46, 47]],\n",
       "\n",
       "       [[48, 49, 50],\n",
       "        [51, 52, 53],\n",
       "        [54, 55, 56],\n",
       "        [57, 58, 59]]])"
      ]
     },
     "execution_count": 174,
     "metadata": {},
     "output_type": "execute_result"
    }
   ],
   "source": [
    "arr1 = np.arange(60).reshape(5,4,3)\n",
    "arr1"
   ]
  },
  {
   "cell_type": "code",
   "execution_count": 176,
   "id": "separated-ballet",
   "metadata": {},
   "outputs": [
    {
     "data": {
      "text/plain": [
       "array([[ 0,  1,  2],\n",
       "       [ 3,  4,  5],\n",
       "       [ 6,  7,  8],\n",
       "       [ 9, 10, 11]])"
      ]
     },
     "execution_count": 176,
     "metadata": {},
     "output_type": "execute_result"
    }
   ],
   "source": [
    "arr2 = np.arange(12).reshape(4,3)\n",
    "arr2"
   ]
  },
  {
   "cell_type": "code",
   "execution_count": 177,
   "id": "velvet-coral",
   "metadata": {},
   "outputs": [
    {
     "data": {
      "text/plain": [
       "array([[[ 0,  2,  4],\n",
       "        [ 6,  8, 10],\n",
       "        [12, 14, 16],\n",
       "        [18, 20, 22]],\n",
       "\n",
       "       [[12, 14, 16],\n",
       "        [18, 20, 22],\n",
       "        [24, 26, 28],\n",
       "        [30, 32, 34]],\n",
       "\n",
       "       [[24, 26, 28],\n",
       "        [30, 32, 34],\n",
       "        [36, 38, 40],\n",
       "        [42, 44, 46]],\n",
       "\n",
       "       [[36, 38, 40],\n",
       "        [42, 44, 46],\n",
       "        [48, 50, 52],\n",
       "        [54, 56, 58]],\n",
       "\n",
       "       [[48, 50, 52],\n",
       "        [54, 56, 58],\n",
       "        [60, 62, 64],\n",
       "        [66, 68, 70]]])"
      ]
     },
     "execution_count": 177,
     "metadata": {},
     "output_type": "execute_result"
    }
   ],
   "source": [
    "# 维数不一致，但是末尾的维度值是一致的\n",
    "arr1+arr2"
   ]
  },
  {
   "cell_type": "code",
   "execution_count": 179,
   "id": "civilian-grass",
   "metadata": {},
   "outputs": [
    {
     "data": {
      "text/plain": [
       "array([[0],\n",
       "       [1],\n",
       "       [2],\n",
       "       [3]])"
      ]
     },
     "execution_count": 179,
     "metadata": {},
     "output_type": "execute_result"
    }
   ],
   "source": [
    "arr3 = np.arange(4).reshape(4,1)\n",
    "arr3"
   ]
  },
  {
   "cell_type": "code",
   "execution_count": 181,
   "id": "curious-paris",
   "metadata": {},
   "outputs": [
    {
     "data": {
      "text/plain": [
       "array([[[ 0,  1,  2],\n",
       "        [ 4,  5,  6],\n",
       "        [ 8,  9, 10],\n",
       "        [12, 13, 14]],\n",
       "\n",
       "       [[12, 13, 14],\n",
       "        [16, 17, 18],\n",
       "        [20, 21, 22],\n",
       "        [24, 25, 26]],\n",
       "\n",
       "       [[24, 25, 26],\n",
       "        [28, 29, 30],\n",
       "        [32, 33, 34],\n",
       "        [36, 37, 38]],\n",
       "\n",
       "       [[36, 37, 38],\n",
       "        [40, 41, 42],\n",
       "        [44, 45, 46],\n",
       "        [48, 49, 50]],\n",
       "\n",
       "       [[48, 49, 50],\n",
       "        [52, 53, 54],\n",
       "        [56, 57, 58],\n",
       "        [60, 61, 62]]])"
      ]
     },
     "execution_count": 181,
     "metadata": {},
     "output_type": "execute_result"
    }
   ],
   "source": [
    "arr3 + arr1"
   ]
  },
  {
   "cell_type": "code",
   "execution_count": 183,
   "id": "identified-tournament",
   "metadata": {},
   "outputs": [
    {
     "data": {
      "text/plain": [
       "array([[ 0,  1,  2],\n",
       "       [ 3,  4,  5],\n",
       "       [ 6,  7,  8],\n",
       "       [ 9, 10, 11]])"
      ]
     },
     "execution_count": 183,
     "metadata": {},
     "output_type": "execute_result"
    }
   ],
   "source": [
    "## 自动补齐\n",
    "arr1 = np.arange(12).reshape(4,3)\n",
    "arr2 = np.array([1,2,3])\n",
    "arr1"
   ]
  },
  {
   "cell_type": "code",
   "execution_count": 184,
   "id": "interior-circumstances",
   "metadata": {},
   "outputs": [
    {
     "data": {
      "text/plain": [
       "array([1, 2, 3])"
      ]
     },
     "execution_count": 184,
     "metadata": {},
     "output_type": "execute_result"
    }
   ],
   "source": [
    "arr2 "
   ]
  },
  {
   "cell_type": "code",
   "execution_count": 185,
   "id": "social-appeal",
   "metadata": {},
   "outputs": [
    {
     "data": {
      "text/plain": [
       "array([[ 1,  3,  5],\n",
       "       [ 4,  6,  8],\n",
       "       [ 7,  9, 11],\n",
       "       [10, 12, 14]])"
      ]
     },
     "execution_count": 185,
     "metadata": {},
     "output_type": "execute_result"
    }
   ],
   "source": [
    "arr1+arr2"
   ]
  },
  {
   "cell_type": "code",
   "execution_count": 187,
   "id": "structured-wages",
   "metadata": {},
   "outputs": [
    {
     "data": {
      "text/plain": [
       "array([[0, 1],\n",
       "       [2, 3],\n",
       "       [4, 5],\n",
       "       [6, 7]])"
      ]
     },
     "execution_count": 187,
     "metadata": {},
     "output_type": "execute_result"
    }
   ],
   "source": [
    "## 比如像下面这种情况是不可以做运算的情况\n",
    "arr1 = np.arange(60).reshape(5,4,3)\n",
    "arr2 = np.arange(8).reshape(4,2)\n",
    "arr2"
   ]
  },
  {
   "cell_type": "code",
   "execution_count": 188,
   "id": "apparent-aspect",
   "metadata": {},
   "outputs": [
    {
     "ename": "ValueError",
     "evalue": "operands could not be broadcast together with shapes (5,4,3) (4,2) ",
     "output_type": "error",
     "traceback": [
      "\u001b[0;31m---------------------------------------------------------------------------\u001b[0m",
      "\u001b[0;31mValueError\u001b[0m                                Traceback (most recent call last)",
      "\u001b[0;32m<ipython-input-188-e489ba1ad4d1>\u001b[0m in \u001b[0;36m<module>\u001b[0;34m\u001b[0m\n\u001b[0;32m----> 1\u001b[0;31m \u001b[0marr1\u001b[0m\u001b[0;34m+\u001b[0m\u001b[0marr2\u001b[0m\u001b[0;34m\u001b[0m\u001b[0;34m\u001b[0m\u001b[0m\n\u001b[0m",
      "\u001b[0;31mValueError\u001b[0m: operands could not be broadcast together with shapes (5,4,3) (4,2) "
     ]
    }
   ],
   "source": [
    "arr1+arr2"
   ]
  },
  {
   "cell_type": "markdown",
   "id": "tropical-oakland",
   "metadata": {},
   "source": [
    "## 条件逻辑转数组"
   ]
  },
  {
   "cell_type": "markdown",
   "id": "competitive-brass",
   "metadata": {},
   "source": [
    "- x if coudition else y \n",
    "- 当条件condition成立的时候，表达式返回的值是x,不成立的时候返回的是y\n",
    "- np.where 一般用于根据一个数组产生一个新的数组"
   ]
  },
  {
   "cell_type": "code",
   "execution_count": 193,
   "id": "through-narrative",
   "metadata": {},
   "outputs": [
    {
     "data": {
      "text/plain": [
       "[1.1, 2.2, 1.3]"
      ]
     },
     "execution_count": 193,
     "metadata": {},
     "output_type": "execute_result"
    }
   ],
   "source": [
    "x_arr = np.array([1.1,1.2,1.3])\n",
    "y_arr = np.array([2.1,2.2,2.3])\n",
    "condition = np.array([True,False,True])\n",
    "\n",
    "result = [(x if c else y) for x,y,c in zip(x_arr,y_arr,condition)]\n",
    "result\n",
    "# zip的参数是可迭代的对象\n",
    "# zip就会将对象中对应的元素打包成一个一个元祖，然后返回由这些元组组成的列表\n"
   ]
  },
  {
   "cell_type": "code",
   "execution_count": 196,
   "id": "looking-conflict",
   "metadata": {},
   "outputs": [
    {
     "data": {
      "text/plain": [
       "array([1.1, 2.2, 1.3])"
      ]
     },
     "execution_count": 196,
     "metadata": {},
     "output_type": "execute_result"
    }
   ],
   "source": [
    "result = np.where(condition,x_arr,y_arr)\n",
    "result"
   ]
  },
  {
   "cell_type": "code",
   "execution_count": 198,
   "id": "undefined-jefferson",
   "metadata": {},
   "outputs": [
    {
     "data": {
      "text/plain": [
       "array([[-0.31453144, -1.41165345,  0.08464712, -0.01736254],\n",
       "       [-0.27014808, -0.47713447, -0.54209865, -0.14970931],\n",
       "       [ 1.14179761,  0.15050831, -0.00208781, -1.07890017],\n",
       "       [ 0.50816574, -2.08649212,  1.09957051, -0.24562002]])"
      ]
     },
     "execution_count": 198,
     "metadata": {},
     "output_type": "execute_result"
    }
   ],
   "source": [
    "## 值的替换\n",
    "arr = np.random.randn(4,4)\n",
    "arr"
   ]
  },
  {
   "cell_type": "code",
   "execution_count": 200,
   "id": "optical-catch",
   "metadata": {},
   "outputs": [
    {
     "data": {
      "text/plain": [
       "array([[-2, -2, -2, -2],\n",
       "       [-2, -2, -2, -2],\n",
       "       [ 2, -2, -2, -2],\n",
       "       [ 2, -2,  2, -2]])"
      ]
     },
     "execution_count": 200,
     "metadata": {},
     "output_type": "execute_result"
    }
   ],
   "source": [
    "arr_1 = np.where(arr>0.2,2,-2)\n",
    "arr_1"
   ]
  },
  {
   "cell_type": "code",
   "execution_count": 201,
   "id": "effective-burlington",
   "metadata": {},
   "outputs": [
    {
     "data": {
      "text/plain": [
       "array([[-0.31453144, -1.41165345,  0.08464712, -0.01736254],\n",
       "       [-0.27014808, -0.47713447, -0.54209865, -0.14970931],\n",
       "       [ 2.        ,  0.15050831, -0.00208781, -1.07890017],\n",
       "       [ 2.        , -2.08649212,  2.        , -0.24562002]])"
      ]
     },
     "execution_count": 201,
     "metadata": {},
     "output_type": "execute_result"
    }
   ],
   "source": [
    "arr2 = np.where(arr>0.2,2,arr)\n",
    "arr2"
   ]
  },
  {
   "cell_type": "code",
   "execution_count": null,
   "id": "alone-mortality",
   "metadata": {},
   "outputs": [],
   "source": [
    "# np.where 支持3个参数，第一个参数是条件，第二个参数是条件成立时候返回的值\n",
    "# 第三个参数是条件不成立的时候返回的值"
   ]
  }
 ],
 "metadata": {
  "kernelspec": {
   "display_name": "Python 3",
   "language": "python",
   "name": "python3"
  },
  "language_info": {
   "codemirror_mode": {
    "name": "ipython",
    "version": 3
   },
   "file_extension": ".py",
   "mimetype": "text/x-python",
   "name": "python",
   "nbconvert_exporter": "python",
   "pygments_lexer": "ipython3",
   "version": "3.8.8"
  }
 },
 "nbformat": 4,
 "nbformat_minor": 5
}
