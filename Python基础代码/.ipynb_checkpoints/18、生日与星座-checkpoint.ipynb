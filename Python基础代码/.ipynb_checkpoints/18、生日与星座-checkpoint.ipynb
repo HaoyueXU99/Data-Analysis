{
 "cells": [
  {
   "cell_type": "code",
   "execution_count": 3,
   "metadata": {},
   "outputs": [],
   "source": [
    "## 函数\n",
    "\n",
    "def my_function():\n",
    "    print(\"这是我的第一个函数\")\n",
    "    print(\"这是我要打印的第二行内容\")"
   ]
  },
  {
   "cell_type": "code",
   "execution_count": 4,
   "metadata": {},
   "outputs": [
    {
     "name": "stdout",
     "output_type": "stream",
     "text": [
      "这是我的第一个函数\n",
      "这是我要打印的第二行内容\n"
     ]
    }
   ],
   "source": [
    "## 调用函数\n",
    "my_function()"
   ]
  },
  {
   "cell_type": "code",
   "execution_count": 5,
   "metadata": {},
   "outputs": [],
   "source": [
    "## 所以函数的作用是，实现某一经常用到的功能\n",
    "# 当我们重复使用这个功能的时候，那么我们只要调用这个函数就可以了"
   ]
  },
  {
   "cell_type": "code",
   "execution_count": 6,
   "metadata": {},
   "outputs": [
    {
     "name": "stdout",
     "output_type": "stream",
     "text": [
      "a\n",
      "1\n"
     ]
    }
   ],
   "source": [
    "## 函数的参数\n",
    "print(\"a\")\n",
    "print(1)"
   ]
  },
  {
   "cell_type": "code",
   "execution_count": 7,
   "metadata": {},
   "outputs": [],
   "source": [
    "# 函数的参数\n",
    "def my_print(x):\n",
    "    print(x)\n"
   ]
  },
  {
   "cell_type": "code",
   "execution_count": 8,
   "metadata": {},
   "outputs": [
    {
     "name": "stdout",
     "output_type": "stream",
     "text": [
      "1\n"
     ]
    }
   ],
   "source": [
    "my_print(1)"
   ]
  },
  {
   "cell_type": "code",
   "execution_count": 9,
   "metadata": {},
   "outputs": [
    {
     "name": "stdout",
     "output_type": "stream",
     "text": [
      "a\n"
     ]
    }
   ],
   "source": [
    "my_print(\"a\")"
   ]
  },
  {
   "cell_type": "code",
   "execution_count": 10,
   "metadata": {},
   "outputs": [],
   "source": [
    "# 当函数的参数拥有多个的时候，我们可以用逗号分隔多个参数\n",
    "def add(a,b):\n",
    "    print(a+b)\n"
   ]
  },
  {
   "cell_type": "code",
   "execution_count": 11,
   "metadata": {},
   "outputs": [
    {
     "name": "stdout",
     "output_type": "stream",
     "text": [
      "3\n"
     ]
    }
   ],
   "source": [
    "add(1,2)"
   ]
  },
  {
   "cell_type": "code",
   "execution_count": 12,
   "metadata": {},
   "outputs": [
    {
     "ename": "TypeError",
     "evalue": "must be str, not int",
     "output_type": "error",
     "traceback": [
      "\u001b[0;31m---------------------------------------------------------------------------\u001b[0m",
      "\u001b[0;31mTypeError\u001b[0m                                 Traceback (most recent call last)",
      "\u001b[0;32m<ipython-input-12-3b2f12657457>\u001b[0m in \u001b[0;36m<module>\u001b[0;34m\u001b[0m\n\u001b[0;32m----> 1\u001b[0;31m \u001b[0madd\u001b[0m\u001b[0;34m(\u001b[0m\u001b[0;34m\"a\"\u001b[0m\u001b[0;34m,\u001b[0m\u001b[0;36m1\u001b[0m\u001b[0;34m)\u001b[0m\u001b[0;34m\u001b[0m\u001b[0m\n\u001b[0m",
      "\u001b[0;32m<ipython-input-10-c4d0e5441bcc>\u001b[0m in \u001b[0;36madd\u001b[0;34m(a, b)\u001b[0m\n\u001b[1;32m      1\u001b[0m \u001b[0;32mdef\u001b[0m \u001b[0madd\u001b[0m\u001b[0;34m(\u001b[0m\u001b[0ma\u001b[0m\u001b[0;34m,\u001b[0m\u001b[0mb\u001b[0m\u001b[0;34m)\u001b[0m\u001b[0;34m:\u001b[0m\u001b[0;34m\u001b[0m\u001b[0m\n\u001b[0;32m----> 2\u001b[0;31m     \u001b[0mprint\u001b[0m\u001b[0;34m(\u001b[0m\u001b[0ma\u001b[0m\u001b[0;34m+\u001b[0m\u001b[0mb\u001b[0m\u001b[0;34m)\u001b[0m\u001b[0;34m\u001b[0m\u001b[0m\n\u001b[0m",
      "\u001b[0;31mTypeError\u001b[0m: must be str, not int"
     ]
    }
   ],
   "source": [
    "add(\"a\",1)"
   ]
  },
  {
   "cell_type": "code",
   "execution_count": 13,
   "metadata": {},
   "outputs": [
    {
     "name": "stdout",
     "output_type": "stream",
     "text": [
      "ab\n"
     ]
    }
   ],
   "source": [
    "add(\"a\",\"b\")"
   ]
  },
  {
   "cell_type": "code",
   "execution_count": 14,
   "metadata": {},
   "outputs": [],
   "source": [
    "## 函数参数传递的时候我们需要注意的是数据类型要传正确\n",
    "# 防止在函数内部使用参数的时候类型错误"
   ]
  },
  {
   "cell_type": "code",
   "execution_count": null,
   "metadata": {},
   "outputs": [],
   "source": [
    "\"\"\"\n",
    "现有生日与星座的对照信息如下：\n",
    "白羊座 3.21-4.19\n",
    "金牛座 4.20-5.20\n",
    "双子座 5.21-6.21\n",
    "巨蟹座 6.22-7.22\n",
    "狮子座 7.23-8.22\n",
    "处女座 8.23-9.22\n",
    "天秤座 9.23-10.23\n",
    "天蝎座 10.24-11.22\n",
    "射手座 11.23-12.21\n",
    "魔羯座 12.22-1.19\n",
    "水瓶座 1.20-2.18\n",
    "双鱼座 2.19-3.20\n",
    "\"\"\""
   ]
  },
  {
   "cell_type": "code",
   "execution_count": 19,
   "metadata": {},
   "outputs": [],
   "source": [
    "## 函数的返回值\n",
    "def my_function(a,b):\n",
    "    print(\"a的值是\" + str(a))\n",
    "    print(\"b的值是\" + str(b))\n",
    "    result = a + b\n",
    "    # 返回的关键字是return\n",
    "    return result\n"
   ]
  },
  {
   "cell_type": "code",
   "execution_count": 20,
   "metadata": {},
   "outputs": [
    {
     "name": "stdout",
     "output_type": "stream",
     "text": [
      "a的值是1\n",
      "b的值是3\n",
      "4\n"
     ]
    }
   ],
   "source": [
    "r = my_function(1,3)\n",
    "# r = result\n",
    "print(r)\n"
   ]
  },
  {
   "cell_type": "code",
   "execution_count": 24,
   "metadata": {},
   "outputs": [],
   "source": [
    "## 要实现的是一个函数传递进来生日的时候，我们就把对应的星座给返回回去\n",
    "def get_constellation(birthday):\n",
    "    constellation = \"\"\n",
    "    if 3.21<=birthday <=4.19:\n",
    "        constellation = \"白羊座\"\n",
    "    elif 4.20<=birthday <=5.20:\n",
    "        constellation = \"金牛座\"\n",
    "    elif 5.21<=birthday <=6.21:\n",
    "        constellation = \"双子座\"\n",
    "    elif 6.22<=birthday <=7.22:\n",
    "        constellation = \"巨蟹座\"\n",
    "    elif 7.23<=birthday <=8.22:\n",
    "        constellation = \"狮子座\"\n",
    "    elif 8.23<=birthday <=9.22:\n",
    "        constellation = \"处女座\"\n",
    "    elif 9.23<=birthday <=10.23:\n",
    "        constellation = \"天秤座\"\n",
    "    elif 10.24<=birthday <=11.22:\n",
    "        constellation = \"天蝎座\"\n",
    "    elif 11.23<=birthday <=12.21:\n",
    "        constellation = \"射手座\"\n",
    "    elif 12.22<=birthday <=12.31 or 1.1 <= birthday <=1.29:\n",
    "        constellation = \"摩羯座\"\n",
    "    elif 1.2<=birthday <=2.18:\n",
    "        constellation = \"水瓶座\"\n",
    "    elif 2.19<=birthday <=3.20:\n",
    "        constellation = \"双鱼座\"\n",
    "    return constellation"
   ]
  },
  {
   "cell_type": "code",
   "execution_count": 25,
   "metadata": {},
   "outputs": [
    {
     "name": "stdout",
     "output_type": "stream",
     "text": [
      "天蝎座\n"
     ]
    }
   ],
   "source": [
    "c = get_constellation(11.11)\n",
    "print(c)"
   ]
  },
  {
   "cell_type": "code",
   "execution_count": 26,
   "metadata": {},
   "outputs": [
    {
     "data": {
      "text/plain": [
       "'\\n现在有12星座的性格描述如下：\\n白羊座 : \"有一种让人看见就觉得开心的感觉，阳光、乐观、坚强，性格直来直去，就是有点小脾气。\",\\n金牛座 : \"很保守，喜欢稳定，一旦有什么变动就会觉得心里不踏实，性格比较慢熟，是个理财高手。\",\\n双子座 : \"喜欢追求新鲜感，有点小聪明，耐心不够，因你的可爱性格会让很多人喜欢和你做朋友。\",\\n巨蟹座 : \"情绪容易敏感，缺乏安全感，做事情有坚持到底的毅力，为人重情重义，对朋友和家人特别忠实。\",\\n狮子座 : \"有着远大的理想，总想靠自己的努力成为人上人，总是期待被仰慕被崇拜的感觉。\",\\n处女座 : \"坚持追求自己的完美主义者。\",\\n天秤座 : \"追求平等、和谐，交际能力强，因此朋友比较多，最大的缺点就是面对选择时总是犹豫不决。\",\\n天蝎座 : \"精力旺盛，占有欲强，对于生活很有目标，不达目的誓不罢休，复仇心重。\",\\n射手座 : \"崇尚自由，勇敢、果断、独立，身上有一股勇往直前的劲儿，只要想做就能做。\",\\n摩羯座 : \"是最优耐心的，做事最小心。做事脚踏实地，比较固执，不达目的不罢休，而且非常勤奋。\",\\n水瓶座 : \"人很聪明，最大的特点是创新，追求独一无二的生活，个人主义色彩很浓的星座。\",\\n双鱼座 : \"集所有星座的优缺点于一身，最大的有点是有一颗善良的心，愿意帮助别人。\"\\n'"
      ]
     },
     "execution_count": 26,
     "metadata": {},
     "output_type": "execute_result"
    }
   ],
   "source": [
    "\n",
    "\"\"\"\n",
    "现在有12星座的性格描述如下：\n",
    "白羊座 : \"有一种让人看见就觉得开心的感觉，阳光、乐观、坚强，性格直来直去，就是有点小脾气。\",\n",
    "金牛座 : \"很保守，喜欢稳定，一旦有什么变动就会觉得心里不踏实，性格比较慢熟，是个理财高手。\",\n",
    "双子座 : \"喜欢追求新鲜感，有点小聪明，耐心不够，因你的可爱性格会让很多人喜欢和你做朋友。\",\n",
    "巨蟹座 : \"情绪容易敏感，缺乏安全感，做事情有坚持到底的毅力，为人重情重义，对朋友和家人特别忠实。\",\n",
    "狮子座 : \"有着远大的理想，总想靠自己的努力成为人上人，总是期待被仰慕被崇拜的感觉。\",\n",
    "处女座 : \"坚持追求自己的完美主义者。\",\n",
    "天秤座 : \"追求平等、和谐，交际能力强，因此朋友比较多，最大的缺点就是面对选择时总是犹豫不决。\",\n",
    "天蝎座 : \"精力旺盛，占有欲强，对于生活很有目标，不达目的誓不罢休，复仇心重。\",\n",
    "射手座 : \"崇尚自由，勇敢、果断、独立，身上有一股勇往直前的劲儿，只要想做就能做。\",\n",
    "摩羯座 : \"是最优耐心的，做事最小心。做事脚踏实地，比较固执，不达目的不罢休，而且非常勤奋。\",\n",
    "水瓶座 : \"人很聪明，最大的特点是创新，追求独一无二的生活，个人主义色彩很浓的星座。\",\n",
    "双鱼座 : \"集所有星座的优缺点于一身，最大的有点是有一颗善良的心，愿意帮助别人。\"\n",
    "\"\"\"\n"
   ]
  },
  {
   "cell_type": "code",
   "execution_count": 27,
   "metadata": {},
   "outputs": [],
   "source": [
    "## 函数的多个返回值\n",
    "\n",
    "def my_function(a,b):\n",
    "    c = a + 1\n",
    "    d = b + 1\n",
    "    return c,d"
   ]
  },
  {
   "cell_type": "code",
   "execution_count": 29,
   "metadata": {},
   "outputs": [
    {
     "name": "stdout",
     "output_type": "stream",
     "text": [
      "2\n",
      "3\n"
     ]
    }
   ],
   "source": [
    "e,f = my_function(1,2)\n",
    "print(e)\n",
    "print(f)"
   ]
  },
  {
   "cell_type": "code",
   "execution_count": 30,
   "metadata": {},
   "outputs": [],
   "source": [
    "def get_constellation(birthday):\n",
    "    constellation = \"\"\n",
    "    constellation_value = \"\"\n",
    "    if 3.21<=birthday <=4.19:\n",
    "        constellation = \"白羊座\"\n",
    "        constellation_value = \"有一种让人看见就觉得开心的感觉，阳光、乐观、坚强，性格直来直去，就是有点小脾气。\"\n",
    "    elif 4.20<=birthday <=5.20:\n",
    "        constellation = \"金牛座\"\n",
    "        constellation_value = \"很保守，喜欢稳定，一旦有什么变动就会觉得心里不踏实，性格比较慢熟，是个理财高手。\"\n",
    "    elif 5.21<=birthday <=6.21:\n",
    "        constellation = \"双子座\"\n",
    "        constellation_value = \"\"\n",
    "    elif 6.22<=birthday <=7.22:\n",
    "        constellation = \"巨蟹座\"\n",
    "        constellation_value = \"\"\n",
    "    elif 7.23<=birthday <=8.22:\n",
    "        constellation = \"狮子座\"\n",
    "        constellation_value = \"\"\n",
    "    elif 8.23<=birthday <=9.22:\n",
    "        constellation = \"处女座\"\n",
    "        constellation_value = \"\"\n",
    "    elif 9.23<=birthday <=10.23:\n",
    "        constellation = \"天秤座\"\n",
    "        constellation_value = \"\"\n",
    "    elif 10.24<=birthday <=11.22:\n",
    "        constellation = \"天蝎座\"\n",
    "        constellation_value = \"\"\n",
    "    elif 11.23<=birthday <=12.21:\n",
    "        constellation = \"射手座\"\n",
    "        constellation_value = \"\"\n",
    "    elif 12.22<=birthday <=12.31 or 1.1 <= birthday <=1.29:\n",
    "        constellation = \"摩羯座\"\n",
    "        constellation_value = \"\"\n",
    "    elif 1.2<=birthday <=2.18:\n",
    "        constellation = \"水瓶座\"\n",
    "        constellation_value = \"\"\n",
    "    elif 2.19<=birthday <=3.20:\n",
    "        constellation = \"双鱼座\"\n",
    "        constellation_value = \"\"\n",
    "    return constellation,constellation_value"
   ]
  },
  {
   "cell_type": "code",
   "execution_count": 32,
   "metadata": {},
   "outputs": [
    {
     "name": "stdout",
     "output_type": "stream",
     "text": [
      "金牛座\n",
      "很保守，喜欢稳定，一旦有什么变动就会觉得心里不踏实，性格比较慢熟，是个理财高手。\n"
     ]
    }
   ],
   "source": [
    "c,c_value = get_constellation(5.19)\n",
    "print(c)\n",
    "print(c_value)"
   ]
  },
  {
   "cell_type": "code",
   "execution_count": null,
   "metadata": {},
   "outputs": [],
   "source": []
  }
 ],
 "metadata": {
  "kernelspec": {
   "display_name": "Python 3",
   "language": "python",
   "name": "python3"
  },
  "language_info": {
   "codemirror_mode": {
    "name": "ipython",
    "version": 3
   },
   "file_extension": ".py",
   "mimetype": "text/x-python",
   "name": "python",
   "nbconvert_exporter": "python",
   "pygments_lexer": "ipython3",
   "version": "3.8.8"
  }
 },
 "nbformat": 4,
 "nbformat_minor": 2
}
