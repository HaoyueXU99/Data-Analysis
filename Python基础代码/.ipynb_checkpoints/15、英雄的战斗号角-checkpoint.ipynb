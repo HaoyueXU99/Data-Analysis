{
 "cells": [
  {
   "cell_type": "code",
   "execution_count": null,
   "metadata": {},
   "outputs": [],
   "source": [
    "    \"韩信\":\"人，总得有个活着的理由\",\n",
    "    \"程咬金\":\"进攻是最好的防守\",\n",
    "    \"关羽\":\"确定了内心的正道，并绝不动摇\",\n",
    "    \"扁鹊\":\"生存还是死亡，这是个问题\",\n",
    "    \"花木兰\":\"离家太远会忘记故乡，杀人太多会忘掉自己\",\n",
    "    \"墨子\":\"为了永久的和平，偶尔的战争是必要的\",\n",
    "    \"钟无艳\":\"俗说说得好，有钱男子汉，没钱汉子难\",\n",
    "    \"马可波罗\":\"世界那么大，我想去看看\",\n",
    "    \"安琪拉\":\"生命，就像人家的魔法书，涂涂改改又是一年\",\n",
    "    \"刘邦\":\"没有永远的朋友，只有永恒的利益\",\n",
    "    \"刘备\":\"深刻而不深沉，平淡而不平庸\",\n",
    "    \"老夫子\":\"有朋友自远方来，不亦乐乎\",\n",
    "    \"李白\":\"十步杀一人，千里不留行\""
   ]
  },
  {
   "cell_type": "code",
   "execution_count": 1,
   "metadata": {},
   "outputs": [
    {
     "data": {
      "text/plain": [
       "{'a': '1', 'b': '2'}"
      ]
     },
     "execution_count": 1,
     "metadata": {},
     "output_type": "execute_result"
    }
   ],
   "source": [
    "## 字典\n",
    "# 声明一个字典变量\n",
    "# 冒号前边的部分，这里的a和b叫做字典的key键\n",
    "# 冒号后边的部分，这里的1和2，我们叫做字典的值，value\n",
    "d = {\"a\":\"1\",\"b\":'2'}\n",
    "d\n"
   ]
  },
  {
   "cell_type": "code",
   "execution_count": 2,
   "metadata": {},
   "outputs": [
    {
     "data": {
      "text/plain": [
       "dict"
      ]
     },
     "execution_count": 2,
     "metadata": {},
     "output_type": "execute_result"
    }
   ],
   "source": [
    "type(d)"
   ]
  },
  {
   "cell_type": "code",
   "execution_count": 3,
   "metadata": {},
   "outputs": [
    {
     "data": {
      "text/plain": [
       "dict_keys(['a', 'b'])"
      ]
     },
     "execution_count": 3,
     "metadata": {},
     "output_type": "execute_result"
    }
   ],
   "source": [
    "## 字典的访问\n",
    "# 单独访问字典所有的key\n",
    "d.keys()"
   ]
  },
  {
   "cell_type": "code",
   "execution_count": 4,
   "metadata": {},
   "outputs": [
    {
     "data": {
      "text/plain": [
       "dict_values(['1', '2'])"
      ]
     },
     "execution_count": 4,
     "metadata": {},
     "output_type": "execute_result"
    }
   ],
   "source": [
    "# 单独访问字典所有的值\n",
    "d.values()"
   ]
  },
  {
   "cell_type": "code",
   "execution_count": 5,
   "metadata": {},
   "outputs": [
    {
     "data": {
      "text/plain": [
       "'1'"
      ]
     },
     "execution_count": 5,
     "metadata": {},
     "output_type": "execute_result"
    }
   ],
   "source": [
    "# 根据字典的key访问字典的值\n",
    "d['a']"
   ]
  },
  {
   "cell_type": "code",
   "execution_count": 7,
   "metadata": {},
   "outputs": [
    {
     "name": "stdout",
     "output_type": "stream",
     "text": [
      "a\n",
      "1\n",
      "b\n",
      "2\n"
     ]
    }
   ],
   "source": [
    "# 遍历key\n",
    "for k in d.keys():\n",
    "    print(k)\n",
    "    print(d[k])"
   ]
  },
  {
   "cell_type": "code",
   "execution_count": 8,
   "metadata": {},
   "outputs": [
    {
     "name": "stdout",
     "output_type": "stream",
     "text": [
      "a\n",
      "1\n",
      "b\n",
      "2\n"
     ]
    }
   ],
   "source": [
    "## 我们items()方法也可以方便的访问字典的key和value\n",
    "for k,v in d.items():\n",
    "    print(k)\n",
    "    print(v)\n",
    "\n"
   ]
  },
  {
   "cell_type": "code",
   "execution_count": 9,
   "metadata": {},
   "outputs": [],
   "source": [
    "hero_fight_slogan = {\n",
    "    \"韩信\":\"人，总得有个活着的理由\",\n",
    "    \"程咬金\":\"进攻是最好的防守\",\n",
    "    \"关羽\":\"确定了内心的正道，并绝不动摇\",\n",
    "    \"扁鹊\":\"生存还是死亡，这是个问题\",\n",
    "    \"花木兰\":\"离家太远会忘记故乡，杀人太多会忘掉自己\",\n",
    "    \"墨子\":\"为了永久的和平，偶尔的战争是必要的\",\n",
    "    \"钟无艳\":\"俗说说得好，有钱男子汉，没钱汉子难\",\n",
    "    \"马可波罗\":\"世界那么大，我想去看看\",\n",
    "    \"安琪拉\":\"生命，就像人家的魔法书，涂涂改改又是一年\",\n",
    "    \"刘邦\":\"没有永远的朋友，只有永恒的利益\",\n",
    "    \"刘备\":\"深刻而不深沉，平淡而不平庸\",\n",
    "    \"老夫子\":\"有朋友自远方来，不亦乐乎\",\n",
    "    \"李白\":\"十步杀一人，千里不留行\"\n",
    "}"
   ]
  },
  {
   "cell_type": "code",
   "execution_count": 12,
   "metadata": {},
   "outputs": [
    {
     "name": "stdout",
     "output_type": "stream",
     "text": [
      "请输入英雄的名字>>>sadf\n",
      "英雄名字不存在，请重新输入\n",
      "如果你想退出，请输入q或者是Q即可\n",
      "请输入英雄的名字>>>李白\n",
      "十步杀一人，千里不留行\n",
      "如果你想退出，请输入q或者是Q即可\n",
      "请输入英雄的名字>>>q\n"
     ]
    }
   ],
   "source": [
    "# 实现的目标是，输入了英雄的名字，就能够获取到英雄的口号\n",
    "while True:\n",
    "    hero_name = input(\"请输入英雄的名字>>>\")\n",
    "    # 我需要判断一下，用户输入的英雄的名字是不是存在\n",
    "    hero_list = list(hero_fight_slogan.keys())\n",
    "    if hero_name in hero_list:      \n",
    "        print(hero_fight_slogan[hero_name])\n",
    "    # 如果用户输入了q或者Q我们退出程序\n",
    "    elif hero_name.upper() == \"Q\":\n",
    "        break\n",
    "    else:\n",
    "        print(\"英雄名字不存在，请重新输入\")\n",
    "    print(\"如果你想退出，请输入q或者是Q即可\")\n"
   ]
  },
  {
   "cell_type": "code",
   "execution_count": null,
   "metadata": {},
   "outputs": [],
   "source": []
  },
  {
   "cell_type": "code",
   "execution_count": null,
   "metadata": {},
   "outputs": [],
   "source": []
  },
  {
   "cell_type": "code",
   "execution_count": null,
   "metadata": {},
   "outputs": [],
   "source": []
  },
  {
   "cell_type": "code",
   "execution_count": null,
   "metadata": {},
   "outputs": [],
   "source": []
  }
 ],
 "metadata": {
  "kernelspec": {
   "display_name": "Python 3",
   "language": "python",
   "name": "python3"
  },
  "language_info": {
   "codemirror_mode": {
    "name": "ipython",
    "version": 3
   },
   "file_extension": ".py",
   "mimetype": "text/x-python",
   "name": "python",
   "nbconvert_exporter": "python",
   "pygments_lexer": "ipython3",
   "version": "3.8.8"
  }
 },
 "nbformat": 4,
 "nbformat_minor": 2
}
