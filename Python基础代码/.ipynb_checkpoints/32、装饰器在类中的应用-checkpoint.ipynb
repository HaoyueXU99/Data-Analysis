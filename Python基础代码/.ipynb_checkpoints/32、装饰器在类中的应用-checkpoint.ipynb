{
 "cells": [
  {
   "cell_type": "code",
   "execution_count": 6,
   "metadata": {},
   "outputs": [
    {
     "data": {
      "text/plain": [
       "60000"
      ]
     },
     "execution_count": 6,
     "metadata": {},
     "output_type": "execute_result"
    }
   ],
   "source": [
    "class Rect:\n",
    "    def __init__(self,width,height):\n",
    "        self.width = width\n",
    "        self.height = height\n",
    "\n",
    "    @property\n",
    "    def area(self):\n",
    "        return self.width * self.height\n",
    "        \n",
    "        \n",
    "#     def get_rect(self):\n",
    "#         return self.width * self.height\n",
    "        \n",
    "rect = Rect(300,200)\n",
    "#rect.area() \n",
    "rect.area"
   ]
  },
  {
   "cell_type": "code",
   "execution_count": 8,
   "metadata": {},
   "outputs": [
    {
     "name": "stdout",
     "output_type": "stream",
     "text": [
      "哪吒\n"
     ]
    }
   ],
   "source": [
    "class Video():\n",
    "    def __init__(self, video_name):\n",
    "        self.__name = video_name\n",
    "    @property    \n",
    "    def name(self):\n",
    "        return self.__name\n",
    " \n",
    "    \n",
    "# 类的实例化\n",
    "video = Video(\"哪吒\")\n",
    "print(video.name)"
   ]
  },
  {
   "cell_type": "code",
   "execution_count": 10,
   "metadata": {},
   "outputs": [
    {
     "name": "stdout",
     "output_type": "stream",
     "text": [
      "哪吒之小孩成精啦\n"
     ]
    }
   ],
   "source": [
    "class Video():\n",
    "\n",
    "    @property    \n",
    "    def name(self):\n",
    "        return self.__name\n",
    " \n",
    "    @name.setter\n",
    "    def name(self,value):\n",
    "        self.__name = value\n",
    "    \n",
    "# 类的实例化\n",
    "video = Video()\n",
    "# 设置属性\n",
    "video.name = \"哪吒之小孩成精啦\"\n",
    "\n",
    "print(video.name)"
   ]
  },
  {
   "cell_type": "code",
   "execution_count": 15,
   "metadata": {},
   "outputs": [
    {
     "name": "stdout",
     "output_type": "stream",
     "text": [
      "你可以选择的电影有 ['战狼', '红海行动', '哪吒之魔童降世', '李焕英']\n",
      "用户想点播的电视是：战狼\n",
      "您选择了播放战狼，马上为您播放\n"
     ]
    }
   ],
   "source": [
    "# 声明一个电影播放器类\n",
    "class TVshow:\n",
    "    # 电影列表\n",
    "    list_film = ['战狼',\"红海行动\",\"哪吒之魔童降世\",'李焕英']\n",
    "    @property  # 将方法转换为属性\n",
    "    def show(self):\n",
    "        # 返回私有属性的值，这个私有属性就是存储的用户要点播的电影\n",
    "        return self.__show\n",
    "    \n",
    "    @show.setter\n",
    "    def show(self,value):\n",
    "        print(\"用户想点播的电视是：\" + value)\n",
    "        \n",
    "        # 如果用户点播的电影存在在我们的电影列表中，则播放电影，否则告诉用户电影不存在\n",
    "        if value in TVshow.list_film:\n",
    "            self.__show = \"您选择了播放\" + value + \"，马上为您播放\"\n",
    "        else:\n",
    "            self.__show = \"您播放的电影不存在\"\n",
    "tvshow = TVshow()\n",
    "print(\"你可以选择的电影有\", tvshow.list_film)\n",
    "\n",
    "tvshow.show = '战狼'\n",
    "print(tvshow.show)\n"
   ]
  },
  {
   "cell_type": "code",
   "execution_count": null,
   "metadata": {},
   "outputs": [],
   "source": []
  }
 ],
 "metadata": {
  "kernelspec": {
   "display_name": "Python 3",
   "language": "python",
   "name": "python3"
  },
  "language_info": {
   "codemirror_mode": {
    "name": "ipython",
    "version": 3
   },
   "file_extension": ".py",
   "mimetype": "text/x-python",
   "name": "python",
   "nbconvert_exporter": "python",
   "pygments_lexer": "ipython3",
   "version": "3.8.8"
  }
 },
 "nbformat": 4,
 "nbformat_minor": 2
}
