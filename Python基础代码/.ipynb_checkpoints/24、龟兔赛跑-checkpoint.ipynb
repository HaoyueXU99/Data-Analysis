{
 "cells": [
  {
   "cell_type": "code",
   "execution_count": 1,
   "metadata": {},
   "outputs": [],
   "source": [
    "## 装饰器 、语法糖    在java中叫 注解\n",
    "\n",
    "# 我们统一交装饰器"
   ]
  },
  {
   "cell_type": "code",
   "execution_count": 7,
   "metadata": {},
   "outputs": [
    {
     "name": "stdout",
     "output_type": "stream",
     "text": [
      "1\n",
      "函数1运行\n",
      "2\n"
     ]
    }
   ],
   "source": [
    "# 装饰器这里需要一个参数,这个参数就是要装饰的函数的名字\n",
    "def runtime(func): # 其实就是把my_func1传给了func\n",
    "    \n",
    "    def wrapper():\n",
    "        print(1)\n",
    "        return func()\n",
    "    \n",
    "    return wrapper  # 返回包装函数的名字\n",
    "\n",
    "@runtime   # 这个时候my_func1就使用runtime进行了装饰\n",
    "def my_func1():\n",
    "    print(\"函数1运行\")\n",
    "    return 2\n",
    "    \n",
    "r = my_func1()\n",
    "print(r)"
   ]
  },
  {
   "cell_type": "code",
   "execution_count": null,
   "metadata": {},
   "outputs": [],
   "source": [
    "# 如果我们想要让这个装饰器具备获取到函数的运行时间功能，应该怎么办"
   ]
  },
  {
   "cell_type": "code",
   "execution_count": 9,
   "metadata": {},
   "outputs": [
    {
     "name": "stdout",
     "output_type": "stream",
     "text": [
      "2021-02-26 10:14:18.140070\n",
      "函数1运行\n",
      "1\n",
      "2021-02-26 10:14:18.140392\n",
      "函数2运行\n",
      "2\n"
     ]
    }
   ],
   "source": [
    "# 导入时间模块\n",
    "import datetime\n",
    "# 装饰器这里需要一个参数,这个参数就是要装饰的函数的名字\n",
    "def runtime(func): # 其实就是把my_func1传给了func\n",
    "    \n",
    "    def wrapper():\n",
    "        print(datetime.datetime.now())\n",
    "        return func()\n",
    "    \n",
    "    return wrapper  # 返回包装函数的名字\n",
    "\n",
    "@runtime   # 这个时候my_func1就使用runtime进行了装饰\n",
    "def my_func1():\n",
    "    print(\"函数1运行\")\n",
    "    return 1\n",
    "\n",
    "@runtime\n",
    "def my_func2():\n",
    "    print(\"函数2运行\")\n",
    "    return 2\n",
    "\n",
    "r = my_func1()\n",
    "print(r)\n",
    "\n",
    "r2 = my_func2()\n",
    "print(r2)"
   ]
  },
  {
   "cell_type": "code",
   "execution_count": 10,
   "metadata": {},
   "outputs": [
    {
     "name": "stdout",
     "output_type": "stream",
     "text": [
      "2021-02-26 10:15:11.232433\n",
      "函数1运行\n",
      "函数调用完成\n",
      "1\n",
      "2021-02-26 10:15:11.232781\n",
      "函数2运行\n",
      "函数调用完成\n",
      "2\n"
     ]
    }
   ],
   "source": [
    "# 导入时间模块\n",
    "import datetime\n",
    "# 装饰器这里需要一个参数,这个参数就是要装饰的函数的名字\n",
    "def runtime(func): # 其实就是把my_func1传给了func\n",
    "    \n",
    "    def wrapper():\n",
    "        print(datetime.datetime.now())\n",
    "        r = func()\n",
    "        print(\"函数调用完成\")\n",
    "        return r\n",
    "    \n",
    "    return wrapper  # 返回包装函数的名字\n",
    "\n",
    "@runtime   # 这个时候my_func1就使用runtime进行了装饰\n",
    "def my_func1():\n",
    "    print(\"函数1运行\")\n",
    "    return 1\n",
    "\n",
    "@runtime\n",
    "def my_func2():\n",
    "    print(\"函数2运行\")\n",
    "    return 2\n",
    "\n",
    "r = my_func1()\n",
    "print(r)\n",
    "\n",
    "r2 = my_func2()\n",
    "print(r2)"
   ]
  },
  {
   "cell_type": "markdown",
   "metadata": {},
   "source": [
    "## 龟兔赛跑代码"
   ]
  },
  {
   "cell_type": "code",
   "execution_count": 12,
   "metadata": {},
   "outputs": [
    {
     "name": "stdout",
     "output_type": "stream",
     "text": [
      "乌龟跑了1米\n",
      "乌龟跑了2米\n",
      "乌龟跑了3米\n",
      "乌龟跑了4米\n",
      "乌龟跑了5米\n",
      "乌龟跑了6米\n",
      "乌龟跑了7米\n",
      "乌龟跑了8米\n",
      "乌龟跑了9米\n",
      "乌龟跑了10米\n",
      "tortoise 运行时间是 10.039426803588867 毫秒\n",
      "兔子跑了1米\n",
      "兔子跑了2米\n",
      "兔子跑了3米\n",
      "兔子跑了4米\n",
      "兔子跑了5米\n",
      "兔子跑了6米\n",
      "兔子跑了7米\n",
      "兔子跑了8米\n",
      "兔子跑了9米\n",
      "兔子跑了10米\n",
      "rabbit 运行时间是 4.010291814804077 毫秒\n"
     ]
    }
   ],
   "source": [
    "# 导入时间模块\n",
    "import time\n",
    "import random\n",
    "\n",
    "# 定义赛跑的跑道长度\n",
    "track_length = 10\n",
    "\n",
    "def runtime(func):\n",
    "    def wrapper():\n",
    "        start_time = time.time()\n",
    "        func()\n",
    "        end_time = time.time()\n",
    "        print(func.__name__,\"运行时间是\",end_time-start_time,\"秒\")\n",
    "    return wrapper\n",
    "\n",
    "# 定义乌龟\n",
    "@runtime\n",
    "def tortoise():\n",
    "    for i in range(1,track_length+1):\n",
    "        print(\"乌龟跑了{}米\".format(i))\n",
    "        time.sleep(1)\n",
    "\n",
    "        \n",
    "# 定义兔子\n",
    "@runtime\n",
    "def rabbit():\n",
    "    # 兔子每跑5米，就随机休息1到10秒\n",
    "    for i in range(1,track_length+1):\n",
    "        if i % 5 == 0:\n",
    "            time.sleep(random.randint(1,10))\n",
    "        print(\"兔子跑了{}米\".format(i))\n",
    "tortoise()  \n",
    "rabbit()\n",
    " "
   ]
  },
  {
   "cell_type": "code",
   "execution_count": null,
   "metadata": {},
   "outputs": [],
   "source": []
  }
 ],
 "metadata": {
  "kernelspec": {
   "display_name": "Python 3",
   "language": "python",
   "name": "python3"
  },
  "language_info": {
   "codemirror_mode": {
    "name": "ipython",
    "version": 3
   },
   "file_extension": ".py",
   "mimetype": "text/x-python",
   "name": "python",
   "nbconvert_exporter": "python",
   "pygments_lexer": "ipython3",
   "version": "3.8.8"
  }
 },
 "nbformat": 4,
 "nbformat_minor": 2
}
