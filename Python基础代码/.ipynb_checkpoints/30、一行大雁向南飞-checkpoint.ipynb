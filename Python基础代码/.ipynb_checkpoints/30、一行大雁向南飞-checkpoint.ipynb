{
 "cells": [
  {
   "cell_type": "code",
   "execution_count": 1,
   "metadata": {},
   "outputs": [],
   "source": [
    "## 面向对象\n",
    "\n",
    "## 封装"
   ]
  },
  {
   "cell_type": "code",
   "execution_count": 7,
   "metadata": {},
   "outputs": [
    {
     "name": "stdout",
     "output_type": "stream",
     "text": [
      "构造函数运行\n"
     ]
    }
   ],
   "source": [
    "# 类\n",
    "class BeautifulGirl():\n",
    "    \n",
    "    # 这叫做类的属性\n",
    "    name = \"高圆圆\"\n",
    "    \n",
    "    \n",
    "    # 构造函数\n",
    "    def __init__(self):\n",
    "        print(\"构造函数运行\")\n",
    "    \n",
    "    # 这叫做类的方法\n",
    "    def dance(self):\n",
    "        print(\"美女在跳舞\")\n",
    "    \n",
    "\n",
    "# 实例化一个类，当函数被实例化的时候，构造函数就会被运行\n",
    "girl = BeautifulGirl()\n",
    "#print(girl)\n",
    "#girl.dance()\n",
    "\n",
    "# yeild的时候调用__next__"
   ]
  },
  {
   "cell_type": "code",
   "execution_count": 2,
   "metadata": {},
   "outputs": [
    {
     "name": "stdout",
     "output_type": "stream",
     "text": [
      "<class 'int'>\n"
     ]
    }
   ],
   "source": [
    "i = 1\n",
    "print(type(i))"
   ]
  },
  {
   "cell_type": "code",
   "execution_count": 14,
   "metadata": {},
   "outputs": [
    {
     "name": "stdout",
     "output_type": "stream",
     "text": [
      "构造函数运行\n",
      "河北省唐山市\n",
      "北京市\n",
      "高圆圆\n"
     ]
    }
   ],
   "source": [
    "class BeautifulGirl():\n",
    "    \n",
    "    # 这叫做类的属性\n",
    "    name = \"高圆圆\"\n",
    "    address = \"北京市\"\n",
    "    \n",
    "    # 构造函数\n",
    "    def __init__(self,address):\n",
    "        print(\"构造函数运行\")\n",
    "        \n",
    "        # 这个叫做实例变量\n",
    "        self.address = address\n",
    "#        print(self.address)\n",
    "    # 这叫做类的方法\n",
    "    def dance(self):\n",
    "        print(\"美女在跳舞\")\n",
    "    \n",
    "\n",
    "# 实例化一个类，当函数被实例化的时候，构造函数就会被运行\n",
    "girl = BeautifulGirl(\"河北省唐山市\")\n",
    "# 使用实例化对象去调用实例变量\n",
    "print(girl.address)\n",
    "\n",
    "# 使用类名调用类属性\n",
    "print(BeautifulGirl.address)\n",
    "print(BeautifulGirl.name)"
   ]
  },
  {
   "cell_type": "code",
   "execution_count": 18,
   "metadata": {},
   "outputs": [
    {
     "name": "stdout",
     "output_type": "stream",
     "text": [
      "构造函数运行\n",
      "大大的眼睛\n",
      "这个美女的样貌是:\n",
      "小巧的鼻子\n",
      "薄薄的嘴唇\n",
      "乌黑亮丽的秀发\n",
      "清秀的脸庞\n",
      "大大的眼睛\n"
     ]
    }
   ],
   "source": [
    "## 封装美女类\n",
    "class BeautifulGirl():\n",
    "    \n",
    "    # 这叫做类的属性\n",
    "    name = \"高圆圆\"\n",
    "    address = \"北京市\"\n",
    "    eye = \"\"\n",
    "    nose = \"\"\n",
    "    mouth = \"\"\n",
    "    hair = \"\"\n",
    "    face = \"\"\n",
    "    \n",
    "    # 构造函数\n",
    "    def __init__(self,eye,nose,mouth,hair,face):\n",
    "        print(\"构造函数运行\")\n",
    "        \n",
    "        # 这个叫做实例变量\n",
    "        self.eye = eye\n",
    "        self.nose = nose\n",
    "        self.mouth = mouth\n",
    "        self.hair = hair\n",
    "        self.face = face\n",
    "        \n",
    "#        print(self.address)\n",
    "    # 这叫做类的方法\n",
    "    def dance(self):\n",
    "        print(\"美女在跳舞\")\n",
    "        \n",
    "    def get_beautiful_girl(self):\n",
    "        print(\"这个美女的样貌是:\")\n",
    "        print(self.nose)\n",
    "        print(self.mouth)\n",
    "        print(self.hair)\n",
    "        print(self.face)\n",
    "        print(self.eye)\n",
    "        \n",
    "\n",
    "girl = BeautifulGirl(\"大大的眼睛\",\"小巧的鼻子\",\"薄薄的嘴唇\",\"乌黑亮丽的秀发\",\"清秀的脸庞\")\n",
    "\n",
    "print(girl.eye)\n",
    "girl.get_beautiful_girl()"
   ]
  },
  {
   "cell_type": "code",
   "execution_count": 19,
   "metadata": {},
   "outputs": [
    {
     "name": "stdout",
     "output_type": "stream",
     "text": [
      "我是一只大雁，我叫小白秋天来了，我正在向南飞\n",
      "我是一只大雁，我叫小灰秋天来了，我正在向南飞\n",
      "我是一只大雁，我叫小黑秋天来了，我正在向南飞\n",
      "我是一只大雁，我叫小黄秋天来了，我正在向南飞\n"
     ]
    }
   ],
   "source": [
    "# 大雁类\n",
    "class WildGoose():\n",
    "    # 这里使用类的属性来构造大雁\n",
    "    neck = \"长长的脖子\"\n",
    "    wing = \"宽厚的翅膀\"\n",
    "    leg = \"健壮的腿\"\n",
    "    fly = \"可以飞\"\n",
    "    \n",
    "    # 构造函数\n",
    "    def __init__(self,name):\n",
    "        self.name = name\n",
    "    \n",
    "    # 大雁向南飞的方法\n",
    "    def flying_south(self):\n",
    "        print(\"我是一只大雁，我叫\" + self.name + \"秋天来了，我正在向南飞\")\n",
    "\n",
    "w1 = WildGoose(\"小白\")\n",
    "w2 = WildGoose(\"小灰\")\n",
    "w3 = WildGoose(\"小黑\")\n",
    "w4 = WildGoose(\"小黄\")\n",
    "\n",
    "w1.flying_south()\n",
    "w2.flying_south()\n",
    "w3.flying_south()\n",
    "w4.flying_south()"
   ]
  },
  {
   "cell_type": "code",
   "execution_count": null,
   "metadata": {},
   "outputs": [],
   "source": []
  }
 ],
 "metadata": {
  "kernelspec": {
   "display_name": "Python 3",
   "language": "python",
   "name": "python3"
  },
  "language_info": {
   "codemirror_mode": {
    "name": "ipython",
    "version": 3
   },
   "file_extension": ".py",
   "mimetype": "text/x-python",
   "name": "python",
   "nbconvert_exporter": "python",
   "pygments_lexer": "ipython3",
   "version": "3.8.8"
  }
 },
 "nbformat": 4,
 "nbformat_minor": 2
}
