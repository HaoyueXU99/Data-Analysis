{
 "cells": [
  {
   "cell_type": "code",
   "execution_count": 1,
   "metadata": {},
   "outputs": [],
   "source": [
    "# 魔法读心术\n",
    "\n",
    "A = [1, 9, 17, 25, 33, 41, 49, 57,\n",
    "     3, 11, 19, 27, 35, 43, 51, 59,\n",
    "     5, 13, 21, 29, 37, 45, 53, 61,\n",
    "     7, 15, 23, 31, 39, 47, 55, 63]\n",
    "B = [2, 10, 18, 26, 34, 42, 50, 58,\n",
    "     3, 11, 19, 27, 35, 43, 51, 59,\n",
    "     6, 14, 22, 30, 38, 46, 54, 62,\n",
    "     7, 15, 23, 31, 39, 47, 55, 63]\n",
    "C = [4, 12, 20, 28, 36, 44, 52, 60,\n",
    "     5, 13, 21, 29, 37, 45, 53, 61,\n",
    "     6, 14, 22, 30, 38, 46, 54, 62,\n",
    "     7, 15, 23, 31, 39, 47, 55, 63]\n",
    "D = [8, 12, 24, 28, 40, 44, 56, 60,\n",
    "     9, 13, 25, 29, 41, 45, 57, 61,\n",
    "     10, 14, 26, 30, 42, 46, 58, 62,\n",
    "     11, 15, 27, 31, 43, 47, 59, 63]\n",
    "E = [16, 20, 24, 28, 48, 52, 56, 60,\n",
    "     17, 21, 25, 29, 49, 53, 57, 61,\n",
    "     18, 22, 26, 30, 50, 54, 58, 62,\n",
    "     19, 23, 27, 31, 51, 55, 59, 63]\n",
    "F = [32, 36, 40, 44, 48, 52, 56, 60,\n",
    "     33, 37, 41, 45, 49, 53, 57, 61,\n",
    "     34, 38, 42, 46, 50, 54, 58, 62,\n",
    "     35, 39, 43, 47, 51, 55, 59, 63]"
   ]
  },
  {
   "cell_type": "code",
   "execution_count": 4,
   "metadata": {},
   "outputs": [
    {
     "name": "stdout",
     "output_type": "stream",
     "text": [
      "请告诉我你想的数字再哪几张卡片上，多张卡片使用逗号','进行分割>>a,d,e\n",
      "你想的数字是25\n"
     ]
    }
   ],
   "source": [
    "### 问一下用户你想的数字位于哪几张卡片上\n",
    "cards = input(\"请告诉我你想的数字再哪几张卡片上，多张卡片使用逗号','进行分割>>\")\n",
    "\n",
    "# 分割用户输入的信息\n",
    "card_list = cards.split(\",\")\n",
    "# 记录用户所输入的卡片\n",
    "cards_number_list = []\n",
    "\n",
    "#根据卡片拿到数字\n",
    "for card in card_list:\n",
    "    # 把用户输入的有可能是小写的字母变成大写\n",
    "    upper_char = card.upper()\n",
    "    if upper_char == \"A\":\n",
    "        cards_number_list.append(A[0])\n",
    "    elif upper_char == \"B\":\n",
    "        cards_number_list.append(B[0])\n",
    "    elif upper_char == \"C\":\n",
    "        cards_number_list.append(C[0])\n",
    "    elif upper_char == \"D\":\n",
    "        cards_number_list.append(D[0])\n",
    "    elif upper_char == \"E\":\n",
    "        cards_number_list.append(E[0])\n",
    "    elif upper_char == \"F\":\n",
    "        cards_number_list.append(F[0])\n",
    "# 25  ADE\n",
    "# 计算数字的和\n",
    "your_number = 0\n",
    "for number in cards_number_list:\n",
    "    your_number += number\n",
    "print(\"你想的数字是\" + str(your_number))"
   ]
  },
  {
   "cell_type": "code",
   "execution_count": 3,
   "metadata": {},
   "outputs": [
    {
     "data": {
      "text/plain": [
       "'B'"
      ]
     },
     "execution_count": 3,
     "metadata": {},
     "output_type": "execute_result"
    }
   ],
   "source": [
    "a = \"B\"\n",
    "a.upper()"
   ]
  },
  {
   "cell_type": "code",
   "execution_count": null,
   "metadata": {},
   "outputs": [],
   "source": []
  }
 ],
 "metadata": {
  "kernelspec": {
   "display_name": "Python 3",
   "language": "python",
   "name": "python3"
  },
  "language_info": {
   "codemirror_mode": {
    "name": "ipython",
    "version": 3
   },
   "file_extension": ".py",
   "mimetype": "text/x-python",
   "name": "python",
   "nbconvert_exporter": "python",
   "pygments_lexer": "ipython3",
   "version": "3.6.3"
  }
 },
 "nbformat": 4,
 "nbformat_minor": 2
}
