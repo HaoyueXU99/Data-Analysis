{
 "cells": [
  {
   "cell_type": "code",
   "execution_count": 18,
   "metadata": {},
   "outputs": [
    {
     "name": "stdout",
     "output_type": "stream",
     "text": [
      "爸爸有很多钱，爸爸的年龄是38\n",
      "爸爸在学习\n",
      "爸爸有很多朋友\n",
      "Father\n",
      "38\n"
     ]
    },
    {
     "ename": "AttributeError",
     "evalue": "type object 'Father' has no attribute 'name'",
     "output_type": "error",
     "traceback": [
      "\u001b[0;31m---------------------------------------------------------------------------\u001b[0m",
      "\u001b[0;31mAttributeError\u001b[0m                            Traceback (most recent call last)",
      "\u001b[0;32m<ipython-input-18-fa6ee3b52788>\u001b[0m in \u001b[0;36m<module>\u001b[0;34m\u001b[0m\n\u001b[1;32m     41\u001b[0m \u001b[0;34m\u001b[0m\u001b[0m\n\u001b[1;32m     42\u001b[0m \u001b[0;34m\u001b[0m\u001b[0m\n\u001b[0;32m---> 43\u001b[0;31m \u001b[0mFather\u001b[0m\u001b[0;34m.\u001b[0m\u001b[0mfather_friend\u001b[0m\u001b[0;34m(\u001b[0m\u001b[0;34m)\u001b[0m\u001b[0;34m\u001b[0m\u001b[0m\n\u001b[0m\u001b[1;32m     44\u001b[0m \u001b[0mfather\u001b[0m\u001b[0;34m.\u001b[0m\u001b[0mfather_friend\u001b[0m\u001b[0;34m(\u001b[0m\u001b[0;34m)\u001b[0m\u001b[0;34m\u001b[0m\u001b[0m\n",
      "\u001b[0;32m<ipython-input-18-fa6ee3b52788>\u001b[0m in \u001b[0;36mfather_friend\u001b[0;34m(cls)\u001b[0m\n\u001b[1;32m     30\u001b[0m         \u001b[0mprint\u001b[0m\u001b[0;34m(\u001b[0m\u001b[0mcls\u001b[0m\u001b[0;34m.\u001b[0m\u001b[0mage\u001b[0m\u001b[0;34m)\u001b[0m\u001b[0;34m\u001b[0m\u001b[0m\n\u001b[1;32m     31\u001b[0m \u001b[0;34m\u001b[0m\u001b[0m\n\u001b[0;32m---> 32\u001b[0;31m         \u001b[0mprint\u001b[0m\u001b[0;34m(\u001b[0m\u001b[0mcls\u001b[0m\u001b[0;34m.\u001b[0m\u001b[0mname\u001b[0m\u001b[0;34m)\u001b[0m\u001b[0;34m\u001b[0m\u001b[0m\n\u001b[0m\u001b[1;32m     33\u001b[0m \u001b[0mfather\u001b[0m \u001b[0;34m=\u001b[0m \u001b[0mFather\u001b[0m\u001b[0;34m(\u001b[0m\u001b[0;34m\"习大大\"\u001b[0m\u001b[0;34m)\u001b[0m\u001b[0;34m\u001b[0m\u001b[0m\n\u001b[1;32m     34\u001b[0m \u001b[0mfather\u001b[0m\u001b[0;34m.\u001b[0m\u001b[0mfather_money\u001b[0m\u001b[0;34m(\u001b[0m\u001b[0;34m)\u001b[0m\u001b[0;34m\u001b[0m\u001b[0m\n",
      "\u001b[0;31mAttributeError\u001b[0m: type object 'Father' has no attribute 'name'"
     ]
    }
   ],
   "source": [
    "class Father(object):\n",
    "    \n",
    "    age = 38\n",
    "    \n",
    "    def __init__(self,name):\n",
    "        self.name = name\n",
    "    \n",
    "    # 一般方法\n",
    "    def father_money(self):\n",
    "        print(\"爸爸有很多钱\" + \"，爸爸的年龄是\" + str(self.age))\n",
    "    \n",
    "    \n",
    "    # 私有方法,私有方法不允许外部访问\n",
    "    def __father_knowleger(self):\n",
    "        print(\"爸爸的知识体系\")\n",
    "    \n",
    "    # 静态方法,这里需要使用装饰器staticmethod来进行修饰\n",
    "    # 静态方法不可以访问类中的变量（包含类变量和实例变量）\n",
    "    # 那么我们就可以把静态方法看做是一个普通的函数，只是写在类中了\n",
    "    @staticmethod\n",
    "    def study():\n",
    "        print(\"爸爸在学习\")\n",
    "        \n",
    "    # 类方法\n",
    "    # 类方法可以访问类变量，但是不能访问实例变量\n",
    "    @classmethod\n",
    "    def father_friend(cls):\n",
    "        print(\"爸爸有很多朋友\")\n",
    "        print(cls.__name__)\n",
    "        \n",
    "        print(cls.age)\n",
    "    \n",
    "        #print(cls.name)\n",
    "father = Father(\"习大大\")\n",
    "father.father_money()\n",
    "\n",
    "# 类名不可以访问一般方法\n",
    "# Father.father_money()\n",
    "\n",
    "\n",
    "Father.study()\n",
    "\n",
    "\n",
    "Father.father_friend()\n",
    "father.father_friend()\n"
   ]
  },
  {
   "cell_type": "code",
   "execution_count": null,
   "metadata": {},
   "outputs": [],
   "source": []
  }
 ],
 "metadata": {
  "kernelspec": {
   "display_name": "Python 3",
   "language": "python",
   "name": "python3"
  },
  "language_info": {
   "codemirror_mode": {
    "name": "ipython",
    "version": 3
   },
   "file_extension": ".py",
   "mimetype": "text/x-python",
   "name": "python",
   "nbconvert_exporter": "python",
   "pygments_lexer": "ipython3",
   "version": "3.8.8"
  }
 },
 "nbformat": 4,
 "nbformat_minor": 2
}
